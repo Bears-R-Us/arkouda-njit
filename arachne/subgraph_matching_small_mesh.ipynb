{
 "cells": [
  {
   "cell_type": "code",
   "execution_count": 1,
   "id": "f651e065",
   "metadata": {},
   "outputs": [
    {
     "name": "stdout",
     "output_type": "stream",
     "text": [
      "    _         _                   _       \n",
      "   / \\   _ __| | _____  _   _  __| | __ _ \n",
      "  / _ \\ | '__| |/ / _ \\| | | |/ _` |/ _` |\n",
      " / ___ \\| |  |   < (_) | |_| | (_| | (_| |\n",
      "/_/   \\_\\_|  |_|\\_\\___/ \\__,_|\\__,_|\\__,_|\n",
      "                                          \n",
      "\n",
      "Client Version: v2024.06.21+0.gcf6eeacde.dirty\n"
     ]
    }
   ],
   "source": [
    "import arkouda as ak\n",
    "import arachne as ar\n",
    "import scipy as sp\n",
    "import networkx as nx\n",
    "import matplotlib.pyplot as plt\n",
    "import os"
   ]
  },
  {
   "cell_type": "code",
   "execution_count": 2,
   "id": "671cb378",
   "metadata": {},
   "outputs": [
    {
     "name": "stderr",
     "output_type": "stream",
     "text": [
      "connected to arkouda server tcp://*:5555\n"
     ]
    }
   ],
   "source": [
    "# NOTE: Make sure to change the server name to whatever is applicable in your environment. If running locally, then use only ak.connect().\n",
    "ak.connect(\"n64\", 5555)"
   ]
  },
  {
   "cell_type": "code",
   "execution_count": 3,
   "id": "0e3a275a",
   "metadata": {},
   "outputs": [],
   "source": [
    "src_main = [1, 2, 1, 3, 4, 2, 5, 4, 5, 6, 3, 8, 9, 4, 9, 10]\n",
    "dst_main = [0, 1, 3, 4, 1, 4, 2, 5, 6, 7, 8, 9, 3, 9, 10, 4]\n",
    "src_maingraph = ak.array(src_main)\n",
    "dst_maingraph = ak.array(dst_main)\n",
    "\n",
    "maingraph_nodes = list(set(src_main) | set(dst_main))\n",
    "maingraph_nodes.sort()\n",
    "\n",
    "labels1_maingraph = ak.array([\"yellow\", \"red\", \"blue\", \"blue\", \"blue\", \"red\", \"blue\",\"yellow\", \"blue\", \"yellow\", \"blue\"])\n",
    "labels2_maingraph = ak.array([10, 12, 10, 11, 11, 12, 11, 13, 10, 13, 10])\n",
    "labels3_maingraph = ak.array([False, True, True, True, True, True, False, False, True, False, False])\n",
    "labels4_maingraph = ak.Categorical(labels1_maingraph)\n",
    "\n",
    "rels1_maingraph = ak.array([10, 5, 10, 10, 10, 10, 10, 10, 10, 5, 5, 10, 10, 5, 5, 10])\n",
    "\n",
    "edge_df = ak.DataFrame({\"src\":src_maingraph, \"dst\":dst_maingraph,\n",
    "                        \"value\":rels1_maingraph \n",
    "})\n",
    "node_df = ak.DataFrame({\"nodes\":ak.array(maingraph_nodes),\n",
    "                        \"color\":labels1_maingraph,\n",
    "                        \"value\":labels2_maingraph,\n",
    "                        \"True?\":labels3_maingraph,\n",
    "                        \"cats\":labels4_maingraph\n",
    "})"
   ]
  },
  {
   "cell_type": "code",
   "execution_count": 4,
   "id": "f38fcded",
   "metadata": {},
   "outputs": [],
   "source": [
    "pg = ar.PropGraph()\n",
    "pg.load_edge_attributes(edge_df, source_column=\"src\", destination_column=\"dst\")\n",
    "pg.load_node_attributes(node_df, node_column=\"nodes\")"
   ]
  },
  {
   "cell_type": "code",
   "execution_count": 5,
   "id": "9aa2b97c",
   "metadata": {},
   "outputs": [],
   "source": [
    "src_list = [0, 1, 2, 1]\n",
    "dst_list = [1, 2, 0, 3]\n",
    "src_subgraph = ak.array(src_list)\n",
    "dst_subgraph = ak.array(dst_list)\n",
    "\n",
    "subgraph_nodes = list(set(src_list) | set(dst_list))\n",
    "subgraph_nodes.sort()\n",
    "\n",
    "labels1_subgraph = ak.array([\"blue\", \"blue\", \"red\", \"yellow\"])\n",
    "labels2_subgraph = ak.array([10, 11, 12, 13])\n",
    "labels3_subgraph = ak.array([True, True, True, False])\n",
    "labels4_subgraph = ak.Categorical(labels1_subgraph)\n",
    "\n",
    "rels1_subgraph = ak.array([10, 10, 10, 5])"
   ]
  },
  {
   "cell_type": "code",
   "execution_count": 6,
   "id": "ed073422",
   "metadata": {},
   "outputs": [
    {
     "name": "stdout",
     "output_type": "stream",
     "text": [
      "We found 17.0 monos inside of the graph with reordering\n"
     ]
    }
   ],
   "source": [
    "\"\"\"VF2-SI STRUCTURAL\"\"\"\n",
    "edge_df = ak.DataFrame({\"src\":src_subgraph, \"dst\":dst_subgraph})\n",
    "\n",
    "sg = ar.PropGraph()\n",
    "sg.load_edge_attributes(edge_df, source_column=\"src\", destination_column=\"dst\", convert_string_relationships_to_categoricals=False)\n",
    "\n",
    "isos_as_vertices = ar.subgraph_isomorphism(pg, sg, \n",
    "                                           semantic_check = None, algorithm_type = \"si\", \n",
    "                                           reorder = True, return_isos_as = \"vertices\")\n",
    "print(f\"We found {len(isos_as_vertices[0])/len(sg)} monos inside of the graph with reordering\")"
   ]
  },
  {
   "cell_type": "code",
   "execution_count": 7,
   "id": "97029e51",
   "metadata": {},
   "outputs": [
    {
     "name": "stdout",
     "output_type": "stream",
     "text": [
      "We found 0.0 monos inside of the graph with reordering\n"
     ]
    }
   ],
   "source": [
    "\"\"\"VF2-SI VERTEX PROBABILITIES\"\"\"\n",
    "edge_df = ak.DataFrame({\"src\":src_subgraph, \"dst\":dst_subgraph})\n",
    "node_df = ak.DataFrame({\"nodes\":ak.array(subgraph_nodes),\n",
    "                        \"color\":labels1_subgraph,\n",
    "                        \"value\":labels2_subgraph,\n",
    "                        \"True?\":labels3_subgraph,\n",
    "                        \"cats\":labels4_subgraph\n",
    "})\n",
    "\n",
    "sg = ar.PropGraph()\n",
    "sg.load_edge_attributes(edge_df, source_column=\"src\", destination_column=\"dst\", convert_string_relationships_to_categoricals=False)\n",
    "sg.load_node_attributes(node_df, node_column=\"nodes\", convert_string_labels_to_categoricals=False)\n",
    "\n",
    "isos_as_vertices = ar.subgraph_isomorphism(pg, sg, \n",
    "                                           semantic_check = \"and\", algorithm_type = \"si\", \n",
    "                                           reorder = True, return_isos_as = \"vertices\")\n",
    "print(f\"We found {len(isos_as_vertices[0])/len(sg)} monos inside of the graph with reordering\")"
   ]
  },
  {
   "cell_type": "code",
   "execution_count": 8,
   "id": "35198cf9",
   "metadata": {},
   "outputs": [
    {
     "name": "stdout",
     "output_type": "stream",
     "text": [
      "We found 1.0 monos inside of the graph with reordering\n"
     ]
    }
   ],
   "source": [
    "\"\"\"VF2-SI VERTEX AND EDGE PROBABILITIES\"\"\"\n",
    "edge_df = ak.DataFrame({\"src\":src_subgraph, \"dst\":dst_subgraph,\n",
    "                        \"value\":rels1_subgraph \n",
    "})\n",
    "node_df = ak.DataFrame({\"nodes\":ak.array(subgraph_nodes),\n",
    "                        \"color\":labels1_subgraph,\n",
    "                        \"value\":labels2_subgraph,\n",
    "                        \"True?\":labels3_subgraph,\n",
    "                        \"cats\":labels4_subgraph\n",
    "})\n",
    "\n",
    "sg = ar.PropGraph()\n",
    "sg.load_edge_attributes(edge_df, source_column=\"src\", destination_column=\"dst\", convert_string_relationships_to_categoricals=False)\n",
    "sg.load_node_attributes(node_df, node_column=\"nodes\", convert_string_labels_to_categoricals=False)\n",
    "\n",
    "isos_as_vertices = ar.subgraph_isomorphism(pg, sg, \n",
    "                                           semantic_check = \"and\", algorithm_type = \"si\", \n",
    "                                           reorder = True, return_isos_as = \"vertices\")\n",
    "print(f\"We found {len(isos_as_vertices[0])/len(sg)} monos inside of the graph with reordering\")"
   ]
  },
  {
   "cell_type": "code",
   "execution_count": 9,
   "id": "f5cbf9e0",
   "metadata": {},
   "outputs": [
    {
     "name": "stdout",
     "output_type": "stream",
     "text": [
      "We found 17.0 monos inside of the graph with VF2-PS\n"
     ]
    }
   ],
   "source": [
    "\"\"\"VF2-PS STRUCTURAL\"\"\"\n",
    "edge_df = ak.DataFrame({\"src\":src_subgraph, \"dst\":dst_subgraph})\n",
    "\n",
    "sg = ar.PropGraph()\n",
    "sg.load_edge_attributes(edge_df, source_column=\"src\", destination_column=\"dst\", convert_string_relationships_to_categoricals=False)\n",
    "\n",
    "isos_as_vertices = ar.subgraph_isomorphism(pg, sg, \n",
    "                                           semantic_check = None, algorithm_type = \"ps\", \n",
    "                                           reorder = False, return_isos_as = \"vertices\")\n",
    "print(f\"We found {len(isos_as_vertices[0])/len(sg)} monos inside of the graph with VF2-PS\")"
   ]
  },
  {
   "cell_type": "code",
   "execution_count": 10,
   "id": "5a8c9225",
   "metadata": {},
   "outputs": [
    {
     "name": "stdout",
     "output_type": "stream",
     "text": [
      "We found 0.0 monos inside of the graph with VF2-PS\n"
     ]
    }
   ],
   "source": [
    "\"\"\"VF2-PS VERTEX PROBABILITIES\"\"\"\n",
    "edge_df = ak.DataFrame({\"src\":src_subgraph, \"dst\":dst_subgraph})\n",
    "node_df = ak.DataFrame({\"nodes\":ak.array(subgraph_nodes),\n",
    "                        \"color\":labels1_subgraph,\n",
    "                        \"value\":labels2_subgraph,\n",
    "                        \"True?\":labels3_subgraph,\n",
    "                        \"cats\":labels4_subgraph\n",
    "})\n",
    "\n",
    "sg = ar.PropGraph()\n",
    "sg.load_edge_attributes(edge_df, source_column=\"src\", destination_column=\"dst\", convert_string_relationships_to_categoricals=False)\n",
    "sg.load_node_attributes(node_df, node_column=\"nodes\", convert_string_labels_to_categoricals=False)\n",
    "\n",
    "isos_as_vertices = ar.subgraph_isomorphism(pg, sg, \n",
    "                                           semantic_check = \"and\", algorithm_type = \"ps\", \n",
    "                                           reorder = False, return_isos_as = \"vertices\")\n",
    "print(f\"We found {len(isos_as_vertices[0])/len(sg)} monos inside of the graph with VF2-PS\")"
   ]
  },
  {
   "cell_type": "code",
   "execution_count": 11,
   "id": "55313cfc",
   "metadata": {},
   "outputs": [
    {
     "name": "stdout",
     "output_type": "stream",
     "text": [
      "We found 1.0 monos inside of the graph with VF2-PS\n"
     ]
    }
   ],
   "source": [
    "\"\"\"VF2-PS VERTEX AND EDGE PROBABILITIES\"\"\"\n",
    "edge_df = ak.DataFrame({\"src\":src_subgraph, \"dst\":dst_subgraph,\n",
    "                        \"value\":rels1_subgraph \n",
    "})\n",
    "node_df = ak.DataFrame({\"nodes\":ak.array(subgraph_nodes),\n",
    "                        \"color\":labels1_subgraph,\n",
    "                        \"value\":labels2_subgraph,\n",
    "                        \"True?\":labels3_subgraph,\n",
    "                        \"cats\":labels4_subgraph\n",
    "})\n",
    "\n",
    "sg = ar.PropGraph()\n",
    "sg.load_edge_attributes(edge_df, source_column=\"src\", destination_column=\"dst\", convert_string_relationships_to_categoricals=False)\n",
    "sg.load_node_attributes(node_df, node_column=\"nodes\", convert_string_labels_to_categoricals=False)\n",
    "\n",
    "isos_as_vertices = ar.subgraph_isomorphism(pg, sg, \n",
    "                                           semantic_check = \"and\", algorithm_type = \"ps\", \n",
    "                                           reorder = False, return_isos_as = \"vertices\")\n",
    "print(f\"We found {len(isos_as_vertices[0])/len(sg)} monos inside of the graph with VF2-PS\")"
   ]
  }
 ],
 "metadata": {
  "kernelspec": {
   "display_name": "arkouda-dev",
   "language": "python",
   "name": "python3"
  },
  "language_info": {
   "codemirror_mode": {
    "name": "ipython",
    "version": 3
   },
   "file_extension": ".py",
   "mimetype": "text/x-python",
   "name": "python",
   "nbconvert_exporter": "python",
   "pygments_lexer": "ipython3",
   "version": "3.10.12"
  }
 },
 "nbformat": 4,
 "nbformat_minor": 5
}
