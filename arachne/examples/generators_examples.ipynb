{
 "cells": [
  {
   "cell_type": "code",
   "execution_count": 36,
   "metadata": {},
   "outputs": [],
   "source": [
    "import arkouda as ak\n",
    "import arachne as ar"
   ]
  },
  {
   "cell_type": "code",
   "execution_count": 37,
   "metadata": {},
   "outputs": [
    {
     "name": "stderr",
     "output_type": "stream",
     "text": [
      "connected to arkouda server tcp://*:5555\n"
     ]
    }
   ],
   "source": [
    "ak.connect(\"n82\", 5555)"
   ]
  },
  {
   "cell_type": "code",
   "execution_count": 38,
   "metadata": {},
   "outputs": [],
   "source": [
    "seed = 42"
   ]
  },
  {
   "cell_type": "code",
   "execution_count": 39,
   "metadata": {},
   "outputs": [
    {
     "name": "stdout",
     "output_type": "stream",
     "text": [
      "Created graph with 100 vertices and 4876 edges.\n"
     ]
    }
   ],
   "source": [
    "n = 100\n",
    "k = 50\n",
    "p = 0.05\n",
    "G = ar.watts_strogatz_graph(n, k, p, create_using=ar.PropGraph, seed=seed)\n",
    "print(f\"Created graph with {len(G)} vertices and {G.size()} edges.\")"
   ]
  },
  {
   "cell_type": "code",
   "execution_count": 40,
   "metadata": {},
   "outputs": [
    {
     "name": "stdout",
     "output_type": "stream",
     "text": [
      "Created graph with 100 vertices and 1562 edges.\n"
     ]
    }
   ],
   "source": [
    "n = 100\n",
    "m = 10\n",
    "G = ar.barabasi_albert_graph(n, m, create_using=ar.PropGraph, seed=seed)\n",
    "print(f\"Created graph with {len(G)} vertices and {G.size()} edges.\")"
   ]
  },
  {
   "cell_type": "code",
   "execution_count": 41,
   "metadata": {},
   "outputs": [
    {
     "name": "stdout",
     "output_type": "stream",
     "text": [
      "Created graph with 100 vertices and 499 edges.\n"
     ]
    }
   ],
   "source": [
    "n = 100\n",
    "p = 0.05\n",
    "G = ar.gnp_random_graph(n, p, create_using=ar.PropGraph, seed=seed)\n",
    "print(f\"Created graph with {len(G)} vertices and {G.size()} edges.\")"
   ]
  },
  {
   "cell_type": "code",
   "execution_count": 42,
   "metadata": {},
   "outputs": [
    {
     "name": "stdout",
     "output_type": "stream",
     "text": [
      "Created graph with 903 vertices and 12031 edges.\n"
     ]
    }
   ],
   "source": [
    "scale = 10\n",
    "G = ar.rmat_graph(scale, create_using=ar.PropGraph, seed=seed)\n",
    "print(f\"Created graph with {len(G)} vertices and {G.size()} edges.\")"
   ]
  }
 ],
 "metadata": {
  "kernelspec": {
   "display_name": "arkouda-dev",
   "language": "python",
   "name": "python3"
  },
  "language_info": {
   "codemirror_mode": {
    "name": "ipython",
    "version": 3
   },
   "file_extension": ".py",
   "mimetype": "text/x-python",
   "name": "python",
   "nbconvert_exporter": "python",
   "pygments_lexer": "ipython3",
   "version": "3.10.12"
  }
 },
 "nbformat": 4,
 "nbformat_minor": 2
}
