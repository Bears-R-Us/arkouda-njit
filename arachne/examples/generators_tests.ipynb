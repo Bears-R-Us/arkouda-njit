{
 "cells": [
  {
   "cell_type": "code",
   "execution_count": 1,
   "metadata": {},
   "outputs": [
    {
     "name": "stdout",
     "output_type": "stream",
     "text": [
      "    _         _                   _       \n",
      "   / \\   _ __| | _____  _   _  __| | __ _ \n",
      "  / _ \\ | '__| |/ / _ \\| | | |/ _` |/ _` |\n",
      " / ___ \\| |  |   < (_) | |_| | (_| | (_| |\n",
      "/_/   \\_\\_|  |_|\\_\\___/ \\__,_|\\__,_|\\__,_|\n",
      "                                          \n",
      "\n",
      "Client Version: v2024.06.21+0.gcf6eeacde.dirty\n"
     ]
    }
   ],
   "source": [
    "import arkouda as ak\n",
    "import arachne as ar\n",
    "import numpy as np\n",
    "from scipy import stats"
   ]
  },
  {
   "cell_type": "code",
   "execution_count": 2,
   "metadata": {},
   "outputs": [
    {
     "name": "stderr",
     "output_type": "stream",
     "text": [
      "connected to arkouda server tcp://*:5555\n"
     ]
    }
   ],
   "source": [
    "ak.connect(\"n117\", 5555)"
   ]
  },
  {
   "cell_type": "code",
   "execution_count": 3,
   "metadata": {},
   "outputs": [],
   "source": [
    "def test_watts_strogatz():\n",
    "    \"\"\"Test cases for Watts-Strogatz graph generation\"\"\"\n",
    "    test_cases = [\n",
    "        {\"n\": 100, \"k\": 4, \"p\": 0.1},\n",
    "        {\"n\": 500, \"k\": 6, \"p\": 0.05},\n",
    "        {\"n\": 1000, \"k\": 8, \"p\": 0.2},\n",
    "        {\"n\": 2000, \"k\": 10, \"p\": 0.15},\n",
    "        {\"n\": 5000, \"k\": 12, \"p\": 0.25},\n",
    "        {\"n\": 200, \"k\": 6, \"p\": 0.3},\n",
    "        {\"n\": 300, \"k\": 8, \"p\": 0.35},\n",
    "        {\"n\": 400, \"k\": 10, \"p\": 0.4},\n",
    "        {\"n\": 800, \"k\": 12, \"p\": 0.45},\n",
    "        {\"n\": 1500, \"k\": 14, \"p\": 0.5}\n",
    "    ]\n",
    "    \n",
    "    for case in test_cases:\n",
    "        ar_g = ar.watts_strogatz_graph(case[\"n\"], case[\"k\"], case[\"p\"], create_using=ar.Graph)\n",
    "        \n",
    "        # Test 1: Vertex count should be exact\n",
    "        assert len(ar_g) == case[\"n\"]\n",
    "        \n",
    "        # Test 2: Edge count should be within 5% of expected\n",
    "        expected_edges = case[\"n\"] * case[\"k\"] // 2\n",
    "        assert abs(ar_g.size() - expected_edges) / expected_edges < 0.05"
   ]
  },
  {
   "cell_type": "code",
   "execution_count": 4,
   "metadata": {},
   "outputs": [],
   "source": [
    "def test_barabasi_albert():\n",
    "    \"\"\"Test cases for Barabási-Albert graph generation with self-loop removal\"\"\"\n",
    "    test_cases = [\n",
    "        {\"n\": 100, \"m\": 2},\n",
    "        {\"n\": 500, \"m\": 3},\n",
    "        {\"n\": 1000, \"m\": 4},\n",
    "        {\"n\": 2000, \"m\": 5},\n",
    "        {\"n\": 5000, \"m\": 6},\n",
    "        {\"n\": 200, \"m\": 3},\n",
    "        {\"n\": 300, \"m\": 4},\n",
    "        {\"n\": 400, \"m\": 5},\n",
    "        {\"n\": 800, \"m\": 6},\n",
    "        {\"n\": 1500, \"m\": 7}\n",
    "    ]\n",
    "    \n",
    "    for case in test_cases:\n",
    "        ar_g = ar.barabasi_albert_graph(case[\"n\"], case[\"m\"], create_using=ar.Graph)\n",
    "        \n",
    "        # Test 1: Vertex count should be exact\n",
    "        assert len(ar_g) == case[\"n\"]\n",
    "        \n",
    "        # Test 2: Edge count should be less than or equal to the theoretical maximum\n",
    "        # Due to self-loop removal, actual edge count will be slightly lower\n",
    "        max_possible_edges = case[\"m\"] * (case[\"n\"] - case[\"m\"])\n",
    "        assert ar_g.size() <= max_possible_edges\n",
    "        \n",
    "        # Test 3: Edge count should be reasonably close to theoretical maximum\n",
    "        # Typically no more than 5% difference due to self-loop removal\n",
    "        min_expected_edges = int(0.95 * max_possible_edges)\n",
    "        assert ar_g.size() >= min_expected_edges\n",
    "        \n",
    "        # Test 4: Power law degree distribution (check slope of log-log plot)\n",
    "        values, counts = ak.value_counts(ar_g.degree())\n",
    "        \n",
    "        # Take log2 of both arrays.\n",
    "        values_log = np.log2(values.to_ndarray())\n",
    "        counts_log = np.log2(counts.to_ndarray())\n",
    "        \n",
    "        # Calculate power law fit\n",
    "        slope, _, _, _, _ = stats.linregress(values_log, counts_log)\n",
    "        \n",
    "        # Slope range adjusted for self-loop removal effects\n",
    "        assert -2.0 < slope < -0.5  # Slightly wider range to account for variations"
   ]
  },
  {
   "cell_type": "code",
   "execution_count": 5,
   "metadata": {},
   "outputs": [],
   "source": [
    "def test_gnp_random():\n",
    "    \"\"\"Test cases for G(n,p) random graph generation\"\"\"\n",
    "    test_cases = [\n",
    "        {\"n\": 100, \"p\": 0.1},\n",
    "        {\"n\": 500, \"p\": 0.05},\n",
    "        {\"n\": 1000, \"p\": 0.01},\n",
    "        {\"n\": 2000, \"p\": 0.005},\n",
    "        {\"n\": 5000, \"p\": 0.002},\n",
    "        {\"n\": 200, \"p\": 0.15},\n",
    "        {\"n\": 300, \"p\": 0.12},\n",
    "        {\"n\": 400, \"p\": 0.08},\n",
    "        {\"n\": 800, \"p\": 0.04},\n",
    "        {\"n\": 1500, \"p\": 0.02}\n",
    "    ]\n",
    "    \n",
    "    for case in test_cases:\n",
    "        ar_g = ar.gnp_random_graph(case[\"n\"], case[\"p\"], create_using=ar.DiGraph)\n",
    "        \n",
    "        # Test 1: Vertex count should be less than or equal to n\n",
    "        # Some vertices might have no edges and thus not appear in the graph\n",
    "        assert len(ar_g) <= case[\"n\"]\n",
    "        \n",
    "        # Test 2: Edge count should follow binomial distribution\n",
    "        n_actual = len(ar_g)  # Use actual number of vertices for calculation\n",
    "        expected_edges = n_actual * (n_actual-1) * case[\"p\"]\n",
    "        std_dev = np.sqrt(n_actual * (n_actual-1) * case[\"p\"] * (1-case[\"p\"]))\n",
    "        \n",
    "        # Check if edge count is within 3 standard deviations\n",
    "        assert abs(ar_g.size() - expected_edges) < 3 * std_dev"
   ]
  },
  {
   "cell_type": "code",
   "execution_count": 6,
   "metadata": {},
   "outputs": [],
   "source": [
    "def test_rmat():\n",
    "    \"\"\"Test cases for R-MAT graph generation\"\"\"\n",
    "    test_cases = [\n",
    "        {\"scale\": 8},\n",
    "        {\"scale\": 9},\n",
    "        {\"scale\": 10},\n",
    "        {\"scale\": 11},\n",
    "        {\"scale\": 12},\n",
    "        {\"scale\": 13},\n",
    "        {\"scale\": 14},\n",
    "        {\"scale\": 15},\n",
    "        {\"scale\": 16},\n",
    "        {\"scale\": 17}\n",
    "    ]\n",
    "    \n",
    "    for case in test_cases:\n",
    "        ar_g = ar.rmat_graph(case[\"scale\"], create_using=ar.Graph)\n",
    "        \n",
    "        # Test 1: Vertex count should be power of 2 or less\n",
    "        assert len(ar_g) <= 2**case[\"scale\"]\n",
    "        \n",
    "        # Test 2: Power law degree distribution (check slope of log-log plot)\n",
    "        values, counts = ak.value_counts(ar_g.degree())\n",
    "        \n",
    "        # Take log2 of both arrays.\n",
    "        values_log = np.log2(values.to_ndarray())\n",
    "        counts_log = np.log2(counts.to_ndarray())\n",
    "        \n",
    "        # Calculate power law fit\n",
    "        slope, _, _, _, _ = stats.linregress(values_log, counts_log)\n",
    "        \n",
    "        # Slope range adjusted for self-loop removal effects\n",
    "        assert -2.0 < slope < -0.5  # Slightly wider range to account for variations"
   ]
  },
  {
   "cell_type": "code",
   "execution_count": 7,
   "metadata": {},
   "outputs": [],
   "source": [
    "test_watts_strogatz()"
   ]
  },
  {
   "cell_type": "code",
   "execution_count": 8,
   "metadata": {},
   "outputs": [],
   "source": [
    "test_barabasi_albert()"
   ]
  },
  {
   "cell_type": "code",
   "execution_count": 9,
   "metadata": {},
   "outputs": [],
   "source": [
    "test_gnp_random()"
   ]
  },
  {
   "cell_type": "code",
   "execution_count": 10,
   "metadata": {},
   "outputs": [],
   "source": [
    "test_rmat()"
   ]
  }
 ],
 "metadata": {
  "kernelspec": {
   "display_name": "arkouda-dev",
   "language": "python",
   "name": "python3"
  },
  "language_info": {
   "codemirror_mode": {
    "name": "ipython",
    "version": 3
   },
   "file_extension": ".py",
   "mimetype": "text/x-python",
   "name": "python",
   "nbconvert_exporter": "python",
   "pygments_lexer": "ipython3",
   "version": "3.10.12"
  }
 },
 "nbformat": 4,
 "nbformat_minor": 2
}
