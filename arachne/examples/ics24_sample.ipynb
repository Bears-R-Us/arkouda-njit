{
 "cells": [
  {
   "cell_type": "markdown",
   "metadata": {},
   "source": [
    "# **Arkouda: Interactive Analytics in Python on Petascale Datasets**"
   ]
  },
  {
   "cell_type": "markdown",
   "metadata": {},
   "source": [
    "## **Environment Setup**\n",
    "Make sure all necessary dependencies are imported, and that the Jupyter Notebook is properly connected to an Arkouda server instance as shown below.\n",
    "\n",
    "If running the server locally, the server name string can be omitted or replaced with \"localhost\" if omission doesn't work. \n",
    "\n",
    "Port number should always be `5555` by default, unless specified otherwise when launching the `arkouda_server` executable."
   ]
  },
  {
   "cell_type": "code",
   "execution_count": 1,
   "id": "5c8094aa",
   "metadata": {},
   "outputs": [
    {
     "name": "stdout",
     "output_type": "stream",
     "text": [
      "    _         _                   _       \n",
      "   / \\   _ __| | _____  _   _  __| | __ _ \n",
      "  / _ \\ | '__| |/ / _ \\| | | |/ _` |/ _` |\n",
      " / ___ \\| |  |   < (_) | |_| | (_| | (_| |\n",
      "/_/   \\_\\_|  |_|\\_\\___/ \\__,_|\\__,_|\\__,_|\n",
      "                                          \n",
      "\n",
      "Client Version: v2023.11.15\n"
     ]
    }
   ],
   "source": [
    "import arkouda as ak\n",
    "import arachne as ar"
   ]
  },
  {
   "cell_type": "code",
   "execution_count": 2,
   "id": "637e063a",
   "metadata": {},
   "outputs": [
    {
     "name": "stderr",
     "output_type": "stream",
     "text": [
      "connected to arkouda server tcp://*:5555\n"
     ]
    }
   ],
   "source": [
    "ak.connect(\"n19\", 5555)"
   ]
  },
  {
   "cell_type": "markdown",
   "metadata": {},
   "source": [
    "## **Reading In Data**\n",
    "Arkouda supports reading data in from various types including:\n",
    "- HDF5 - hierarchical, \"file directory\"-like, data storage for large files\n",
    "- Apache Parquet - column-oriented data storage format for efficient data compression\n",
    "- CSV - comma-delimited text files\n",
    "\n",
    "CSVs are usually good for small-scale data whereas distributed filetypes such as HDF5 and Parquet are preferred for large-scale data. Below, we read in an HDF5 dataset and convert it into an Arkouda dataframe.\n",
    "\n",
    "Our dataset for this example is composed of links between neurons in a fly brain with data specifying the transmitting neuron and the receiving one. The three-dimensional coordinates for the locations of the links and neurons are specified was well as the size of these bounding boxes. The labels for the type of link between neurons is present as well. The confidence value for the label type is present as well.\n",
    "\n",
    "![title](connectome.png)"
   ]
  },
  {
   "cell_type": "code",
   "execution_count": 3,
   "metadata": {},
   "outputs": [],
   "source": [
    "connectome_links = ak.read(\"/scratch/users/oaa9/testing_files/data/connectome/edges*\")\n",
    "connectome_links = ak.DataFrame(connectome_links)"
   ]
  },
  {
   "cell_type": "markdown",
   "metadata": {},
   "source": [
    "## **Arkouda Dataframes**\n",
    "Arkouda dataframes are very similar to Pandas ones. In Arkouda, dataframes are basically a wrapper to dictionaries where the name of the column is a key and the value is an array that represents columnar values. In Arkouda, each column is a `pdarray` to facilitate array operations on large array data."
   ]
  },
  {
   "cell_type": "code",
   "execution_count": 4,
   "metadata": {},
   "outputs": [
    {
     "data": {
      "text/html": [
       "<div>\n",
       "<style scoped>\n",
       "    .dataframe tbody tr th:only-of-type {\n",
       "        vertical-align: middle;\n",
       "    }\n",
       "\n",
       "    .dataframe tbody tr th {\n",
       "        vertical-align: top;\n",
       "    }\n",
       "\n",
       "    .dataframe thead th {\n",
       "        text-align: right;\n",
       "    }\n",
       "</style>\n",
       "<table border=\"1\" class=\"dataframe\">\n",
       "  <thead>\n",
       "    <tr style=\"text-align: right;\">\n",
       "      <th></th>\n",
       "      <th>bounding_box_size_x</th>\n",
       "      <th>bounding_box_size_y</th>\n",
       "      <th>bounding_box_size_z</th>\n",
       "      <th>bounding_box_start_x</th>\n",
       "      <th>bounding_box_start_y</th>\n",
       "      <th>bounding_box_start_z</th>\n",
       "      <th>confidence</th>\n",
       "      <th>dst_id</th>\n",
       "      <th>dst_neuron_id</th>\n",
       "      <th>location_x</th>\n",
       "      <th>location_y</th>\n",
       "      <th>location_z</th>\n",
       "      <th>src_id</th>\n",
       "      <th>src_neuron_id</th>\n",
       "      <th>type_label</th>\n",
       "    </tr>\n",
       "  </thead>\n",
       "  <tbody>\n",
       "    <tr>\n",
       "      <th>0</th>\n",
       "      <td>56</td>\n",
       "      <td>76</td>\n",
       "      <td>31</td>\n",
       "      <td>366516</td>\n",
       "      <td>51943</td>\n",
       "      <td>31</td>\n",
       "      <td>0.829045</td>\n",
       "      <td>5197731597</td>\n",
       "      <td>636356250</td>\n",
       "      <td>366544</td>\n",
       "      <td>51981</td>\n",
       "      <td>256</td>\n",
       "      <td>5197731596</td>\n",
       "      <td>621784456</td>\n",
       "      <td>2</td>\n",
       "    </tr>\n",
       "    <tr>\n",
       "      <th>1</th>\n",
       "      <td>77</td>\n",
       "      <td>62</td>\n",
       "      <td>30</td>\n",
       "      <td>437208</td>\n",
       "      <td>205041</td>\n",
       "      <td>30</td>\n",
       "      <td>0.972310</td>\n",
       "      <td>20521871940</td>\n",
       "      <td>5719183727</td>\n",
       "      <td>437246</td>\n",
       "      <td>205072</td>\n",
       "      <td>256</td>\n",
       "      <td>20521871941</td>\n",
       "      <td>5762854802</td>\n",
       "      <td>2</td>\n",
       "    </tr>\n",
       "    <tr>\n",
       "      <th>2</th>\n",
       "      <td>72</td>\n",
       "      <td>66</td>\n",
       "      <td>27</td>\n",
       "      <td>420177</td>\n",
       "      <td>181838</td>\n",
       "      <td>27</td>\n",
       "      <td>0.968344</td>\n",
       "      <td>18216894471</td>\n",
       "      <td>4932569891</td>\n",
       "      <td>420213</td>\n",
       "      <td>181871</td>\n",
       "      <td>256</td>\n",
       "      <td>18216894472</td>\n",
       "      <td>4976182692</td>\n",
       "      <td>2</td>\n",
       "    </tr>\n",
       "    <tr>\n",
       "      <th>3</th>\n",
       "      <td>80</td>\n",
       "      <td>62</td>\n",
       "      <td>26</td>\n",
       "      <td>366975</td>\n",
       "      <td>74432</td>\n",
       "      <td>26</td>\n",
       "      <td>0.978425</td>\n",
       "      <td>7441911475</td>\n",
       "      <td>1320603529</td>\n",
       "      <td>367015</td>\n",
       "      <td>74463</td>\n",
       "      <td>256</td>\n",
       "      <td>7441911474</td>\n",
       "      <td>1349644059</td>\n",
       "      <td>2</td>\n",
       "    </tr>\n",
       "    <tr>\n",
       "      <th>4</th>\n",
       "      <td>80</td>\n",
       "      <td>52</td>\n",
       "      <td>27</td>\n",
       "      <td>451013</td>\n",
       "      <td>132460</td>\n",
       "      <td>27</td>\n",
       "      <td>0.951494</td>\n",
       "      <td>13281560451</td>\n",
       "      <td>3303155953</td>\n",
       "      <td>451053</td>\n",
       "      <td>132486</td>\n",
       "      <td>256</td>\n",
       "      <td>13281560452</td>\n",
       "      <td>3332269800</td>\n",
       "      <td>2</td>\n",
       "    </tr>\n",
       "    <tr>\n",
       "      <th>...</th>\n",
       "      <td>...</td>\n",
       "      <td>...</td>\n",
       "      <td>...</td>\n",
       "      <td>...</td>\n",
       "      <td>...</td>\n",
       "      <td>...</td>\n",
       "      <td>...</td>\n",
       "      <td>...</td>\n",
       "      <td>...</td>\n",
       "      <td>...</td>\n",
       "      <td>...</td>\n",
       "      <td>...</td>\n",
       "      <td>...</td>\n",
       "      <td>...</td>\n",
       "      <td>...</td>\n",
       "    </tr>\n",
       "    <tr>\n",
       "      <th>149871664</th>\n",
       "      <td>29</td>\n",
       "      <td>31</td>\n",
       "      <td>4</td>\n",
       "      <td>350941</td>\n",
       "      <td>104477</td>\n",
       "      <td>4</td>\n",
       "      <td>0.754649</td>\n",
       "      <td>616801202162</td>\n",
       "      <td>99595655834</td>\n",
       "      <td>350955</td>\n",
       "      <td>104492</td>\n",
       "      <td>5119</td>\n",
       "      <td>616801202163</td>\n",
       "      <td>99595655802</td>\n",
       "      <td>1</td>\n",
       "    </tr>\n",
       "    <tr>\n",
       "      <th>149871665</th>\n",
       "      <td>53</td>\n",
       "      <td>51</td>\n",
       "      <td>5</td>\n",
       "      <td>252722</td>\n",
       "      <td>135829</td>\n",
       "      <td>5</td>\n",
       "      <td>0.953694</td>\n",
       "      <td>635393474356</td>\n",
       "      <td>100640489156</td>\n",
       "      <td>252748</td>\n",
       "      <td>135854</td>\n",
       "      <td>5119</td>\n",
       "      <td>619937318982</td>\n",
       "      <td>100625916808</td>\n",
       "      <td>2</td>\n",
       "    </tr>\n",
       "    <tr>\n",
       "      <th>149871666</th>\n",
       "      <td>24</td>\n",
       "      <td>26</td>\n",
       "      <td>5</td>\n",
       "      <td>372074</td>\n",
       "      <td>155840</td>\n",
       "      <td>5</td>\n",
       "      <td>0.975285</td>\n",
       "      <td>621949005973</td>\n",
       "      <td>101314120171</td>\n",
       "      <td>372086</td>\n",
       "      <td>155853</td>\n",
       "      <td>5119</td>\n",
       "      <td>621949005974</td>\n",
       "      <td>101299563325</td>\n",
       "      <td>2</td>\n",
       "    </tr>\n",
       "    <tr>\n",
       "      <th>149871667</th>\n",
       "      <td>24</td>\n",
       "      <td>29</td>\n",
       "      <td>3</td>\n",
       "      <td>180541</td>\n",
       "      <td>108238</td>\n",
       "      <td>3</td>\n",
       "      <td>0.971786</td>\n",
       "      <td>617150383625</td>\n",
       "      <td>99691847846</td>\n",
       "      <td>180553</td>\n",
       "      <td>108252</td>\n",
       "      <td>5119</td>\n",
       "      <td>617180305548</td>\n",
       "      <td>99706404478</td>\n",
       "      <td>1</td>\n",
       "    </tr>\n",
       "    <tr>\n",
       "      <th>149871668</th>\n",
       "      <td>26</td>\n",
       "      <td>35</td>\n",
       "      <td>1</td>\n",
       "      <td>376546</td>\n",
       "      <td>232589</td>\n",
       "      <td>1</td>\n",
       "      <td>0.971965</td>\n",
       "      <td>629609281654</td>\n",
       "      <td>103847203565</td>\n",
       "      <td>376559</td>\n",
       "      <td>232606</td>\n",
       "      <td>5119</td>\n",
       "      <td>629609281655</td>\n",
       "      <td>103861776037</td>\n",
       "      <td>2</td>\n",
       "    </tr>\n",
       "  </tbody>\n",
       "</table>\n",
       "</div><p>149871669 rows x 15 columns</p>"
      ],
      "text/plain": [
       "           bounding_box_size_x  bounding_box_size_y  bounding_box_size_z  \\\n",
       "0                           56                   76                   31   \n",
       "1                           77                   62                   30   \n",
       "2                           72                   66                   27   \n",
       "3                           80                   62                   26   \n",
       "4                           80                   52                   27   \n",
       "...                        ...                  ...                  ...   \n",
       "149871664                   29                   31                    4   \n",
       "149871665                   53                   51                    5   \n",
       "149871666                   24                   26                    5   \n",
       "149871667                   24                   29                    3   \n",
       "149871668                   26                   35                    1   \n",
       "\n",
       "           bounding_box_start_x  bounding_box_start_y  bounding_box_start_z  \\\n",
       "0                        366516                 51943                    31   \n",
       "1                        437208                205041                    30   \n",
       "2                        420177                181838                    27   \n",
       "3                        366975                 74432                    26   \n",
       "4                        451013                132460                    27   \n",
       "...                         ...                   ...                   ...   \n",
       "149871664                350941                104477                     4   \n",
       "149871665                252722                135829                     5   \n",
       "149871666                372074                155840                     5   \n",
       "149871667                180541                108238                     3   \n",
       "149871668                376546                232589                     1   \n",
       "\n",
       "           confidence        dst_id  dst_neuron_id  location_x  location_y  \\\n",
       "0            0.829045    5197731597      636356250      366544       51981   \n",
       "1            0.972310   20521871940     5719183727      437246      205072   \n",
       "2            0.968344   18216894471     4932569891      420213      181871   \n",
       "3            0.978425    7441911475     1320603529      367015       74463   \n",
       "4            0.951494   13281560451     3303155953      451053      132486   \n",
       "...               ...           ...            ...         ...         ...   \n",
       "149871664    0.754649  616801202162    99595655834      350955      104492   \n",
       "149871665    0.953694  635393474356   100640489156      252748      135854   \n",
       "149871666    0.975285  621949005973   101314120171      372086      155853   \n",
       "149871667    0.971786  617150383625    99691847846      180553      108252   \n",
       "149871668    0.971965  629609281654   103847203565      376559      232606   \n",
       "\n",
       "           location_z        src_id  src_neuron_id  type_label  \n",
       "0                 256    5197731596      621784456           2  \n",
       "1                 256   20521871941     5762854802           2  \n",
       "2                 256   18216894472     4976182692           2  \n",
       "3                 256    7441911474     1349644059           2  \n",
       "4                 256   13281560452     3332269800           2  \n",
       "...               ...           ...            ...         ...  \n",
       "149871664        5119  616801202163    99595655802           1  \n",
       "149871665        5119  619937318982   100625916808           2  \n",
       "149871666        5119  621949005974   101299563325           2  \n",
       "149871667        5119  617180305548    99706404478           1  \n",
       "149871668        5119  629609281655   103861776037           2   (149871669 rows x 15 columns)"
      ]
     },
     "execution_count": 4,
     "metadata": {},
     "output_type": "execute_result"
    }
   ],
   "source": [
    "connectome_links"
   ]
  },
  {
   "cell_type": "markdown",
   "metadata": {},
   "source": [
    "## **Fundamental Arkouda Operations**\n",
    "Most data scientific workflows include preprocessing or main analytical steps that involve sorting data, extracting unique values, generating indices of data that match inequalities, and performing slices on data. We summarize these fundamentals below and then show examples of each:\n",
    "* **Grouping Operations** -- use `ak.GroupBy()` (`dataframe.groupby()`) to return a `GroupBy` object with information of the array or dataframe such as unique keys, sorted permutation of the indices of the unique keys, and starting offsets (segments) of the unique groups.\n",
    "* **Vector and Scalar Arithmetic** -- say `A` and `B` are `pdarrays`, supports operations such as `A + A`, `A * 2`, `A == B`, etc.\n",
    "* **Element-Wise Functions** -- apply some function to every element of an array: absolutes, logs, sin, cos, etc. \n",
    "* **Scans and Reductions** -- scans apply a cumulative reduction (`ak.cumsum()`) to every element of a pdarray and reductions return a scalar value (`ak.var()`) to represent an array.\n",
    "* **(Logical) Indexing** -- given a slice of indices, `pdarray` of type `bool`,  or `pdarray` of type `int`, return a new `pdarray` with the specified indices. \n",
    "* **Data Summarization** -- similar to element-wise functions applied directly as a `pdarray` method and functions such as `ak.histogram()`.\n",
    "* **Sorting** -- sort array data or `co.argsorts()` for multiple arrays.\n",
    "* **Array Set Operations** -- unions, intersections, differences, etc. of `pdarrays`.\n",
    "* **Strings** -- search for patterns in multiple strings in a `pdarray`, modify strings, etc. "
   ]
  },
  {
   "cell_type": "markdown",
   "metadata": {},
   "source": [
    "### **Grouping Operations**\n",
    "Using the columns `type_label`, `src_neuron_id`, and `dst_neuron_id` extract the unique links for each type of label that exist for the `connectome_links` dataframe."
   ]
  },
  {
   "cell_type": "code",
   "execution_count": 5,
   "metadata": {},
   "outputs": [
    {
     "name": "stdout",
     "output_type": "stream",
     "text": [
      "Number of unique links for edge types: 147690815\n"
     ]
    }
   ],
   "source": [
    "cgb = connectome_links.groupby([\"src_neuron_id\", \"dst_neuron_id\", \"type_label\"])\n",
    "print(f\"Number of unique links for edge types: {cgb.unique_keys[0].size}\")"
   ]
  },
  {
   "cell_type": "markdown",
   "metadata": {},
   "source": [
    "### **Vector and Scalar Arithmetic**\n",
    "\n",
    "Using the columns `bounding_box_size_x`, `bounding_box_size_y`, and `bounding_box_size_z` we can get the volumes of the cubic size of the bounding box for each link. "
   ]
  },
  {
   "cell_type": "code",
   "execution_count": 6,
   "metadata": {},
   "outputs": [
    {
     "name": "stdout",
     "output_type": "stream",
     "text": [
      "Volume taken up by the bounding boxes: [131936 143220 128304 ... 3120 2088 910]\n"
     ]
    }
   ],
   "source": [
    "bounding_box_sizes = connectome_links[\"bounding_box_size_x\"] * connectome_links[\"bounding_box_size_y\"] * connectome_links[\"bounding_box_size_z\"]\n",
    "print(f\"Volume taken up by the bounding boxes: {bounding_box_sizes}\")"
   ]
  },
  {
   "cell_type": "markdown",
   "metadata": {},
   "source": [
    "### **Scans and Reductions**\n",
    "\n",
    "Extract the maximum size of a bounding box and the link that belongs to it. "
   ]
  },
  {
   "cell_type": "code",
   "execution_count": 7,
   "metadata": {},
   "outputs": [
    {
     "name": "stdout",
     "output_type": "stream",
     "text": [
      "Largest bounding box is owned by link 69489386712 --> 60667711330 with size 5820248\n"
     ]
    }
   ],
   "source": [
    "largest_box = ak.argmax(bounding_box_sizes)\n",
    "print(f\"Largest bounding box is owned by link {connectome_links['src_neuron_id'][largest_box]} --> {connectome_links['dst_neuron_id'][largest_box]} with size {bounding_box_sizes[largest_box]}\")"
   ]
  },
  {
   "cell_type": "markdown",
   "metadata": {},
   "source": [
    "### **(Logical) Indexing**\n",
    "\n",
    "We can index `pdarrays` based off integer or Boolean values. For Boolean indexing, the array used for indexing needs to be the same size and shape as the outer array. A new array is returned with the indexed values. In this example, we find the confidence values greater than 95%."
   ]
  },
  {
   "cell_type": "code",
   "execution_count": 8,
   "metadata": {},
   "outputs": [
    {
     "name": "stdout",
     "output_type": "stream",
     "text": [
      "There are 111178305 links with confidence greater than 0.95\n"
     ]
    }
   ],
   "source": [
    "confidence_to_find = 0.95\n",
    "boolean_indexing = connectome_links[\"confidence\"] > confidence_to_find\n",
    "confidences = connectome_links[\"confidence\"]\n",
    "print(f\"There are {len(confidences[boolean_indexing])} links with confidence greater than {confidence_to_find}\")"
   ]
  },
  {
   "cell_type": "markdown",
   "metadata": {},
   "source": [
    "### **Value Counts**\n",
    "\n",
    "We can get the unique value counts of the `type_label` column to see the distribution of the link labels. From the data, there should be 2 labels. Let's see what vallue counts tells us. "
   ]
  },
  {
   "cell_type": "code",
   "execution_count": 9,
   "metadata": {},
   "outputs": [
    {
     "data": {
      "text/plain": [
       "(array([1 2]), array([40656728 109214941]))"
      ]
     },
     "execution_count": 9,
     "metadata": {},
     "output_type": "execute_result"
    }
   ],
   "source": [
    "ak.value_counts(connectome_links[\"type_label\"])"
   ]
  },
  {
   "cell_type": "markdown",
   "metadata": {},
   "source": [
    "# **Processing Arkouda Dataframe Data as Graphs**"
   ]
  },
  {
   "cell_type": "markdown",
   "id": "956f68c1",
   "metadata": {},
   "source": [
    "### **Building an Arachne Graph**\n",
    "\n",
    "Arachne has the ability to build three different types of graphs `Graph`, `DiGraph`, and `PropGraph` each providing different representations of the data. `Graph` and `DiGraph` can be weighted or unweighted where self-loops are allowed by default and no multiple edges are allowed. A `PropGraph` is a special case of a `DiGraph` that allows attributes to be defined on vertices and edges.\n",
    "\n",
    "For now, we focus on a `PropGraph` that is essentially a wrapper to an Arkouda dataframe. Edge lists can be transferred to Arachne and through various Arkouda functions and objects like `GroupBy` sort the edge lists into an array-based data structure like the compressed sparse row (CSR) format that explicitily maintains both source and destination vertices called the double index (DI) data structure.\n",
    "\n",
    "Below, we take the connectome dataframe we loaded in previously"
   ]
  },
  {
   "cell_type": "code",
   "execution_count": 10,
   "id": "06785667",
   "metadata": {},
   "outputs": [],
   "source": [
    "graph = ar.PropGraph()\n",
    "graph.load_edge_attributes(connectome_links, source_column=\"src_neuron_id\", destination_column=\"dst_neuron_id\", relationship_columns=\"type_label\")"
   ]
  },
  {
   "cell_type": "code",
   "execution_count": 11,
   "id": "3486cc1e",
   "metadata": {},
   "outputs": [
    {
     "name": "stdout",
     "output_type": "stream",
     "text": [
      "Number of edges = 147071359\n",
      "Number of nodes = 142660662\n"
     ]
    }
   ],
   "source": [
    "print(f\"Number of edges = {graph.size()}\")\n",
    "print(f\"Number of nodes = {len(graph)}\")"
   ]
  },
  {
   "cell_type": "code",
   "execution_count": 12,
   "id": "84a5778b",
   "metadata": {},
   "outputs": [],
   "source": [
    "out_degrees = graph.out_degree()\n",
    "in_degrees = graph.in_degree()"
   ]
  },
  {
   "cell_type": "code",
   "execution_count": 13,
   "id": "3e20709e",
   "metadata": {},
   "outputs": [
    {
     "name": "stdout",
     "output_type": "stream",
     "text": [
      "max out degree = 442\n",
      "max in degree = 24301\n"
     ]
    }
   ],
   "source": [
    "print(f\"max out degree = {ak.max(out_degrees)}\")\n",
    "print(f\"max in degree = {ak.max(in_degrees)}\")"
   ]
  },
  {
   "cell_type": "code",
   "execution_count": 14,
   "id": "a5305f0c",
   "metadata": {},
   "outputs": [],
   "source": [
    "nodes = graph.nodes()\n",
    "edges = graph.edges()"
   ]
  },
  {
   "cell_type": "code",
   "execution_count": 15,
   "id": "f1f5c6ff",
   "metadata": {},
   "outputs": [
    {
     "data": {
      "text/plain": [
       "array([243690691 243778373 243778396 ... 105775440656 105775440674 105787807706])"
      ]
     },
     "execution_count": 15,
     "metadata": {},
     "output_type": "execute_result"
    }
   ],
   "source": [
    "nodes"
   ]
  },
  {
   "cell_type": "code",
   "execution_count": 16,
   "id": "b31ae9a6",
   "metadata": {},
   "outputs": [
    {
     "data": {
      "text/plain": [
       "(array([243822242 243836714 243836718 ... 105775440615 105775440615 105787807706]),\n",
       " array([258381136 243836718 258394114 ... 105775440656 105775440674 105758678885]))"
      ]
     },
     "execution_count": 16,
     "metadata": {},
     "output_type": "execute_result"
    }
   ],
   "source": [
    "edges"
   ]
  },
  {
   "cell_type": "code",
   "execution_count": 17,
   "id": "12ce42e0",
   "metadata": {},
   "outputs": [],
   "source": [
    "sorted_out_degrees = ak.argsort(out_degrees)\n",
    "sorted_in_degrees = ak.argsort(in_degrees)"
   ]
  },
  {
   "cell_type": "code",
   "execution_count": 18,
   "id": "9b65a7c4",
   "metadata": {},
   "outputs": [],
   "source": [
    "nodes_sorted_by_out_degree = nodes[sorted_out_degrees]"
   ]
  },
  {
   "cell_type": "code",
   "execution_count": 19,
   "id": "4e57a930",
   "metadata": {},
   "outputs": [],
   "source": [
    "nodes_sorted_by_in_degree = nodes[sorted_in_degrees]"
   ]
  },
  {
   "cell_type": "code",
   "execution_count": 20,
   "id": "af6710fa",
   "metadata": {},
   "outputs": [],
   "source": [
    "out_degrees_greater_than_5 = out_degrees > 5\n",
    "in_degrees_greater_than_5 = in_degrees > 5\n",
    "nodes_with_out_degrees_greater_than_5 = nodes[out_degrees_greater_than_5]\n",
    "nodes_with_in_degrees_greater_than_5 = nodes[in_degrees_greater_than_5]"
   ]
  },
  {
   "cell_type": "code",
   "execution_count": 21,
   "id": "cc2ac345",
   "metadata": {},
   "outputs": [],
   "source": [
    "type_2_edges = graph.edge_attributes[\"type_label\"] == 2\n",
    "bool_edges = type_2_edges & ak.in1d(graph.edge_attributes[\"src_neuron_id\"], nodes_with_out_degrees_greater_than_5) & ak.in1d(graph.edge_attributes[\"dst_neuron_id\"], nodes_with_in_degrees_greater_than_5)\n",
    "subgraph = graph.edge_attributes[bool_edges]"
   ]
  },
  {
   "cell_type": "code",
   "execution_count": 22,
   "id": "fc61fb82",
   "metadata": {},
   "outputs": [],
   "source": [
    "di_graph = ar.Graph()"
   ]
  },
  {
   "cell_type": "code",
   "execution_count": 23,
   "id": "8ae07af3",
   "metadata": {},
   "outputs": [],
   "source": [
    "di_graph.add_edges_from(subgraph[\"src_neuron_id\"], subgraph[\"dst_neuron_id\"])"
   ]
  },
  {
   "cell_type": "code",
   "execution_count": 32,
   "id": "3c545fe7",
   "metadata": {},
   "outputs": [
    {
     "data": {
      "text/plain": [
       "2728152"
      ]
     },
     "execution_count": 32,
     "metadata": {},
     "output_type": "execute_result"
    }
   ],
   "source": [
    "len(di_graph)"
   ]
  },
  {
   "cell_type": "code",
   "execution_count": 34,
   "id": "d31cab4d",
   "metadata": {},
   "outputs": [
    {
     "data": {
      "text/plain": [
       "8713128"
      ]
     },
     "execution_count": 34,
     "metadata": {},
     "output_type": "execute_result"
    }
   ],
   "source": [
    "di_graph.size()"
   ]
  },
  {
   "cell_type": "code",
   "execution_count": 24,
   "id": "9410f6d8",
   "metadata": {},
   "outputs": [],
   "source": [
    "di_graph_nodes = di_graph.nodes()\n",
    "max_out_degree = ak.argmax(di_graph.degree())\n",
    "max_vertex = di_graph_nodes[max_out_degree]"
   ]
  },
  {
   "cell_type": "code",
   "execution_count": 25,
   "id": "3ed3e75e",
   "metadata": {},
   "outputs": [],
   "source": [
    "bfs = ar.bfs_layers(di_graph, int(max_vertex))"
   ]
  },
  {
   "cell_type": "code",
   "execution_count": 26,
   "id": "f4f48fb8",
   "metadata": {},
   "outputs": [],
   "source": [
    "bfs_gb = ak.GroupBy(bfs)"
   ]
  },
  {
   "cell_type": "code",
   "execution_count": 28,
   "id": "22c6f67d",
   "metadata": {},
   "outputs": [],
   "source": [
    "unique_keys, count = bfs_gb.count()"
   ]
  },
  {
   "cell_type": "code",
   "execution_count": 29,
   "id": "399f3996",
   "metadata": {},
   "outputs": [
    {
     "data": {
      "text/plain": [
       "array([-1 0 1 2 3 4 5 6 7 8 9 10 11 12 13 14 15 16 17 18 19 20 21 22 23 24 25 26 27 28 29 30 31 32 33 34 35 36 37 38 39 40 41 42 43 44 45 46])"
      ]
     },
     "execution_count": 29,
     "metadata": {},
     "output_type": "execute_result"
    }
   ],
   "source": [
    "unique_keys"
   ]
  },
  {
   "cell_type": "code",
   "execution_count": 30,
   "id": "e0eba00a",
   "metadata": {},
   "outputs": [
    {
     "data": {
      "text/plain": [
       "array([44969 1 3180 59316 464097 667603 629743 402233 217563 127698 66228 21488 7902 3658 2144 1505 1236 961 952 730 792 559 711 460 653 324 352 191 239 146 120 88 66 67 41 46 28 19 10 10 3 6 1 2 1 3 2 5])"
      ]
     },
     "execution_count": 30,
     "metadata": {},
     "output_type": "execute_result"
    }
   ],
   "source": [
    "count"
   ]
  },
  {
   "cell_type": "code",
   "execution_count": 31,
   "id": "9a55fb17",
   "metadata": {},
   "outputs": [
    {
     "data": {
      "text/plain": [
       "158877"
      ]
     },
     "execution_count": 31,
     "metadata": {},
     "output_type": "execute_result"
    }
   ],
   "source": [
    "ar.triangles(di_graph)"
   ]
  },
  {
   "cell_type": "code",
   "execution_count": 36,
   "id": "bde63fc8",
   "metadata": {},
   "outputs": [],
   "source": [
    "centralities = ar.triangle_centrality(di_graph)"
   ]
  },
  {
   "cell_type": "code",
   "execution_count": 37,
   "id": "beb5ede9",
   "metadata": {},
   "outputs": [
    {
     "data": {
      "text/plain": [
       "0.043983710669259865"
      ]
     },
     "execution_count": 37,
     "metadata": {},
     "output_type": "execute_result"
    }
   ],
   "source": [
    "ak.max(centralities)"
   ]
  },
  {
   "cell_type": "code",
   "execution_count": 38,
   "id": "0a35e1bc",
   "metadata": {},
   "outputs": [
    {
     "name": "stderr",
     "output_type": "stream",
     "text": [
      "/scratch/users/oaa9/arkouda-2023.11.15-1.32/arkouda/alignment.py:159: UserWarning: Duplicate terms present in search space. Only first instance of each query term            will be reported.\n",
      "  warn(\n"
     ]
    }
   ],
   "source": [
    "compat_graph = ar.Graph()\n",
    "compat_graph.add_edges_from_compat(subgraph[\"src_neuron_id\"], subgraph[\"dst_neuron_id\"])"
   ]
  },
  {
   "cell_type": "code",
   "execution_count": 57,
   "id": "3d1eaa70",
   "metadata": {},
   "outputs": [],
   "source": [
    "# Probably bad example for k_truss! When edges that do not belong to any triangles are pruned, then the remaining edges must ALL belong to at least \n",
    "edges_k_truss = ar.k_truss(compat_graph, 4)"
   ]
  },
  {
   "cell_type": "code",
   "execution_count": 58,
   "id": "7e02d5bf",
   "metadata": {},
   "outputs": [],
   "source": [
    "k_truss_gb = ak.GroupBy(edges_k_truss)"
   ]
  },
  {
   "cell_type": "code",
   "execution_count": 59,
   "id": "8dbd21d1",
   "metadata": {},
   "outputs": [
    {
     "name": "stdout",
     "output_type": "stream",
     "text": [
      "[-1 3]\n",
      "[903 8712354]\n"
     ]
    }
   ],
   "source": [
    "unique_keys, counts = k_truss_gb.count()\n",
    "print(unique_keys)\n",
    "print(counts)"
   ]
  },
  {
   "cell_type": "code",
   "execution_count": 60,
   "id": "81c2522b",
   "metadata": {},
   "outputs": [],
   "source": [
    "conn_comps = ar.connected_components(compat_graph)"
   ]
  },
  {
   "cell_type": "code",
   "execution_count": 61,
   "id": "e06d2a3e",
   "metadata": {},
   "outputs": [],
   "source": [
    "cc_gb = ak.GroupBy(conn_comps)"
   ]
  },
  {
   "cell_type": "code",
   "execution_count": 62,
   "id": "3999c2f0",
   "metadata": {},
   "outputs": [],
   "source": [
    "unique_keys, counts = cc_gb.count()"
   ]
  },
  {
   "cell_type": "code",
   "execution_count": 63,
   "id": "04431fb2",
   "metadata": {},
   "outputs": [
    {
     "name": "stdout",
     "output_type": "stream",
     "text": [
      "[0 40 60 ... 2728073 2728088 2728096]\n",
      "[2683183 2 15 ... 2 2 4]\n"
     ]
    }
   ],
   "source": [
    "print(unique_keys)\n",
    "print(counts)"
   ]
  }
 ],
 "metadata": {
  "kernelspec": {
   "display_name": "arkouda-dev",
   "language": "python",
   "name": "python3"
  },
  "language_info": {
   "codemirror_mode": {
    "name": "ipython",
    "version": 3
   },
   "file_extension": ".py",
   "mimetype": "text/x-python",
   "name": "python",
   "nbconvert_exporter": "python",
   "pygments_lexer": "ipython3",
   "version": "3.10.12"
  }
 },
 "nbformat": 4,
 "nbformat_minor": 5
}
