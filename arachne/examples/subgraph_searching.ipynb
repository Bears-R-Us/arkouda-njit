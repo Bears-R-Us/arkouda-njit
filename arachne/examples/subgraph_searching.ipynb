{
 "cells": [
  {
   "cell_type": "code",
   "execution_count": 1,
   "metadata": {},
   "outputs": [
    {
     "name": "stdout",
     "output_type": "stream",
     "text": [
      "    _         _                   _       \n",
      "   / \\   _ __| | _____  _   _  __| | __ _ \n",
      "  / _ \\ | '__| |/ / _ \\| | | |/ _` |/ _` |\n",
      " / ___ \\| |  |   < (_) | |_| | (_| | (_| |\n",
      "/_/   \\_\\_|  |_|\\_\\___/ \\__,_|\\__,_|\\__,_|\n",
      "                                          \n",
      "\n",
      "Client Version: v2024.06.21+0.gcf6eeacde.dirty\n"
     ]
    }
   ],
   "source": [
    "import time\n",
    "import arkouda as ak\n",
    "import arachne as ar"
   ]
  },
  {
   "cell_type": "code",
   "execution_count": 2,
   "metadata": {},
   "outputs": [
    {
     "name": "stderr",
     "output_type": "stream",
     "text": [
      "connected to arkouda server tcp://*:5555\n"
     ]
    }
   ],
   "source": [
    "ak.connect(\"n82\", 5555)"
   ]
  },
  {
   "cell_type": "code",
   "execution_count": 3,
   "metadata": {},
   "outputs": [],
   "source": [
    "def get_gnp_random_graph(n, p, seed):\n",
    "    G = ar.gnp_random_graph(n, p, create_using=ar.PropGraph, seed=seed)\n",
    "    print(f\"Built G(n,p) graph with {len(G):,} vertices and {G.size():,} edges.\")\n",
    "\n",
    "    return G"
   ]
  },
  {
   "cell_type": "code",
   "execution_count": 4,
   "metadata": {},
   "outputs": [],
   "source": [
    "def build_subgraph(src, dst):\n",
    "    akarray_src = ak.array(src)\n",
    "    akarray_dst = ak.array(dst)\n",
    "\n",
    "    H = ar.PropGraph()\n",
    "    H.add_edges_from(akarray_src, akarray_dst)\n",
    "\n",
    "    return H"
   ]
  },
  {
   "cell_type": "code",
   "execution_count": 5,
   "metadata": {},
   "outputs": [],
   "source": [
    "def add_attributes(graph, num_node_lbls, num_edge_lbls, vals_per_lbl, seed):\n",
    "    nodes = graph.nodes()\n",
    "    edges = graph.edges()\n",
    "\n",
    "    n = len(nodes)\n",
    "    m = len(edges[0])\n",
    "\n",
    "    node_attributes = []\n",
    "    edge_attributes = []\n",
    "\n",
    "    for i in range(num_node_lbls):\n",
    "        node_attributes.append(ak.randint(0,vals_per_lbl,n,seed=seed*i,dtype=ak.int64))\n",
    "\n",
    "    for i in range(num_edge_lbls):\n",
    "        edge_attributes.append(ak.randint(0,vals_per_lbl,m,seed=seed*i,dtype=ak.int64))\n",
    "\n",
    "    lbls_dict = {\"lbl\"+str(idx):attribute for idx, attribute in enumerate(node_attributes)}\n",
    "    rels_dict = {\"rel\"+str(idx):attribute for idx, attribute in enumerate(edge_attributes)}\n",
    "\n",
    "    node_dict = {\"nodes\" : nodes}\n",
    "    edge_dict = {\"src\" : edges[0], \"dst\" : edges[1]}\n",
    "\n",
    "    node_dict.update(lbls_dict)\n",
    "    edge_dict.update(rels_dict)\n",
    "\n",
    "    node_df = ak.DataFrame(node_dict)\n",
    "    edge_df = ak.DataFrame(edge_dict)\n",
    "\n",
    "    graph.load_edge_attributes(edge_df, source_column=\"src\", destination_column=\"dst\")\n",
    "    graph.load_node_attributes(node_df, node_column=\"nodes\")"
   ]
  },
  {
   "cell_type": "code",
   "execution_count": 6,
   "metadata": {},
   "outputs": [],
   "source": [
    "n = 60_000\n",
    "p = 0.0005\n",
    "seed = 42\n",
    "num_node_lbls = 2\n",
    "num_edge_lbls = 2\n",
    "vals_per_lbl = 2"
   ]
  },
  {
   "cell_type": "code",
   "execution_count": 7,
   "metadata": {},
   "outputs": [],
   "source": [
    "src = [0, 1, 2, 0]\n",
    "dst = [1, 2, 0, 3]"
   ]
  },
  {
   "cell_type": "code",
   "execution_count": 8,
   "metadata": {},
   "outputs": [
    {
     "name": "stdout",
     "output_type": "stream",
     "text": [
      "Built G(n,p) graph with 60,000 vertices and 1,800,598 edges.\n"
     ]
    }
   ],
   "source": [
    "G_no_attributes = get_gnp_random_graph(n, p, seed)"
   ]
  },
  {
   "cell_type": "code",
   "execution_count": 9,
   "metadata": {},
   "outputs": [],
   "source": [
    "H_no_attributes = build_subgraph(src, dst)"
   ]
  },
  {
   "cell_type": "code",
   "execution_count": 10,
   "metadata": {},
   "outputs": [
    {
     "name": "stdout",
     "output_type": "stream",
     "text": [
      "Finding 802_541 isos with SI took 1.04 seconds\n",
      "Finding 802_541 isos with PS took 16.83 seconds\n",
      "Finding 802_541 isos with SI (count-only) took 0.88 seconds\n",
      "Finding 802_541 isos with PS (count-only) took 16.63 seconds\n"
     ]
    }
   ],
   "source": [
    "# Run structural subgraph isomorphism.\n",
    "start = time.time()\n",
    "results1 = ar.subgraph_isomorphism(G_no_attributes, H_no_attributes, return_isos_as=\"vertices\", algorithm_type=\"si\")\n",
    "end = time.time()\n",
    "print(f\"Finding {len(results1[0]) // len(H_no_attributes):_} isos with SI took {end-start:.2f} seconds\")\n",
    "\n",
    "start = time.time()\n",
    "results2 = ar.subgraph_isomorphism(G_no_attributes, H_no_attributes, return_isos_as=\"vertices\", algorithm_type=\"ps\")\n",
    "end = time.time()\n",
    "print(f\"Finding {len(results2[0]) // len(H_no_attributes):_} isos with PS took {end-start:.2f} seconds\")\n",
    "\n",
    "start = time.time()\n",
    "results3 = ar.subgraph_isomorphism(G_no_attributes, H_no_attributes, return_isos_as=\"count\", algorithm_type=\"si\")\n",
    "end = time.time()\n",
    "print(f\"Finding {results3:_} isos with SI (count-only) took {end-start:.2f} seconds\")\n",
    "\n",
    "start = time.time()\n",
    "results4 = ar.subgraph_isomorphism(G_no_attributes, H_no_attributes, return_isos_as=\"count\", algorithm_type=\"ps\")\n",
    "end = time.time()\n",
    "print(f\"Finding {results4:_} isos with PS (count-only) took {end-start:.2f} seconds\")"
   ]
  },
  {
   "cell_type": "code",
   "execution_count": 11,
   "metadata": {},
   "outputs": [
    {
     "name": "stdout",
     "output_type": "stream",
     "text": [
      "Finding 805_363 monos with SI took 0.98 seconds\n",
      "Finding 805_363 monos with PS took 16.46 seconds\n",
      "Finding 805_363 monos with SI (count-only) took 0.90 seconds\n",
      "Finding 805_363 monos with PS (count-only) took 20.80 seconds\n"
     ]
    }
   ],
   "source": [
    "# Run structural subgraph monomorphism.\n",
    "start = time.time()\n",
    "results1 = ar.subgraph_monomorphism(G_no_attributes, H_no_attributes, return_isos_as=\"vertices\", algorithm_type=\"si\")\n",
    "end = time.time()\n",
    "print(f\"Finding {len(results1[0]) // len(H_no_attributes):_} monos with SI took {end-start:.2f} seconds\")\n",
    "\n",
    "start = time.time()\n",
    "results2 = ar.subgraph_monomorphism(G_no_attributes, H_no_attributes, return_isos_as=\"vertices\", algorithm_type=\"ps\")\n",
    "end = time.time()\n",
    "print(f\"Finding {len(results2[0]) // len(H_no_attributes):_} monos with PS took {end-start:.2f} seconds\")\n",
    "\n",
    "start = time.time()\n",
    "results3 = ar.subgraph_monomorphism(G_no_attributes, H_no_attributes, return_isos_as=\"count\", algorithm_type=\"si\")\n",
    "end = time.time()\n",
    "print(f\"Finding {results3:_} monos with SI (count-only) took {end-start:.2f} seconds\")\n",
    "\n",
    "start = time.time()\n",
    "results4 = ar.subgraph_monomorphism(G_no_attributes, H_no_attributes, return_isos_as=\"count\", algorithm_type=\"ps\")\n",
    "end = time.time()\n",
    "print(f\"Finding {results4:_} monos with PS (count-only) took {end-start:.2f} seconds\")"
   ]
  },
  {
   "cell_type": "code",
   "execution_count": 12,
   "metadata": {},
   "outputs": [
    {
     "name": "stdout",
     "output_type": "stream",
     "text": [
      "Built G(n,p) graph with 60,000 vertices and 1,800,598 edges.\n"
     ]
    }
   ],
   "source": [
    "G = get_gnp_random_graph(n, p, seed)"
   ]
  },
  {
   "cell_type": "code",
   "execution_count": 13,
   "metadata": {},
   "outputs": [],
   "source": [
    "H = build_subgraph(src, dst)"
   ]
  },
  {
   "cell_type": "code",
   "execution_count": 14,
   "metadata": {},
   "outputs": [],
   "source": [
    "add_attributes(G, num_node_lbls, num_edge_lbls, vals_per_lbl, seed)"
   ]
  },
  {
   "cell_type": "code",
   "execution_count": 15,
   "metadata": {},
   "outputs": [],
   "source": [
    "add_attributes(H, num_node_lbls, num_edge_lbls, vals_per_lbl, seed)"
   ]
  },
  {
   "cell_type": "code",
   "execution_count": 16,
   "metadata": {},
   "outputs": [
    {
     "name": "stdout",
     "output_type": "stream",
     "text": [
      "Finding 4 isos with SI took 0.20 seconds\n",
      "Finding 4 isos with PS took 17.56 seconds\n",
      "Finding 4 isos with SI (count-only) took 0.17 seconds\n",
      "Finding 4 isos with PS (count-only) took 16.81 seconds\n"
     ]
    }
   ],
   "source": [
    "# Run semantic subgraph isomorphism.\n",
    "start = time.time()\n",
    "results1 = ar.subgraph_isomorphism(G, H, return_isos_as=\"vertices\", algorithm_type=\"si\")\n",
    "end = time.time()\n",
    "print(f\"Finding {len(results1[0]) // len(H):_} isos with SI took {end-start:.2f} seconds\")\n",
    "\n",
    "start = time.time()\n",
    "results2 = ar.subgraph_isomorphism(G, H, return_isos_as=\"vertices\", algorithm_type=\"ps\")\n",
    "end = time.time()\n",
    "print(f\"Finding {len(results2[0]) // len(H):_} isos with PS took {end-start:.2f} seconds\")\n",
    "\n",
    "start = time.time()\n",
    "results3 = ar.subgraph_isomorphism(G, H, return_isos_as=\"count\", algorithm_type=\"si\")\n",
    "end = time.time()\n",
    "print(f\"Finding {results3:_} isos with SI (count-only) took {end-start:.2f} seconds\")\n",
    "\n",
    "start = time.time()\n",
    "results4 = ar.subgraph_isomorphism(G, H, return_isos_as=\"count\", algorithm_type=\"ps\")\n",
    "end = time.time()\n",
    "print(f\"Finding {results4:_} isos with PS (count-only) took {end-start:.2f} seconds\")"
   ]
  },
  {
   "cell_type": "code",
   "execution_count": 17,
   "metadata": {},
   "outputs": [
    {
     "name": "stdout",
     "output_type": "stream",
     "text": [
      "Finding 4 monos with SI took 0.20 seconds\n",
      "Finding 4 monos with PS took 16.48 seconds\n",
      "Finding 4 monos with SI (count-only) took 0.15 seconds\n",
      "Finding 4 monos with PS (count-only) took 19.88 seconds\n"
     ]
    }
   ],
   "source": [
    "# Run semantic subgraph monomorphism.\n",
    "start = time.time()\n",
    "results1 = ar.subgraph_monomorphism(G, H, return_isos_as=\"vertices\", algorithm_type=\"si\")\n",
    "end = time.time()\n",
    "print(f\"Finding {len(results1[0]) // len(H):_} monos with SI took {end-start:.2f} seconds\")\n",
    "\n",
    "start = time.time()\n",
    "results2 = ar.subgraph_monomorphism(G, H, return_isos_as=\"vertices\", algorithm_type=\"ps\")\n",
    "end = time.time()\n",
    "print(f\"Finding {len(results2[0]) // len(H):_} monos with PS took {end-start:.2f} seconds\")\n",
    "\n",
    "start = time.time()\n",
    "results3 = ar.subgraph_monomorphism(G, H, return_isos_as=\"count\", algorithm_type=\"si\")\n",
    "end = time.time()\n",
    "print(f\"Finding {results3:_} monos with SI (count-only) took {end-start:.2f} seconds\")\n",
    "\n",
    "start = time.time()\n",
    "results4 = ar.subgraph_monomorphism(G, H, return_isos_as=\"count\", algorithm_type=\"ps\")\n",
    "end = time.time()\n",
    "print(f\"Finding {results4:_} monos with PS (count-only) took {end-start:.2f} seconds\")"
   ]
  }
 ],
 "metadata": {
  "kernelspec": {
   "display_name": "arkouda-dev",
   "language": "python",
   "name": "python3"
  },
  "language_info": {
   "codemirror_mode": {
    "name": "ipython",
    "version": 3
   },
   "file_extension": ".py",
   "mimetype": "text/x-python",
   "name": "python",
   "nbconvert_exporter": "python",
   "pygments_lexer": "ipython3",
   "version": "3.10.12"
  }
 },
 "nbformat": 4,
 "nbformat_minor": 2
}
