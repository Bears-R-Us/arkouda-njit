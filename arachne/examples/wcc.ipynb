{
 "cells": [
  {
   "cell_type": "code",
   "execution_count": 7,
   "id": "f651e065",
   "metadata": {},
   "outputs": [],
   "source": [
    "import arkouda as ak\n",
    "import arachne as ar\n",
    "import os"
   ]
  },
  {
   "cell_type": "code",
   "execution_count": 8,
   "id": "671cb378",
   "metadata": {},
   "outputs": [
    {
     "name": "stderr",
     "output_type": "stream",
     "text": [
      "connected to arkouda server tcp://*:5555\n"
     ]
    }
   ],
   "source": [
    "# NOTE: Make sure to change the server name to whatever is applicable in your environment. If running locally, then use only ak.connect().\n",
    "ak.connect(\"n91\", 5555)"
   ]
  },
  {
   "cell_type": "code",
   "execution_count": 9,
   "id": "86b36041",
   "metadata": {},
   "outputs": [
    {
     "name": "stdout",
     "output_type": "stream",
     "text": [
      "Cluster files written to:  /scratch/users/oaa9/arkouda-njit/arachne/output/test.tsv\n",
      "WCC found 76 clusters to be well-connected.\n"
     ]
    }
   ],
   "source": [
    "# Create an Arachne graph from a test network file.\n",
    "ar_network_graph = ar.read_tsv_file(os.path.abspath(\"../data/wcc/test_network.tsv\"))\n",
    "\n",
    "# Establish paths to the data that WCC is to utilize.\n",
    "file_path = os.path.abspath(\"../data/wcc/test_clustering.tsv\")\n",
    "output_path = os.path.abspath(\"../output/\")\n",
    "output_filename = \"test.tsv\"\n",
    "\n",
    "# Execute WCC with criterion log10.\n",
    "num_clusters = ar.well_connected_components(ar_network_graph, file_path, output_path, \n",
    "                                            output_filename=output_filename,\n",
    "                                            output_type = \"post\",\n",
    "                                            connectedness_criterion = \"log10\",\n",
    "                                            connectedness_criterion_mult_value = 0.05,\n",
    "                                            pre_filter_min_size=1, post_filter_min_size=1)\n",
    "print(f\"WCC found {num_clusters} clusters to be well-connected.\")"
   ]
  }
 ],
 "metadata": {
  "kernelspec": {
   "display_name": "arkouda-dev",
   "language": "python",
   "name": "python3"
  },
  "language_info": {
   "codemirror_mode": {
    "name": "ipython",
    "version": 3
   },
   "file_extension": ".py",
   "mimetype": "text/x-python",
   "name": "python",
   "nbconvert_exporter": "python",
   "pygments_lexer": "ipython3",
   "version": "3.10.12"
  }
 },
 "nbformat": 4,
 "nbformat_minor": 5
}
