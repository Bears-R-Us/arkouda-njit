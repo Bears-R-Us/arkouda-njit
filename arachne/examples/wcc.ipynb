{
 "cells": [
  {
   "cell_type": "code",
   "execution_count": 1,
   "id": "f651e065",
   "metadata": {},
   "outputs": [
    {
     "name": "stdout",
     "output_type": "stream",
     "text": [
      "    _         _                   _       \n",
      "   / \\   _ __| | _____  _   _  __| | __ _ \n",
      "  / _ \\ | '__| |/ / _ \\| | | |/ _` |/ _` |\n",
      " / ___ \\| |  |   < (_) | |_| | (_| | (_| |\n",
      "/_/   \\_\\_|  |_|\\_\\___/ \\__,_|\\__,_|\\__,_|\n",
      "                                          \n",
      "\n",
      "Client Version: v2024.06.21\n"
     ]
    }
   ],
   "source": [
    "import arkouda as ak\n",
    "import arachne as ar\n",
    "import os"
   ]
  },
  {
   "cell_type": "code",
   "execution_count": 2,
   "id": "671cb378",
   "metadata": {},
   "outputs": [
    {
     "name": "stderr",
     "output_type": "stream",
     "text": [
      "connected to arkouda server tcp://*:5555\n"
     ]
    }
   ],
   "source": [
    "# NOTE: Make sure to change the server name to whatever is applicable in your environment. If running locally, then use only ak.connect().\n",
    "ak.connect(\"n0052\", 5555)"
   ]
  },
  {
   "cell_type": "code",
   "execution_count": 3,
   "id": "86b36041",
   "metadata": {},
   "outputs": [
    {
     "name": "stdout",
     "output_type": "stream",
     "text": [
      "Cluster files written to:  /mmfs1/home/oaa9/arkouda-njit/arachne/output/test_network_wcc_output_post.tsv\n",
      "WCC found 66 clusters to be well-connected.\n"
     ]
    }
   ],
   "source": [
    "# Create an Arachne graph from a test network file.\n",
    "ar_network_graph = ar.read_tsv_file(os.path.abspath(\"../data/wcc/test_network.tsv\"))\n",
    "\n",
    "# Execute wcc with the absolute path to the generate and the create network file.\n",
    "file_path = os.path.abspath(\"../data/wcc/test_clustering.tsv\")\n",
    "output_path = os.path.abspath(\"../output/\")\n",
    "output_filename = \"test_network_wcc_output_post.tsv\"\n",
    "\n",
    "num_clusters = ar.well_connected_components(ar_network_graph, file_path, output_path, \n",
    "                                            output_filename=output_filename,\n",
    "                                            output_type = \"post\",\n",
    "                                            connectedness_criterion = \"log10\", # \"log2\", \"sqrt\", and \"mult\" also options\n",
    "                                            pre_filter_min_size=1, post_filter_min_size=1)\n",
    "print(f\"WCC found {num_clusters} clusters to be well-connected.\")"
   ]
  }
 ],
 "metadata": {
  "kernelspec": {
   "display_name": "Python 3",
   "language": "python",
   "name": "python3"
  },
  "language_info": {
   "codemirror_mode": {
    "name": "ipython",
    "version": 3
   },
   "file_extension": ".py",
   "mimetype": "text/x-python",
   "name": "python",
   "nbconvert_exporter": "python",
   "pygments_lexer": "ipython3",
   "version": "3.10.16"
  }
 },
 "nbformat": 4,
 "nbformat_minor": 5
}
