{
 "cells": [
  {
   "cell_type": "code",
   "execution_count": null,
   "metadata": {},
   "outputs": [],
   "source": [
    "import arkouda as ak\n",
    "import arachne as ar\n",
    "import time as time\n"
   ]
  },
  {
   "cell_type": "code",
   "execution_count": null,
   "metadata": {},
   "outputs": [],
   "source": [
    "ak.connect(\"n116\", 5555)\n",
    "ak.client.maxTransferBytes *= 2"
   ]
  },
  {
   "cell_type": "code",
   "execution_count": 3,
   "metadata": {},
   "outputs": [],
   "source": [
    "# connectome_edges = ak.read(\"/scratch/users/oaa9/experimentation/data/connectome/h01/edges*\")\n",
    "# connectome_edges = ak.DataFrame(connectome_edges)"
   ]
  },
  {
   "cell_type": "code",
   "execution_count": 4,
   "metadata": {},
   "outputs": [],
   "source": [
    "# vals = connectome_edges[\"confidence\"] > 0.75\n",
    "# ak.value_counts(vals)"
   ]
  },
  {
   "cell_type": "code",
   "execution_count": 5,
   "metadata": {},
   "outputs": [],
   "source": [
    "# connectome_edges[\"bool_conf\"] = vals"
   ]
  },
  {
   "cell_type": "code",
   "execution_count": 6,
   "metadata": {},
   "outputs": [],
   "source": [
    "# connectome_nodes = ak.read(\"/scratch/users/oaa9/experimentation/data/connectome/h01/nodes*\")\n",
    "# connectome_nodes = ak.DataFrame(connectome_nodes)"
   ]
  },
  {
   "cell_type": "code",
   "execution_count": 7,
   "metadata": {},
   "outputs": [],
   "source": [
    "# nodes_gb = connectome_nodes.groupby(\"neuron_id\")\n",
    "# connectome_nodes = connectome_nodes[nodes_gb.permutation[nodes_gb.segments]]"
   ]
  },
  {
   "cell_type": "code",
   "execution_count": 8,
   "metadata": {},
   "outputs": [],
   "source": [
    "# graph = ar.PropGraph()\n",
    "# graph.load_edge_attributes(connectome_edges, source_column=\"src_neuron_id\", destination_column=\"dst_neuron_id\", relationship_columns=\"type_label\")\n",
    "# graph.load_node_attributes(connectome_nodes, node_column=\"neuron_id\")"
   ]
  },
  {
   "cell_type": "code",
   "execution_count": 9,
   "metadata": {},
   "outputs": [],
   "source": [
    "# print(f\"Graph has {len(graph):_} vertices and {graph.size():_} edges.\")"
   ]
  },
  {
   "cell_type": "code",
   "execution_count": 10,
   "metadata": {},
   "outputs": [],
   "source": [
    "# src = ak.array([0, 1, 2, 2])\n",
    "# dst = ak.array([1, 2, 0, 3])\n",
    "# nodes = ak.array([0, 1, 2, 3])"
   ]
  },
  {
   "cell_type": "code",
   "execution_count": 11,
   "metadata": {},
   "outputs": [],
   "source": [
    "# bool_conf = ak.array([True, True, True, True])"
   ]
  },
  {
   "cell_type": "code",
   "execution_count": 12,
   "metadata": {},
   "outputs": [],
   "source": [
    "# subgraph_edge_df = ak.DataFrame({\"src\":src, \"dst\":dst, \"bool_conf\":bool_conf})"
   ]
  },
  {
   "cell_type": "code",
   "execution_count": 13,
   "metadata": {},
   "outputs": [],
   "source": [
    "# subgraph = ar.PropGraph()\n",
    "# subgraph.load_edge_attributes(subgraph_edge_df, source_column=\"src\", destination_column=\"dst\")"
   ]
  },
  {
   "cell_type": "code",
   "execution_count": 14,
   "metadata": {},
   "outputs": [],
   "source": [
    "def vf2_si(g, h):\n",
    "    isos_as_vertices = ar.subgraph_isomorphism(g, h, \n",
    "                                            semantic_check = \"and\", algorithm_type = \"si\",\n",
    "                                            reorder_type = \"structural\", return_isos_as = \"vertices\")\n",
    "    print(f\"We found {len(isos_as_vertices[0])/len(h)} monos inside of the graph\")"
   ]
  },
  {
   "cell_type": "code",
   "execution_count": 15,
   "metadata": {},
   "outputs": [],
   "source": [
    "# def vf2_si_probability_reordering(g,h):\n",
    "#     isos_as_vertices = ar.subgraph_isomorphism(g, h, \n",
    "#                                             semantic_check = \"and\", algorithm_type = \"si\",\n",
    "#                                             reorder_type = \"probability\", return_isos_as = \"vertices\")\n",
    "#     print(f\"We found {len(isos_as_vertices[0])/len(h)} monos inside of the graph\")"
   ]
  },
  {
   "cell_type": "code",
   "execution_count": 16,
   "metadata": {},
   "outputs": [],
   "source": [
    "# vf2_si_probability_reordering(graph, subgraph)"
   ]
  },
  {
   "cell_type": "code",
   "execution_count": 17,
   "metadata": {},
   "outputs": [],
   "source": [
    "connectome_edges = ak.read(\"/scratch/users/oaa9/experimentation/data/connectome/h01/edges*\")\n",
    "connectome_edges = ak.DataFrame(connectome_edges)"
   ]
  },
  {
   "cell_type": "code",
   "execution_count": 18,
   "metadata": {},
   "outputs": [],
   "source": [
    "graph = ar.PropGraph()\n",
    "graph.load_edge_attributes(connectome_edges, source_column=\"src_neuron_id\", destination_column=\"dst_neuron_id\")"
   ]
  },
  {
   "cell_type": "code",
   "execution_count": 19,
   "metadata": {},
   "outputs": [],
   "source": [
    "num_nodes = len(graph)\n",
    "num_edges = graph.size()"
   ]
  },
  {
   "cell_type": "code",
   "execution_count": 20,
   "metadata": {},
   "outputs": [],
   "source": [
    "P_Alpha = 0.55\n",
    "P_Beta = 0.45\n",
    "node_lbl_probs = {\n",
    "    \"lbls2\": [P_Alpha, P_Beta],  # Probabilities for integers 10 and 11\n",
    "    \"lbls3\": [P_Alpha, P_Beta]   # Probabilities for True and False\n",
    "}\n",
    "edge_rel_probs = {\n",
    "    \"rels1\": [P_Alpha, P_Beta],  # Probabilities for integers 5 and 6\n",
    "    \"rels2\": [P_Alpha, P_Beta]   # Probabilities for True and False\n",
    "}"
   ]
  },
  {
   "cell_type": "code",
   "execution_count": 21,
   "metadata": {},
   "outputs": [],
   "source": [
    "# Randomly generate node attributes.\n",
    "node_lbls2 = ak.where(ak.randint(0, 100, num_nodes) < node_lbl_probs[\"lbls2\"][0] * 100, 10, 11)\n",
    "node_lbls3 = ak.randint(0, 100, num_nodes) < node_lbl_probs[\"lbls3\"][0] * 100\n",
    "\n",
    "# Randomly generate edge attributes\n",
    "edge_rels1 = ak.where(ak.randint(0, 100, num_edges) < edge_rel_probs[\"rels1\"][0] * 100, 5, 6)\n",
    "edge_rels2 = ak.randint(0, 100, num_edges) < edge_rel_probs[\"rels2\"][0] * 100"
   ]
  },
  {
   "cell_type": "code",
   "execution_count": 22,
   "metadata": {},
   "outputs": [],
   "source": [
    "# Create edge dataframe.\n",
    "edge_df = ak.DataFrame({\n",
    "    \"src\": graph.edge_attributes[\"src_neuron_id\"],\n",
    "    \"dst\": graph.edge_attributes[\"dst_neuron_id\"],\n",
    "    \"rels1\": edge_rels1,\n",
    "    \"rels2\": edge_rels2\n",
    "})\n",
    "\n",
    "# Create node dataframe.\n",
    "node_df = ak.DataFrame({\n",
    "    \"nodes\": graph.nodes(),\n",
    "    \"lbls2\": node_lbls2,\n",
    "    \"lbls3\": node_lbls3\n",
    "})"
   ]
  },
  {
   "cell_type": "code",
   "execution_count": 23,
   "metadata": {},
   "outputs": [],
   "source": [
    "graph = ar.PropGraph()\n",
    "graph.load_edge_attributes(edge_df, source_column=\"src\", destination_column=\"dst\")\n",
    "graph.load_node_attributes(node_df, node_column=\"nodes\")"
   ]
  },
  {
   "cell_type": "code",
   "execution_count": 24,
   "metadata": {},
   "outputs": [],
   "source": [
    "def save_graph_to_csv(graph, file_name):\n",
    "    \"\"\"\n",
    "    Save a graph in CSV format with directed edges and optional labels.\n",
    "    :param graph: Arachne property graph.\n",
    "    :param file_name: Output CSV file name.\n",
    "    \"\"\"\n",
    "    # Extract internal edges and attributes\n",
    "    internal_src, internal_dst = graph._internal_edges()\n",
    "    src = internal_src.to_list()\n",
    "    dst = internal_dst.to_list()\n",
    "\n",
    "    # Extract edge attributes\n",
    "    graph_edge_attributes = graph.get_edge_attributes()\n",
    "    edge_df = graph_edge_attributes.to_pandas()\n",
    "    edge_rels1 = edge_df['rels1'] if 'rels1' in edge_df.columns else None\n",
    "    edge_rels2 = edge_df['rels2'] if 'rels2' in edge_df.columns else None\n",
    "    \n",
    "    with open(file_name, \"w\") as f:\n",
    "        print(\"Writing edge data\")\n",
    "        for i in range(len(src)):\n",
    "            if edge_rels1 is not None and edge_rels2 is not None:\n",
    "                f.write(f\"{src[i]}>{dst[i]},{edge_rels1[i]},{edge_rels2[i]}\\n\")\n",
    "            else:\n",
    "                f.write(f\"{src[i]}>{dst[i]}\\n\")\n",
    "\n",
    "        print(\"Writing node data...\")\n",
    "        graph_node_attributes = graph.get_node_attributes()\n",
    "        if graph_node_attributes.size > 0:\n",
    "            node_df = graph_node_attributes.to_pandas()\n",
    "            for index, row in node_df.iterrows():\n",
    "                f.write(f\"{index},,{row['lbls2']},{row['lbls3']}\\n\")\n",
    "        else:\n",
    "            # Use default labels if no node attributes are available\n",
    "            unique_nodes = sorted(set(src).union(dst))\n",
    "            for node in unique_nodes:\n",
    "                f.write(f\"{node},,\\n\")\n",
    "\n",
    "    print(f\"Graph saved to {file_name}\")"
   ]
  },
  {
   "cell_type": "code",
   "execution_count": 25,
   "metadata": {},
   "outputs": [],
   "source": [
    "src0 = [    1,     1]\n",
    "dst0 = [10002, 10003]\n",
    "connection_type0 = [0, 0]\n",
    "\n",
    "src1 = [    1,     1, 10003, 10003]\n",
    "dst1 = [10002, 10003, 30004, 30005]\n",
    "connection_type1 = [0, 0, 0, 0]\n",
    "\n",
    "src2 = [    1,     1, 40005]\n",
    "dst2 = [10002, 10003,     1]\n",
    "connection_type2 = [0, 0, 1]\n",
    "\n",
    "src3 = [    1,     1, 40005, 40005, 50008]\n",
    "dst3 = [10002, 10003, 50008,     1, 10003]\n",
    "connection_type3 = [0, 0, 0, 1, 1]\n",
    "\n",
    "src4 = [1, 1, 10003, 10003, 60007]\n",
    "dst4 = [10002, 10003, 30004, 30005, 1]\n",
    "connection_type4 = [0, 0, 0, 0, 1]\n",
    "\n",
    "src5 = [1, 1, 10003, 10003, 60007, 60007, 70010]\n",
    "dst5 = [10002, 10003, 30004, 30005, 70010, 1, 30005]\n",
    "connection_type5 = [0, 0, 0, 0, 0, 1, 1]\n",
    "\n",
    "src6 = [1, 1, 40005, 40005, 80009, 80009, 10003, 90010]\n",
    "dst6 = [10002, 10003, 50006, 50007, 90010, 90011, 50006, 50007]\n",
    "connection_type6 = [0, 0, 0, 0, 0, 0, 1, 1]\n",
    "\n",
    "src7 = [1, 10002, 40005, 60007, 80009]\n",
    "dst7 = [10002, 20003, 1, 10002, 20003]\n",
    "connection_type7 = [0, 0, 1, 1, 1]\n",
    "\n",
    "src00 = [1, 1, 1, 1, 10002]\n",
    "dst00 = [10002, 10003, 10004, 50006, 70008]\n",
    "connection_type00 = [0, 0, 0, 1, 1]\n",
    "\n",
    "src01 = [1, 10002, 20003, 30004, 1, 40005]\n",
    "dst01 = [10002, 20003, 30004, 40005, 60007, 80009]\n",
    "connection_type01 = [0, 0, 0, 0, 1, 1]\n",
    "\n",
    "src02 = [1, 30004, 60007, 90010, 110012, 130014]\n",
    "dst02 = [10002, 40005, 70008, 1, 30004, 60007]\n",
    "connection_type02 = [0, 0, 0, 1, 1, 1]\n",
    "\n",
    "src03 = [1, 1, 1, 50006, 50006, 50006, 120013, 120013, 120013, 10003, 10004]\n",
    "dst03 = [10002, 10003, 10004, 60007, 60008, 60009, 130014, 130015, 130016, 60007, 130015]"
   ]
  },
  {
   "cell_type": "code",
   "execution_count": null,
   "metadata": {},
   "outputs": [],
   "source": [
    "# src_list = [1, 0, 1]\n",
    "# dst_list = [0, 1, 2]\n",
    "src_list = src7\n",
    "dst_list = dst7\n",
    "src_subgraph = ak.array(src_list)\n",
    "dst_subgraph = ak.array(dst_list)\n",
    "\n",
    "subgraph_nodes = list(set(src_list) | set(dst_list))\n",
    "subgraph_nodes.sort()\n",
    "\n",
    "# Generate random node and edge attributes for the subgraph\n",
    "num_subgraph_nodes = len(subgraph_nodes)\n",
    "num_subgraph_edges = len(src_list)\n",
    "\n",
    "subgraph_node_ints = ak.array([11]*num_subgraph_nodes)\n",
    "subgraph_node_bools = ak.array([False]*num_subgraph_nodes)\n",
    "subgraph_edge_ints = ak.array([6]*num_subgraph_edges)\n",
    "subgraph_edge_bools = ak.array([False]*num_subgraph_edges)\n",
    "\n",
    "# Create dataframes for subgraph attributes\n",
    "edge_df_h = ak.DataFrame({\n",
    "    \"src\": src_subgraph,\n",
    "    \"dst\": dst_subgraph,\n",
    "    \"rels1\": subgraph_edge_ints,\n",
    "    \"rels2\": subgraph_edge_bools\n",
    "})\n",
    "\n",
    "node_df_h = ak.DataFrame({\n",
    "    \"nodes\": ak.array(subgraph_nodes),\n",
    "    \"lbls2\": subgraph_node_ints,\n",
    "    \"lbls3\": subgraph_node_bools\n",
    "})\n",
    "\n",
    "# Create the subgraph with these attributes\n",
    "subgraph = ar.PropGraph()\n",
    "subgraph.load_edge_attributes(edge_df_h, source_column=\"src\", destination_column=\"dst\")\n",
    "subgraph.load_node_attributes(node_df_h, node_column=\"nodes\")\n",
    "\n",
    "\n",
    "\n",
    "print(\"Subgraph created with fixed node and edge attributes.\")\n",
    "print(\" Run Arachne....\")"
   ]
  },
  {
   "cell_type": "code",
   "execution_count": null,
   "metadata": {},
   "outputs": [],
   "source": [
    "\"\"\"VF2-SI \"\"\"\n",
    "start_time = time.time()\n",
    "\n",
    "isos_as_vertices = ar.subgraph_isomorphism(graph, subgraph, \n",
    "                                           semantic_check = \"and\", algorithm_type = \"si\",\n",
    "                                           reorder_type = \"structural\", return_isos_as = \"vertices\")\n",
    "\n",
    "print(f\"We found {len(isos_as_vertices[0])/len(subgraph)} monos inside of the graph\")\n",
    "# Stop the timer\n",
    "end_time = time.time()\n",
    "\n",
    "# Calculate elapsed time\n",
    "elapsed_time = end_time - start_time\n",
    "\n",
    "# Print results\n",
    "num_monos = len(isos_as_vertices[0]) / len(subgraph) if len(subgraph) > 0 else 0\n",
    "print(f\"VF2-SI completed in {elapsed_time:.4f} seconds.\")\n",
    "print(f\"We found {num_monos} monos inside of the graph.\")"
   ]
  },
  {
   "cell_type": "code",
   "execution_count": 28,
   "metadata": {},
   "outputs": [],
   "source": [
    "# # save_graph_to_csv(graph, \"H01.csv\")\n",
    "# # # Save the main graph to a CSV file\n",
    "# print(\"Processing main graph...\")\n",
    "# save_graph_to_csv(graph, \"main_graph_H01-1.csv\")\n",
    "# print(\"Main graph saved \")\n",
    "\n"
   ]
  },
  {
   "cell_type": "code",
   "execution_count": 29,
   "metadata": {},
   "outputs": [],
   "source": [
    "# # Save the subgraph to a CSV file\n",
    "# print(\"Processing subgraph...\")\n",
    "# save_graph_to_csv(subgraph, \"H01-1.csv\")\n",
    "# print(\"subgraph saved  ....\")"
   ]
  },
  {
   "cell_type": "code",
   "execution_count": 30,
   "metadata": {},
   "outputs": [],
   "source": [
    "\n",
    "\n",
    "# \"\"\"VF2-PS DEFAULT\"\"\"\n",
    "# print(\"Running VF2-PS DEFAULT...\")\n",
    "# start_time = time.time()\n",
    "\n",
    "# isos_as_vertices = ar.subgraph_isomorphism(\n",
    "#     graph, subgraph,\n",
    "#     semantic_check=\"and\", algorithm_type=\"ps\",\n",
    "#     reorder_type=None, return_isos_as=\"vertices\"\n",
    "# )\n",
    "\n",
    "# end_time = time.time()\n",
    "# elapsed_time = end_time - start_time\n",
    "\n",
    "# num_monos = len(isos_as_vertices[0]) / len(subgraph) if len(subgraph) > 0 else 0\n",
    "# print(f\"VF2-PS DEFAULT completed in {elapsed_time:.4f} seconds.\")\n",
    "# print(f\"We found {num_monos} monos inside of the graph.\")\n",
    "# # ak.shutdown()"
   ]
  },
  {
   "cell_type": "code",
   "execution_count": null,
   "metadata": {},
   "outputs": [],
   "source": [
    "# import networkx as nx\n",
    "# import matplotlib.pyplot as plt\n",
    "\n",
    "# # Define the source and destination lists\n",
    "# src03 = [1, 1, 1, 50006, 50006, 50006, 120013, 120013, 120013, 10003, 10004]\n",
    "# dst03 = [10002, 10003, 10004, 60007, 60008, 60009, 130014, 130015, 130016, 60007, 130015]\n",
    "\n",
    "# # Create a directed graph\n",
    "# graph = nx.DiGraph()\n",
    "\n",
    "# # Add edges to the graph\n",
    "# edges = zip(src03, dst03)\n",
    "# graph.add_edges_from(edges)\n",
    "\n",
    "# # Draw the graph\n",
    "# plt.figure(figsize=(10, 6))\n",
    "# pos = nx.spring_layout(graph)  # Layout for visualization\n",
    "# nx.draw(graph, pos, with_labels=True, node_color=\"lightblue\", edge_color=\"gray\", node_size=800, font_size=10)\n",
    "# nx.draw_networkx_edge_labels(graph, pos, edge_labels={(u, v): f\"{u}->{v}\" for u, v in graph.edges()}, font_size=8)\n",
    "\n",
    "# # Show the graph\n",
    "# plt.title(\"Graph Visualization\")\n",
    "# plt.show()\n"
   ]
  }
 ],
 "metadata": {
  "kernelspec": {
   "display_name": "arkouda-dev",
   "language": "python",
   "name": "python3"
  },
  "language_info": {
   "codemirror_mode": {
    "name": "ipython",
    "version": 3
   },
   "file_extension": ".py",
   "mimetype": "text/x-python",
   "name": "python",
   "nbconvert_exporter": "python",
   "pygments_lexer": "ipython3",
   "version": "3.10.13"
  }
 },
 "nbformat": 4,
 "nbformat_minor": 2
}
