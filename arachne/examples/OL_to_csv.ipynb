{
 "cells": [
  {
   "cell_type": "code",
   "execution_count": 1,
   "metadata": {},
   "outputs": [
    {
     "name": "stdout",
     "output_type": "stream",
     "text": [
      "    _         _                   _       \n",
      "   / \\   _ __| | _____  _   _  __| | __ _ \n",
      "  / _ \\ | '__| |/ / _ \\| | | |/ _` |/ _` |\n",
      " / ___ \\| |  |   < (_) | |_| | (_| | (_| |\n",
      "/_/   \\_\\_|  |_|\\_\\___/ \\__,_|\\__,_|\\__,_|\n",
      "                                          \n",
      "\n",
      "Client Version: v2024.06.21+0.gcf6eeacde.dirty\n"
     ]
    }
   ],
   "source": [
    "import arkouda as ak\n",
    "import arachne as ar\n",
    "import pandas as pd\n",
    "import numpy as np\n",
    "import networkx as nx\n",
    "import time\n",
    "import json"
   ]
  },
  {
   "cell_type": "code",
   "execution_count": 2,
   "metadata": {},
   "outputs": [],
   "source": [
    "# These are just wedges, we do not need subgraph isomorphism for these.\n",
    "src0 = [    1,     1]\n",
    "dst0 = [10002, 10003]\n",
    "connection_type0 = [0, 0]\n",
    "\n",
    "src1 = [    1,     1, 10003, 10003]\n",
    "dst1 = [10002, 10003, 30004, 30005]\n",
    "connection_type1 = [0, 0, 0, 0]\n",
    "\n",
    "src2 = [    1,     1, 40005]\n",
    "dst2 = [10002, 10003,     1]\n",
    "connection_type2 = [0, 0, 1]\n",
    "\n",
    "src3 = [    1,     1, 40005, 40005, 50008]\n",
    "dst3 = [10002, 10003, 50008,     1, 10003]\n",
    "connection_type3 = [0, 0, 0, 1, 1]\n",
    "\n",
    "src4 = [1, 1, 10003, 10003, 60007]\n",
    "dst4 = [10002, 10003, 30004, 30005, 1]\n",
    "connection_type4 = [0, 0, 0, 0, 1]\n",
    "\n",
    "src5 = [1, 1, 10003, 10003, 60007, 60007, 70010]\n",
    "dst5 = [10002, 10003, 30004, 30005, 70010, 1, 30005]\n",
    "connection_type5 = [0, 0, 0, 0, 0, 1, 1]\n",
    "\n",
    "src6 = [1, 1, 40005, 40005, 80009, 80009, 10003, 90010]\n",
    "dst6 = [10002, 10003, 50006, 50007, 90010, 90011, 50006, 50007]\n",
    "connection_type6 = [0, 0, 0, 0, 0, 0, 1, 1]\n",
    "\n",
    "src7 = [1, 10002, 40005, 60007, 80009]\n",
    "dst7 = [10002, 20003, 1, 10002, 20003]\n",
    "connection_type7 = [0, 0, 1, 1, 1]\n",
    "\n",
    "src00 = [1, 1, 1, 1, 10002]\n",
    "dst00 = [10002, 10003, 10004, 50006, 70008]\n",
    "connection_type00 = [0, 0, 0, 1, 1]\n",
    "\n",
    "src01 = [1, 10002, 20003, 30004, 1, 40005]\n",
    "dst01 = [10002, 20003, 30004, 40005, 60007, 80009]\n",
    "connection_type01 = [0, 0, 0, 0, 1, 1]\n",
    "\n",
    "src02 = [1, 30004, 60007, 90010, 110012, 130014]\n",
    "dst02 = [10002, 40005, 70008, 1, 30004, 60007]\n",
    "connection_type02 = [0, 0, 0, 1, 1, 1]\n",
    "\n",
    "src03 = [1, 1, 1, 50006, 50006, 50006, 120013, 120013, 120013, 10003, 10004]\n",
    "dst03 = [10002, 10003, 10004, 60007, 60008, 60009, 130014, 130015, 130016, 60007, 130015]\n",
    "connection_type03 = [0, 0, 0, 0, 0, 0, 0, 0, 0, 1, 1]\n",
    "\n",
    "raw_subgraph_data = {\n",
    "    \"0\": (src0, dst0, connection_type0),\n",
    "    \"3\": (src3, dst3, connection_type3),\n",
    "    \"2\": (src2, dst2, connection_type2),\n",
    "    \"7\": (src7, dst7, connection_type7),\n",
    "    \"5\": (src5, dst5, connection_type5),\n",
    "    # \"4\": (src4, dst4, connection_type4),\n",
    "    # \"1\": (src1, dst1, connection_type1),\n",
    "    # \"6\": (src6, dst6, connection_type6),\n",
    "    \"00\": (src00, dst00, connection_type00),\n",
    "    \"01\": (src01, dst01, connection_type01),\n",
    "    \"03\": (src03, dst03, connection_type03),\n",
    "    # \"02\": (src02, dst02, connection_type02)\n",
    "}"
   ]
  },
  {
   "cell_type": "code",
   "execution_count": 3,
   "metadata": {},
   "outputs": [
    {
     "name": "stderr",
     "output_type": "stream",
     "text": [
      "connected to arkouda server tcp://*:5555\n"
     ]
    }
   ],
   "source": [
    "# NOTE: Make sure to change the server name to whatever is applicable in your environment. If running locally, then use only ak.connect().\n",
    "ak.connect(\"n117\", 5555)"
   ]
  },
  {
   "cell_type": "code",
   "execution_count": 4,
   "metadata": {},
   "outputs": [
    {
     "name": "stderr",
     "output_type": "stream",
     "text": [
      "/tmp/ipykernel_654729/2510305971.py:2: DtypeWarning: Columns (26) have mixed types. Specify dtype option on import or set low_memory=False.\n",
      "  df = pd.read_csv(\"/scratch/users/oaa9/arkouda-njit/arachne/data/OL_dataset.csv\")\n"
     ]
    }
   ],
   "source": [
    "# Read in the dataset with pandas.\n",
    "df = pd.read_csv(\"/scratch/users/oaa9/arkouda-njit/arachne/data/OL_dataset.csv\")\n",
    "transformed_dataset = ak.DataFrame(df.to_dict(orient='list'))"
   ]
  },
  {
   "cell_type": "code",
   "execution_count": 5,
   "metadata": {},
   "outputs": [],
   "source": [
    "# Change to string data to integers.\n",
    "transformed_dataset[\"connection_type\"] = ak.where(transformed_dataset[\"connection_type\"] == \"n\", 0, 1)"
   ]
  },
  {
   "cell_type": "code",
   "execution_count": 6,
   "metadata": {},
   "outputs": [],
   "source": [
    "# Keep only the edge information and \"connection_type\" attribute.\n",
    "reduced_dataset = transformed_dataset[\"src\", \"dst\", \"connection_type\"]"
   ]
  },
  {
   "cell_type": "code",
   "execution_count": 7,
   "metadata": {},
   "outputs": [
    {
     "name": "stdout",
     "output_type": "stream",
     "text": [
      "Graph has 667_711 vertices and 962_796 edges.\n"
     ]
    }
   ],
   "source": [
    "# Create property graph.\n",
    "graph = ar.PropGraph()\n",
    "graph.load_edge_attributes(reduced_dataset, source_column=\"src\", destination_column=\"dst\")\n",
    "print(f\"Graph has {len(graph):_} vertices and {graph.size():_} edges.\")"
   ]
  },
  {
   "cell_type": "code",
   "execution_count": 8,
   "metadata": {},
   "outputs": [
    {
     "name": "stdout",
     "output_type": "stream",
     "text": [
      "Building subgraph0...\n",
      "Building subgraph3...\n",
      "Building subgraph2...\n",
      "Building subgraph7...\n",
      "Building subgraph5...\n",
      "Building subgraph00...\n",
      "Building subgraph01...\n",
      "Building subgraph03...\n"
     ]
    }
   ],
   "source": [
    "# Create list of subgraphs.\n",
    "subgraphs_list = []\n",
    "for key,value in raw_subgraph_data.items():\n",
    "    subgraph_name = f\"subgraph{key}\"\n",
    "    print(f\"Building {subgraph_name}...\")\n",
    "    subgraph_dict = {\n",
    "        \"src\": value[0],\n",
    "        \"dst\": value[1],\n",
    "        \"connection_type\": value[2]\n",
    "    }\n",
    "    \n",
    "    subgraph = ar.PropGraph()\n",
    "    df = ak.DataFrame(subgraph_dict)\n",
    "    subgraph.load_edge_attributes(df, source_column=\"src\", destination_column=\"dst\")\n",
    "\n",
    "    subgraphs_list.append(subgraph)"
   ]
  },
  {
   "cell_type": "code",
   "execution_count": 14,
   "metadata": {},
   "outputs": [],
   "source": [
    "def save_graph_to_csv(graph, file_name):\n",
    "    \"\"\"\n",
    "    Save a graph in CSV format with directed edges and optional labels.\n",
    "    :param graph: Arachne property graph.\n",
    "    :param file_name: Output CSV file name.\n",
    "    \"\"\"\n",
    "    # Extract internal edges and attributes\n",
    "    internal_src, internal_dst = graph._internal_edges()\n",
    "    src = internal_src.to_list()\n",
    "    dst = internal_dst.to_list()\n",
    "\n",
    "    # Extract edge attributes.\n",
    "    graph_edge_attributes = graph.get_edge_attributes()\n",
    "    edge_data = graph_edge_attributes.to_pandas()['connection_type']\n",
    "\n",
    "    # Generate edge data\n",
    "    edge_data = [\n",
    "        f\"{src[i]}>{dst[i]},{edge_data[i]}\"\n",
    "        for i in range(len(src))\n",
    "    ]\n",
    "    print(\"Prepare node data\")\n",
    "    \n",
    "    # Prepare node data\n",
    "    # Generate node data with blank labels\n",
    "    unique_nodes = sorted(set(src).union(dst))\n",
    "    node_data = [f\"{node},,\" for node in unique_nodes]\n",
    "    \n",
    "\n",
    "    print(\" Write to CSV\")\n",
    "\n",
    "    # Write to CSV\n",
    "    with open(file_name, \"w\") as f:\n",
    "        f.write(\"\\n\".join(edge_data + node_data))\n",
    "    print(f\"Graph saved to {file_name}\")"
   ]
  },
  {
   "cell_type": "code",
   "execution_count": 15,
   "metadata": {},
   "outputs": [
    {
     "name": "stdout",
     "output_type": "stream",
     "text": [
      "This transfer will use 22 MB .\n",
      "Prepare node data\n",
      " Write to CSV\n",
      "Graph saved to OL.csv\n"
     ]
    }
   ],
   "source": [
    "save_graph_to_csv(graph, \"OL.csv\")"
   ]
  }
 ],
 "metadata": {
  "kernelspec": {
   "display_name": "arkouda-dev",
   "language": "python",
   "name": "python3"
  },
  "language_info": {
   "codemirror_mode": {
    "name": "ipython",
    "version": 3
   },
   "file_extension": ".py",
   "mimetype": "text/x-python",
   "name": "python",
   "nbconvert_exporter": "python",
   "pygments_lexer": "ipython3",
   "version": "3.10.12"
  }
 },
 "nbformat": 4,
 "nbformat_minor": 2
}
