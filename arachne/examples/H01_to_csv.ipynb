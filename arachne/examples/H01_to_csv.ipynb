{
 "cells": [
  {
   "cell_type": "code",
   "execution_count": null,
   "metadata": {},
   "outputs": [],
   "source": [
    "import arkouda as ak\n",
    "import arachne as ar"
   ]
  },
  {
   "cell_type": "code",
   "execution_count": null,
   "metadata": {},
   "outputs": [],
   "source": [
    "ak.connect(\"n117\", 5555)\n",
    "ak.client.maxTransferBytes *= 2"
   ]
  },
  {
   "cell_type": "code",
   "execution_count": 3,
   "metadata": {},
   "outputs": [],
   "source": [
    "connectome_edges = ak.read(\"/scratch/users/oaa9/experimentation/data/connectome/h01/edges*\")\n",
    "connectome_edges = ak.DataFrame(connectome_edges)"
   ]
  },
  {
   "cell_type": "code",
   "execution_count": 4,
   "metadata": {},
   "outputs": [],
   "source": [
    "graph = ar.PropGraph()\n",
    "graph.load_edge_attributes(connectome_edges, source_column=\"src_neuron_id\", destination_column=\"dst_neuron_id\")"
   ]
  },
  {
   "cell_type": "code",
   "execution_count": 5,
   "metadata": {},
   "outputs": [],
   "source": [
    "num_nodes = len(graph)\n",
    "num_edges = graph.size()"
   ]
  },
  {
   "cell_type": "code",
   "execution_count": 6,
   "metadata": {},
   "outputs": [],
   "source": [
    "P_Alpha = 0.6\n",
    "P_Beta = 0.4\n",
    "node_lbl_probs = {\n",
    "    \"lbls2\": [P_Alpha, P_Beta],  # Probabilities for integers 10 and 11\n",
    "    \"lbls3\": [P_Alpha, P_Beta]   # Probabilities for True and False\n",
    "}\n",
    "edge_rel_probs = {\n",
    "    \"rels1\": [P_Alpha, P_Beta],  # Probabilities for integers 5 and 6\n",
    "    \"rels2\": [P_Alpha, P_Beta]   # Probabilities for True and False\n",
    "}"
   ]
  },
  {
   "cell_type": "code",
   "execution_count": 7,
   "metadata": {},
   "outputs": [],
   "source": [
    "# Randomly generate node attributes.\n",
    "node_lbls2 = ak.where(ak.randint(0, 100, num_nodes) < node_lbl_probs[\"lbls2\"][0] * 100, 10, 11)\n",
    "node_lbls3 = ak.randint(0, 100, num_nodes) < node_lbl_probs[\"lbls3\"][0] * 100\n",
    "\n",
    "# Randomly generate edge attributes\n",
    "edge_rels1 = ak.where(ak.randint(0, 100, num_edges) < edge_rel_probs[\"rels1\"][0] * 100, 5, 6)\n",
    "edge_rels2 = ak.randint(0, 100, num_edges) < edge_rel_probs[\"rels2\"][0] * 100"
   ]
  },
  {
   "cell_type": "code",
   "execution_count": null,
   "metadata": {},
   "outputs": [],
   "source": [
    "# Create edge dataframe.\n",
    "edge_df = ak.DataFrame({\n",
    "    \"src\": graph.edge_attributes[\"src_neuron_id\"],\n",
    "    \"dst\": graph.edge_attributes[\"dst_neuron_id\"],\n",
    "    \"rels1\": edge_rels1,\n",
    "    \"rels2\": edge_rels2\n",
    "})\n",
    "\n",
    "# Create node dataframe.\n",
    "node_df = ak.DataFrame({\n",
    "    \"nodes\": graph.nodes(),\n",
    "    \"lbls2\": node_lbls2,\n",
    "    \"lbls3\": node_lbls3\n",
    "})"
   ]
  },
  {
   "cell_type": "code",
   "execution_count": null,
   "metadata": {},
   "outputs": [],
   "source": [
    "graph = ar.PropGraph()\n",
    "graph.load_edge_attributes(edge_df, source_column=\"src\", destination_column=\"dst\")\n",
    "graph.load_node_attributes(node_df, node_column=\"nodes\")"
   ]
  },
  {
   "cell_type": "code",
   "execution_count": 12,
   "metadata": {},
   "outputs": [],
   "source": [
    "def save_graph_to_csv(graph, file_name):\n",
    "    \"\"\"\n",
    "    Save a graph in CSV format with directed edges and optional labels.\n",
    "    :param graph: Arachne property graph.\n",
    "    :param file_name: Output CSV file name.\n",
    "    \"\"\"\n",
    "    # Extract internal edges and attributes\n",
    "    internal_src, internal_dst = graph._internal_edges()\n",
    "    src = internal_src.to_list()\n",
    "    dst = internal_dst.to_list()\n",
    "\n",
    "    # Extract edge attributes\n",
    "    graph_edge_attributes = graph.get_edge_attributes()\n",
    "    edge_df = graph_edge_attributes.to_pandas()\n",
    "    edge_rels1 = edge_df['rels1'] if 'rels1' in edge_df.columns else None\n",
    "    edge_rels2 = edge_df['rels2'] if 'rels2' in edge_df.columns else None\n",
    "    \n",
    "    with open(file_name, \"w\") as f:\n",
    "        print(\"Writing edge data\")\n",
    "        for i in range(len(src)):\n",
    "            if edge_rels1 is not None and edge_rels2 is not None:\n",
    "                f.write(f\"{src[i]}>{dst[i]},{edge_rels1[i]},{edge_rels2[i]}\\n\")\n",
    "            else:\n",
    "                f.write(f\"{src[i]}>{dst[i]}\\n\")\n",
    "\n",
    "        print(\"Writing node data...\")\n",
    "        graph_node_attributes = graph.get_node_attributes()\n",
    "        if graph_node_attributes.size > 0:\n",
    "            node_df = graph_node_attributes.to_pandas()\n",
    "            for index, row in node_df.iterrows():\n",
    "                f.write(f\"{index},,{row['lbls2']},{row['lbls3']}\\n\")\n",
    "        else:\n",
    "            # Use default labels if no node attributes are available\n",
    "            unique_nodes = sorted(set(src).union(dst))\n",
    "            for node in unique_nodes:\n",
    "                f.write(f\"{node},,\\n\")\n",
    "\n",
    "    print(f\"Graph saved to {file_name}\")"
   ]
  },
  {
   "cell_type": "code",
   "execution_count": null,
   "metadata": {},
   "outputs": [],
   "source": [
    "save_graph_to_csv(graph, \"H01.csv\")"
   ]
  }
 ],
 "metadata": {
  "kernelspec": {
   "display_name": "arkouda-dev",
   "language": "python",
   "name": "python3"
  },
  "language_info": {
   "codemirror_mode": {
    "name": "ipython",
    "version": 3
   },
   "file_extension": ".py",
   "mimetype": "text/x-python",
   "name": "python",
   "nbconvert_exporter": "python",
   "pygments_lexer": "ipython3",
   "version": "3.10.12"
  }
 },
 "nbformat": 4,
 "nbformat_minor": 2
}
