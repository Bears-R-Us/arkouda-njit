{
 "cells": [
  {
   "cell_type": "code",
   "execution_count": 6,
   "id": "90900732",
   "metadata": {},
   "outputs": [
    {
     "name": "stderr",
     "output_type": "stream",
     "text": [
      "connected to arkouda server tcp://*:5555\n"
     ]
    },
    {
     "name": "stdout",
     "output_type": "stream",
     "text": [
      "networkx graph generation....\n",
      "Building property graph with 10000 vertices and 49880 edges took 0.0 seconds.\n",
      "Property graph created with random node and edge attributes.\n",
      "num_edges =  49880\n",
      "\n"
     ]
    }
   ],
   "source": [
    "import arkouda as ak\n",
    "import arachne as ar\n",
    "import scipy as sp\n",
    "import networkx as nx\n",
    "import matplotlib.pyplot as plt\n",
    "import os\n",
    "import time\n",
    "\n",
    "ak.connect(\"n81\", 5555)\n",
    "p = 0.0005\n",
    "num_nodes = 10_000\n",
    "\n",
    "# Generate graph using NetworkX\n",
    "graph = nx.gnp_random_graph(num_nodes, p, directed=True, seed=42)\n",
    "src_list, dst_list = zip(*graph.edges())\n",
    "src_ak = ak.array(src_list)\n",
    "dst_ak = ak.array(dst_list)\n",
    "\n",
    "start = time.time()\n",
    "temp_prop_graph = ar.PropGraph()\n",
    "end = time.time()\n",
    "build_time = end - start\n",
    "print(\"networkx graph generation....\")\n",
    "print(f\"Building property graph with {num_nodes} vertices and \"\n",
    "      f\"{len(src_list)} edges took {round(build_time,2)} seconds.\")\n",
    "\n",
    "### Generate node labels and edge relationships for the graph.\n",
    "# 1. Extract node and edge information.\n",
    "num_edges = len(src_list)\n",
    "edges = (src_ak, dst_ak)\n",
    "nodes = ak.arange(num_nodes)\n",
    "\n",
    "##############################################\n",
    "# NEW SECTION: Generate random node and edge attributes\n",
    "##############################################\n",
    "\n",
    "# For nodes:\n",
    "# 2.1. Categorical from [\"blue\", \"red\", \"yellow\"]\n",
    "# colors = ak.array([\"blue\", \"red\", \"yellow\"])\n",
    "# node_colors = colors[ak.randint(0, len(colors), num_nodes)]\n",
    "\n",
    "# 2.2. Integer from 10 to 12 (inclusive)\n",
    "node_ints = ak.randint(10, 13, num_nodes)\n",
    "\n",
    "# 2.3. Boolean from [False, True]\n",
    "node_bools = ak.randint(0, 2, num_nodes, dtype=ak.bool)\n",
    "\n",
    "# For edges:\n",
    "# 2.4. Randomly choose from [5, 10]\n",
    "edge_ints = ak.randint(5, 11, num_edges)\n",
    "\n",
    "##############################################\n",
    "# Create dataframes with the new attributes\n",
    "##############################################\n",
    "\n",
    "edge_df = ak.DataFrame({\n",
    "    \"src\": edges[0],\n",
    "    \"dst\": edges[1],\n",
    "    \"edge_attr\": edge_ints\n",
    "})\n",
    "\n",
    "node_df = ak.DataFrame({\n",
    "    \"nodes\": nodes,\n",
    "    # \"color\": node_colors,\n",
    "    \"int_attr\": node_ints,\n",
    "    \"bool_attr\": node_bools\n",
    "})\n",
    "\n",
    "##############################################\n",
    "# Create the new property graph with these attributes\n",
    "##############################################\n",
    "\n",
    "prop_graph = ar.PropGraph()\n",
    "prop_graph.load_edge_attributes(edge_df, source_column=\"src\", destination_column=\"dst\")\n",
    "prop_graph.load_node_attributes(node_df, node_column=\"nodes\")\n",
    "print(\"Property graph created with random node and edge attributes.\")\n",
    "print(\"num_edges = \", num_edges)\n",
    "print(\"\")\n",
    "\n"
   ]
  },
  {
   "cell_type": "code",
   "execution_count": 7,
   "id": "5072c03c",
   "metadata": {},
   "outputs": [
    {
     "name": "stdout",
     "output_type": "stream",
     "text": [
      "Subgraph created with fixed node and edge attributes.\n",
      " Run Arachne....\n"
     ]
    }
   ],
   "source": [
    "### Create the subgraph we are searching for.\n",
    "\n",
    "src_list = [2, 3, 1, 3]\n",
    "dst_list = [3, 1, 2, 0]\n",
    "\n",
    "src_subgraph = ak.array(src_list)\n",
    "dst_subgraph = ak.array(dst_list)\n",
    "\n",
    "subgraph_nodes = list(set(src_list) | set(dst_list))\n",
    "subgraph_nodes.sort()\n",
    "\n",
    "# Generate random node and edge attributes for the subgraph\n",
    "num_subgraph_nodes = len(subgraph_nodes)\n",
    "num_subgraph_edges = len(src_list)\n",
    "\n",
    "subgraph_node_ints = ak.array([11]*num_subgraph_nodes)\n",
    "subgraph_node_bools = ak.array([False]*num_subgraph_nodes)\n",
    "subgraph_edge_ints = ak.array([6]*num_subgraph_edges)\n",
    "subgraph_edge_bools = ak.array([False]*num_subgraph_edges)\n",
    "\n",
    "# Create dataframes for subgraph attributes\n",
    "edge_df_h = ak.DataFrame({\n",
    "    \"src\": src_subgraph,\n",
    "    \"dst\": dst_subgraph,\n",
    "    \"rels1\": subgraph_edge_ints,\n",
    "    \"rels2\": subgraph_edge_bools\n",
    "})\n",
    "\n",
    "node_df_h = ak.DataFrame({\n",
    "    \"nodes\": ak.array(subgraph_nodes),\n",
    "    \"lbls2\": subgraph_node_ints,\n",
    "    \"lbls3\": subgraph_node_bools\n",
    "})\n",
    "\n",
    "# Create the subgraph with these attributes\n",
    "subgraph = ar.PropGraph()\n",
    "subgraph.load_edge_attributes(edge_df_h, source_column=\"src\", destination_column=\"dst\")\n",
    "subgraph.load_node_attributes(node_df_h, node_column=\"nodes\")\n",
    "\n",
    "\n",
    "\n",
    "print(\"Subgraph created with fixed node and edge attributes.\")\n",
    "print(\" Run Arachne....\")"
   ]
  },
  {
   "cell_type": "code",
   "execution_count": 8,
   "id": "9af73a0d",
   "metadata": {},
   "outputs": [
    {
     "name": "stdout",
     "output_type": "stream",
     "text": [
      "We found 0.0 monos inside of the graph\n",
      "We found 0.0 monos inside of the graph.\n"
     ]
    }
   ],
   "source": [
    "\"\"\"VF2-SI \"\"\"\n",
    "\n",
    "isos_as_vertices = ar.subgraph_isomorphism(prop_graph, subgraph, \n",
    "                                           semantic_check = \"and\", algorithm_type = \"si\",\n",
    "                                           reorder_type = \"structural\", return_isos_as = \"vertices\")\n",
    "\n",
    "print(f\"We found {len(isos_as_vertices[0])/len(subgraph)} monos inside of the graph\")\n",
    "\n",
    "\n",
    "# Print results\n",
    "num_monos = len(isos_as_vertices[0]) / len(subgraph) if len(subgraph) > 0 else 0\n",
    "print(f\"We found {num_monos} monos inside of the graph.\")"
   ]
  }
 ],
 "metadata": {
  "kernelspec": {
   "display_name": "arkouda-dev",
   "language": "python",
   "name": "python3"
  },
  "language_info": {
   "codemirror_mode": {
    "name": "ipython",
    "version": 3
   },
   "file_extension": ".py",
   "mimetype": "text/x-python",
   "name": "python",
   "nbconvert_exporter": "python",
   "pygments_lexer": "ipython3",
   "version": "3.10.13"
  }
 },
 "nbformat": 4,
 "nbformat_minor": 5
}
