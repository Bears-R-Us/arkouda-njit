{
 "cells": [
  {
   "cell_type": "code",
   "execution_count": 38,
   "metadata": {},
   "outputs": [
    {
     "name": "stderr",
     "output_type": "stream",
     "text": [
      "connected to arkouda server tcp://*:5555\n"
     ]
    },
    {
     "name": "stdout",
     "output_type": "stream",
     "text": [
      "Arkouda server running with 1L and 128PUs.\n",
      "Index(['roi', 'weight', 'src', 'dst'], dtype='<U0')\n",
      "Property graph created with fixed node (lbls2=10, lbls3=True) and edge attributes (rels1=5, rels2=True).\n",
      "Data loaded now we are loading the subraph....\n"
     ]
    }
   ],
   "source": [
    "import arkouda as ak\n",
    "import arachne as ar\n",
    "import pandas as pd\n",
    "import time as time\n",
    "import networkx as nx\n",
    "import random\n",
    "import argparse\n",
    "\n",
    "ak.connect(\"n116\", 5555)\n",
    "\n",
    "### Get Arkouda server configuration information.\n",
    "config = ak.get_config()\n",
    "num_locales = config[\"numLocales\"]\n",
    "num_pus = config[\"numPUs\"]\n",
    "print(f\"Arkouda server running with {num_locales}L and {num_pus}PUs.\")\n",
    "\n",
    "# Probabilities for node and edge attributes\n",
    "P_Alpha = 0.55\n",
    "P_Beta = 0.45\n",
    "node_lbl_probs = {\n",
    "    \"lbls2\": [P_Alpha, P_Beta],  # Probabilities for integers 10 and 11\n",
    "    \"lbls3\": [P_Alpha, P_Beta]   # Probabilities for True and False\n",
    "}\n",
    "edge_rel_probs = {\n",
    "    \"rels1\": [P_Alpha, P_Beta],  # Probabilities for integers 5 and 6\n",
    "    \"rels2\": [P_Alpha, P_Beta]   # Probabilities for True and False\n",
    "}\n",
    "    \n",
    "# with all 0.8, 0.2 and subgraph 11 and False and 6 and False we have 1 ISO\n",
    "\n",
    "hemibrain_traced_roi_connections = pd.read_csv(\"/scratch/users/oaa9/experimentation/data/connectome/hemibrain/exported-traced-adjacencies-v1.2/traced-roi-connections.csv\")\n",
    "# hemibrain_traced_roi_connections\n",
    "# hemibrain_traced_roi_connections['type'] = 'T1'\n",
    "# hemibrain_traced_roi_connections\n",
    "\n",
    "neuron_dfs_in_pandas = [hemibrain_traced_roi_connections]\n",
    "neuron_dfs_in_arkouda = [ak.DataFrame(pd_df) for pd_df in neuron_dfs_in_pandas]\n",
    "\n",
    "ak_hemibrain_traced_roi_connections = neuron_dfs_in_arkouda[0]\n",
    "\n",
    "ak_hemibrain_traced_roi_connections_gb = ak_hemibrain_traced_roi_connections.groupby([\"bodyId_pre\", \"bodyId_post\"])\n",
    "ak_hemibrain_traced_roi_connections_sorted = ak_hemibrain_traced_roi_connections[ak_hemibrain_traced_roi_connections_gb.permutation[ak_hemibrain_traced_roi_connections_gb.segments]]\n",
    "#ak_hemibrain_traced_roi_connections_sorted\n",
    "\n",
    "  \n",
    "\n",
    "ak_hemibrain_traced_roi_connections_sorted['src'] = ak_hemibrain_traced_roi_connections_sorted['bodyId_pre']\n",
    "del ak_hemibrain_traced_roi_connections_sorted['bodyId_pre']  # Remove the original column\n",
    "\n",
    "ak_hemibrain_traced_roi_connections_sorted['dst'] = ak_hemibrain_traced_roi_connections_sorted['bodyId_post']\n",
    "del ak_hemibrain_traced_roi_connections_sorted['bodyId_post']  # Remove the original column\n",
    "\n",
    "print(ak_hemibrain_traced_roi_connections_sorted.columns)\n",
    "\n",
    "# Collect all unique nodes from src and dst\n",
    "src_list = ak_hemibrain_traced_roi_connections_sorted['src'].to_ndarray().tolist()\n",
    "dst_list = ak_hemibrain_traced_roi_connections_sorted['dst'].to_ndarray().tolist()\n",
    "all_nodes = list(set(src_list) | set(dst_list))\n",
    "all_nodes.sort()\n",
    "\n",
    "# Generate attributes\n",
    "num_nodes = len(all_nodes)\n",
    "num_edges = len(src_list)\n",
    "\n",
    "# node_lbls2 = ak.array([10] * num_nodes)  # lbls2 set to 10\n",
    "# node_lbls3 = ak.array([True] * num_nodes)  # lbls3 set to True\n",
    "# edge_rels1 = ak.array([5] * num_edges)  # rels1 set to 5\n",
    "# edge_rels2 = ak.array([True] * num_edges)  # rels2 set to True\n",
    "\n",
    "# Randomly generate node attributes\n",
    "node_lbls2 = ak.where(\n",
    "        ak.randint(0, 100, num_nodes) < node_lbl_probs[\"lbls2\"][0] * 100, 10, 11\n",
    ")\n",
    "node_lbls3 = ak.randint(0, 100, num_nodes) < node_lbl_probs[\"lbls3\"][0] * 100\n",
    "\n",
    "# Randomly generate edge attributes\n",
    "edge_rels1 = ak.where(\n",
    "    ak.randint(0, 100, num_edges) < edge_rel_probs[\"rels1\"][0] * 100, 5, 6\n",
    ")\n",
    "edge_rels2 = ak.randint(0, 100, num_edges) < edge_rel_probs[\"rels2\"][0] * 100\n",
    "\n",
    "\n",
    "# Create dataframes\n",
    "edge_df = ak.DataFrame({\n",
    "    \"src\": ak.array(src_list),\n",
    "    \"dst\": ak.array(dst_list),\n",
    "    \"rels1\": edge_rels1,\n",
    "    \"rels2\": edge_rels2\n",
    "})\n",
    "\n",
    "node_df = ak.DataFrame({\n",
    "    \"nodes\": ak.array(all_nodes),\n",
    "    \"lbls2\": node_lbls2,\n",
    "    \"lbls3\": node_lbls3\n",
    "})\n",
    "\n",
    "# Create the property graph\n",
    "prop_graph = ar.PropGraph()\n",
    "prop_graph.load_edge_attributes(edge_df, source_column=\"src\", destination_column=\"dst\")\n",
    "prop_graph.load_node_attributes(node_df, node_column=\"nodes\")\n",
    "\n",
    "print(\"Property graph created with fixed node (lbls2=10, lbls3=True) and edge attributes (rels1=5, rels2=True).\")\n",
    "\n",
    "\n",
    "print(\"Data loaded now we are loading the subraph....\")\n",
    "\n",
    "\n"
   ]
  },
  {
   "cell_type": "code",
   "execution_count": 39,
   "metadata": {},
   "outputs": [
    {
     "name": "stdout",
     "output_type": "stream",
     "text": [
      "Subgraph created with fixed node and edge attributes.\n",
      " Run Arachne....\n"
     ]
    }
   ],
   "source": [
    "src_list = [0, 2]\n",
    "dst_list = [1, 1]\n",
    "src_subgraph = ak.array(src_list)\n",
    "dst_subgraph = ak.array(dst_list)\n",
    "\n",
    "subgraph_nodes = list(set(src_list) | set(dst_list))\n",
    "subgraph_nodes.sort()\n",
    "\n",
    "# Generate random node and edge attributes for the subgraph\n",
    "num_subgraph_nodes = len(subgraph_nodes)\n",
    "num_subgraph_edges = len(src_list)\n",
    "\n",
    "subgraph_node_ints = ak.array([11]*num_subgraph_nodes)\n",
    "subgraph_node_bools = ak.array([False]*num_subgraph_nodes)\n",
    "subgraph_edge_ints = ak.array([6]*num_subgraph_edges)\n",
    "subgraph_edge_bools = ak.array([False]*num_subgraph_edges)\n",
    "\n",
    "# Create dataframes for subgraph attributes\n",
    "edge_df_h = ak.DataFrame({\n",
    "    \"src\": src_subgraph,\n",
    "    \"dst\": dst_subgraph,\n",
    "    \"rels1\": subgraph_edge_ints,\n",
    "    \"rels2\": subgraph_edge_bools\n",
    "})\n",
    "\n",
    "node_df_h = ak.DataFrame({\n",
    "    \"nodes\": ak.array(subgraph_nodes),\n",
    "    \"lbls2\": subgraph_node_ints,\n",
    "    \"lbls3\": subgraph_node_bools\n",
    "})\n",
    "\n",
    "# Create the subgraph with these attributes\n",
    "subgraph = ar.PropGraph()\n",
    "subgraph.load_edge_attributes(edge_df_h, source_column=\"src\", destination_column=\"dst\")\n",
    "subgraph.load_node_attributes(node_df_h, node_column=\"nodes\")\n",
    "\n",
    "\n",
    "\n",
    "print(\"Subgraph created with fixed node and edge attributes.\")\n",
    "print(\" Run Arachne....\")"
   ]
  },
  {
   "cell_type": "code",
   "execution_count": 40,
   "metadata": {},
   "outputs": [
    {
     "name": "stdout",
     "output_type": "stream",
     "text": [
      "We found 0.0 monos inside of the graph\n"
     ]
    }
   ],
   "source": [
    "\"\"\"VF2-SI \"\"\"\n",
    "isos_as_vertices = ar.subgraph_isomorphism(prop_graph, subgraph, \n",
    "                                           semantic_check = \"and\", algorithm_type = \"si\",\n",
    "                                           reorder_type = \"structural\", return_isos_as = \"vertices\")\n",
    "\n",
    "print(f\"We found {len(isos_as_vertices[0])/len(subgraph)} monos inside of the graph\")"
   ]
  },
  {
   "cell_type": "code",
   "execution_count": 36,
   "metadata": {},
   "outputs": [
    {
     "name": "stdout",
     "output_type": "stream",
     "text": [
      "We found 312236.0 monos inside of the graph\n"
     ]
    }
   ],
   "source": [
    "\"\"\"VF2-SI PROBABILITY-MVE\"\"\"\n",
    "isos_as_vertices = ar.subgraph_isomorphism(prop_graph, subgraph, \n",
    "                                           semantic_check = \"and\", algorithm_type = \"si\",\n",
    "                                           reorder_type = \"probability\", return_isos_as = \"vertices\")\n",
    "\n",
    "print(f\"We found {len(isos_as_vertices[0])/len(subgraph)} monos inside of the graph\")"
   ]
  },
  {
   "cell_type": "code",
   "execution_count": 15,
   "metadata": {},
   "outputs": [
    {
     "name": "stdout",
     "output_type": "stream",
     "text": [
      "We found 327050.0 monos inside of the graph\n"
     ]
    }
   ],
   "source": [
    "\"\"\"VF2-PS DEFAULT\"\"\"\n",
    "isos_as_vertices = ar.subgraph_isomorphism(prop_graph, subgraph, \n",
    "                                           semantic_check = \"and\", algorithm_type = \"ps\", \n",
    "                                           reorder_type = None, return_isos_as = \"vertices\")\n",
    "\n",
    "print(f\"We found {len(isos_as_vertices[0])/len(subgraph)} monos inside of the graph\")\n",
    "#print(isos_as_vertices)"
   ]
  },
  {
   "cell_type": "code",
   "execution_count": null,
   "metadata": {},
   "outputs": [],
   "source": [
    "# Print property graph DataFrames\n",
    "print(\"Property Graph Edges:\")\n",
    "print(edge_df)\n",
    "print(\"\\nProperty Graph Nodes:\")\n",
    "print(node_df)\n",
    "\n",
    "# Print subgraph DataFrames\n",
    "print(\"\\nSubgraph Edges:\")\n",
    "print(edge_df_h)\n",
    "print(\"\\nSubgraph Nodes:\")\n",
    "print(node_df_h)"
   ]
  }
 ],
 "metadata": {
  "kernelspec": {
   "display_name": "arkouda-dev",
   "language": "python",
   "name": "python3"
  },
  "language_info": {
   "codemirror_mode": {
    "name": "ipython",
    "version": 3
   },
   "file_extension": ".py",
   "mimetype": "text/x-python",
   "name": "python",
   "nbconvert_exporter": "python",
   "pygments_lexer": "ipython3",
   "version": "3.10.13"
  }
 },
 "nbformat": 4,
 "nbformat_minor": 2
}
