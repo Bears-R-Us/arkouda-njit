{
 "cells": [
  {
   "cell_type": "code",
   "execution_count": 1,
   "metadata": {},
   "outputs": [
    {
     "name": "stdout",
     "output_type": "stream",
     "text": [
      "    _         _                   _       \n",
      "   / \\   _ __| | _____  _   _  __| | __ _ \n",
      "  / _ \\ | '__| |/ / _ \\| | | |/ _` |/ _` |\n",
      " / ___ \\| |  |   < (_) | |_| | (_| | (_| |\n",
      "/_/   \\_\\_|  |_|\\_\\___/ \\__,_|\\__,_|\\__,_|\n",
      "                                          \n",
      "\n",
      "Client Version: v2023.11.15\n"
     ]
    }
   ],
   "source": [
    "import arkouda as ak\n",
    "import arachne as ar"
   ]
  },
  {
   "cell_type": "code",
   "execution_count": 2,
   "metadata": {},
   "outputs": [
    {
     "name": "stderr",
     "output_type": "stream",
     "text": [
      "connected to arkouda server tcp://*:5555\n"
     ]
    }
   ],
   "source": [
    "# NOTE: Make sure to change the server to the appropriate name.\n",
    "ak.connect(\"n51\", 5555)"
   ]
  },
  {
   "cell_type": "code",
   "execution_count": 3,
   "id": "78d1993d",
   "metadata": {},
   "outputs": [],
   "source": [
    "n = 1_000_000\n",
    "m = 1_000_000_000\n",
    "k = 2"
   ]
  },
  {
   "cell_type": "code",
   "execution_count": 4,
   "id": "5d0712b5",
   "metadata": {},
   "outputs": [],
   "source": [
    "src_array = ak.randint(0, n, m, dtype=ak.dtype('int64'), seed=2)\n",
    "dst_array = ak.randint(0, n, m, dtype=ak.dtype('int64'), seed=4)\n",
    "int_array = ak.randint(-1, k, m, dtype=ak.dtype('int64'), seed=6)\n",
    "uint_array = ak.randint(0, k, m, dtype=ak.dtype('uint64'), seed=8)\n",
    "real_array = ak.randint(0, k, m, dtype=ak.dtype('float64'), seed=10)\n",
    "bool_array = ak.randint(0, k, m, dtype=ak.dtype('bool'), seed=12)\n",
    "strings_array = ak.random_strings_uniform(0, k, m, characters=\"abcdefghijklmonpqrstuvwxyz\", seed=14)"
   ]
  },
  {
   "cell_type": "code",
   "execution_count": 5,
   "id": "9c9b38b7",
   "metadata": {},
   "outputs": [],
   "source": [
    "prop_graph = ar.PropGraph()"
   ]
  },
  {
   "cell_type": "code",
   "execution_count": 6,
   "id": "af0f2c50",
   "metadata": {},
   "outputs": [],
   "source": [
    "test_edge_dict = {\n",
    "    \"src\":src_array,\n",
    "    \"dst\":dst_array,\n",
    "    \"data1\":int_array,\n",
    "    \"data2\":uint_array,\n",
    "    \"data3\":real_array,\n",
    "    \"data4\":bool_array,\n",
    "    \"data5\":strings_array\n",
    "}\n",
    "test_edge_df = ak.DataFrame(test_edge_dict)"
   ]
  },
  {
   "cell_type": "code",
   "execution_count": 7,
   "id": "ca0bbe6e",
   "metadata": {},
   "outputs": [],
   "source": [
    "prop_graph.load_edge_attributes(test_edge_df, source_column=\"src\", destination_column=\"dst\", relationship_columns=[\"data5\", \"data1\"])"
   ]
  },
  {
   "cell_type": "code",
   "execution_count": 8,
   "id": "8b8d7246",
   "metadata": {},
   "outputs": [
    {
     "data": {
      "text/html": [
       "<div>\n",
       "<style scoped>\n",
       "    .dataframe tbody tr th:only-of-type {\n",
       "        vertical-align: middle;\n",
       "    }\n",
       "\n",
       "    .dataframe tbody tr th {\n",
       "        vertical-align: top;\n",
       "    }\n",
       "\n",
       "    .dataframe thead th {\n",
       "        text-align: right;\n",
       "    }\n",
       "</style>\n",
       "<table border=\"1\" class=\"dataframe\">\n",
       "  <thead>\n",
       "    <tr style=\"text-align: right;\">\n",
       "      <th></th>\n",
       "      <th>src</th>\n",
       "      <th>dst</th>\n",
       "      <th>data1</th>\n",
       "      <th>data2</th>\n",
       "      <th>data3</th>\n",
       "      <th>data4</th>\n",
       "      <th>data5</th>\n",
       "    </tr>\n",
       "  </thead>\n",
       "  <tbody>\n",
       "    <tr>\n",
       "      <th>0</th>\n",
       "      <td>0</td>\n",
       "      <td>266</td>\n",
       "      <td>1</td>\n",
       "      <td>0</td>\n",
       "      <td>0.640015</td>\n",
       "      <td>True</td>\n",
       "      <td>0</td>\n",
       "    </tr>\n",
       "    <tr>\n",
       "      <th>1</th>\n",
       "      <td>0</td>\n",
       "      <td>1013</td>\n",
       "      <td>-1</td>\n",
       "      <td>0</td>\n",
       "      <td>1.057109</td>\n",
       "      <td>True</td>\n",
       "      <td>0</td>\n",
       "    </tr>\n",
       "    <tr>\n",
       "      <th>2</th>\n",
       "      <td>0</td>\n",
       "      <td>2806</td>\n",
       "      <td>1</td>\n",
       "      <td>0</td>\n",
       "      <td>0.569387</td>\n",
       "      <td>False</td>\n",
       "      <td>9</td>\n",
       "    </tr>\n",
       "    <tr>\n",
       "      <th>3</th>\n",
       "      <td>0</td>\n",
       "      <td>3646</td>\n",
       "      <td>0</td>\n",
       "      <td>0</td>\n",
       "      <td>1.829369</td>\n",
       "      <td>False</td>\n",
       "      <td>4</td>\n",
       "    </tr>\n",
       "    <tr>\n",
       "      <th>4</th>\n",
       "      <td>0</td>\n",
       "      <td>3686</td>\n",
       "      <td>1</td>\n",
       "      <td>1</td>\n",
       "      <td>1.348952</td>\n",
       "      <td>False</td>\n",
       "      <td>0</td>\n",
       "    </tr>\n",
       "    <tr>\n",
       "      <th>...</th>\n",
       "      <td>...</td>\n",
       "      <td>...</td>\n",
       "      <td>...</td>\n",
       "      <td>...</td>\n",
       "      <td>...</td>\n",
       "      <td>...</td>\n",
       "      <td>...</td>\n",
       "    </tr>\n",
       "    <tr>\n",
       "      <th>999499340</th>\n",
       "      <td>999999</td>\n",
       "      <td>994687</td>\n",
       "      <td>1</td>\n",
       "      <td>1</td>\n",
       "      <td>1.390592</td>\n",
       "      <td>True</td>\n",
       "      <td>0</td>\n",
       "    </tr>\n",
       "    <tr>\n",
       "      <th>999499341</th>\n",
       "      <td>999999</td>\n",
       "      <td>995598</td>\n",
       "      <td>0</td>\n",
       "      <td>0</td>\n",
       "      <td>1.099502</td>\n",
       "      <td>True</td>\n",
       "      <td>4</td>\n",
       "    </tr>\n",
       "    <tr>\n",
       "      <th>999499342</th>\n",
       "      <td>999999</td>\n",
       "      <td>996090</td>\n",
       "      <td>1</td>\n",
       "      <td>0</td>\n",
       "      <td>0.252629</td>\n",
       "      <td>False</td>\n",
       "      <td>0</td>\n",
       "    </tr>\n",
       "    <tr>\n",
       "      <th>999499343</th>\n",
       "      <td>999999</td>\n",
       "      <td>996867</td>\n",
       "      <td>-1</td>\n",
       "      <td>0</td>\n",
       "      <td>0.460681</td>\n",
       "      <td>True</td>\n",
       "      <td>6</td>\n",
       "    </tr>\n",
       "    <tr>\n",
       "      <th>999499344</th>\n",
       "      <td>999999</td>\n",
       "      <td>999426</td>\n",
       "      <td>0</td>\n",
       "      <td>0</td>\n",
       "      <td>1.787682</td>\n",
       "      <td>True</td>\n",
       "      <td>0</td>\n",
       "    </tr>\n",
       "  </tbody>\n",
       "</table>\n",
       "</div><p>999499345 rows x 7 columns</p>"
      ],
      "text/plain": [
       "              src     dst  data1  data2     data3  data4  data5\n",
       "0               0     266      1      0  0.640015   True      0\n",
       "1               0    1013     -1      0  1.057109   True      0\n",
       "2               0    2806      1      0  0.569387  False      9\n",
       "3               0    3646      0      0  1.829369  False      4\n",
       "4               0    3686      1      1  1.348952  False      0\n",
       "...           ...     ...    ...    ...       ...    ...    ...\n",
       "999499340  999999  994687      1      1  1.390592   True      0\n",
       "999499341  999999  995598      0      0  1.099502   True      4\n",
       "999499342  999999  996090      1      0  0.252629  False      0\n",
       "999499343  999999  996867     -1      0  0.460681   True      6\n",
       "999499344  999999  999426      0      0  1.787682   True      0 (999499345 rows x 7 columns)"
      ]
     },
     "execution_count": 8,
     "metadata": {},
     "output_type": "execute_result"
    }
   ],
   "source": [
    "prop_graph.get_edge_attributes()"
   ]
  },
  {
   "cell_type": "code",
   "execution_count": 9,
   "id": "b6c3ae3b",
   "metadata": {},
   "outputs": [
    {
     "data": {
      "text/html": [
       "<div>\n",
       "<style scoped>\n",
       "    .dataframe tbody tr th:only-of-type {\n",
       "        vertical-align: middle;\n",
       "    }\n",
       "\n",
       "    .dataframe tbody tr th {\n",
       "        vertical-align: top;\n",
       "    }\n",
       "\n",
       "    .dataframe thead th {\n",
       "        text-align: right;\n",
       "    }\n",
       "</style>\n",
       "<table border=\"1\" class=\"dataframe\">\n",
       "  <thead>\n",
       "    <tr style=\"text-align: right;\">\n",
       "      <th></th>\n",
       "      <th>src</th>\n",
       "      <th>dst</th>\n",
       "      <th>data5</th>\n",
       "      <th>data1</th>\n",
       "    </tr>\n",
       "  </thead>\n",
       "  <tbody>\n",
       "    <tr>\n",
       "      <th>0</th>\n",
       "      <td>0</td>\n",
       "      <td>266</td>\n",
       "      <td>0</td>\n",
       "      <td>1</td>\n",
       "    </tr>\n",
       "    <tr>\n",
       "      <th>1</th>\n",
       "      <td>0</td>\n",
       "      <td>1013</td>\n",
       "      <td>0</td>\n",
       "      <td>-1</td>\n",
       "    </tr>\n",
       "    <tr>\n",
       "      <th>2</th>\n",
       "      <td>0</td>\n",
       "      <td>2806</td>\n",
       "      <td>9</td>\n",
       "      <td>1</td>\n",
       "    </tr>\n",
       "    <tr>\n",
       "      <th>3</th>\n",
       "      <td>0</td>\n",
       "      <td>3646</td>\n",
       "      <td>4</td>\n",
       "      <td>0</td>\n",
       "    </tr>\n",
       "    <tr>\n",
       "      <th>4</th>\n",
       "      <td>0</td>\n",
       "      <td>3686</td>\n",
       "      <td>0</td>\n",
       "      <td>1</td>\n",
       "    </tr>\n",
       "    <tr>\n",
       "      <th>...</th>\n",
       "      <td>...</td>\n",
       "      <td>...</td>\n",
       "      <td>...</td>\n",
       "      <td>...</td>\n",
       "    </tr>\n",
       "    <tr>\n",
       "      <th>999499340</th>\n",
       "      <td>999999</td>\n",
       "      <td>994687</td>\n",
       "      <td>0</td>\n",
       "      <td>1</td>\n",
       "    </tr>\n",
       "    <tr>\n",
       "      <th>999499341</th>\n",
       "      <td>999999</td>\n",
       "      <td>995598</td>\n",
       "      <td>4</td>\n",
       "      <td>0</td>\n",
       "    </tr>\n",
       "    <tr>\n",
       "      <th>999499342</th>\n",
       "      <td>999999</td>\n",
       "      <td>996090</td>\n",
       "      <td>0</td>\n",
       "      <td>1</td>\n",
       "    </tr>\n",
       "    <tr>\n",
       "      <th>999499343</th>\n",
       "      <td>999999</td>\n",
       "      <td>996867</td>\n",
       "      <td>6</td>\n",
       "      <td>-1</td>\n",
       "    </tr>\n",
       "    <tr>\n",
       "      <th>999499344</th>\n",
       "      <td>999999</td>\n",
       "      <td>999426</td>\n",
       "      <td>0</td>\n",
       "      <td>0</td>\n",
       "    </tr>\n",
       "  </tbody>\n",
       "</table>\n",
       "</div><p>999499345 rows x 4 columns</p>"
      ],
      "text/plain": [
       "              src     dst  data5  data1\n",
       "0               0     266      0      1\n",
       "1               0    1013      0     -1\n",
       "2               0    2806      9      1\n",
       "3               0    3646      4      0\n",
       "4               0    3686      0      1\n",
       "...           ...     ...    ...    ...\n",
       "999499340  999999  994687      0      1\n",
       "999499341  999999  995598      4      0\n",
       "999499342  999999  996090      0      1\n",
       "999499343  999999  996867      6     -1\n",
       "999499344  999999  999426      0      0 (999499345 rows x 4 columns)"
      ]
     },
     "execution_count": 9,
     "metadata": {},
     "output_type": "execute_result"
    }
   ],
   "source": [
    "prop_graph.get_edge_relationships()"
   ]
  },
  {
   "cell_type": "code",
   "execution_count": 10,
   "id": "e94bf24e",
   "metadata": {},
   "outputs": [],
   "source": [
    "m = len(prop_graph)\n",
    "k = 2"
   ]
  },
  {
   "cell_type": "code",
   "execution_count": 11,
   "id": "5dc37703",
   "metadata": {},
   "outputs": [],
   "source": [
    "int_array = ak.randint(-1, k, m, dtype=ak.dtype('int64'), seed=6)\n",
    "uint_array = ak.randint(0, k, m, dtype=ak.dtype('uint64'), seed=8)\n",
    "real_array = ak.randint(0, k, m, dtype=ak.dtype('float64'), seed=10)\n",
    "bool_array = ak.randint(0, k, m, dtype=ak.dtype('bool'), seed=12)\n",
    "strings_array = ak.random_strings_uniform(0, k, m, characters=\"abcdefghijklmonpqrstuvwxyz\", seed=14)"
   ]
  },
  {
   "cell_type": "code",
   "execution_count": 12,
   "id": "d849d4ce",
   "metadata": {},
   "outputs": [],
   "source": [
    "test_node_dict = {\n",
    "    \"nodes\":prop_graph.nodes(),\n",
    "    \"data1\":int_array,\n",
    "    \"data2\":uint_array,\n",
    "    \"data3\":real_array,\n",
    "    \"data4\":bool_array,\n",
    "    \"data5\":strings_array\n",
    "}\n",
    "test_node_df = ak.DataFrame(test_node_dict)"
   ]
  },
  {
   "cell_type": "code",
   "execution_count": 13,
   "id": "56581839",
   "metadata": {},
   "outputs": [],
   "source": [
    "prop_graph.load_node_attributes(test_node_df, node_column=\"nodes\", label_columns=[\"data5\", \"data2\"])"
   ]
  },
  {
   "cell_type": "code",
   "execution_count": 14,
   "id": "acdeada4",
   "metadata": {},
   "outputs": [
    {
     "data": {
      "text/html": [
       "<div>\n",
       "<style scoped>\n",
       "    .dataframe tbody tr th:only-of-type {\n",
       "        vertical-align: middle;\n",
       "    }\n",
       "\n",
       "    .dataframe tbody tr th {\n",
       "        vertical-align: top;\n",
       "    }\n",
       "\n",
       "    .dataframe thead th {\n",
       "        text-align: right;\n",
       "    }\n",
       "</style>\n",
       "<table border=\"1\" class=\"dataframe\">\n",
       "  <thead>\n",
       "    <tr style=\"text-align: right;\">\n",
       "      <th></th>\n",
       "      <th>nodes</th>\n",
       "      <th>data1</th>\n",
       "      <th>data2</th>\n",
       "      <th>data3</th>\n",
       "      <th>data4</th>\n",
       "      <th>data5</th>\n",
       "    </tr>\n",
       "  </thead>\n",
       "  <tbody>\n",
       "    <tr>\n",
       "      <th>0</th>\n",
       "      <td>0</td>\n",
       "      <td>0</td>\n",
       "      <td>0</td>\n",
       "      <td>0.638154</td>\n",
       "      <td>False</td>\n",
       "      <td>2</td>\n",
       "    </tr>\n",
       "    <tr>\n",
       "      <th>1</th>\n",
       "      <td>1</td>\n",
       "      <td>0</td>\n",
       "      <td>0</td>\n",
       "      <td>1.366654</td>\n",
       "      <td>False</td>\n",
       "      <td>12</td>\n",
       "    </tr>\n",
       "    <tr>\n",
       "      <th>2</th>\n",
       "      <td>2</td>\n",
       "      <td>0</td>\n",
       "      <td>1</td>\n",
       "      <td>0.887981</td>\n",
       "      <td>True</td>\n",
       "      <td>14</td>\n",
       "    </tr>\n",
       "    <tr>\n",
       "      <th>3</th>\n",
       "      <td>3</td>\n",
       "      <td>-1</td>\n",
       "      <td>0</td>\n",
       "      <td>1.219599</td>\n",
       "      <td>False</td>\n",
       "      <td>0</td>\n",
       "    </tr>\n",
       "    <tr>\n",
       "      <th>4</th>\n",
       "      <td>4</td>\n",
       "      <td>1</td>\n",
       "      <td>0</td>\n",
       "      <td>1.191131</td>\n",
       "      <td>True</td>\n",
       "      <td>17</td>\n",
       "    </tr>\n",
       "    <tr>\n",
       "      <th>...</th>\n",
       "      <td>...</td>\n",
       "      <td>...</td>\n",
       "      <td>...</td>\n",
       "      <td>...</td>\n",
       "      <td>...</td>\n",
       "      <td>...</td>\n",
       "    </tr>\n",
       "    <tr>\n",
       "      <th>999995</th>\n",
       "      <td>999995</td>\n",
       "      <td>1</td>\n",
       "      <td>0</td>\n",
       "      <td>1.663987</td>\n",
       "      <td>False</td>\n",
       "      <td>0</td>\n",
       "    </tr>\n",
       "    <tr>\n",
       "      <th>999996</th>\n",
       "      <td>999996</td>\n",
       "      <td>-1</td>\n",
       "      <td>0</td>\n",
       "      <td>0.781876</td>\n",
       "      <td>True</td>\n",
       "      <td>9</td>\n",
       "    </tr>\n",
       "    <tr>\n",
       "      <th>999997</th>\n",
       "      <td>999997</td>\n",
       "      <td>1</td>\n",
       "      <td>0</td>\n",
       "      <td>1.614944</td>\n",
       "      <td>False</td>\n",
       "      <td>0</td>\n",
       "    </tr>\n",
       "    <tr>\n",
       "      <th>999998</th>\n",
       "      <td>999998</td>\n",
       "      <td>1</td>\n",
       "      <td>0</td>\n",
       "      <td>0.226886</td>\n",
       "      <td>True</td>\n",
       "      <td>0</td>\n",
       "    </tr>\n",
       "    <tr>\n",
       "      <th>999999</th>\n",
       "      <td>999999</td>\n",
       "      <td>0</td>\n",
       "      <td>1</td>\n",
       "      <td>0.014557</td>\n",
       "      <td>True</td>\n",
       "      <td>0</td>\n",
       "    </tr>\n",
       "  </tbody>\n",
       "</table>\n",
       "</div><p>1000000 rows x 6 columns</p>"
      ],
      "text/plain": [
       "         nodes  data1  data2     data3  data4  data5\n",
       "0            0      0      0  0.638154  False      2\n",
       "1            1      0      0  1.366654  False     12\n",
       "2            2      0      1  0.887981   True     14\n",
       "3            3     -1      0  1.219599  False      0\n",
       "4            4      1      0  1.191131   True     17\n",
       "...        ...    ...    ...       ...    ...    ...\n",
       "999995  999995      1      0  1.663987  False      0\n",
       "999996  999996     -1      0  0.781876   True      9\n",
       "999997  999997      1      0  1.614944  False      0\n",
       "999998  999998      1      0  0.226886   True      0\n",
       "999999  999999      0      1  0.014557   True      0 (1000000 rows x 6 columns)"
      ]
     },
     "execution_count": 14,
     "metadata": {},
     "output_type": "execute_result"
    }
   ],
   "source": [
    "prop_graph.get_node_attributes()"
   ]
  },
  {
   "cell_type": "code",
   "execution_count": 15,
   "id": "b193b125",
   "metadata": {},
   "outputs": [
    {
     "data": {
      "text/html": [
       "<div>\n",
       "<style scoped>\n",
       "    .dataframe tbody tr th:only-of-type {\n",
       "        vertical-align: middle;\n",
       "    }\n",
       "\n",
       "    .dataframe tbody tr th {\n",
       "        vertical-align: top;\n",
       "    }\n",
       "\n",
       "    .dataframe thead th {\n",
       "        text-align: right;\n",
       "    }\n",
       "</style>\n",
       "<table border=\"1\" class=\"dataframe\">\n",
       "  <thead>\n",
       "    <tr style=\"text-align: right;\">\n",
       "      <th></th>\n",
       "      <th>nodes</th>\n",
       "      <th>data5</th>\n",
       "      <th>data2</th>\n",
       "    </tr>\n",
       "  </thead>\n",
       "  <tbody>\n",
       "    <tr>\n",
       "      <th>0</th>\n",
       "      <td>0</td>\n",
       "      <td>2</td>\n",
       "      <td>0</td>\n",
       "    </tr>\n",
       "    <tr>\n",
       "      <th>1</th>\n",
       "      <td>1</td>\n",
       "      <td>12</td>\n",
       "      <td>0</td>\n",
       "    </tr>\n",
       "    <tr>\n",
       "      <th>2</th>\n",
       "      <td>2</td>\n",
       "      <td>14</td>\n",
       "      <td>1</td>\n",
       "    </tr>\n",
       "    <tr>\n",
       "      <th>3</th>\n",
       "      <td>3</td>\n",
       "      <td>0</td>\n",
       "      <td>0</td>\n",
       "    </tr>\n",
       "    <tr>\n",
       "      <th>4</th>\n",
       "      <td>4</td>\n",
       "      <td>17</td>\n",
       "      <td>0</td>\n",
       "    </tr>\n",
       "    <tr>\n",
       "      <th>...</th>\n",
       "      <td>...</td>\n",
       "      <td>...</td>\n",
       "      <td>...</td>\n",
       "    </tr>\n",
       "    <tr>\n",
       "      <th>999995</th>\n",
       "      <td>999995</td>\n",
       "      <td>0</td>\n",
       "      <td>0</td>\n",
       "    </tr>\n",
       "    <tr>\n",
       "      <th>999996</th>\n",
       "      <td>999996</td>\n",
       "      <td>9</td>\n",
       "      <td>0</td>\n",
       "    </tr>\n",
       "    <tr>\n",
       "      <th>999997</th>\n",
       "      <td>999997</td>\n",
       "      <td>0</td>\n",
       "      <td>0</td>\n",
       "    </tr>\n",
       "    <tr>\n",
       "      <th>999998</th>\n",
       "      <td>999998</td>\n",
       "      <td>0</td>\n",
       "      <td>0</td>\n",
       "    </tr>\n",
       "    <tr>\n",
       "      <th>999999</th>\n",
       "      <td>999999</td>\n",
       "      <td>0</td>\n",
       "      <td>1</td>\n",
       "    </tr>\n",
       "  </tbody>\n",
       "</table>\n",
       "</div><p>1000000 rows x 3 columns</p>"
      ],
      "text/plain": [
       "         nodes  data5  data2\n",
       "0            0      2      0\n",
       "1            1     12      0\n",
       "2            2     14      1\n",
       "3            3      0      0\n",
       "4            4     17      0\n",
       "...        ...    ...    ...\n",
       "999995  999995      0      0\n",
       "999996  999996      9      0\n",
       "999997  999997      0      0\n",
       "999998  999998      0      0\n",
       "999999  999999      0      1 (1000000 rows x 3 columns)"
      ]
     },
     "execution_count": 15,
     "metadata": {},
     "output_type": "execute_result"
    }
   ],
   "source": [
    "prop_graph.get_node_labels()"
   ]
  },
  {
   "cell_type": "code",
   "execution_count": 17,
   "id": "7091cde5",
   "metadata": {},
   "outputs": [
    {
     "data": {
      "text/plain": [
       "array(['', 'A', 'B', 'C', 'D', 'E', 'F', 'G', 'H', 'I', 'J', 'K', 'L', 'M', 'N', 'O', 'P', 'Q', 'R', 'S', 'T', 'U', 'V', 'W', 'X', 'Y', 'Z'])"
      ]
     },
     "execution_count": 17,
     "metadata": {},
     "output_type": "execute_result"
    }
   ],
   "source": [
    "prop_graph.label_mapper[\"data5\"]"
   ]
  },
  {
   "cell_type": "code",
   "execution_count": 18,
   "id": "2343803e",
   "metadata": {},
   "outputs": [],
   "source": [
    "def node_filter(node_attributes):\n",
    "    return node_attributes[\"data2\"] == 0"
   ]
  },
  {
   "cell_type": "code",
   "execution_count": 19,
   "id": "94b1b23a",
   "metadata": {},
   "outputs": [],
   "source": [
    "def edge_filter(edge_attributes):\n",
    "    return edge_attributes[\"data1\"] > -1"
   ]
  },
  {
   "cell_type": "code",
   "execution_count": 20,
   "id": "ce31b434",
   "metadata": {},
   "outputs": [],
   "source": [
    "subgraph_nodes = prop_graph.subgraph_view(filter_node=node_filter)"
   ]
  },
  {
   "cell_type": "code",
   "execution_count": 21,
   "id": "2461eb43",
   "metadata": {},
   "outputs": [],
   "source": [
    "subgraph_edges = prop_graph.subgraph_view(filter_edge=edge_filter)"
   ]
  },
  {
   "cell_type": "code",
   "execution_count": 22,
   "id": "3623966a",
   "metadata": {},
   "outputs": [],
   "source": [
    "subgraph_together = prop_graph.subgraph_view(filter_node=node_filter, filter_edge=edge_filter)"
   ]
  },
  {
   "cell_type": "code",
   "execution_count": 26,
   "id": "9a8f70ad",
   "metadata": {},
   "outputs": [
    {
     "name": "stdout",
     "output_type": "stream",
     "text": [
      "Subgraph generated with edge size: 750442115\n"
     ]
    }
   ],
   "source": [
    "print(f\"Subgraph generated with edge size: {subgraph_nodes.size()}\")"
   ]
  },
  {
   "cell_type": "code",
   "execution_count": 27,
   "id": "3a608027",
   "metadata": {},
   "outputs": [
    {
     "name": "stdout",
     "output_type": "stream",
     "text": [
      "Subgraph generated with edge size: 666325452\n"
     ]
    }
   ],
   "source": [
    "print(f\"Subgraph generated with edge size: {subgraph_edges.size()}\")"
   ]
  },
  {
   "cell_type": "code",
   "execution_count": 28,
   "id": "ecc5c635",
   "metadata": {},
   "outputs": [
    {
     "name": "stdout",
     "output_type": "stream",
     "text": [
      "Subgraph generated with edge size: 167128950\n"
     ]
    }
   ],
   "source": [
    "print(f\"Subgraph generated with edge size: {subgraph_together.size()}\")"
   ]
  }
 ],
 "metadata": {
  "kernelspec": {
   "display_name": "arkouda-dev",
   "language": "python",
   "name": "python3"
  },
  "language_info": {
   "codemirror_mode": {
    "name": "ipython",
    "version": 3
   },
   "file_extension": ".py",
   "mimetype": "text/x-python",
   "name": "python",
   "nbconvert_exporter": "python",
   "pygments_lexer": "ipython3",
   "version": "3.10.12"
  }
 },
 "nbformat": 4,
 "nbformat_minor": 5
}
