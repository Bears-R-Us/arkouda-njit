{
 "cells": [
  {
   "cell_type": "markdown",
   "id": "1992821c",
   "metadata": {},
   "source": [
    "### **Introduction to Arachne**\n",
    "Arachne is a Python package for graph analysis that is built as an extension to Arkouda, a Python package for analysis on tabular data, akin to NumPy and Pandas. In this notebook we will show examples on how to run each algorithm that has been implemented on different types of graphs: undirected, directed, and property."
   ]
  },
  {
   "cell_type": "code",
   "execution_count": null,
   "metadata": {},
   "outputs": [],
   "source": [
    "import arkouda as ak\n",
    "import arachne as ar\n",
    "import networkx as nx\n",
    "import os"
   ]
  },
  {
   "cell_type": "code",
   "execution_count": null,
   "metadata": {},
   "outputs": [],
   "source": [
    "# NOTE: Make sure to change the server name to whatever is applicable in your environment. If running locally, then use only ak.connect().\n",
    "ak.connect(\"n116\", 5555)"
   ]
  },
  {
   "cell_type": "markdown",
   "id": "da2d6b6e",
   "metadata": {},
   "source": [
    "### **Graph Generation and Loading**\n",
    "Graphs can be built from existing data or generated with our suite of random graph generators. The preferred way to load a graph into memory is from Arkouda arrays, however we provide a method to read a graph in from matrix market format, or to generate them from existing Arkouda data."
   ]
  },
  {
   "cell_type": "code",
   "execution_count": null,
   "id": "4b6a0f2f",
   "metadata": {},
   "outputs": [],
   "source": [
    "# Read in a graph from a matrix market file.\n",
    "absolute_path_to_karate = os.path.abspath(\"data/karate.mtx\")\n",
    "karate = ar.read_matrix_market_file(absolute_path_to_karate)"
   ]
  },
  {
   "cell_type": "code",
   "execution_count": null,
   "id": "b625a57b",
   "metadata": {},
   "outputs": [],
   "source": [
    "# Generate a random RMAT graph.\n",
    "random_graph = ar.rmat(20, create_using=ar.Graph)"
   ]
  },
  {
   "cell_type": "code",
   "execution_count": null,
   "id": "78d1993d",
   "metadata": {},
   "outputs": [],
   "source": [
    "n = 1_000\n",
    "m = 1_000_000\n",
    "k = 2"
   ]
  },
  {
   "cell_type": "code",
   "execution_count": null,
   "id": "5d0712b5",
   "metadata": {},
   "outputs": [],
   "source": [
    "src_array = ak.randint(0, n, m, dtype=ak.dtype('int64'), seed=2)\n",
    "dst_array = ak.randint(0, n, m, dtype=ak.dtype('int64'), seed=4)\n",
    "int_array = ak.randint(-1, k, m, dtype=ak.dtype('int64'), seed=6)\n",
    "uint_array = ak.randint(0, k, m, dtype=ak.dtype('uint64'), seed=8)\n",
    "real_array = ak.randint(0, k, m, dtype=ak.dtype('float64'), seed=10)\n",
    "bool_array = ak.randint(0, k, m, dtype=ak.dtype('bool'), seed=12)\n",
    "strings_array = ak.random_strings_uniform(0, k, m, characters=\"abcdefghijklmonpqrstuvwxyz\", seed=14)\n",
    "categorical_array = ak.Categorical(ak.random_strings_uniform(0, k, m, characters=\"abcdefghijklmonpqrstuvwxyz\", seed=14))"
   ]
  },
  {
   "cell_type": "code",
   "execution_count": null,
   "id": "9c9b38b7",
   "metadata": {},
   "outputs": [],
   "source": [
    "prop_graph = ar.PropGraph()"
   ]
  },
  {
   "cell_type": "code",
   "execution_count": null,
   "id": "af0f2c50",
   "metadata": {},
   "outputs": [],
   "source": [
    "test_edge_dict = {\n",
    "    \"src\":src_array,\n",
    "    \"dst\":dst_array,\n",
    "    \"data1\":int_array,\n",
    "    \"data2\":uint_array,\n",
    "    \"data3\":real_array,\n",
    "    \"data4\":bool_array,\n",
    "    \"data5\":strings_array,\n",
    "    \"data6\":categorical_array\n",
    "}\n",
    "test_edge_df = ak.DataFrame(test_edge_dict)"
   ]
  },
  {
   "cell_type": "code",
   "execution_count": null,
   "id": "ca0bbe6e",
   "metadata": {},
   "outputs": [],
   "source": [
    "prop_graph.load_edge_attributes(test_edge_df, source_column=\"src\", destination_column=\"dst\", relationship_columns=[\"data5\", \"data1\"])"
   ]
  },
  {
   "cell_type": "code",
   "execution_count": null,
   "id": "8b8d7246",
   "metadata": {},
   "outputs": [],
   "source": [
    "prop_graph.get_edge_attributes()"
   ]
  },
  {
   "cell_type": "code",
   "execution_count": null,
   "id": "b6c3ae3b",
   "metadata": {},
   "outputs": [],
   "source": [
    "prop_graph.get_edge_relationships()"
   ]
  },
  {
   "cell_type": "code",
   "execution_count": null,
   "id": "c2703260",
   "metadata": {},
   "outputs": [],
   "source": [
    "print(type(prop_graph.edge_attributes[\"data5\"]))"
   ]
  },
  {
   "cell_type": "code",
   "execution_count": null,
   "id": "84834dbe",
   "metadata": {},
   "outputs": [],
   "source": [
    "# prop_graph.add_edges_from(src_array,dst_array)"
   ]
  },
  {
   "cell_type": "code",
   "execution_count": null,
   "id": "e94bf24e",
   "metadata": {},
   "outputs": [],
   "source": [
    "m = len(prop_graph)\n",
    "k = 2"
   ]
  },
  {
   "cell_type": "code",
   "execution_count": null,
   "id": "5dc37703",
   "metadata": {},
   "outputs": [],
   "source": [
    "int_array = ak.randint(-1, k, m, dtype=ak.dtype('int64'), seed=6)\n",
    "uint_array = ak.randint(0, k, m, dtype=ak.dtype('uint64'), seed=8)\n",
    "real_array = ak.randint(0, k, m, dtype=ak.dtype('float64'), seed=10)\n",
    "bool_array = ak.randint(0, k, m, dtype=ak.dtype('bool'), seed=12)\n",
    "strings_array = ak.random_strings_uniform(0, k, m, characters=\"abcdefghijklmonpqrstuvwxyz\", seed=14)\n",
    "categorical_array = ak.Categorical(ak.random_strings_uniform(0, k, m, characters=\"abcdefghijklmonpqrstuvwxyz\", seed=14))"
   ]
  },
  {
   "cell_type": "code",
   "execution_count": null,
   "id": "d849d4ce",
   "metadata": {},
   "outputs": [],
   "source": [
    "test_node_dict = {\n",
    "    \"nodes\":prop_graph.nodes(),\n",
    "    \"data1\":int_array,\n",
    "    \"data2\":uint_array,\n",
    "    \"data3\":real_array,\n",
    "    \"data4\":bool_array,\n",
    "    \"data5\":strings_array,\n",
    "    \"data6\":categorical_array\n",
    "}\n",
    "test_node_df = ak.DataFrame(test_node_dict)"
   ]
  },
  {
   "cell_type": "code",
   "execution_count": null,
   "id": "56581839",
   "metadata": {},
   "outputs": [],
   "source": [
    "prop_graph.load_node_attributes(test_node_df, node_column=\"nodes\", label_columns=[\"data5\", \"data2\"])"
   ]
  },
  {
   "cell_type": "code",
   "execution_count": null,
   "id": "acdeada4",
   "metadata": {},
   "outputs": [],
   "source": [
    "prop_graph.get_node_attributes()"
   ]
  },
  {
   "cell_type": "code",
   "execution_count": null,
   "id": "b193b125",
   "metadata": {},
   "outputs": [],
   "source": [
    "prop_graph.get_node_labels()"
   ]
  },
  {
   "cell_type": "code",
   "execution_count": null,
   "id": "2343803e",
   "metadata": {},
   "outputs": [],
   "source": [
    "def node_filter(node_attributes):\n",
    "    return node_attributes[\"data2\"] == 0"
   ]
  },
  {
   "cell_type": "code",
   "execution_count": null,
   "id": "94b1b23a",
   "metadata": {},
   "outputs": [],
   "source": [
    "def edge_filter(edge_attributes):\n",
    "    return edge_attributes[\"data1\"] > -1"
   ]
  },
  {
   "cell_type": "code",
   "execution_count": null,
   "id": "ce31b434",
   "metadata": {},
   "outputs": [],
   "source": [
    "subgraph_nodes = prop_graph.subgraph_view(filter_node=node_filter)"
   ]
  },
  {
   "cell_type": "code",
   "execution_count": null,
   "id": "2461eb43",
   "metadata": {},
   "outputs": [],
   "source": [
    "subgraph_edges = prop_graph.subgraph_view(filter_edge=edge_filter)"
   ]
  },
  {
   "cell_type": "code",
   "execution_count": null,
   "id": "3623966a",
   "metadata": {},
   "outputs": [],
   "source": [
    "subgraph_together = prop_graph.subgraph_view(filter_node=node_filter, filter_edge=edge_filter)"
   ]
  },
  {
   "cell_type": "code",
   "execution_count": null,
   "id": "9a8f70ad",
   "metadata": {},
   "outputs": [],
   "source": [
    "print(f\"Subgraph generated with edge size: {subgraph_nodes.size()}\")"
   ]
  },
  {
   "cell_type": "code",
   "execution_count": null,
   "id": "3a608027",
   "metadata": {},
   "outputs": [],
   "source": [
    "print(f\"Subgraph generated with edge size: {subgraph_edges.size()}\")"
   ]
  },
  {
   "cell_type": "code",
   "execution_count": null,
   "id": "ecc5c635",
   "metadata": {},
   "outputs": [],
   "source": [
    "print(f\"Subgraph generated with edge size: {subgraph_together.size()}\")"
   ]
  }
 ],
 "metadata": {
  "kernelspec": {
   "display_name": "arkouda-dev",
   "language": "python",
   "name": "python3"
  },
  "language_info": {
   "codemirror_mode": {
    "name": "ipython",
    "version": 3
   },
   "file_extension": ".py",
   "mimetype": "text/x-python",
   "name": "python",
   "nbconvert_exporter": "python",
   "pygments_lexer": "ipython3",
   "version": "3.10.12"
  }
 },
 "nbformat": 4,
 "nbformat_minor": 5
}
