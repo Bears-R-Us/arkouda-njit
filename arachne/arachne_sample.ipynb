{
 "cells": [
  {
   "cell_type": "markdown",
   "id": "1992821c",
   "metadata": {},
   "source": [
    "### **Introduction to Arachne**\n",
    "Arachne is a Python package for graph analysis that is built as an extension to Arkouda, a Python package for analysis on tabular data, akin to NumPy and Pandas. In this notebook we will show examples on how to run each algorithm that has been implemented on different types of graphs: undirected, directed, and property."
   ]
  },
  {
   "cell_type": "code",
   "execution_count": 1,
   "metadata": {},
   "outputs": [
    {
     "name": "stdout",
     "output_type": "stream",
     "text": [
      "    _         _                   _       \n",
      "   / \\   _ __| | _____  _   _  __| | __ _ \n",
      "  / _ \\ | '__| |/ / _ \\| | | |/ _` |/ _` |\n",
      " / ___ \\| |  |   < (_) | |_| | (_| | (_| |\n",
      "/_/   \\_\\_|  |_|\\_\\___/ \\__,_|\\__,_|\\__,_|\n",
      "                                          \n",
      "\n",
      "Client Version: v2024.03.18\n"
     ]
    }
   ],
   "source": [
    "import arkouda as ak\n",
    "import arachne as ar\n",
    "import networkx as nx\n",
    "import os"
   ]
  },
  {
   "cell_type": "code",
   "execution_count": 2,
   "metadata": {},
   "outputs": [
    {
     "name": "stderr",
     "output_type": "stream",
     "text": [
      "connected to arkouda server tcp://*:5555\n"
     ]
    }
   ],
   "source": [
    "# NOTE: Make sure to change the server name to whatever is applicable in your environment. If running locally, then use only ak.connect().\n",
    "ak.connect(\"n21\", 5555)"
   ]
  },
  {
   "cell_type": "markdown",
   "id": "da2d6b6e",
   "metadata": {},
   "source": [
    "### **Graph Generation and Loading**\n",
    "Graphs can be built from existing data or generated with our suite of random graph generators. The preferred way to load a graph into memory is from Arkouda arrays, however we provide a method to read a graph in from matrix market format or randomly generate some graphs."
   ]
  },
  {
   "cell_type": "code",
   "execution_count": 3,
   "id": "4b6a0f2f",
   "metadata": {},
   "outputs": [],
   "source": [
    "# Read in a graph from a matrix market file.\n",
    "absolute_path_to_karate = os.path.abspath(\"data/karate.mtx\")\n",
    "karate = ar.read_matrix_market_file(absolute_path_to_karate)"
   ]
  },
  {
   "cell_type": "code",
   "execution_count": 4,
   "id": "b625a57b",
   "metadata": {},
   "outputs": [
    {
     "name": "stdout",
     "output_type": "stream",
     "text": [
      "Generated graph has 17060912 vertices and 523606315 edges\n",
      "Generated graph has 10000 vertices and 26381136 edges\n",
      "Generated graph has 10000 vertices and 10000 edges\n",
      "Generated graph has 10000 vertices and 249439 edges\n"
     ]
    }
   ],
   "source": [
    "# Generate a random graph using any variety of random generators available.\n",
    "n = 10_000\n",
    "rmat_graph = ar.rmat(25, create_using=ar.Graph)\n",
    "gnp_graph = ar.gnp(n, 0.75, create_using=ar.Graph)\n",
    "rtree_graph = ar.random_tree(n, create_using=ar.Graph)\n",
    "ws_graph = ar.watts_strogatz_graph(n, 25, 0.56, create_using=ar.Graph)\n",
    "graph_list = [rmat_graph, gnp_graph, rtree_graph, ws_graph]\n",
    "for g in graph_list:\n",
    "    print(f\"Generated graph has {len(g)} vertices and {g.size()} edges\")"
   ]
  },
  {
   "cell_type": "code",
   "execution_count": 5,
   "id": "47d13bbc",
   "metadata": {},
   "outputs": [],
   "source": [
    "# Create a property graph from Arkouda dataframes, usually read in from HDF5, Parquet, or CSV files. For demonstrative purposes, we create some random dataset here.\n",
    "n = 1_000           # Number of vertices.\n",
    "m = 1_000_000       # Number of edges.\n",
    "k = 2               # Value to cap the randomness at."
   ]
  },
  {
   "cell_type": "code",
   "execution_count": 6,
   "id": "5d0712b5",
   "metadata": {},
   "outputs": [],
   "source": [
    "# Create variously different random arrays of different types: integers, unsigned integers, floats, booleans, strings, and categoricals.\n",
    "src_array = ak.randint(0, n, m, dtype=ak.dtype('int64'), seed=2)\n",
    "dst_array = ak.randint(0, n, m, dtype=ak.dtype('int64'), seed=4)\n",
    "int_array = ak.randint(-1, k, m, dtype=ak.dtype('int64'), seed=6)\n",
    "uint_array = ak.randint(0, k, m, dtype=ak.dtype('uint64'), seed=8)\n",
    "real_array = ak.randint(0, k, m, dtype=ak.dtype('float64'), seed=10)\n",
    "bool_array = ak.randint(0, k, m, dtype=ak.dtype('bool'), seed=12)\n",
    "strings_array = ak.random_strings_uniform(0, k, m, characters=\"abcdefghijklmonpqrstuvwxyz\", seed=14)\n",
    "categorical_array = ak.Categorical(ak.random_strings_uniform(0, k, m, characters=\"abcdefghijklmonpqrstuvwxyz\", seed=14))"
   ]
  },
  {
   "cell_type": "code",
   "execution_count": 7,
   "id": "9c9b38b7",
   "metadata": {},
   "outputs": [],
   "source": [
    "# Initialize an empty graph object.\n",
    "prop_graph = ar.PropGraph()"
   ]
  },
  {
   "cell_type": "code",
   "execution_count": 8,
   "id": "af0f2c50",
   "metadata": {},
   "outputs": [],
   "source": [
    "# Create a dataframe with the edge data.\n",
    "test_edge_dict = {\n",
    "    \"src\":src_array,\n",
    "    \"dst\":dst_array,\n",
    "    \"data1\":int_array,\n",
    "    \"data2\":uint_array,\n",
    "    \"data3\":real_array,\n",
    "    \"data4\":bool_array,\n",
    "    \"data5\":strings_array,\n",
    "    \"data6\":categorical_array\n",
    "}\n",
    "test_edge_df = ak.DataFrame(test_edge_dict)"
   ]
  },
  {
   "cell_type": "code",
   "execution_count": 9,
   "id": "ca0bbe6e",
   "metadata": {},
   "outputs": [],
   "source": [
    "# Load in the edge attributes, with sorts the edges and handles storing their data.\n",
    "prop_graph.load_edge_attributes(test_edge_df, source_column=\"src\", destination_column=\"dst\", relationship_columns=[\"data5\", \"data1\"])"
   ]
  },
  {
   "cell_type": "code",
   "execution_count": 10,
   "id": "e94bf24e",
   "metadata": {},
   "outputs": [],
   "source": [
    "# Create sizes for vertex information.\n",
    "m = len(prop_graph)\n",
    "k = 2"
   ]
  },
  {
   "cell_type": "code",
   "execution_count": 11,
   "id": "5dc37703",
   "metadata": {},
   "outputs": [],
   "source": [
    "# Create data of different types for vertices.\n",
    "int_array = ak.randint(-1, k, m, dtype=ak.dtype('int64'), seed=6)\n",
    "uint_array = ak.randint(0, k, m, dtype=ak.dtype('uint64'), seed=8)\n",
    "real_array = ak.randint(0, k, m, dtype=ak.dtype('float64'), seed=10)\n",
    "bool_array = ak.randint(0, k, m, dtype=ak.dtype('bool'), seed=12)\n",
    "strings_array = ak.random_strings_uniform(0, k, m, characters=\"abcdefghijklmonpqrstuvwxyz\", seed=14)\n",
    "categorical_array = ak.Categorical(ak.random_strings_uniform(0, k, m, characters=\"abcdefghijklmonpqrstuvwxyz\", seed=14))"
   ]
  },
  {
   "cell_type": "code",
   "execution_count": 12,
   "id": "d849d4ce",
   "metadata": {},
   "outputs": [],
   "source": [
    "# Create a dataframe with vertex data.\n",
    "test_node_dict = {\n",
    "    \"nodes\":prop_graph.nodes(),\n",
    "    \"data1\":int_array,\n",
    "    \"data2\":uint_array,\n",
    "    \"data3\":real_array,\n",
    "    \"data4\":bool_array,\n",
    "    \"data5\":strings_array,\n",
    "    \"data6\":categorical_array\n",
    "}\n",
    "test_node_df = ak.DataFrame(test_node_dict)"
   ]
  },
  {
   "cell_type": "code",
   "execution_count": 13,
   "id": "56581839",
   "metadata": {},
   "outputs": [],
   "source": [
    "# Load in the vertex data.\n",
    "prop_graph.load_node_attributes(test_node_df, node_column=\"nodes\", label_columns=[\"data5\", \"data2\"])"
   ]
  },
  {
   "cell_type": "markdown",
   "id": "61f19115",
   "metadata": {},
   "source": [
    "### **Graph Processing and Querying**\n",
    "Treating the graphs as dataframes allows us to exploit Arkouda's array searches to generate subgraphs in seconds."
   ]
  },
  {
   "cell_type": "code",
   "execution_count": 14,
   "id": "2343803e",
   "metadata": {},
   "outputs": [],
   "source": [
    "# Create filters for vertices.\n",
    "def node_filter(node_attributes):\n",
    "    return node_attributes[\"data2\"] == 0"
   ]
  },
  {
   "cell_type": "code",
   "execution_count": 15,
   "id": "94b1b23a",
   "metadata": {},
   "outputs": [],
   "source": [
    "# Create filters for edges.\n",
    "def edge_filter(edge_attributes):\n",
    "    return edge_attributes[\"data1\"] > -1"
   ]
  },
  {
   "cell_type": "code",
   "execution_count": 19,
   "id": "ce31b434",
   "metadata": {},
   "outputs": [
    {
     "name": "stdout",
     "output_type": "stream",
     "text": [
      "Subgraph generated with edge size: 467134\n",
      "Subgraph generated with edge size: 420930\n",
      "Subgraph generated with edge size: 100891\n"
     ]
    }
   ],
   "source": [
    "# Create different subgraphs from each demo and together.\n",
    "subgraph_nodes = prop_graph.subgraph_view(filter_node=node_filter)\n",
    "print(f\"Subgraph generated with edge size: {subgraph_nodes.size()}\")\n",
    "subgraph_edges = prop_graph.subgraph_view(filter_edge=edge_filter)\n",
    "print(f\"Subgraph generated with edge size: {subgraph_edges.size()}\")\n",
    "subgraph_together = prop_graph.subgraph_view(filter_node=node_filter, filter_edge=edge_filter)\n",
    "print(f\"Subgraph generated with edge size: {subgraph_together.size()}\")"
   ]
  },
  {
   "cell_type": "markdown",
   "id": "ec73ccc4",
   "metadata": {},
   "source": [
    "### **Graph Algorithms**\n",
    "Let's run some graph algorithms and see how we can use the returned information to draw a full picture of our datasets from above."
   ]
  }
 ],
 "metadata": {
  "kernelspec": {
   "display_name": "arkouda-dev",
   "language": "python",
   "name": "python3"
  },
  "language_info": {
   "codemirror_mode": {
    "name": "ipython",
    "version": 3
   },
   "file_extension": ".py",
   "mimetype": "text/x-python",
   "name": "python",
   "nbconvert_exporter": "python",
   "pygments_lexer": "ipython3",
   "version": "3.10.12"
  }
 },
 "nbformat": 4,
 "nbformat_minor": 5
}
