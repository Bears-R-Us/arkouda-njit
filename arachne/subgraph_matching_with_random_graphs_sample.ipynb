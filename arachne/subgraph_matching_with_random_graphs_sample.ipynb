{
 "cells": [
  {
   "cell_type": "code",
   "execution_count": 1,
   "id": "f651e065",
   "metadata": {},
   "outputs": [
    {
     "name": "stdout",
     "output_type": "stream",
     "text": [
      "    _         _                   _       \n",
      "   / \\   _ __| | _____  _   _  __| | __ _ \n",
      "  / _ \\ | '__| |/ / _ \\| | | |/ _` |/ _` |\n",
      " / ___ \\| |  |   < (_) | |_| | (_| | (_| |\n",
      "/_/   \\_\\_|  |_|\\_\\___/ \\__,_|\\__,_|\\__,_|\n",
      "                                          \n",
      "\n",
      "Client Version: v2024.06.21+0.gcf6eeacde.dirty\n"
     ]
    }
   ],
   "source": [
    "import arkouda as ak\n",
    "import arachne as ar\n",
    "import scipy as sp\n",
    "import networkx as nx\n",
    "import matplotlib.pyplot as plt\n",
    "import os"
   ]
  },
  {
   "cell_type": "code",
   "execution_count": 2,
   "id": "671cb378",
   "metadata": {},
   "outputs": [
    {
     "name": "stderr",
     "output_type": "stream",
     "text": [
      "connected to arkouda server tcp://*:5555\n"
     ]
    }
   ],
   "source": [
    "# NOTE: Make sure to change the server name to whatever is applicable in your environment. If running locally, then use only ak.connect().\n",
    "ak.connect(\"n31\", 5555)"
   ]
  },
  {
   "cell_type": "code",
   "execution_count": 3,
   "id": "e0ab4242",
   "metadata": {},
   "outputs": [],
   "source": [
    "n = 100_000\n",
    "m = 100_000_000\n",
    "s = 2\n",
    "x = 2\n",
    "y = 2"
   ]
  },
  {
   "cell_type": "code",
   "execution_count": 4,
   "id": "36d90c88",
   "metadata": {},
   "outputs": [
    {
     "name": "stdout",
     "output_type": "stream",
     "text": [
      "Building property graph with 100000 vertices and 99500951 edges took 5.96 seconds.\n"
     ]
    }
   ],
   "source": [
    "import time\n",
    "\n",
    "### Build graph from randomly generated source and destination arrays.\n",
    "# 1. Use Arkouda's randint to generate the random edge arrays.\n",
    "src = ak.randint(0, n, m, seed=s*2)\n",
    "dst = ak.randint(0, n, m, seed=s*4)\n",
    "\n",
    "# 2. Build temporary property graph to get sorted edges and nodes lists.\n",
    "temp_prop_graph = ar.PropGraph()\n",
    "start = time.time()\n",
    "temp_prop_graph.add_edges_from(src, dst)\n",
    "end = time.time()\n",
    "build_time = end - start\n",
    "print(f\"Building property graph with {len(temp_prop_graph)} vertices and \"\n",
    "        f\"{temp_prop_graph.size()} \"\n",
    "        f\"edges took {round(build_time,2)} seconds.\")\n",
    "\n",
    "### Generate node labels and edge relationships for the graph.\n",
    "# 1. Extract node and edge information.\n",
    "num_edges = temp_prop_graph.size()\n",
    "num_nodes = len(temp_prop_graph)\n",
    "edges = temp_prop_graph.edges()\n",
    "nodes = temp_prop_graph.nodes()\n",
    "\n",
    "# 2. Generate sets of node labels and edge relationships.\n",
    "labels_set = ak.array([\"lbl\" + str(x) for x in range(1,x+1)])\n",
    "relationships_set = ak.array([\"rel\" + str(y) for y in range(1,y+1)])\n",
    "\n",
    "# 3. Give edges and nodes same exact labels and relationships.\n",
    "node_labels_1 = ak.full(num_nodes, labels_set[0])\n",
    "node_labels_2 = ak.full(num_nodes, labels_set[1])\n",
    "edge_rels_1 = ak.full(num_edges, relationships_set[0])\n",
    "edge_rels_2 = ak.full(num_edges, relationships_set[1])\n",
    "\n",
    "# 4. Create dataframe to load into a new property graph.\n",
    "edge_df = ak.DataFrame({\"src\":edges[0], \"dst\":edges[1], \"rels1\":edge_rels_1, \"rels2\":edge_rels_2})\n",
    "node_df = ak.DataFrame({\"nodes\":nodes, \"lbls1\":node_labels_1, \"lbls2\":node_labels_2})\n",
    "\n",
    "# 5. Create new property graph with node labels and edge relationships.\n",
    "prop_graph = ar.PropGraph()\n",
    "prop_graph.load_edge_attributes(edge_df, source_column=\"src\", destination_column=\"dst\",\n",
    "                                relationship_columns=[\"rels1\", \"rels2\"])\n",
    "prop_graph.load_node_attributes(node_df, node_column=\"nodes\", label_columns=[\"lbls1\", \"lbls2\"])\n",
    "\n",
    "### Create the subgraph we are searching for.\n",
    "# 1. Create labels and relationships to search for.\n",
    "src_list = [0, 1, 2, 2, 3]\n",
    "dst_list = [1, 2, 0, 3, 0]\n",
    "src_subgraph = ak.array(src_list)\n",
    "dst_subgraph = ak.array(dst_list)\n",
    "\n",
    "subgraph_nodes = list(set(src_list) | set(dst_list))\n",
    "subgraph_nodes.sort()\n",
    "\n",
    "labels1_subgraph = ak.array([\"lbl1\", \"lbl1\", \"lbl1\", \"lbl1\"])\n",
    "labels2_subgraph = ak.array([\"lbl3\", \"lbl3\", \"lbl3\", \"lbl3\"])\n",
    "rels1_subgraph = ak.array([\"rel1\", \"rel1\", \"rel1\", \"rel1\", \"rel1\"])\n",
    "rels2_subgraph = ak.array([\"rel3\", \"rel3\", \"rel3\", \"rel3\", \"rel3\"])\n",
    "\n",
    "#2. Populate the subgraph.\n",
    "subgraph = ar.PropGraph()\n",
    "edge_df_h = ak.DataFrame({\"src\":src_subgraph, \"dst\":dst_subgraph,\n",
    "                        \"rels1\":rels1_subgraph, \"rels2\":rels2_subgraph})\n",
    "node_df_h = ak.DataFrame({\"nodes\": ak.array(subgraph_nodes), \"lbls1\":labels1_subgraph,\n",
    "                          \"lbls2\":labels2_subgraph})\n",
    "subgraph.load_edge_attributes(edge_df_h, source_column=\"src\", destination_column=\"dst\",\n",
    "                                relationship_columns=[\"rels1\",\"rels2\"])"
   ]
  },
  {
   "cell_type": "code",
   "execution_count": 5,
   "id": "66c3bc99",
   "metadata": {},
   "outputs": [
    {
     "name": "stdout",
     "output_type": "stream",
     "text": [
      "We found 658.0 isos inside of the graph\n"
     ]
    }
   ],
   "source": [
    "isos_as_vertices = ar.subgraph_isomorphism(prop_graph, subgraph, \n",
    "                                           semantic_check=\"or\", algorithm_type=\"si\", \n",
    "                                           return_isos_as=\"vertices\", size_limit = 500\n",
    ")\n",
    "print(f\"We found {len(isos_as_vertices[0])/len(subgraph)} isos inside of the graph\")"
   ]
  },
  {
   "cell_type": "code",
   "execution_count": 6,
   "id": "dbaca18c",
   "metadata": {},
   "outputs": [
    {
     "name": "stdout",
     "output_type": "stream",
     "text": [
      "We found 16487961.0 isos inside of the graph\n"
     ]
    }
   ],
   "source": [
    "isos_as_edges = ar.subgraph_isomorphism(prop_graph, subgraph, \n",
    "                                        semantic_check=\"or\", algorithm_type=\"si\", \n",
    "                                        return_isos_as=\"edges\", time_limit=2\n",
    ")\n",
    "print(f\"We found {len(isos_as_edges[0])/subgraph.size()} isos inside of the graph\")"
   ]
  },
  {
   "cell_type": "code",
   "execution_count": 7,
   "id": "a1c751a2",
   "metadata": {},
   "outputs": [],
   "source": [
    "subgraph.load_node_attributes(node_df_h, node_column=\"nodes\", label_columns=[\"lbls1\",\"lbls2\"])"
   ]
  },
  {
   "cell_type": "code",
   "execution_count": 8,
   "id": "4ed0ac8b",
   "metadata": {},
   "outputs": [
    {
     "name": "stdout",
     "output_type": "stream",
     "text": [
      "We found 16099278.0 isos inside of the graph\n"
     ]
    }
   ],
   "source": [
    "isos_as_edges = ar.subgraph_isomorphism(prop_graph, subgraph, \n",
    "                                        semantic_check=\"or\", algorithm_type=\"si\", \n",
    "                                        return_isos_as=\"edges\", time_limit=2\n",
    ")\n",
    "print(f\"We found {len(isos_as_edges[0])/subgraph.size()} isos inside of the graph\")"
   ]
  },
  {
   "cell_type": "code",
   "execution_count": 9,
   "id": "644401cb",
   "metadata": {},
   "outputs": [
    {
     "name": "stdout",
     "output_type": "stream",
     "text": [
      "We found 766.0 isos inside of the graph\n"
     ]
    }
   ],
   "source": [
    "isos_as_vertices = ar.subgraph_isomorphism(prop_graph, subgraph, \n",
    "                                           semantic_check=\"or\", algorithm_type=\"si\", \n",
    "                                           return_isos_as=\"vertices\", size_limit = 500\n",
    ")\n",
    "print(f\"We found {len(isos_as_vertices[0])/len(subgraph)} isos inside of the graph\")"
   ]
  }
 ],
 "metadata": {
  "kernelspec": {
   "display_name": "arkouda-dev",
   "language": "python",
   "name": "python3"
  },
  "language_info": {
   "codemirror_mode": {
    "name": "ipython",
    "version": 3
   },
   "file_extension": ".py",
   "mimetype": "text/x-python",
   "name": "python",
   "nbconvert_exporter": "python",
   "pygments_lexer": "ipython3",
   "version": "3.10.12"
  }
 },
 "nbformat": 4,
 "nbformat_minor": 5
}
