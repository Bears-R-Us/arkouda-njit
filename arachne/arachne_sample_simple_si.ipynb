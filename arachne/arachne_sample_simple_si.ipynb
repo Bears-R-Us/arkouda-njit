{
 "cells": [
  {
   "cell_type": "code",
   "execution_count": 3,
   "id": "f651e065",
   "metadata": {},
   "outputs": [],
   "source": [
    "import arkouda as ak\n",
    "import arachne as ar\n",
    "import scipy as sp\n",
    "import networkx as nx\n",
    "import matplotlib.pyplot as plt\n",
    "import os"
   ]
  },
  {
   "cell_type": "code",
   "execution_count": 4,
   "id": "671cb378",
   "metadata": {},
   "outputs": [
    {
     "ename": "KeyboardInterrupt",
     "evalue": "",
     "output_type": "error",
     "traceback": [
      "\u001b[0;31m---------------------------------------------------------------------------\u001b[0m",
      "\u001b[0;31mKeyboardInterrupt\u001b[0m                         Traceback (most recent call last)",
      "Cell \u001b[0;32mIn[4], line 2\u001b[0m\n\u001b[1;32m      1\u001b[0m \u001b[38;5;66;03m# NOTE: Make sure to change the server name to whatever is applicable in your environment. If running locally, then use only ak.connect().\u001b[39;00m\n\u001b[0;32m----> 2\u001b[0m \u001b[43mak\u001b[49m\u001b[38;5;241;43m.\u001b[39;49m\u001b[43mconnect\u001b[49m\u001b[43m(\u001b[49m\u001b[38;5;124;43m\"\u001b[39;49m\u001b[38;5;124;43mn34\u001b[39;49m\u001b[38;5;124;43m\"\u001b[39;49m\u001b[43m,\u001b[49m\u001b[43m \u001b[49m\u001b[38;5;241;43m5555\u001b[39;49m\u001b[43m)\u001b[49m\n",
      "File \u001b[0;32m/scratch/users/oaa9/arkouda/arkouda/client.py:725\u001b[0m, in \u001b[0;36mconnect\u001b[0;34m(server, port, timeout, access_token, connect_url, access_channel)\u001b[0m\n\u001b[1;32m    721\u001b[0m channel\u001b[38;5;241m.\u001b[39mconnect(timeout)\n\u001b[1;32m    723\u001b[0m \u001b[38;5;66;03m# send connect request to server and get the response confirming if\u001b[39;00m\n\u001b[1;32m    724\u001b[0m \u001b[38;5;66;03m# the connect request succeeded and, if not not, the error message\u001b[39;00m\n\u001b[0;32m--> 725\u001b[0m return_message \u001b[38;5;241m=\u001b[39m \u001b[43mchannel\u001b[49m\u001b[38;5;241;43m.\u001b[39;49m\u001b[43msend_string_message\u001b[49m\u001b[43m(\u001b[49m\u001b[43mcmd\u001b[49m\u001b[38;5;241;43m=\u001b[39;49m\u001b[43mcmd\u001b[49m\u001b[43m)\u001b[49m\n\u001b[1;32m    726\u001b[0m logger\u001b[38;5;241m.\u001b[39mdebug(\u001b[38;5;124mf\u001b[39m\u001b[38;5;124m\"\u001b[39m\u001b[38;5;124m[Python] Received response: \u001b[39m\u001b[38;5;132;01m{\u001b[39;00m\u001b[38;5;28mstr\u001b[39m(return_message)\u001b[38;5;132;01m}\u001b[39;00m\u001b[38;5;124m\"\u001b[39m)\n\u001b[1;32m    727\u001b[0m connected \u001b[38;5;241m=\u001b[39m \u001b[38;5;28;01mTrue\u001b[39;00m\n",
      "File \u001b[0;32m/scratch/users/oaa9/arkouda/arkouda/client.py:523\u001b[0m, in \u001b[0;36mZmqChannel.send_string_message\u001b[0;34m(self, cmd, recv_binary, args, size, request_id)\u001b[0m\n\u001b[1;32m    521\u001b[0m     \u001b[38;5;28;01mreturn\u001b[39;00m view\n\u001b[1;32m    522\u001b[0m \u001b[38;5;28;01melse\u001b[39;00m:\n\u001b[0;32m--> 523\u001b[0m     raw_message \u001b[38;5;241m=\u001b[39m \u001b[38;5;28;43mself\u001b[39;49m\u001b[38;5;241;43m.\u001b[39;49m\u001b[43msocket\u001b[49m\u001b[38;5;241;43m.\u001b[39;49m\u001b[43mrecv_string\u001b[49m\u001b[43m(\u001b[49m\u001b[43m)\u001b[49m\n\u001b[1;32m    524\u001b[0m     \u001b[38;5;28;01mtry\u001b[39;00m:\n\u001b[1;32m    525\u001b[0m         return_message \u001b[38;5;241m=\u001b[39m ReplyMessage\u001b[38;5;241m.\u001b[39mfromdict(json\u001b[38;5;241m.\u001b[39mloads(raw_message))\n",
      "File \u001b[0;32m~/.conda/envs/arkouda-dev/lib/python3.10/site-packages/zmq/sugar/socket.py:934\u001b[0m, in \u001b[0;36mSocket.recv_string\u001b[0;34m(self, flags, encoding)\u001b[0m\n\u001b[1;32m    914\u001b[0m \u001b[38;5;28;01mdef\u001b[39;00m \u001b[38;5;21mrecv_string\u001b[39m(\u001b[38;5;28mself\u001b[39m, flags: \u001b[38;5;28mint\u001b[39m \u001b[38;5;241m=\u001b[39m \u001b[38;5;241m0\u001b[39m, encoding: \u001b[38;5;28mstr\u001b[39m \u001b[38;5;241m=\u001b[39m \u001b[38;5;124m'\u001b[39m\u001b[38;5;124mutf-8\u001b[39m\u001b[38;5;124m'\u001b[39m) \u001b[38;5;241m-\u001b[39m\u001b[38;5;241m>\u001b[39m \u001b[38;5;28mstr\u001b[39m:\n\u001b[1;32m    915\u001b[0m \u001b[38;5;250m    \u001b[39m\u001b[38;5;124;03m\"\"\"Receive a unicode string, as sent by send_string.\u001b[39;00m\n\u001b[1;32m    916\u001b[0m \n\u001b[1;32m    917\u001b[0m \u001b[38;5;124;03m    Parameters\u001b[39;00m\n\u001b[0;32m   (...)\u001b[0m\n\u001b[1;32m    932\u001b[0m \u001b[38;5;124;03m        for any of the reasons :func:`~Socket.recv` might fail\u001b[39;00m\n\u001b[1;32m    933\u001b[0m \u001b[38;5;124;03m    \"\"\"\u001b[39;00m\n\u001b[0;32m--> 934\u001b[0m     msg \u001b[38;5;241m=\u001b[39m \u001b[38;5;28;43mself\u001b[39;49m\u001b[38;5;241;43m.\u001b[39;49m\u001b[43mrecv\u001b[49m\u001b[43m(\u001b[49m\u001b[43mflags\u001b[49m\u001b[38;5;241;43m=\u001b[39;49m\u001b[43mflags\u001b[49m\u001b[43m)\u001b[49m\n\u001b[1;32m    935\u001b[0m     \u001b[38;5;28;01mreturn\u001b[39;00m \u001b[38;5;28mself\u001b[39m\u001b[38;5;241m.\u001b[39m_deserialize(msg, \u001b[38;5;28;01mlambda\u001b[39;00m buf: buf\u001b[38;5;241m.\u001b[39mdecode(encoding))\n",
      "File \u001b[0;32mzmq/backend/cython/socket.pyx:805\u001b[0m, in \u001b[0;36mzmq.backend.cython.socket.Socket.recv\u001b[0;34m()\u001b[0m\n",
      "File \u001b[0;32mzmq/backend/cython/socket.pyx:841\u001b[0m, in \u001b[0;36mzmq.backend.cython.socket.Socket.recv\u001b[0;34m()\u001b[0m\n",
      "File \u001b[0;32mzmq/backend/cython/socket.pyx:194\u001b[0m, in \u001b[0;36mzmq.backend.cython.socket._recv_copy\u001b[0;34m()\u001b[0m\n",
      "File \u001b[0;32m~/.conda/envs/arkouda-dev/lib/python3.10/site-packages/zmq/backend/cython/checkrc.pxd:13\u001b[0m, in \u001b[0;36mzmq.backend.cython.checkrc._check_rc\u001b[0;34m()\u001b[0m\n",
      "\u001b[0;31mKeyboardInterrupt\u001b[0m: "
     ]
    }
   ],
   "source": [
    "# NOTE: Make sure to change the server name to whatever is applicable in your environment. If running locally, then use only ak.connect().\n",
    "ak.connect(\"n34\", 5555)"
   ]
  },
  {
   "cell_type": "code",
   "execution_count": null,
   "id": "e0ab4242",
   "metadata": {},
   "outputs": [],
   "source": [
    "n = 10\n",
    "m = 50\n",
    "s = 2\n",
    "x = 2\n",
    "y = 2"
   ]
  },
  {
   "cell_type": "code",
   "execution_count": null,
   "id": "36d90c88",
   "metadata": {},
   "outputs": [],
   "source": [
    "import time\n",
    "\n",
    "### Build graph from randomly generated source and destination arrays.\n",
    "# 1. Use Arkouda's randint to generate the random edge arrays.\n",
    "src = ak.randint(0, n, m, seed=s*2)\n",
    "dst = ak.randint(0, n, m, seed=s*4)\n",
    "\n",
    "# 2. Build temporary property graph to get sorted edges and nodes lists.\n",
    "temp_prop_graph = ar.PropGraph()\n",
    "start = time.time()\n",
    "temp_prop_graph.add_edges_from(src, dst)\n",
    "end = time.time()\n",
    "build_time = end - start\n",
    "print(f\"Building property graph with {len(temp_prop_graph)} vertices and \"\n",
    "        f\"{temp_prop_graph.size()} \"\n",
    "        f\"edges took {round(build_time,2)} seconds.\")\n",
    "\n",
    "### Generate node labels and edge relationships for the graph.\n",
    "# 1. Extract node and edge information.\n",
    "num_edges = temp_prop_graph.size()\n",
    "num_nodes = len(temp_prop_graph)\n",
    "edges = temp_prop_graph.edges()\n",
    "nodes = temp_prop_graph.nodes()\n",
    "\n",
    "# 2. Generate sets of node labels and edge relationships.\n",
    "labels_set = ak.array([\"lbl\" + str(x) for x in range(1,x+1)])\n",
    "relationships_set = ak.array([\"rel\" + str(y) for y in range(1,y+1)])\n",
    "\n",
    "# 3. Give edges and nodes same exact labels and relationships.\n",
    "node_labels_1 = ak.full(num_nodes, labels_set[0])\n",
    "node_labels_2 = ak.full(num_nodes, labels_set[1])\n",
    "edge_rels_1 = ak.full(num_edges, relationships_set[0])\n",
    "edge_rels_2 = ak.full(num_edges, relationships_set[1])\n",
    "\n",
    "# 4. Create dataframe to load into a new property graph.\n",
    "edge_df = ak.DataFrame({\"src\":edges[0], \"dst\":edges[1], \"rels1\":edge_rels_1, \"rels2\":edge_rels_2})\n",
    "node_df = ak.DataFrame({\"nodes\":nodes, \"lbls1\":node_labels_1, \"lbls2\":node_labels_2})\n",
    "\n",
    "# 5. Create new property graph with node labels and edge relationships.\n",
    "prop_graph = ar.PropGraph()\n",
    "prop_graph.load_edge_attributes(edge_df, source_column=\"src\", destination_column=\"dst\",\n",
    "                                relationship_columns=[\"rels1\", \"rels2\"])\n",
    "prop_graph.load_node_attributes(node_df, node_column=\"nodes\", label_columns=[\"lbls1\", \"lbls2\"])\n",
    "\n",
    "### Create the subgraph we are searching for.\n",
    "# 1. Create labels and relationships to search for.\n",
    "src_list = [0, 1, 2, 2, 3]\n",
    "dst_list = [1, 2, 0, 3, 0]\n",
    "src_subgraph = ak.array(src_list)\n",
    "dst_subgraph = ak.array(dst_list)\n",
    "\n",
    "subgraph_nodes = list(set(src_list) | set(dst_list))\n",
    "subgraph_nodes.sort()\n",
    "\n",
    "labels1_subgraph = ak.array([\"lbl1\", \"lbl1\", \"lbl1\", \"lbl1\"])\n",
    "labels2_subgraph = ak.array([\"lbl3\", \"lbl3\", \"lbl3\", \"lbl3\"])\n",
    "rels1_subgraph = ak.array([\"rel1\", \"rel1\", \"rel1\", \"rel1\", \"rel1\"])\n",
    "rels2_subgraph = ak.array([\"rel3\", \"rel3\", \"rel3\", \"rel3\", \"rel3\"])\n",
    "\n",
    "#2. Populate the subgraph.\n",
    "subgraph = ar.PropGraph()\n",
    "edge_df_h = ak.DataFrame({\"src\":src_subgraph, \"dst\":dst_subgraph,\n",
    "                        \"rels1\":rels1_subgraph, \"rels2\":rels2_subgraph})\n",
    "node_df_h = ak.DataFrame({\"nodes\": ak.array(subgraph_nodes), \"lbls1\":labels1_subgraph,\n",
    "                            \"lbls2\":labels2_subgraph})\n",
    "subgraph.load_edge_attributes(edge_df_h, source_column=\"src\", destination_column=\"dst\",\n",
    "                                relationship_columns=[\"rels1\",\"rels2\"])\n",
    "subgraph.load_node_attributes(node_df_h, node_column=\"nodes\", label_columns=[\"lbls1\",\"lbls2\"])"
   ]
  },
  {
   "cell_type": "code",
   "execution_count": null,
   "id": "66c3bc99",
   "metadata": {},
   "outputs": [],
   "source": [
    "isos_as_vertices = ar.subgraph_isomorphism(prop_graph,subgraph, semantic_check=\"or\", algorithm_type=\"ps\", return_isos_as=\"vertices\")\n",
    "print(f\"We found {len(isos_as_vertices[0])/len(subgraph)} isos inside of the graph\")"
   ]
  },
  {
   "cell_type": "code",
   "execution_count": null,
   "id": "dbaca18c",
   "metadata": {},
   "outputs": [],
   "source": [
    "isos_as_edges = ar.subgraph_isomorphism(prop_graph,subgraph, semantic_check=\"or\", algorithm_type=\"si\", return_isos_as=\"edges\")\n",
    "print(f\"We found {len(isos_as_edges[0])/subgraph.size()} isos inside of the graph\")"
   ]
  },
  {
   "cell_type": "code",
   "execution_count": null,
   "id": "1cb42923",
   "metadata": {},
   "outputs": [],
   "source": [
    "(isos,mapper,src,dst) = ar.subgraph_isomorphism(prop_graph,subgraph, semantic_check=\"or\", algorithm_type=\"si\", return_isos_as=\"complete\")\n",
    "print(isos)\n",
    "print(mapper)\n",
    "print(src)\n",
    "print(dst)"
   ]
  }
 ],
 "metadata": {
  "kernelspec": {
   "display_name": "arkouda-dev",
   "language": "python",
   "name": "python3"
  },
  "language_info": {
   "codemirror_mode": {
    "name": "ipython",
    "version": 3
   },
   "file_extension": ".py",
   "mimetype": "text/x-python",
   "name": "python",
   "nbconvert_exporter": "python",
   "pygments_lexer": "ipython3",
   "version": "3.10.12"
  }
 },
 "nbformat": 4,
 "nbformat_minor": 5
}
