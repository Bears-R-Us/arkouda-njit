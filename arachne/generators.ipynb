{
 "cells": [
  {
   "cell_type": "code",
   "execution_count": null,
   "metadata": {},
   "outputs": [],
   "source": [
    "import arkouda as ak\n",
    "import arachne as ar\n",
    "import networkx as nx"
   ]
  },
  {
   "cell_type": "code",
   "execution_count": null,
   "metadata": {},
   "outputs": [],
   "source": [
    "ak.connect(\"n82\", 5555)"
   ]
  },
  {
   "cell_type": "code",
   "execution_count": null,
   "metadata": {},
   "outputs": [],
   "source": [
    "ar_ws_graph = ar.watts_strogatz_graph(100, 5, 0.05, create_using=ar.Graph)\n",
    "nx_ws_graph = nx.watts_strogatz_graph(100, 5, 0.05) # NetworkX does not support directed Watts-Strogatz graphs.\n",
    "print(f\"ar_ws_graph has {len(ar_ws_graph):_} vertices and {ar_ws_graph.size():_} edges.\")\n",
    "print(f\"nx_ws_graph has {len(nx_ws_graph):_} vertices and {nx_ws_graph.size():_} edges.\")"
   ]
  },
  {
   "cell_type": "code",
   "execution_count": null,
   "metadata": {},
   "outputs": [],
   "source": [
    "ar_gnp_graph = ar.gnp(1000, 0.0005, create_using=ar.DiGraph)\n",
    "nx_gnp_graph = nx.gnp_random_graph(1000, 0.0005, directed=True)\n",
    "print(f\"ar_gnp_graph has {len(ar_gnp_graph):_} vertices and {ar_gnp_graph.size():_} edges.\")\n",
    "print(f\"nx_gnp_graph has {len(nx_gnp_graph):_} vertices and {nx_gnp_graph.size():_} edges.\")"
   ]
  }
 ],
 "metadata": {
  "kernelspec": {
   "display_name": "arkouda-dev",
   "language": "python",
   "name": "python3"
  },
  "language_info": {
   "codemirror_mode": {
    "name": "ipython",
    "version": 3
   },
   "file_extension": ".py",
   "mimetype": "text/x-python",
   "name": "python",
   "nbconvert_exporter": "python",
   "pygments_lexer": "ipython3",
   "version": "3.10.12"
  }
 },
 "nbformat": 4,
 "nbformat_minor": 2
}
