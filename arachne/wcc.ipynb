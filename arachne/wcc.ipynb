{
 "cells": [
  {
   "cell_type": "markdown",
   "id": "1992821c",
   "metadata": {},
   "source": [
    "### **Introduction to Arachne**\n",
    "Arachne is a Python package for graph analysis that is built as an extension to Arkouda, a Python package for analysis on tabular data, akin to NumPy and Pandas. In this notebook we will show examples on how to run each algorithm that has been implemented on different types of graphs: undirected, directed, and property."
   ]
  },
  {
   "cell_type": "code",
   "execution_count": null,
   "id": "f651e065",
   "metadata": {},
   "outputs": [],
   "source": [
    "import arkouda as ak\n",
    "import arachne as ar\n",
    "import scipy as sp\n",
    "import networkx as nx\n",
    "import matplotlib.pyplot as plt\n",
    "import os"
   ]
  },
  {
   "cell_type": "code",
   "execution_count": null,
   "id": "671cb378",
   "metadata": {},
   "outputs": [],
   "source": [
    "# NOTE: Make sure to change the server name to whatever is applicable in your environment. If running locally, then use only ak.connect().\n",
    "ak.connect(\"n0076\", 5555)"
   ]
  },
  {
   "cell_type": "markdown",
   "id": "3b3dd41e",
   "metadata": {},
   "source": [
    "### **Well-Connected Components**\n",
    "\n",
    "This algorithm performs steps to ensure that every cluster/community from a given graph and clustering inputs are well-connected. It returns the number of clusters found to be well-connected and outputs them to a file.\n",
    "\n",
    "Below are three examples that run all the variations of currently available well-connectedness criteria with three different output types. \n",
    "\n",
    "Any keyword arguments are optional, the default configurations can be found in the documentation string for the `well_connected_components` function. \n",
    "\n",
    "In the example below, `connectedness_criterion_mult_value` is always specified. However, this is only needed to be specified for when `connectedness_criterion` is equal to `mult`."
   ]
  },
  {
   "cell_type": "code",
   "execution_count": null,
   "id": "86b36041",
   "metadata": {},
   "outputs": [
    {
     "name": "stdout",
     "output_type": "stream",
     "text": [
      "Cluster files written to:  /mmfs1/home/md724/arkouda-njit/arachne/output/log10_test_network_wcc_output_post.tsv\n",
      "WCC found 26 clusters to be well-connected.\n"
     ]
    }
   ],
   "source": [
    "# Create an Arachne graph from a test network file.\n",
    "#ar_network_graph = ar.read_tsv_file(os.path.abspath(\"./data/wcc/test_network_simple_1.tsv\"))\n",
    "ar_network_graph = ar.read_tsv_file(os.path.abspath(\"./data/wcc/test_network.tsv\"))\n",
    "#ar_network_graph = ar.read_tsv_file(os.path.abspath(\"/home/md724/testFolder/wcc_inputs/networks/cen_0.01_cm_v1_sample_0.tsv\"))\n",
    "#ar_network_graph = ar.read_tsv_file(os.path.abspath(\"/home/md724/testFolder/wcc_inputs/networks/cen_0.01_cm_v1_sample_1.tsv\"))\n",
    "#ar_network_graph = ar.read_tsv_file(os.path.abspath(\"/home/md724/testFolder/wcc_inputs/networks/cen_0.01_no_cm_v1_sample_0.tsv\"))\n",
    "# Execute wcc with the absolute path to the generate and the create network file.\n",
    "# file_path = os.path.abspath(\"./data/wcc/test_clustering_simple_1.tsv\")\n",
    "file_path = os.path.abspath(\"./data/wcc/test_clustering.tsv\")\n",
    "#file_path = os.path.abspath(\"/home/md724/testFolder/wcc_inputs/clusterings/cen_0.01_cm_v1_sample_0_leiden.tsv\")\n",
    "#file_path = os.path.abspath(\"/home/md724/testFolder/wcc_inputs/clusterings/cen_0.01_cm_v1_sample_1_leiden.tsv\")\n",
    "#file_path = os.path.abspath(\"/home/md724/testFolder/wcc_inputs/clusterings/cen_0.01_no_cm_v1_sample_0_leiden.tsv\")\n",
    "output_path = os.path.abspath(\"./output/\")\n",
    "output_filename = \"_test_network_wcc_output_post.tsv\"\n",
    "\n",
    "# criterion_variations = [\"log10\", \"log2\", \"sqrt\", \"mult\"]\n",
    "criterion_variations = [\"log10\"]\n",
    "\n",
    "for variant in criterion_variations:\n",
    "    curr_output_filename = variant + output_filename\n",
    "    num_clusters = ar.well_connected_components(ar_network_graph, file_path, output_path, \n",
    "                                                output_filename=curr_output_filename,\n",
    "                                                output_type = \"post\",\n",
    "                                                connectedness_criterion = variant,\n",
    "                                                connectedness_criterion_mult_value = 0.05,\n",
    "                                                pre_filter_min_size=1, post_filter_min_size=1)\n",
    "    print(f\"WCC found {num_clusters} clusters to be well-connected.\")"
   ]
  }
 ],
 "metadata": {
  "kernelspec": {
   "display_name": "Python 3",
   "language": "python",
   "name": "python3"
  },
  "language_info": {
   "codemirror_mode": {
    "name": "ipython",
    "version": 3
   },
   "file_extension": ".py",
   "mimetype": "text/x-python",
   "name": "python",
   "nbconvert_exporter": "python",
   "pygments_lexer": "ipython3",
   "version": "3.10.16"
  }
 },
 "nbformat": 4,
 "nbformat_minor": 5
}
