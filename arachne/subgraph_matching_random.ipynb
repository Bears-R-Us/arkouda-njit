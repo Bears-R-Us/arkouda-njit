{
 "cells": [
  {
   "cell_type": "code",
   "execution_count": 30,
   "id": "f5cc6dde",
   "metadata": {},
   "outputs": [
    {
     "name": "stderr",
     "output_type": "stream",
     "text": [
      "connected to arkouda server tcp://*:5555\n"
     ]
    },
    {
     "name": "stdout",
     "output_type": "stream",
     "text": [
      "Building property graph with 10000 vertices and 50084 edges took 2.34 seconds.\n",
      "Property graph created with random node and edge attributes.\n"
     ]
    }
   ],
   "source": [
    "import arkouda as ak\n",
    "import arachne as ar\n",
    "import scipy as sp\n",
    "import networkx as nx\n",
    "import matplotlib.pyplot as plt\n",
    "import os\n",
    "import time\n",
    "\n",
    "ak.connect(\"n64\", 5555)\n",
    "p = 0.0005\n",
    "num_nodes = 10_000\n",
    "\n",
    "start = time.time()\n",
    "temp_prop_graph = ar.gnp(num_nodes, p, create_using=ar.PropGraph)\n",
    "end = time.time()\n",
    "build_time = end - start\n",
    "\n",
    "print(f\"Building property graph with {len(temp_prop_graph)} vertices and \"\n",
    "        f\"{temp_prop_graph.size()} \"\n",
    "        f\"edges took {round(build_time,2)} seconds.\")\n",
    "\n",
    "### Generate node labels and edge relationships for the graph.\n",
    "# 1. Extract node and edge information.\n",
    "num_edges = temp_prop_graph.size()\n",
    "num_nodes = len(temp_prop_graph)\n",
    "edges = temp_prop_graph.edges()\n",
    "nodes = temp_prop_graph.nodes()\n",
    "\n",
    "##############################################\n",
    "# NEW SECTION: Generate random node and edge attributes\n",
    "##############################################\n",
    "\n",
    "# For nodes:\n",
    "# 2.1. Categorical from [\"blue\", \"red\", \"yellow\"]\n",
    "# colors = ak.array([\"blue\", \"red\"])\n",
    "# node_colors = colors[ak.randint(0, len(colors), num_nodes)]\n",
    "\n",
    "# 2.2. Integer from 10 to 12 (inclusive)\n",
    "node_ints = ak.randint(10, 12, num_nodes)\n",
    "\n",
    "# 2.3. Boolean from [False, True]\n",
    "node_bools = ak.randint(0, 1, num_nodes, dtype=ak.bool)\n",
    "\n",
    "# For edges:\n",
    "# 2.4. Randomly choose from [5, 10]\n",
    "edge_ints = ak.randint(10, 12, num_edges)\n",
    "\n",
    "##############################################\n",
    "# Create dataframes with the new attributes\n",
    "##############################################\n",
    "\n",
    "edge_df = ak.DataFrame({\n",
    "    \"src\": edges[0],\n",
    "    \"dst\": edges[1],\n",
    "    \"edge_attr\": edge_ints\n",
    "})\n",
    "\n",
    "node_df = ak.DataFrame({\n",
    "    \"nodes\": nodes,\n",
    "    # \"color\": node_colors,\n",
    "    \"int_attr\": node_ints,\n",
    "    \"bool_attr\": node_bools\n",
    "})\n",
    "\n",
    "##############################################\n",
    "# Create the new property graph with these attributes\n",
    "##############################################\n",
    "\n",
    "prop_graph = ar.PropGraph()\n",
    "prop_graph.load_edge_attributes(edge_df, source_column=\"src\", destination_column=\"dst\")\n",
    "prop_graph.load_node_attributes(node_df, node_column=\"nodes\")\n",
    "print(\"Property graph created with random node and edge attributes.\")\n",
    "\n",
    "\n",
    "\n",
    "### Create the subgraph we are searching for.\n",
    "# 1. Create labels and relationships to search for.\n",
    "src_list = [0, 1, 2, 1]\n",
    "dst_list = [1, 2, 0, 3]\n",
    "\n",
    "src_subgraph = ak.array(src_list)\n",
    "dst_subgraph = ak.array(dst_list)\n",
    "\n",
    "subgraph_nodes = list(set(src_list) | set(dst_list))\n",
    "subgraph_nodes.sort()\n",
    "\n",
    "# labels1_subgraph = ak.array([\"blue\", \"blue\", \"red\", \"red\"])\n",
    "labels2_subgraph = ak.array([10, 10, 10, 10])\n",
    "labels3_subgraph = ak.array([True, True, True, True])\n",
    "\n",
    "rels1_subgraph = ak.array([10, 10, 10, 10])"
   ]
  },
  {
   "cell_type": "code",
   "execution_count": 31,
   "id": "699b9036",
   "metadata": {},
   "outputs": [
    {
     "name": "stdout",
     "output_type": "stream",
     "text": [
      "We found 851.0 monos inside of the graph\n"
     ]
    }
   ],
   "source": [
    "\"\"\"VF2-SI STRUCTURAL\"\"\"\n",
    "edge_df_h = ak.DataFrame({\"src\": src_subgraph, \"dst\": dst_subgraph})\n",
    "\n",
    "sg = ar.PropGraph()\n",
    "sg.load_edge_attributes(edge_df_h, source_column=\"src\", destination_column=\"dst\")\n",
    "\n",
    "isos_as_vertices = ar.subgraph_isomorphism(prop_graph, sg, \n",
    "                                           semantic_check = None, algorithm_type = \"si\", \n",
    "                                           reorder = True, return_isos_as = \"vertices\")\n",
    "\n",
    "print(f\"We found {len(isos_as_vertices[0])/len(sg)} monos inside of the graph\")"
   ]
  },
  {
   "cell_type": "code",
   "execution_count": 32,
   "id": "683ec7ee",
   "metadata": {},
   "outputs": [
    {
     "name": "stdout",
     "output_type": "stream",
     "text": [
      "We found 0.0 monos inside of the graph\n"
     ]
    }
   ],
   "source": [
    "\"\"\"VF2-SI VERTEX PROBABILITIES\"\"\"\n",
    "edge_df_h = ak.DataFrame({\"src\": src_subgraph, \"dst\": dst_subgraph})\n",
    "node_df_h = ak.DataFrame({\"nodes\": ak.array(subgraph_nodes), \n",
    "                          # \"lbls1\": labels1_subgraph, \n",
    "                          \"lbls2\": labels2_subgraph,\n",
    "                          \"lbls3\": labels3_subgraph\n",
    "})\n",
    "\n",
    "sg = ar.PropGraph()\n",
    "sg.load_edge_attributes(edge_df_h, source_column=\"src\", destination_column=\"dst\")\n",
    "sg.load_node_attributes(node_df_h, node_column=\"nodes\")\n",
    "\n",
    "isos_as_vertices = ar.subgraph_isomorphism(prop_graph, sg, \n",
    "                                           semantic_check = \"and\", algorithm_type = \"si\", \n",
    "                                           reorder = True, return_isos_as = \"vertices\")\n",
    "\n",
    "print(f\"We found {len(isos_as_vertices[0])/len(sg)} monos inside of the graph\")"
   ]
  },
  {
   "cell_type": "code",
   "execution_count": 33,
   "id": "544c2d14",
   "metadata": {},
   "outputs": [
    {
     "name": "stdout",
     "output_type": "stream",
     "text": [
      "We found 0.0 monos inside of the graph\n"
     ]
    }
   ],
   "source": [
    "\"\"\"VF2-SI VERTEX AND EDGE PROBABILITIES\"\"\"\n",
    "edge_df_h = ak.DataFrame({\"src\": src_subgraph, \"dst\": dst_subgraph, \n",
    "                          \"rels1\": rels1_subgraph\n",
    "})\n",
    "node_df_h = ak.DataFrame({\"nodes\": ak.array(subgraph_nodes), \n",
    "                          # \"lbls1\": labels1_subgraph, \n",
    "                          \"lbls2\": labels2_subgraph,\n",
    "                          \"lbls3\": labels3_subgraph\n",
    "})\n",
    "\n",
    "sg = ar.PropGraph()\n",
    "sg.load_edge_attributes(edge_df_h, source_column=\"src\", destination_column=\"dst\")\n",
    "sg.load_node_attributes(node_df_h, node_column=\"nodes\")\n",
    "\n",
    "isos_as_vertices = ar.subgraph_isomorphism(prop_graph, sg, \n",
    "                                           semantic_check = \"and\", algorithm_type = \"si\", \n",
    "                                           reorder = True, return_isos_as = \"vertices\")\n",
    "\n",
    "print(f\"We found {len(isos_as_vertices[0])/len(sg)} monos inside of the graph\")"
   ]
  },
  {
   "cell_type": "code",
   "execution_count": 34,
   "id": "5dabc71f",
   "metadata": {},
   "outputs": [
    {
     "name": "stdout",
     "output_type": "stream",
     "text": [
      "We found 851.0 monos inside of the graph\n"
     ]
    }
   ],
   "source": [
    "\"\"\"VF2-PS STRUCTURAL\"\"\"\n",
    "edge_df_h = ak.DataFrame({\"src\": src_subgraph, \"dst\": dst_subgraph})\n",
    "\n",
    "sg = ar.PropGraph()\n",
    "sg.load_edge_attributes(edge_df_h, source_column=\"src\", destination_column=\"dst\")\n",
    "\n",
    "isos_as_vertices = ar.subgraph_isomorphism(prop_graph, sg, \n",
    "                                           semantic_check = None, algorithm_type = \"ps\", \n",
    "                                           reorder = False, return_isos_as = \"vertices\")\n",
    "\n",
    "print(f\"We found {len(isos_as_vertices[0])/len(sg)} monos inside of the graph\")"
   ]
  },
  {
   "cell_type": "code",
   "execution_count": 35,
   "id": "c513c5e8",
   "metadata": {},
   "outputs": [
    {
     "name": "stdout",
     "output_type": "stream",
     "text": [
      "We found 0.0 monos inside of the graph\n"
     ]
    }
   ],
   "source": [
    "\"\"\"VF2-PS VERTEX PROBABILITIES\"\"\"\n",
    "edge_df_h = ak.DataFrame({\"src\": src_subgraph, \"dst\": dst_subgraph})\n",
    "node_df_h = ak.DataFrame({\"nodes\": ak.array(subgraph_nodes), \n",
    "                          # \"lbls1\": labels1_subgraph, \n",
    "                          \"lbls2\": labels2_subgraph,\n",
    "                          \"lbls3\": labels3_subgraph\n",
    "})\n",
    "\n",
    "sg = ar.PropGraph()\n",
    "sg.load_edge_attributes(edge_df_h, source_column=\"src\", destination_column=\"dst\")\n",
    "sg.load_node_attributes(node_df_h, node_column=\"nodes\")\n",
    "\n",
    "isos_as_vertices = ar.subgraph_isomorphism(prop_graph, sg, \n",
    "                                           semantic_check = \"and\", algorithm_type = \"ps\", \n",
    "                                           reorder = False, return_isos_as = \"vertices\")\n",
    "\n",
    "print(f\"We found {len(isos_as_vertices[0])/len(sg)} monos inside of the graph\")"
   ]
  },
  {
   "cell_type": "code",
   "execution_count": 36,
   "id": "0edf75f7",
   "metadata": {},
   "outputs": [
    {
     "name": "stdout",
     "output_type": "stream",
     "text": [
      "We found 0.0 monos inside of the graph\n"
     ]
    }
   ],
   "source": [
    "\"\"\"VF2-PS VERTEX AND EDGE PROBABILITIES\"\"\"\n",
    "edge_df_h = ak.DataFrame({\"src\": src_subgraph, \"dst\": dst_subgraph, \n",
    "                          \"rels1\": rels1_subgraph\n",
    "})\n",
    "node_df_h = ak.DataFrame({\"nodes\": ak.array(subgraph_nodes), \n",
    "                          # \"lbls1\": labels1_subgraph, \n",
    "                          \"lbls2\": labels2_subgraph,\n",
    "                          \"lbls3\": labels3_subgraph\n",
    "})\n",
    "\n",
    "sg = ar.PropGraph()\n",
    "sg.load_edge_attributes(edge_df_h, source_column=\"src\", destination_column=\"dst\")\n",
    "sg.load_node_attributes(node_df_h, node_column=\"nodes\")\n",
    "\n",
    "isos_as_vertices = ar.subgraph_isomorphism(prop_graph, sg, \n",
    "                                           semantic_check = \"and\", algorithm_type = \"ps\", \n",
    "                                           reorder = False, return_isos_as = \"vertices\")\n",
    "\n",
    "print(f\"We found {len(isos_as_vertices[0])/len(sg)} monos inside of the graph\")"
   ]
  }
 ],
 "metadata": {
  "kernelspec": {
   "display_name": "arkouda-dev",
   "language": "python",
   "name": "python3"
  },
  "language_info": {
   "codemirror_mode": {
    "name": "ipython",
    "version": 3
   },
   "file_extension": ".py",
   "mimetype": "text/x-python",
   "name": "python",
   "nbconvert_exporter": "python",
   "pygments_lexer": "ipython3",
   "version": "3.10.12"
  }
 },
 "nbformat": 4,
 "nbformat_minor": 5
}
