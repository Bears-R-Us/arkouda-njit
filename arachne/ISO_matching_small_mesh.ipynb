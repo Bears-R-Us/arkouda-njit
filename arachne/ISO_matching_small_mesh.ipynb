{
 "cells": [
  {
   "cell_type": "code",
   "execution_count": 1,
   "id": "f651e065",
   "metadata": {},
   "outputs": [
    {
     "name": "stdout",
     "output_type": "stream",
     "text": [
      "    _         _                   _       \n",
      "   / \\   _ __| | _____  _   _  __| | __ _ \n",
      "  / _ \\ | '__| |/ / _ \\| | | |/ _` |/ _` |\n",
      " / ___ \\| |  |   < (_) | |_| | (_| | (_| |\n",
      "/_/   \\_\\_|  |_|\\_\\___/ \\__,_|\\__,_|\\__,_|\n",
      "                                          \n",
      "\n",
      "Client Version: v2024.06.21\n"
     ]
    }
   ],
   "source": [
    "import arkouda as ak\n",
    "import arachne as ar\n",
    "import scipy as sp\n",
    "import networkx as nx\n",
    "import matplotlib.pyplot as plt\n",
    "import os"
   ]
  },
  {
   "cell_type": "code",
   "execution_count": 2,
   "id": "671cb378",
   "metadata": {},
   "outputs": [
    {
     "name": "stderr",
     "output_type": "stream",
     "text": [
      "connected to arkouda server tcp://*:5555\n"
     ]
    }
   ],
   "source": [
    "# NOTE: Make sure to change the server name to whatever is applicable in your environment. If running locally, then use only ak.connect().\n",
    "ak.connect(\"n119\", 5555)"
   ]
  },
  {
   "cell_type": "code",
   "execution_count": 3,
   "id": "0e3a275a",
   "metadata": {},
   "outputs": [],
   "source": [
    "src_list = [1, 2, 1, 3, 4, 2, 5,6,6,6, 4, 5, 6, 3, 8, 9, 4, 9, 10,10,10,10,10,11,14,12,13,14,13,10,8,8,8,8,8,9,9,9]\n",
    "dst_list = [0, 1, 3, 4, 1, 4, 2,7,8,10, 5, 6, 7, 8, 9, 3, 9, 10, 4,11,2,3,4,5,12,13,14,1,2,2,4,5,6,7,0,7,14,11]\n",
    "\n",
    "src_graph = ak.array(src_list)\n",
    "dst_graph = ak.array(dst_list)\n",
    "\n",
    "\n",
    "# Fixed attributes for subgraph\n",
    "graph_node_ints = ak.array([10]*15)\n",
    "graph_node_bools = ak.array([True]*15)\n",
    "graph_edge_ints = ak.array([5]* len(src_list))\n",
    "graph_edge_bools = ak.array([True]*len(src_list))\n",
    "\n",
    "\n",
    "# Subgraph dataframes\n",
    "edge_df_h = ak.DataFrame({\n",
    "    \"src\": src_graph,\n",
    "    \"dst\": dst_graph,\n",
    "    \"rels1\": graph_edge_ints,\n",
    "    \"rels2\": graph_edge_bools\n",
    "})\n",
    "\n",
    "node_df_h = ak.DataFrame({\n",
    "    \"nodes\": ak.array(list(set(src_list + dst_list))),\n",
    "    \"lbls2\": graph_node_ints,\n",
    "    \"lbls3\": graph_node_bools\n",
    "})\n",
    "\n",
    "# Create the subgraph\n",
    "pg = ar.PropGraph()\n",
    "pg.load_edge_attributes(edge_df_h, source_column=\"src\", destination_column=\"dst\")\n",
    "pg.load_node_attributes(node_df_h, node_column=\"nodes\")\n"
   ]
  },
  {
   "cell_type": "code",
   "execution_count": 4,
   "id": "9aa2b97c",
   "metadata": {},
   "outputs": [],
   "source": [
    "\n",
    "\n",
    "# Subgraph structure\n",
    "src_list = [2, 3, 1, 3]\n",
    "dst_list = [3, 1, 2, 0]\n",
    "src_subgraph = ak.array(src_list)\n",
    "dst_subgraph = ak.array(dst_list)\n",
    "\n",
    "\n",
    "# Fixed attributes for subgraph\n",
    "subgraph_node_ints = ak.array([10, 10, 10, 10])\n",
    "subgraph_node_bools = ak.array([True, True, True, True])\n",
    "subgraph_edge_ints = ak.array([5, 5, 5, 5])\n",
    "subgraph_edge_bools = ak.array([True, True, True, True])\n",
    "\n",
    "\n",
    "# Subgraph dataframes\n",
    "edge_df_h = ak.DataFrame({\n",
    "    \"src\": src_subgraph,\n",
    "    \"dst\": dst_subgraph,\n",
    "    \"rels1\": subgraph_edge_ints,\n",
    "    \"rels2\": subgraph_edge_bools\n",
    "})\n",
    "\n",
    "node_df_h = ak.DataFrame({\n",
    "    \"nodes\": ak.array(list(set(src_list + dst_list))),\n",
    "    \"lbls2\": subgraph_node_ints,\n",
    "    \"lbls3\": subgraph_node_bools\n",
    "})\n",
    "\n",
    "# Create the subgraph\n",
    "sg = ar.PropGraph()\n",
    "sg.load_edge_attributes(edge_df_h, source_column=\"src\", destination_column=\"dst\")\n",
    "sg.load_node_attributes(node_df_h, node_column=\"nodes\")\n"
   ]
  },
  {
   "cell_type": "code",
   "execution_count": 5,
   "id": "ed073422",
   "metadata": {},
   "outputs": [
    {
     "name": "stdout",
     "output_type": "stream",
     "text": [
      "We found 18.0 monos inside of the graph with reordering\n"
     ]
    }
   ],
   "source": [
    "\"\"\"VF2-SI STRUCTURAL + labels + rels\"\"\"\n",
    "\n",
    "isos_as_vertices = ar.subgraph_isomorphism(pg, sg, \n",
    "                                           semantic_check = \"and\", algorithm_type = \"si\", \n",
    "                                           match_type = \"iso\",\n",
    "                                           reorder_type = \"structural\", return_isos_as = \"vertices\")\n",
    "print(f\"We found {len(isos_as_vertices[0])/len(sg)} monos inside of the graph with reordering\")"
   ]
  },
  {
   "cell_type": "code",
   "execution_count": 6,
   "id": "699ed9e6",
   "metadata": {},
   "outputs": [
    {
     "name": "stdout",
     "output_type": "stream",
     "text": [
      "We found 43.0 monos inside of the graph with reordering\n"
     ]
    }
   ],
   "source": [
    "\"\"\"VF2-SI STRUCTURAL + labels + rels\"\"\"\n",
    "\n",
    "isos_as_vertices = ar.subgraph_isomorphism(pg, sg, \n",
    "                                           semantic_check = \"and\", algorithm_type = \"si\", \n",
    "                                           match_type = \"mono\",\n",
    "                                           reorder_type = \"structural\", return_isos_as = \"vertices\")\n",
    "print(f\"We found {len(isos_as_vertices[0])/len(sg)} monos inside of the graph with reordering\")"
   ]
  },
  {
   "cell_type": "code",
   "execution_count": 7,
   "id": "3d625f42",
   "metadata": {},
   "outputs": [
    {
     "name": "stdout",
     "output_type": "stream",
     "text": [
      "Found isomorphic subgraphs:\n",
      "Total number of isomorphisms: 18\n"
     ]
    }
   ],
   "source": [
    "import networkx as nx\n",
    "from networkx.algorithms import isomorphism\n",
    "\n",
    "# Define the main graph\n",
    "# src_main = [1, 2, 1, 3, 4, 2, 5, 4, 5, 6, 3, 8, 9, 4, 9, 10]\n",
    "# dst_main = [0, 1, 3, 4, 1, 4, 2, 5, 6, 7, 8, 9, 3, 9, 10, 4]\n",
    "src_main = [1, 2, 1, 3, 4, 2, 5,6,6,6, 4, 5, 6, 3, 8, 9, 4, 9, 10,10,10,10,10,11,14,12,13,14,13,10,8,8,8,8,8,9,9,9]\n",
    "dst_main = [0, 1, 3, 4, 1, 4, 2,7,8,10, 5, 6, 7, 8, 9, 3, 9, 10, 4,11,2,3,4,5,12,13,14,1,2,2,4,5,6,7,0,7,14,11]\n",
    "\n",
    "\n",
    "labels2_maingraph = [10, 10, 10, 10, 10, 10, 10, 10, 10, 10, 10,10,10,10,10]  # Integer labels for nodes\n",
    "labels3_maingraph = [True, True, True, True, True, True, True, True, True, True, True, True, True, True, True]  # Boolean labels for nodes\n",
    "\n",
    "main_graph = nx.DiGraph()\n",
    "main_graph.add_edges_from(zip(src_main, dst_main))\n",
    "\n",
    "# Add node attributes (integer and boolean labels)\n",
    "for i, (int_label, bool_label) in enumerate(zip(labels2_maingraph, labels3_maingraph)):\n",
    "    main_graph.nodes[i][\"label_int\"] = int_label\n",
    "    main_graph.nodes[i][\"label_bool\"] = bool_label\n",
    "\n",
    "# Add edge attributes (integer and boolean labels)\n",
    "for edge in main_graph.edges:\n",
    "    main_graph.edges[edge][\"label_int\"] = 5  # Assign integer label\n",
    "    main_graph.edges[edge][\"label_bool\"] = True  # Assign boolean label\n",
    "\n",
    "# Define the subgraph\n",
    "src_list = [0, 1, 2, 1]\n",
    "dst_list = [1, 2, 0, 3]\n",
    "\n",
    "subgraph_node_ints = [10, 10, 10, 10]  # Integer labels for subgraph nodes\n",
    "subgraph_node_bools = [True, True, True, True]  # Boolean labels for subgraph nodes\n",
    "\n",
    "subgraph = nx.DiGraph()\n",
    "subgraph.add_edges_from(zip(src_list, dst_list))\n",
    "\n",
    "# Add node attributes (integer and boolean labels)\n",
    "for i, (int_label, bool_label) in enumerate(zip(subgraph_node_ints, subgraph_node_bools)):\n",
    "    subgraph.nodes[i][\"label_int\"] = int_label\n",
    "    subgraph.nodes[i][\"label_bool\"] = bool_label\n",
    "\n",
    "# Add edge attributes (integer and boolean labels)\n",
    "for edge in subgraph.edges:\n",
    "    subgraph.edges[edge][\"label_int\"] = 5  # Assign integer label\n",
    "    subgraph.edges[edge][\"label_bool\"] = True  # Assign boolean label\n",
    "\n",
    "# Define isomorphism conditions for nodes and edges\n",
    "node_match = lambda n1, n2: n1[\"label_int\"] == n2[\"label_int\"] and n1[\"label_bool\"] == n2[\"label_bool\"]\n",
    "edge_match = lambda e1, e2: e1[\"label_int\"] == e2[\"label_int\"] and e1[\"label_bool\"] == e2[\"label_bool\"]\n",
    "\n",
    "# Find isomorphisms\n",
    "gm = isomorphism.DiGraphMatcher(main_graph, subgraph, node_match=node_match, edge_match=edge_match)\n",
    "isomorphism_count = 0\n",
    "\n",
    "print(\"Found isomorphic subgraphs:\")\n",
    "for mapping in gm.subgraph_isomorphisms_iter():\n",
    "    isomorphism_count += 1\n",
    "    #print(mapping)\n",
    "\n",
    "print(f\"Total number of isomorphisms: {isomorphism_count}\")\n"
   ]
  },
  {
   "cell_type": "code",
   "execution_count": 8,
   "id": "5470629b",
   "metadata": {},
   "outputs": [
    {
     "name": "stdout",
     "output_type": "stream",
     "text": [
      "Found monomorphic subgraphs:\n",
      "Total number of monomorphisms: 43\n"
     ]
    }
   ],
   "source": [
    "\n",
    "\n",
    "# Find monomorphisms\n",
    "gm = isomorphism.DiGraphMatcher(main_graph, subgraph, node_match=node_match, edge_match=edge_match)\n",
    "monomorphism_count = 0\n",
    "\n",
    "print(\"Found monomorphic subgraphs:\")\n",
    "for mapping in gm.subgraph_monomorphisms_iter():\n",
    "    monomorphism_count += 1\n",
    "    #print(mapping)\n",
    "\n",
    "print(f\"Total number of monomorphisms: {monomorphism_count}\")\n"
   ]
  }
 ],
 "metadata": {
  "kernelspec": {
   "display_name": "arkouda-dev",
   "language": "python",
   "name": "python3"
  },
  "language_info": {
   "codemirror_mode": {
    "name": "ipython",
    "version": 3
   },
   "file_extension": ".py",
   "mimetype": "text/x-python",
   "name": "python",
   "nbconvert_exporter": "python",
   "pygments_lexer": "ipython3",
   "version": "3.10.13"
  }
 },
 "nbformat": 4,
 "nbformat_minor": 5
}
