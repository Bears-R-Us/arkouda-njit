{
 "cells": [
  {
   "cell_type": "code",
   "execution_count": 13,
   "metadata": {},
   "outputs": [],
   "source": [
    "import arkouda as ak\n",
    "import arachne as ar\n",
    "import pandas as pd\n",
    "import numpy as np\n",
    "import networkx as nx\n",
    "import time\n",
    "import json"
   ]
  },
  {
   "cell_type": "code",
   "execution_count": 14,
   "metadata": {},
   "outputs": [],
   "source": [
    "# These are just wedges, we do not need subgraph isomorphism for these.\n",
    "src0 = [    1,     1]\n",
    "dst0 = [10002, 10003]\n",
    "connection_type0 = [0, 0]\n",
    "\n",
    "src1 = [    1,     1, 10003, 10003]\n",
    "dst1 = [10002, 10003, 30004, 30005]\n",
    "connection_type1 = [0, 0, 0, 0]\n",
    "\n",
    "src2 = [    1,     1, 40005]\n",
    "dst2 = [10002, 10003,     1]\n",
    "connection_type2 = [0, 0, 1]\n",
    "\n",
    "src3 = [    1,     1, 40005, 40005, 50008]\n",
    "dst3 = [10002, 10003, 50008,     1, 10003]\n",
    "connection_type3 = [0, 0, 0, 1, 1]\n",
    "\n",
    "src4 = [1, 1, 10003, 10003, 60007]\n",
    "dst4 = [10002, 10003, 30004, 30005, 1]\n",
    "connection_type4 = [0, 0, 0, 0, 1]\n",
    "\n",
    "src5 = [1, 1, 10003, 10003, 60007, 60007, 70010]\n",
    "dst5 = [10002, 10003, 30004, 30005, 70010, 1, 30005]\n",
    "connection_type5 = [0, 0, 0, 0, 0, 1, 1]\n",
    "\n",
    "src6 = [1, 1, 40005, 40005, 80009, 80009, 10003, 90010]\n",
    "dst6 = [10002, 10003, 50006, 50007, 90010, 90011, 50006, 50007]\n",
    "connection_type6 = [0, 0, 0, 0, 0, 0, 1, 1]\n",
    "\n",
    "src7 = [1, 10002, 40005, 60007, 80009]\n",
    "dst7 = [10002, 20003, 1, 10002, 20003]\n",
    "connection_type7 = [0, 0, 1, 1, 1]\n",
    "\n",
    "src00 = [1, 1, 1, 1, 10002]\n",
    "dst00 = [10002, 10003, 10004, 50006, 70008]\n",
    "connection_type00 = [0, 0, 0, 1, 1]\n",
    "\n",
    "src01 = [1, 10002, 20003, 30004, 1, 40005]\n",
    "dst01 = [10002, 20003, 30004, 40005, 60007, 80009]\n",
    "connection_type01 = [0, 0, 0, 0, 1, 1]\n",
    "\n",
    "src02 = [1, 30004, 60007, 90010, 110012, 130014]\n",
    "dst02 = [10002, 40005, 70008, 1, 30004, 60007]\n",
    "connection_type02 = [0, 0, 0, 1, 1, 1]\n",
    "\n",
    "src03 = [1, 1, 1, 50006, 50006, 50006, 120013, 120013, 120013, 10003, 10004]\n",
    "dst03 = [10002, 10003, 10004, 60007, 60008, 60009, 130014, 130015, 130016, 60007, 130015]\n",
    "connection_type03 = [0, 0, 0, 0, 0, 0, 0, 0, 0, 1, 1]\n",
    "\n",
    "raw_subgraph_data = {\n",
    "    \"0\": (src0, dst0, connection_type0),\n",
    "    \"3\": (src3, dst3, connection_type3),\n",
    "    \"2\": (src2, dst2, connection_type2),\n",
    "    \"7\": (src7, dst7, connection_type7),\n",
    "    \"5\": (src5, dst5, connection_type5),\n",
    "    # \"4\": (src4, dst4, connection_type4),\n",
    "    # \"1\": (src1, dst1, connection_type1),\n",
    "    # \"6\": (src6, dst6, connection_type6),\n",
    "    \"00\": (src00, dst00, connection_type00),\n",
    "    \"01\": (src01, dst01, connection_type01),\n",
    "    \"03\": (src03, dst03, connection_type03),\n",
    "    # \"02\": (src02, dst02, connection_type02)\n",
    "}"
   ]
  },
  {
   "cell_type": "code",
   "execution_count": 15,
   "metadata": {},
   "outputs": [
    {
     "name": "stderr",
     "output_type": "stream",
     "text": [
      "connected to arkouda server tcp://*:5555\n"
     ]
    }
   ],
   "source": [
    "# NOTE: Make sure to change the server name to whatever is applicable in your environment. If running locally, then use only ak.connect().\n",
    "ak.connect(\"n116\", 5555)"
   ]
  },
  {
   "cell_type": "code",
   "execution_count": 16,
   "metadata": {},
   "outputs": [
    {
     "name": "stderr",
     "output_type": "stream",
     "text": [
      "/tmp/ipykernel_379288/2510305971.py:2: DtypeWarning: Columns (26) have mixed types. Specify dtype option on import or set low_memory=False.\n",
      "  df = pd.read_csv(\"/scratch/users/oaa9/arkouda-njit/arachne/data/OL_dataset.csv\")\n"
     ]
    }
   ],
   "source": [
    "# Read in the dataset with pandas.\n",
    "df = pd.read_csv(\"/scratch/users/oaa9/arkouda-njit/arachne/data/OL_dataset.csv\")\n",
    "transformed_dataset = ak.DataFrame(df.to_dict(orient='list'))"
   ]
  },
  {
   "cell_type": "code",
   "execution_count": 17,
   "metadata": {},
   "outputs": [],
   "source": [
    "# Change to string data to integers.\n",
    "transformed_dataset[\"connection_type\"] = ak.where(transformed_dataset[\"connection_type\"] == \"n\", 0, 1)"
   ]
  },
  {
   "cell_type": "code",
   "execution_count": 18,
   "metadata": {},
   "outputs": [],
   "source": [
    "# Keep only the edge information and \"connection_type\" attribute.\n",
    "reduced_dataset = transformed_dataset[\"src\", \"dst\", \"connection_type\"]"
   ]
  },
  {
   "cell_type": "code",
   "execution_count": 19,
   "metadata": {},
   "outputs": [
    {
     "name": "stdout",
     "output_type": "stream",
     "text": [
      "Graph has 667_711 vertices and 962_796 edges.\n"
     ]
    }
   ],
   "source": [
    "# Create property graph.\n",
    "graph = ar.PropGraph()\n",
    "graph.load_edge_attributes(reduced_dataset, source_column=\"src\", destination_column=\"dst\")\n",
    "print(f\"Graph has {len(graph):_} vertices and {graph.size():_} edges.\")"
   ]
  },
  {
   "cell_type": "code",
   "execution_count": 20,
   "metadata": {},
   "outputs": [],
   "source": [
    "def vf2_si(g, h):\n",
    "    isos_as_vertices = ar.subgraph_isomorphism(g, h, \n",
    "                                            semantic_check = \"and\", algorithm_type = \"si\",\n",
    "                                            reorder_type = \"structural\", return_isos_as = \"vertices\")\n",
    "    print(f\"We found {len(isos_as_vertices[0])/len(h)} monos inside of the graph\")"
   ]
  },
  {
   "cell_type": "code",
   "execution_count": 21,
   "metadata": {},
   "outputs": [],
   "source": [
    "def vf2_si_probability_reordering(g,h):\n",
    "    isos_as_vertices = ar.subgraph_isomorphism(g, h, \n",
    "                                            semantic_check = \"and\", algorithm_type = \"si\",\n",
    "                                            reorder_type = \"probability\", return_isos_as = \"vertices\")\n",
    "    print(f\"We found {len(isos_as_vertices[0])/len(h)} monos inside of the graph\")"
   ]
  },
  {
   "cell_type": "code",
   "execution_count": 22,
   "metadata": {},
   "outputs": [],
   "source": [
    "def vf2_ps(g,h):\n",
    "    isos_as_vertices = ar.subgraph_isomorphism(g, h, \n",
    "                                            semantic_check = \"and\", algorithm_type = \"ps\", \n",
    "                                            reorder_type = None, return_isos_as = \"vertices\")\n",
    "    print(f\"We found {len(isos_as_vertices[0])/len(h)} monos inside of the graph\")"
   ]
  },
  {
   "cell_type": "code",
   "execution_count": 23,
   "metadata": {},
   "outputs": [],
   "source": [
    "def vf2_ps_structural_reordering(g,h):\n",
    "    isos_as_vertices = ar.subgraph_isomorphism(g, h, \n",
    "                                            semantic_check = \"and\", algorithm_type = \"ps\", \n",
    "                                            reorder_type = \"structural\", return_isos_as = \"vertices\")\n",
    "    print(f\"We found {len(isos_as_vertices[0])/len(h)} monos inside of the graph\")"
   ]
  },
  {
   "cell_type": "code",
   "execution_count": 24,
   "metadata": {},
   "outputs": [
    {
     "name": "stdout",
     "output_type": "stream",
     "text": [
      "Building subgraph0...\n",
      "Running VF2-SI on subgraph0...\n",
      "We found 696460.0 monos inside of the graph\n",
      "\n",
      "Running VF2-SI with probability reordering on subgraph0...\n",
      "We found 696460.0 monos inside of the graph\n",
      "\n",
      "Building subgraph3...\n",
      "Running VF2-SI on subgraph3...\n",
      "We found 5048.0 monos inside of the graph\n",
      "\n",
      "Running VF2-SI with probability reordering on subgraph3...\n",
      "We found 5048.0 monos inside of the graph\n",
      "\n",
      "Building subgraph2...\n",
      "Running VF2-SI on subgraph2...\n",
      "We found 191690.0 monos inside of the graph\n",
      "\n",
      "Running VF2-SI with probability reordering on subgraph2...\n",
      "We found 191690.0 monos inside of the graph\n",
      "\n",
      "Building subgraph7...\n",
      "Running VF2-SI on subgraph7...\n",
      "We found 91718.0 monos inside of the graph\n",
      "\n",
      "Running VF2-SI with probability reordering on subgraph7...\n",
      "We found 91718.0 monos inside of the graph\n",
      "\n",
      "Building subgraph5...\n",
      "Running VF2-SI on subgraph5...\n",
      "We found 2308.0 monos inside of the graph\n",
      "\n",
      "Running VF2-SI with probability reordering on subgraph5...\n",
      "We found 2308.0 monos inside of the graph\n",
      "\n",
      "Building subgraph00...\n",
      "Running VF2-SI on subgraph00...\n",
      "We found 161842.0 monos inside of the graph\n",
      "\n",
      "Running VF2-SI with probability reordering on subgraph00...\n",
      "We found 161842.0 monos inside of the graph\n",
      "\n",
      "Building subgraph01...\n",
      "Running VF2-SI on subgraph01...\n",
      "We found 179255.0 monos inside of the graph\n",
      "\n",
      "Running VF2-SI with probability reordering on subgraph01...\n",
      "We found 179255.0 monos inside of the graph\n",
      "\n",
      "Building subgraph03...\n",
      "Running VF2-SI on subgraph03...\n",
      "We found 4992.0 monos inside of the graph\n",
      "\n",
      "Running VF2-SI with probability reordering on subgraph03...\n",
      "We found 4992.0 monos inside of the graph\n",
      "\n"
     ]
    }
   ],
   "source": [
    "for key,value in raw_subgraph_data.items():\n",
    "    print(f\"Building subgraph{key}...\")\n",
    "    subgraph_dict = {\n",
    "        \"src\": value[0],\n",
    "        \"dst\": value[1],\n",
    "        \"connection_type\": value[2]\n",
    "    }\n",
    "    \n",
    "    subgraph = ar.PropGraph()\n",
    "    df = ak.DataFrame(subgraph_dict)\n",
    "    subgraph.load_edge_attributes(df, source_column=\"src\", destination_column=\"dst\")\n",
    "\n",
    "    print(f\"Running VF2-SI on subgraph{key}...\")\n",
    "    vf2_si(graph, subgraph)\n",
    "    print()\n",
    "\n",
    "    print(f\"Running VF2-SI with probability reordering on subgraph{key}...\")\n",
    "    vf2_si_probability_reordering(graph, subgraph)\n",
    "    print()\n",
    "\n",
    "    # print(f\"Running VF2-PS on subgraph{key}...\")\n",
    "    # vf2_ps(graph, subgraph)\n",
    "    # print()\n",
    "\n",
    "    # print(f\"Running VF2-PS with structural reordering on subgraph{key}...\")\n",
    "    # vf2_ps_structural_reordering(graph, subgraph)\n",
    "    # print()"
   ]
  }
 ],
 "metadata": {
  "kernelspec": {
   "display_name": "arkouda-dev",
   "language": "python",
   "name": "python3"
  },
  "language_info": {
   "codemirror_mode": {
    "name": "ipython",
    "version": 3
   },
   "file_extension": ".py",
   "mimetype": "text/x-python",
   "name": "python",
   "nbconvert_exporter": "python",
   "pygments_lexer": "ipython3",
   "version": "3.10.12"
  }
 },
 "nbformat": 4,
 "nbformat_minor": 2
}
