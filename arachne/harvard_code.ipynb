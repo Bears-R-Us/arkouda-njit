{
 "cells": [
  {
   "cell_type": "code",
   "execution_count": 1,
   "id": "f651e065",
   "metadata": {},
   "outputs": [
    {
     "name": "stdout",
     "output_type": "stream",
     "text": [
      "    _         _                   _       \n",
      "   / \\   _ __| | _____  _   _  __| | __ _ \n",
      "  / _ \\ | '__| |/ / _ \\| | | |/ _` |/ _` |\n",
      " / ___ \\| |  |   < (_) | |_| | (_| | (_| |\n",
      "/_/   \\_\\_|  |_|\\_\\___/ \\__,_|\\__,_|\\__,_|\n",
      "                                          \n",
      "\n",
      "Client Version: v2024.06.21+0.gcf6eeacde.dirty\n"
     ]
    }
   ],
   "source": [
    "import arkouda as ak\n",
    "import arachne as ar\n",
    "import pandas as pd\n",
    "import numpy as np"
   ]
  },
  {
   "cell_type": "code",
   "execution_count": 2,
   "id": "671cb378",
   "metadata": {},
   "outputs": [
    {
     "name": "stderr",
     "output_type": "stream",
     "text": [
      "connected to arkouda server tcp://*:5555\n"
     ]
    }
   ],
   "source": [
    "# NOTE: Make sure to change the server name to whatever is applicable in your environment. If running locally, then use only ak.connect().\n",
    "ak.connect(\"n115\", 5555)"
   ]
  },
  {
   "cell_type": "code",
   "execution_count": 3,
   "id": "04768463",
   "metadata": {},
   "outputs": [],
   "source": [
    "# These are just wedges, we do not need subgraph isomorphism for these.\n",
    "src1 = [1, 1, 10003, 10003]\n",
    "dst1 = [10002, 10003, 30004, 30005]\n",
    "connection_type1 = ['n', 'n', 'n', 'n']\n",
    "\n",
    "src2 = [1, 1, 40005]\n",
    "dst2 = [10002, 10003, 1]\n",
    "connection_type2 = ['n', 'n', 's']\n",
    "\n",
    "src3 = [1, 1, 40005, 40005, 50008]\n",
    "dst3 = [10002, 10003, 50008, 1, 10003]\n",
    "connection_type3 = ['n', 'n', 'n', 's', 's']\n",
    "\n",
    "src4 = [1, 1, 10003, 10003, 60007]\n",
    "dst4 = [10002, 10003, 30004, 30005, 1]\n",
    "connection_type4 = ['n', 'n', 'n', 'n', 's']\n",
    "\n",
    "src5 = [1, 1, 10003, 10003, 60007, 60007, 70010]\n",
    "dst5 = [10002, 10003, 30004, 30005, 70010, 1, 30005]\n",
    "connection_type5 = ['n', 'n', 'n', 'n', 'n', 's', 's']\n",
    "\n",
    "src6 = [1, 1, 40005, 40005, 80009, 80009, 10003, 90010]\n",
    "dst6 = [10002, 10003, 50006, 50007, 90010, 90011, 50006, 50007]\n",
    "connection_type6 = ['n', 'n', 'n', 'n', 'n', 'n', 's', 's']\n",
    "\n",
    "src7 = [1, 10002, 40005, 60007, 80009]\n",
    "dst7 = [10002, 20003, 1, 10002, 20003]\n",
    "connection_type7 = ['n', 'n', 's', 's', 's']\n",
    "\n",
    "src0 = [1, 1]\n",
    "dst0 = [10002, 10003]\n",
    "connection_type0 = ['n', 'n']\n",
    "\n",
    "subgraphs_as_list_of_tuples = [ (src1,dst1,connection_type1, \"1\"),\n",
    "                                (src2,dst2,connection_type2, \"2\"),\n",
    "                                (src3,dst3,connection_type3, \"3\"),\n",
    "                                (src4,dst4,connection_type4, \"4\"),\n",
    "                                (src5,dst5,connection_type5, \"5\"),\n",
    "                                (src6,dst6,connection_type6, \"6\"),\n",
    "                                (src7,dst7,connection_type7, \"7\"),\n",
    "                                (src0,dst0,connection_type0, \"0\")\n",
    "                            ]"
   ]
  },
  {
   "cell_type": "code",
   "execution_count": 4,
   "id": "a7ca5c52",
   "metadata": {},
   "outputs": [
    {
     "name": "stderr",
     "output_type": "stream",
     "text": [
      "/tmp/ipykernel_1654812/4272365571.py:1: DtypeWarning: Columns (26) have mixed types. Specify dtype option on import or set low_memory=False.\n",
      "  df = pd.read_csv(\"/scratch/users/oaa9/arkouda-njit/arachne/data/OL_dataset.csv\")\n"
     ]
    }
   ],
   "source": [
    "df = pd.read_csv(\"/scratch/users/oaa9/arkouda-njit/arachne/data/OL_dataset.csv\")\n",
    "transformed_dataset = ak.DataFrame(df.to_dict(orient='list'))"
   ]
  },
  {
   "cell_type": "code",
   "execution_count": 5,
   "id": "4a6f4bdd",
   "metadata": {},
   "outputs": [],
   "source": [
    "def get_mapping(g, subgraph):\n",
    "    src_sub, dst_sub = subgraph.edges()\n",
    "    src_sub = src_sub.to_ndarray()\n",
    "    dst_sub = dst_sub.to_ndarray()\n",
    "    isos_as_vertices = ar.subgraph_isomorphism(g, subgraph, algorithm_type=\"si\", return_isos_as=\"vertices\", semantic_check=\"or\", size_limit=10_000)\n",
    "    isos = isos_as_vertices[0]\n",
    "    isos_ndarray = isos.to_ndarray()\n",
    "\n",
    "    # Check if the length of isomorphisms is a multiple of the number of subgraph nodes\n",
    "    if len(isos) % len(subgraph) != 0:\n",
    "        raise ValueError(\"The length of isomorphisms is not a multiple of the number of subgraph nodes.\")\n",
    "\n",
    "    subgraph_nodes = sorted(list(np.unique(np.concatenate((src_sub, dst_sub)))))\n",
    "    number_isos_found = len(isos) // len(subgraph_nodes)\n",
    "\n",
    "    print(f\"Number of motifs found is {number_isos_found}\")\n",
    "\n",
    "    # Prepare the hostgraph_nodes as a 2D array\n",
    "    hostgraph_nodes = isos_ndarray.reshape(-1, len(subgraph_nodes))\n",
    "\n",
    "    # Create all mappings at once using a list comprehension\n",
    "    all_mappings = [\n",
    "        dict(zip(subgraph_nodes, hostgraph_nodes[i]))\n",
    "        for i in range(number_isos_found)\n",
    "    ]\n",
    "\n",
    "    # print(f\"Number of Mappings found: {number_isos_found}\")\n",
    "    return all_mappings"
   ]
  },
  {
   "cell_type": "code",
   "execution_count": 6,
   "id": "afe29c9f",
   "metadata": {},
   "outputs": [
    {
     "name": "stdout",
     "output_type": "stream",
     "text": [
      "Built graph with 667711 vertices and 962796 edges\n"
     ]
    }
   ],
   "source": [
    "g = ar.PropGraph()\n",
    "g.load_edge_attributes(transformed_dataset, source_column=\"src\", destination_column=\"dst\", \n",
    "                            relationship_columns=[\"s_bef\", \"s_bef_x\", \"s_bef_y\", \"s_bef_z\", \"s_af\", \"s_af_x\", \n",
    "                                                    \"s_af_y\", \"s_af_z\", 's_x', \"s_y\", \"s_z\", \"s_distance\", \"d_bef\",\n",
    "                                                    \"d_bef_x\", \"d_bef_y\", \"d_bef_z\", \"d_af\", \"d_af_x\", \"d_af_y\", \"d_af_z\",\n",
    "                                                    \"d_x\", \"d_y\", \"d_z\", \"d_distance\", \"n_id\", \"connection_type\"])\n",
    "\n",
    "print(f\"Built graph with {len(g)} vertices and {g.size()} edges\")"
   ]
  },
  {
   "cell_type": "code",
   "execution_count": 7,
   "id": "df78f686",
   "metadata": {},
   "outputs": [],
   "source": [
    "def motif_to_viss(src, dst, connection_type):    \n",
    "    subgraph_dict = {\n",
    "        \"src\": src,\n",
    "        \"dst\": dst,\n",
    "        \"connection_type\": connection_type\n",
    "        }\n",
    "    \n",
    "    subgraph = ar.PropGraph()\n",
    "    df = ak.DataFrame(subgraph_dict)\n",
    "    subgraph.load_edge_attributes(df, source_column=\"src\", destination_column=\"dst\", \n",
    "                                relationship_columns=[\"connection_type\"])\n",
    "    \n",
    "    node_mapping = get_mapping(g, subgraph)\n",
    "    return node_mapping"
   ]
  },
  {
   "cell_type": "code",
   "execution_count": 8,
   "id": "938407f8",
   "metadata": {},
   "outputs": [
    {
     "name": "stdout",
     "output_type": "stream",
     "text": [
      "Number of motifs found is 10001\n",
      "For subgraph 1 finding motifs took: 80.36615204811096 seconds\n",
      "Number of motifs found is 10011\n",
      "For subgraph 2 finding motifs took: 6.3795390129089355 seconds\n",
      "Number of motifs found is 5048\n",
      "For subgraph 3 finding motifs took: 8.943705558776855 seconds\n",
      "Number of motifs found is 10005\n",
      "For subgraph 4 finding motifs took: 21.315133094787598 seconds\n",
      "Number of motifs found is 2308\n",
      "For subgraph 5 finding motifs took: 340.9331910610199 seconds\n",
      "Number of motifs found is 10000\n",
      "For subgraph 6 finding motifs took: 717.2857136726379 seconds\n",
      "Number of motifs found is 10012\n",
      "For subgraph 7 finding motifs took: 6.522960424423218 seconds\n",
      "Number of motifs found is 10086\n",
      "For subgraph 0 finding motifs took: 6.163693428039551 seconds\n"
     ]
    }
   ],
   "source": [
    "import time\n",
    "\n",
    "for tup in subgraphs_as_list_of_tuples:\n",
    "    start = time.time()\n",
    "    motif_to_viss(tup[0], tup[1], tup[2])\n",
    "    end = time.time()\n",
    "    print(f\"For subgraph {tup[3]} finding motifs took: {end-start} seconds\")"
   ]
  }
 ],
 "metadata": {
  "kernelspec": {
   "display_name": "arkouda-dev",
   "language": "python",
   "name": "python3"
  },
  "language_info": {
   "codemirror_mode": {
    "name": "ipython",
    "version": 3
   },
   "file_extension": ".py",
   "mimetype": "text/x-python",
   "name": "python",
   "nbconvert_exporter": "python",
   "pygments_lexer": "ipython3",
   "version": "3.10.12"
  }
 },
 "nbformat": 4,
 "nbformat_minor": 5
}
