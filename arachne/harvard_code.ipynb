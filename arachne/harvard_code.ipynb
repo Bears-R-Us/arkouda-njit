{
 "cells": [
  {
   "cell_type": "code",
   "execution_count": 11,
   "id": "f651e065",
   "metadata": {},
   "outputs": [],
   "source": [
    "import arkouda as ak\n",
    "import arachne as ar\n",
    "import pandas as pd\n",
    "import numpy as np\n",
    "import time\n",
    "import json"
   ]
  },
  {
   "cell_type": "code",
   "execution_count": 12,
   "id": "671cb378",
   "metadata": {},
   "outputs": [
    {
     "name": "stderr",
     "output_type": "stream",
     "text": [
      "connected to arkouda server tcp://*:5555\n"
     ]
    }
   ],
   "source": [
    "# NOTE: Make sure to change the server name to whatever is applicable in your environment. If running locally, then use only ak.connect().\n",
    "ak.connect(\"n96\", 5555)"
   ]
  },
  {
   "cell_type": "code",
   "execution_count": 99,
   "id": "04768463",
   "metadata": {},
   "outputs": [],
   "source": [
    "# These are just wedges, we do not need subgraph isomorphism for these.\n",
    "src0 = [    1,     1]\n",
    "dst0 = [10002, 10003]\n",
    "connection_type0 = ['n', 'n']\n",
    "color0 = ['b', 'b']\n",
    "\n",
    "src1 = [    1,     1, 10003, 10003]\n",
    "dst1 = [10002, 10003, 30004, 30005]\n",
    "connection_type1 = ['n', 'n', 'n', 'n']\n",
    "color1 = ['b', 'b', 'b', 'b']\n",
    "\n",
    "src2 = [    1,     1, 40005]\n",
    "dst2 = [10002, 10003,     1]\n",
    "connection_type2 = ['n', 'n', 's']\n",
    "color2 = ['b', 'b', 'b_r']\n",
    "\n",
    "src3 = [    1,     1, 40005, 40005, 50008]\n",
    "dst3 = [10002, 10003, 50008,     1, 10003]\n",
    "connection_type3 = ['n', 'n', 'n', 's', 's']\n",
    "color3 = ['b', 'b', 'r', 'b_r', 'b_r']\n",
    "\n",
    "src4 = [1, 1, 10003, 10003, 60007]\n",
    "dst4 = [10002, 10003, 30004, 30005, 1]\n",
    "connection_type4 = ['n', 'n', 'n', 'n', 's']\n",
    "color4 = ['b', 'b', 'b', 'b', 'b_r']\n",
    "\n",
    "src5 = [1, 1, 10003, 10003, 60007, 60007, 70010]\n",
    "dst5 = [10002, 10003, 30004, 30005, 70010, 1, 30005]\n",
    "connection_type5 = ['n', 'n', 'n', 'n', 'n', 's', 's']\n",
    "color5 = ['b', 'b', 'b', 'b', 'r', 'b_r',  'b_r']\n",
    "\n",
    "src6 = [1, 1, 40005, 40005, 80009, 80009, 10003, 90010]\n",
    "dst6 = [10002, 10003, 50006, 50007, 90010, 90011, 50006, 50007]\n",
    "connection_type6 = ['n', 'n', 'n', 'n', 'n', 'n', 's', 's']\n",
    "color6 = ['b', 'b', 'r', 'r', 'y', 'y', 'b_r', 'b_y']\n",
    "\n",
    "src7 = [1, 10002, 40005, 60007, 80009]\n",
    "dst7 = [10002, 20003, 1, 10002, 20003]\n",
    "connection_type7 = ['n', 'n', 's', 's', 's']\n",
    "color7 = ['b', 'b', 'b_r', 'b_y', 'r_y']\n",
    "\n",
    "subgraphs_as_list_of_tuples = [ (src0, dst0, connection_type0, color0, \"0\"),\n",
    "                                (src1, dst1, connection_type1, color1, \"1\"),\n",
    "                                (src2, dst2, connection_type2, color2, \"2\"),\n",
    "                                (src3, dst3, connection_type3, color3, \"3\"),\n",
    "                                (src4, dst4, connection_type4, color4, \"4\"),\n",
    "                                (src5, dst5, connection_type5, color5, \"5\"),\n",
    "                                (src6, dst6, connection_type6, color6, \"6\"),\n",
    "                                (src7, dst7, connection_type7, color7, \"7\")\n",
    "                            ]"
   ]
  },
  {
   "cell_type": "code",
   "execution_count": 14,
   "id": "a7ca5c52",
   "metadata": {},
   "outputs": [
    {
     "name": "stderr",
     "output_type": "stream",
     "text": [
      "/tmp/ipykernel_1669245/4272365571.py:1: DtypeWarning: Columns (26) have mixed types. Specify dtype option on import or set low_memory=False.\n",
      "  df = pd.read_csv(\"/scratch/users/oaa9/arkouda-njit/arachne/data/OL_dataset.csv\")\n"
     ]
    }
   ],
   "source": [
    "df = pd.read_csv(\"/scratch/users/oaa9/arkouda-njit/arachne/data/OL_dataset.csv\")\n",
    "transformed_dataset = ak.DataFrame(df.to_dict(orient='list'))"
   ]
  },
  {
   "cell_type": "code",
   "execution_count": 52,
   "id": "79997267",
   "metadata": {},
   "outputs": [
    {
     "name": "stdout",
     "output_type": "stream",
     "text": [
      "1187308\n"
     ]
    }
   ],
   "source": [
    "print(len(df))"
   ]
  },
  {
   "cell_type": "code",
   "execution_count": 82,
   "id": "b6fbb90f",
   "metadata": {},
   "outputs": [
    {
     "name": "stdout",
     "output_type": "stream",
     "text": [
      "                     src               dst  \\\n",
      "46965    770470833243998   670190479948102   \n",
      "46966    770470833243998   722316406166167   \n",
      "605693  5336902671469085  5922641557884817   \n",
      "673351  5922641557884817   722316406166167   \n",
      "673354  5336902671469085   770470833243998   \n",
      "\n",
      "                                         n_id  \n",
      "46965                      720575940620519333  \n",
      "46966                      720575940620519333  \n",
      "605693                     720575940607407746  \n",
      "673351  720575940607407746_720575940620519333  \n",
      "673354  720575940607407746_720575940620519333  \n"
     ]
    }
   ],
   "source": [
    "check_src = [770470833243998, 770470833243998, 5336902671469085, 5336902671469085, 5922641557884817]\n",
    "check_dst = [670190479948102, 722316406166167, 770470833243998, 5922641557884817, 722316406166167]\n",
    "pairs = list(zip(check_src, check_dst))\n",
    "matching_rows = df[df[['src', 'dst']].apply(tuple, axis=1).isin(pairs)][['src', 'dst', 'n_id']].drop_duplicates(['src', 'dst'], keep='first')\n",
    "print(matching_rows)"
   ]
  },
  {
   "cell_type": "code",
   "execution_count": 74,
   "id": "afe29c9f",
   "metadata": {},
   "outputs": [
    {
     "name": "stdout",
     "output_type": "stream",
     "text": [
      "Built graph with 667711 vertices and 962796 edges\n"
     ]
    }
   ],
   "source": [
    "g = ar.PropGraph()\n",
    "g.load_edge_attributes(transformed_dataset, source_column=\"src\", destination_column=\"dst\", \n",
    "                            relationship_columns=[\"s_bef\", \"s_bef_x\", \"s_bef_y\", \"s_bef_z\", \"s_af\", \"s_af_x\", \n",
    "                                                    \"s_af_y\", \"s_af_z\", 's_x', \"s_y\", \"s_z\", \"s_distance\", \"d_bef\",\n",
    "                                                    \"d_bef_x\", \"d_bef_y\", \"d_bef_z\", \"d_af\", \"d_af_x\", \"d_af_y\", \"d_af_z\",\n",
    "                                                    \"d_x\", \"d_y\", \"d_z\", \"d_distance\", \"n_id\", \"connection_type\"])\n",
    "\n",
    "print(f\"Built graph with {len(g)} vertices and {g.size()} edges\")"
   ]
  },
  {
   "cell_type": "code",
   "execution_count": 96,
   "id": "1931a44f",
   "metadata": {},
   "outputs": [
    {
     "name": "stdout",
     "output_type": "stream",
     "text": [
      "[770470833243998 770470833243998 5336902671469085 5336902671469085 5922641557884817]\n",
      "[670190479948102 722316406166167 770470833243998 5922641557884817 722316406166167]\n",
      "['720575940620519333', '720575940620519333', '720575940607407746_720575940620519333', '720575940607407746', '720575940607407746_720575940620519333']\n"
     ]
    }
   ],
   "source": [
    "check_src = ak.array([770470833243998, 770470833243998, 5336902671469085, 5336902671469085, 5922641557884817])\n",
    "check_dst = ak.array([670190479948102, 722316406166167, 770470833243998, 5922641557884817, 722316406166167])\n",
    "perm = ak.coargsort([check_src, check_dst])\n",
    "check_src = check_src[perm]\n",
    "check_dst = check_dst[perm]\n",
    "print(check_src)\n",
    "print(check_dst)\n",
    "matching_rows = ak.find([ak.array(check_src),ak.array(check_dst)],[g.edge_attributes['src'],g.edge_attributes['dst']])\n",
    "print(g.edge_attributes['n_id'][matching_rows])"
   ]
  },
  {
   "cell_type": "code",
   "execution_count": 26,
   "id": "4a6f4bdd",
   "metadata": {},
   "outputs": [],
   "source": [
    "def get_mapping(g, subgraph, iso_cap):\n",
    "    # Process subgraph information for mapping after subgraph isomorphism is invoked.\n",
    "    src_sub, dst_sub = subgraph.edges()\n",
    "    src_sub = src_sub.to_ndarray()\n",
    "    dst_sub = dst_sub.to_ndarray()\n",
    "    subgraph_nodes = sorted(list(np.unique(np.concatenate((src_sub, dst_sub)))))\n",
    "\n",
    "    start = time.time()\n",
    "    isos = ar.subgraph_isomorphism(g, subgraph, algorithm_type=\"si\", return_isos_as=\"complete\", semantic_check=\"or\", size_limit=iso_cap)\n",
    "    end = time.time()\n",
    "    \n",
    "    # Extract the returned array information from subgraph_isomorphism.\n",
    "    isos_by_vertices = isos[0]\n",
    "    isos_by_vertices_map = isos[1]\n",
    "    isos_by_edges_src = isos[2]\n",
    "    isos_by_edges_dst = isos[3]\n",
    "\n",
    "    if len(isos_by_vertices) % len(subgraph) != 0:\n",
    "        raise ValueError(\"The length of isomorphisms is not a multiple of the number of subgraph nodes.\")\n",
    "\n",
    "    # Get the number of motifs found.\n",
    "    number_isos_found = len(isos_by_vertices) // len(subgraph_nodes)\n",
    "    print(f\"Finding {number_isos_found:_} motifs took: {end-start} seconds.\")\n",
    "\n",
    "    # Prepare the returned isomorphisms as a 2D array.\n",
    "    start = time.time()\n",
    "    isos_ndarray = isos_by_vertices.to_ndarray()\n",
    "    hostgraph_nodes = isos_ndarray.reshape(-1, len(subgraph_nodes))\n",
    "    end = time.time()\n",
    "    print(f\"Reshaping isomorphisms took: {end-start} seconds.\")\n",
    "\n",
    "    # Create all mappings at once using a list comprehension.\n",
    "    start = time.time()\n",
    "    all_mappings = [\n",
    "        {int(k): int(v) for k, v in zip(subgraph_nodes, hostgraph_nodes[i])}\n",
    "        for i in range(number_isos_found)\n",
    "    ]\n",
    "    end = time.time()\n",
    "    print(f\"Generating mappings took: {end-start} seconds.\")\n",
    "\n",
    "    return (all_mappings,(isos_by_edges_src,isos_by_edges_dst))"
   ]
  },
  {
   "cell_type": "code",
   "execution_count": 27,
   "id": "df78f686",
   "metadata": {},
   "outputs": [],
   "source": [
    "def motif_to_viss(src, dst, connection_type, iso_cap):    \n",
    "    subgraph_dict = {\n",
    "        \"src\": src,\n",
    "        \"dst\": dst,\n",
    "        \"connection_type\": connection_type\n",
    "        }\n",
    "    \n",
    "    subgraph = ar.PropGraph()\n",
    "    df = ak.DataFrame(subgraph_dict)\n",
    "    subgraph.load_edge_attributes(df, source_column=\"src\", destination_column=\"dst\", \n",
    "                                relationship_columns=[\"connection_type\"])\n",
    "    \n",
    "    node_mapping = get_mapping(g, subgraph, iso_cap)\n",
    "    return node_mapping"
   ]
  },
  {
   "cell_type": "code",
   "execution_count": 44,
   "id": "938407f8",
   "metadata": {},
   "outputs": [
    {
     "name": "stdout",
     "output_type": "stream",
     "text": [
      "Querying for subgraph0...\n",
      "Finding 38 motifs took: 0.6063122749328613 seconds.\n",
      "Reshaping isomorphisms took: 0.021455049514770508 seconds.\n",
      "Generating mappings took: 6.914138793945312e-05 seconds.\n",
      "\n",
      "Querying for subgraph1...\n",
      "Finding 21 motifs took: 1.4976074695587158 seconds.\n",
      "Reshaping isomorphisms took: 0.02127671241760254 seconds.\n",
      "Generating mappings took: 8.845329284667969e-05 seconds.\n",
      "\n",
      "Querying for subgraph2...\n",
      "Finding 8 motifs took: 0.5874297618865967 seconds.\n",
      "Reshaping isomorphisms took: 0.021523237228393555 seconds.\n",
      "Generating mappings took: 3.4809112548828125e-05 seconds.\n",
      "\n",
      "Querying for subgraph3...\n",
      "Finding 5 motifs took: 0.6271035671234131 seconds.\n",
      "Reshaping isomorphisms took: 0.01333761215209961 seconds.\n",
      "Generating mappings took: 3.1948089599609375e-05 seconds.\n",
      "\n",
      "Querying for subgraph4...\n",
      "Finding 7 motifs took: 0.6285593509674072 seconds.\n",
      "Reshaping isomorphisms took: 0.02135324478149414 seconds.\n",
      "Generating mappings took: 3.886222839355469e-05 seconds.\n",
      "\n",
      "Querying for subgraph5...\n",
      "Finding 5 motifs took: 1.6854243278503418 seconds.\n",
      "Reshaping isomorphisms took: 0.02155590057373047 seconds.\n",
      "Generating mappings took: 3.123283386230469e-05 seconds.\n",
      "\n",
      "Querying for subgraph6...\n",
      "Finding 10 motifs took: 11.029802322387695 seconds.\n",
      "Reshaping isomorphisms took: 0.02115154266357422 seconds.\n",
      "Generating mappings took: 5.817413330078125e-05 seconds.\n",
      "\n",
      "Querying for subgraph7...\n",
      "Finding 8 motifs took: 0.6274609565734863 seconds.\n",
      "Reshaping isomorphisms took: 0.021222352981567383 seconds.\n",
      "Generating mappings took: 5.936622619628906e-05 seconds.\n",
      "\n"
     ]
    }
   ],
   "source": [
    "send_to_file = False\n",
    "all_mappings = []\n",
    "for tup in subgraphs_as_list_of_tuples:\n",
    "    subgraph_name = f\"subgraph{tup[4]}\"\n",
    "    cap = 5\n",
    "    print(f\"Querying for {subgraph_name}...\")\n",
    "    curr_mapping = motif_to_viss(tup[0], tup[1], tup[2], cap)\n",
    "    all_mappings.append(curr_mapping)\n",
    "    print()\n",
    "\n",
    "    if send_to_file:\n",
    "        filename = subgraph_name + f\"_motifs_capped_at_{cap}.json\"\n",
    "        with open(filename, \"w\") as f:\n",
    "            json.dump(curr_mapping[0], f)"
   ]
  },
  {
   "cell_type": "code",
   "execution_count": null,
   "id": "3ae6d03c",
   "metadata": {},
   "outputs": [
    {
     "name": "stdout",
     "output_type": "stream",
     "text": [
      "Post processing subgraph0...\n",
      "Before post processing number of motifs found was 38 and after was 38\n",
      "\n",
      "Post processing subgraph1...\n",
      "Before post processing number of motifs found was 21 and after was 21\n",
      "\n",
      "Post processing subgraph2...\n",
      "Before post processing number of motifs found was 8 and after was 8\n",
      "\n",
      "Post processing subgraph3...\n",
      "Before post processing number of motifs found was 5 and after was 5\n",
      "\n",
      "Post processing subgraph4...\n",
      "Before post processing number of motifs found was 7 and after was 7\n",
      "\n",
      "Post processing subgraph5...\n",
      "Before post processing number of motifs found was 5 and after was 5\n",
      "\n",
      "Post processing subgraph6...\n",
      "{1: 1366038068497042, 10002: 1086128392124120, 10003: 1153149018861276, 40005: 130871608967581, 50006: 180367922615124, 50007: 90393691450449, 80009: 1081200404863751, 90010: 821002677531258, 90011: 954058333553553}\n",
      "[1366038068497042 1366038068497042 1153149018861276  130871608967581\n",
      "  130871608967581 1081200404863751 1081200404863751  821002677531258]\n",
      "[1086128392124120 1153149018861276  180367922615124  180367922615124\n",
      "   90393691450449  821002677531258  954058333553553   90393691450449]\n",
      "{1: 586987677081792, 10002: 532178586751926, 10003: 555163043987016, 40005: 479432382867769, 50006: 376670180772419, 50007: 566499994097555, 80009: 954738992843865, 90010: 1055516997643830, 90011: 953560302729200}\n",
      "[ 586987677081792  586987677081792  555163043987016  479432382867769\n",
      "  479432382867769  954738992843865  954738992843865 1055516997643830]\n",
      "[ 532178586751926  555163043987016  376670180772419  376670180772419\n",
      "  566499994097555 1055516997643830  953560302729200  566499994097555]\n",
      "Before post processing number of motifs found was 10 and after was 8\n",
      "\n",
      "Post processing subgraph7...\n",
      "{1: 230597933944620, 10002: 163150316902359, 20003: 151098865808515, 40005: 237178936808301, 60007: 27823523547052, 80009: 36902778599792}\n",
      "[230597933944620 163150316902359 237178936808301  27823523547052\n",
      "  36902778599792]\n",
      "[163150316902359 151098865808515 230597933944620 163150316902359\n",
      " 151098865808515]\n",
      "{1: 230597933944620, 10002: 163150316902359, 20003: 151098865808515, 40005: 35755618614405, 60007: 27823523547052, 80009: 36902778599792}\n",
      "[230597933944620 163150316902359  35755618614405  27823523547052\n",
      "  36902778599792]\n",
      "[163150316902359 151098865808515 230597933944620 163150316902359\n",
      " 151098865808515]\n",
      "Before post processing number of motifs found was 8 and after was 6\n",
      "\n"
     ]
    }
   ],
   "source": [
    "for tup in subgraphs_as_list_of_tuples:\n",
    "    subgraph_id = int(tup[4])\n",
    "    subgraph_name = f\"subgraph{subgraph_id}\"\n",
    "    subgraph_src = tup[0]\n",
    "    subgraph_dst = tup[1]\n",
    "    color = tup[3]\n",
    "\n",
    "    dict_to_check_against = {}\n",
    "    for c in color:\n",
    "        if c not in dict_to_check_against:\n",
    "            dict_to_check_against[c] = 1\n",
    "        else:\n",
    "            dict_to_check_against[c] += 1\n",
    "\n",
    "    print(f\"Post processing {subgraph_name}...\")\n",
    "\n",
    "    isos_by_vertices = all_mappings[subgraph_id][0]\n",
    "    isos_by_edges_src = all_mappings[subgraph_id][1][0]\n",
    "    isos_by_edges_dst = all_mappings[subgraph_id][1][1]\n",
    "    \n",
    "    num_edges_subgraph = len(subgraph_src)\n",
    "    number_isos_found = len(isos_by_edges_src) // len(subgraph_src)\n",
    "\n",
    "    indices = ak.find([isos_by_edges_src,isos_by_edges_dst],[g.edge_attributes[\"src\"], g.edge_attributes[\"dst\"]])\n",
    "    vals = g.edge_attributes[\"n_id\"][indices]\n",
    "\n",
    "    # TODO: Can the below be done with Arkouda?\n",
    "    isos_by_edges_src_ndarray = np.split(isos_by_edges_src.to_ndarray(), number_isos_found)\n",
    "    isos_by_edges_dst_ndarray = np.split(isos_by_edges_dst.to_ndarray(), number_isos_found)\n",
    "    vals_ndarray = np.split(vals.to_ndarray(), number_isos_found)\n",
    "\n",
    "    matches = 0\n",
    "    curr_mapping_id = 0\n",
    "    for src,dst,vals in zip(isos_by_edges_src_ndarray,isos_by_edges_dst_ndarray,vals_ndarray):\n",
    "        if subgraph_id == 0 or subgraph_id == 1:\n",
    "            if len(np.unique(vals)) == 1:\n",
    "                matches += 1\n",
    "                continue\n",
    "        else:\n",
    "            inner_matches = {}\n",
    "            for val in vals:\n",
    "                if val not in inner_matches:\n",
    "                    inner_matches[val] = 1\n",
    "                else:\n",
    "                    inner_matches[val] += 1\n",
    "            if sorted(inner_matches.values()) == sorted(dict_to_check_against.values()):\n",
    "                matches += 1\n",
    "            # else:\n",
    "            #     print(isos_by_vertices[curr_mapping_id])\n",
    "            #     print(src)\n",
    "            #     print(dst)\n",
    "            curr_mapping_id += 1\n",
    "\n",
    "    print(f\"Before post processing number of motifs found was {number_isos_found} and after was {matches}\")\n",
    "    print()\n"
   ]
  },
  {
   "cell_type": "code",
   "execution_count": 106,
   "id": "f5b783f7",
   "metadata": {},
   "outputs": [
    {
     "name": "stdout",
     "output_type": "stream",
     "text": [
      "[{1: 298237460718741, 10002: 336872136431705, 10003: 278225254594359, 40005: 144859603770286, 50008: 264388566444025}, {1: 429343149753935, 10002: 324929389196380, 10003: 395058034346440, 40005: 351544664578740, 50008: 317712379381490}, {1: 638144388518750, 10002: 600301545007819, 10003: 492993755874517, 40005: 673342486984612, 50008: 539697112075013}, {1: 553629880263142, 10002: 497707670137828, 10003: 558492681146078, 40005: 972230658833868, 50008: 901624566055464}, {1: 770470833243998, 10002: 670190479948102, 10003: 722316406166167, 40005: 5336902671469085, 50008: 5922641557884817}]\n"
     ]
    }
   ],
   "source": [
    "print(all_mappings[3][0])"
   ]
  }
 ],
 "metadata": {
  "kernelspec": {
   "display_name": "arkouda-dev",
   "language": "python",
   "name": "python3"
  },
  "language_info": {
   "codemirror_mode": {
    "name": "ipython",
    "version": 3
   },
   "file_extension": ".py",
   "mimetype": "text/x-python",
   "name": "python",
   "nbconvert_exporter": "python",
   "pygments_lexer": "ipython3",
   "version": "3.10.12"
  }
 },
 "nbformat": 4,
 "nbformat_minor": 5
}
