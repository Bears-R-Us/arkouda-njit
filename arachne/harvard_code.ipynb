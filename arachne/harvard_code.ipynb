{
 "cells": [
  {
   "cell_type": "code",
   "execution_count": 1,
   "id": "f651e065",
   "metadata": {},
   "outputs": [
    {
     "name": "stdout",
     "output_type": "stream",
     "text": [
      "    _         _                   _       \n",
      "   / \\   _ __| | _____  _   _  __| | __ _ \n",
      "  / _ \\ | '__| |/ / _ \\| | | |/ _` |/ _` |\n",
      " / ___ \\| |  |   < (_) | |_| | (_| | (_| |\n",
      "/_/   \\_\\_|  |_|\\_\\___/ \\__,_|\\__,_|\\__,_|\n",
      "                                          \n",
      "\n",
      "Client Version: v2024.06.21+0.gcf6eeacde.dirty\n"
     ]
    }
   ],
   "source": [
    "import arkouda as ak\n",
    "import arachne as ar\n",
    "import pandas as pd\n",
    "import numpy as np\n",
    "import networkx as nx\n",
    "import time\n",
    "import json"
   ]
  },
  {
   "cell_type": "code",
   "execution_count": 2,
   "id": "04768463",
   "metadata": {},
   "outputs": [],
   "source": [
    "# These are just wedges, we do not need subgraph isomorphism for these.\n",
    "src0 = [    1,     1]\n",
    "dst0 = [10002, 10003]\n",
    "connection_type0 = ['n', 'n']\n",
    "connection_type0 = [0, 0]\n",
    "color0 = ['b', 'b']\n",
    "\n",
    "src1 = [    1,     1, 10003, 10003]\n",
    "dst1 = [10002, 10003, 30004, 30005]\n",
    "connection_type1 = ['n', 'n', 'n', 'n']\n",
    "connection_type1 = [0, 0, 0, 0]\n",
    "color1 = ['b', 'b', 'b', 'b']\n",
    "\n",
    "src2 = [    1,     1, 40005]\n",
    "dst2 = [10002, 10003,     1]\n",
    "connection_type2 = ['n', 'n', 's']\n",
    "connection_type2 = [0, 0, 1]\n",
    "color2 = ['b', 'b', 'b_r']\n",
    "\n",
    "src3 = [    1,     1, 40005, 40005, 50008]\n",
    "dst3 = [10002, 10003, 50008,     1, 10003]\n",
    "connection_type3 = ['n', 'n', 'n', 's', 's']\n",
    "connection_type3 = [0, 0, 0, 1, 1]\n",
    "color3 = ['b', 'b', 'r', 'b_r', 'b_r']\n",
    "\n",
    "src4 = [1, 1, 10003, 10003, 60007]\n",
    "dst4 = [10002, 10003, 30004, 30005, 1]\n",
    "connection_type4 = ['n', 'n', 'n', 'n', 's']\n",
    "connection_type4 = [0, 0, 0, 0, 1]\n",
    "color4 = ['b', 'b', 'b', 'b', 'b_r']\n",
    "\n",
    "src5 = [1, 1, 10003, 10003, 60007, 60007, 70010]\n",
    "dst5 = [10002, 10003, 30004, 30005, 70010, 1, 30005]\n",
    "connection_type5 = ['n', 'n', 'n', 'n', 'n', 's', 's']\n",
    "connection_type5 = [0, 0, 0, 0, 0, 1, 1]\n",
    "color5 = ['b', 'b', 'b', 'b', 'r', 'b_r',  'b_r']\n",
    "\n",
    "src6 = [1, 1, 40005, 40005, 80009, 80009, 10003, 90010]\n",
    "dst6 = [10002, 10003, 50006, 50007, 90010, 90011, 50006, 50007]\n",
    "connection_type6 = ['n', 'n', 'n', 'n', 'n', 'n', 's', 's']\n",
    "connection_type6 = [0, 0, 0, 0, 0, 0, 1, 1]\n",
    "color6 = ['b', 'b', 'r', 'r', 'y', 'y', 'b_r', 'b_y']\n",
    "\n",
    "src7 = [1, 10002, 40005, 60007, 80009]\n",
    "dst7 = [10002, 20003, 1, 10002, 20003]\n",
    "connection_type7 = ['n', 'n', 's', 's', 's']\n",
    "connection_type7 = [0, 0, 1, 1, 1]\n",
    "color7 = ['b', 'b', 'b_r', 'b_y', 'r_y']\n",
    "\n",
    "subgraphs_as_list_of_tuples = [ \n",
    "                                (src0, dst0, connection_type0, color0, \"0\"),\n",
    "                                (src3, dst3, connection_type3, color3, \"3\"),\n",
    "                                (src2, dst2, connection_type2, color2, \"2\"),\n",
    "                                (src7, dst7, connection_type7, color7, \"7\"),\n",
    "                                (src5, dst5, connection_type5, color5, \"5\"),\n",
    "                                (src4, dst4, connection_type4, color4, \"4\"),\n",
    "                                (src1, dst1, connection_type1, color1, \"1\"),\n",
    "                                (src6, dst6, connection_type6, color6, \"6\")\n",
    "                            ]"
   ]
  },
  {
   "cell_type": "code",
   "execution_count": 3,
   "id": "a7ca5c52",
   "metadata": {},
   "outputs": [
    {
     "name": "stderr",
     "output_type": "stream",
     "text": [
      "/tmp/ipykernel_2377603/1960765740.py:1: DtypeWarning: Columns (26) have mixed types. Specify dtype option on import or set low_memory=False.\n",
      "  df = pd.read_csv(\"/scratch/users/oaa9/arkouda-njit/arachne/data/OL_dataset.csv\")\n"
     ]
    }
   ],
   "source": [
    "df = pd.read_csv(\"/scratch/users/oaa9/arkouda-njit/arachne/data/OL_dataset.csv\")"
   ]
  },
  {
   "cell_type": "code",
   "execution_count": 4,
   "id": "2753acf6",
   "metadata": {},
   "outputs": [
    {
     "name": "stdout",
     "output_type": "stream",
     "text": [
      "['n' 's']\n",
      "[0 1]\n"
     ]
    }
   ],
   "source": [
    "# Change to integers.\n",
    "print(np.unique(df[\"connection_type\"]))\n",
    "df[\"connection_type\"] = np.where(df[\"connection_type\"] == \"n\", 0, 1)\n",
    "print(np.unique(df[\"connection_type\"]))"
   ]
  },
  {
   "cell_type": "code",
   "execution_count": 5,
   "id": "671cb378",
   "metadata": {},
   "outputs": [
    {
     "name": "stderr",
     "output_type": "stream",
     "text": [
      "connected to arkouda server tcp://*:5555\n"
     ]
    }
   ],
   "source": [
    "# NOTE: Make sure to change the server name to whatever is applicable in your environment. If running locally, then use only ak.connect().\n",
    "ak.connect(\"n115\", 5555)"
   ]
  },
  {
   "cell_type": "code",
   "execution_count": 6,
   "id": "c67c3e9f",
   "metadata": {},
   "outputs": [],
   "source": [
    "ak.client.maxTransferBytes *= 2"
   ]
  },
  {
   "cell_type": "code",
   "execution_count": 7,
   "id": "afe29c9f",
   "metadata": {},
   "outputs": [
    {
     "name": "stdout",
     "output_type": "stream",
     "text": [
      "Built graph with 667711 vertices and 962796 edges\n"
     ]
    }
   ],
   "source": [
    "g = ar.PropGraph()\n",
    "transformed_dataset = ak.DataFrame(df.to_dict(orient='list'))\n",
    "g.load_edge_attributes(transformed_dataset, source_column=\"src\", destination_column=\"dst\", \n",
    "                            relationship_columns=[\"s_bef\", \"s_bef_x\", \"s_bef_y\", \"s_bef_z\", \"s_af\", \"s_af_x\", \n",
    "                                                    \"s_af_y\", \"s_af_z\", 's_x', \"s_y\", \"s_z\", \"s_distance\", \"d_bef\",\n",
    "                                                    \"d_bef_x\", \"d_bef_y\", \"d_bef_z\", \"d_af\", \"d_af_x\", \"d_af_y\", \"d_af_z\",\n",
    "                                                    \"d_x\", \"d_y\", \"d_z\", \"d_distance\", \"n_id\", \"connection_type\"])\n",
    "\n",
    "print(f\"Built graph with {len(g)} vertices and {g.size()} edges\")"
   ]
  },
  {
   "cell_type": "code",
   "execution_count": 8,
   "id": "4a6f4bdd",
   "metadata": {},
   "outputs": [],
   "source": [
    "def get_mapping(g, subgraph, iso_cap):\n",
    "    # Process subgraph information for mapping after subgraph isomorphism is invoked.\n",
    "    src_sub, dst_sub = subgraph.edges()\n",
    "    src_sub = src_sub.to_ndarray()\n",
    "    dst_sub = dst_sub.to_ndarray()\n",
    "    subgraph_nodes = sorted(list(np.unique(np.concatenate((src_sub, dst_sub)))))\n",
    "\n",
    "    start = time.time()\n",
    "    if iso_cap > 0 :\n",
    "        isos = ar.subgraph_isomorphism(g, subgraph, algorithm_type=\"si\", return_isos_as=\"complete\", semantic_check=\"or\", size_limit=iso_cap)\n",
    "    else:\n",
    "        isos = ar.subgraph_isomorphism(g, subgraph, algorithm_type=\"si\", return_isos_as=\"complete\", semantic_check=\"or\")\n",
    "    end = time.time()\n",
    "    \n",
    "    # Extract the returned array information from subgraph_isomorphism.\n",
    "    isos_by_vertices = isos[0]\n",
    "    isos_by_vertices_map = isos[1]\n",
    "    isos_by_edges_src = isos[2]\n",
    "    isos_by_edges_dst = isos[3]\n",
    "\n",
    "    if len(isos_by_vertices) % len(subgraph) != 0:\n",
    "        raise ValueError(\"The length of isomorphisms is not a multiple of the number of subgraph nodes.\")\n",
    "\n",
    "    # Get the number of motifs found.\n",
    "    number_isos_found = len(isos_by_vertices) // len(subgraph_nodes)\n",
    "    print(f\"Finding {number_isos_found:_} motifs took: {end-start} seconds.\")\n",
    "\n",
    "    # Prepare the returned isomorphisms as a 2D array.\n",
    "    start = time.time()\n",
    "    isos_ndarray = isos_by_vertices.to_ndarray()\n",
    "    hostgraph_nodes = isos_ndarray.reshape(-1, len(subgraph_nodes))\n",
    "    end = time.time()\n",
    "    print(f\"Reshaping isomorphisms took: {end-start} seconds.\")\n",
    "\n",
    "    # Create all mappings at once using a list comprehension.\n",
    "    start = time.time()\n",
    "    all_mappings = [\n",
    "        {int(k): int(v) for k, v in zip(subgraph_nodes, hostgraph_nodes[i])}\n",
    "        for i in range(number_isos_found)\n",
    "    ]\n",
    "    end = time.time()\n",
    "    print(f\"Generating mappings took: {end-start} seconds.\")\n",
    "\n",
    "    return (all_mappings,(isos_by_edges_src,isos_by_edges_dst))"
   ]
  },
  {
   "cell_type": "code",
   "execution_count": 9,
   "id": "df78f686",
   "metadata": {},
   "outputs": [],
   "source": [
    "def motif_to_viss(src, dst, connection_type, iso_cap):    \n",
    "    subgraph_dict = {\n",
    "        \"src\": src,\n",
    "        \"dst\": dst,\n",
    "        \"connection_type\": connection_type\n",
    "        }\n",
    "    \n",
    "    subgraph = ar.PropGraph()\n",
    "    df = ak.DataFrame(subgraph_dict)\n",
    "    subgraph.load_edge_attributes(df, source_column=\"src\", destination_column=\"dst\", \n",
    "                                relationship_columns=[\"connection_type\"])\n",
    "    \n",
    "    node_mapping = get_mapping(g, subgraph, iso_cap)\n",
    "    return node_mapping"
   ]
  },
  {
   "cell_type": "code",
   "execution_count": 10,
   "id": "3ae6d03c",
   "metadata": {},
   "outputs": [],
   "source": [
    "def get_post_processed_mappings(subgraph_src, subgraph_dst, color, mapping):\n",
    "    start = time.time()\n",
    "    dict_to_check_against = {}\n",
    "    for c in color:\n",
    "        if c not in dict_to_check_against:\n",
    "            dict_to_check_against[c] = 1\n",
    "        else:\n",
    "            dict_to_check_against[c] += 1\n",
    "\n",
    "    isos_by_vertices = mapping[0]\n",
    "    isos_by_edges_src = mapping[1][0]\n",
    "    isos_by_edges_dst = mapping[1][1]\n",
    "    \n",
    "    num_edges_subgraph = len(subgraph_src)\n",
    "    number_isos_found = len(isos_by_edges_src) // len(subgraph_src)\n",
    "\n",
    "    indices = ak.find([isos_by_edges_src,isos_by_edges_dst],[g.edge_attributes[\"src\"], g.edge_attributes[\"dst\"]])\n",
    "    vals = g.edge_attributes[\"n_id\"][indices]\n",
    "\n",
    "    # TODO: Can the below be done with Arkouda?\n",
    "    isos_by_edges_src_ndarray = np.split(isos_by_edges_src.to_ndarray(), number_isos_found)\n",
    "    isos_by_edges_dst_ndarray = np.split(isos_by_edges_dst.to_ndarray(), number_isos_found)\n",
    "    vals_ndarray = np.split(vals.to_ndarray(), number_isos_found)\n",
    "\n",
    "    matches = 0\n",
    "    curr_mapping_id = 0\n",
    "    final_mappings = []\n",
    "    for src,dst,vals in zip(isos_by_edges_src_ndarray,isos_by_edges_dst_ndarray,vals_ndarray):\n",
    "        inner_matches = {}\n",
    "        for val in vals:\n",
    "            if val not in inner_matches:\n",
    "                inner_matches[val] = 1\n",
    "            else:\n",
    "                inner_matches[val] += 1\n",
    "        if sorted(inner_matches.values()) == sorted(dict_to_check_against.values()):\n",
    "            final_mappings.append(isos_by_vertices[curr_mapping_id])\n",
    "            matches += 1\n",
    "        curr_mapping_id += 1\n",
    "\n",
    "    end = time.time()\n",
    "    print(f\"Before post processing number of motifs found was {number_isos_found} and after was {matches}\")\n",
    "    print(f\"Post processing took: {end-start} seconds.\")\n",
    "\n",
    "    return final_mappings"
   ]
  },
  {
   "cell_type": "code",
   "execution_count": null,
   "id": "938407f8",
   "metadata": {},
   "outputs": [
    {
     "name": "stdout",
     "output_type": "stream",
     "text": [
      "Querying for subgraph0...\n",
      "Finding 696_460 motifs took: 2.4765231609344482 seconds.\n",
      "Reshaping isomorphisms took: 0.18685626983642578 seconds.\n",
      "Generating mappings took: 0.6457834243774414 seconds.\n",
      "Post processing subgraph0...\n",
      "Before post processing number of motifs found was 696460 and after was 696460\n",
      "Post processing took: 5.734685182571411 seconds.\n",
      "\n",
      "Querying for subgraph3...\n",
      "Finding 5_048 motifs took: 2.877610445022583 seconds.\n",
      "Reshaping isomorphisms took: 0.012549400329589844 seconds.\n",
      "Generating mappings took: 0.0061342716217041016 seconds.\n",
      "Post processing subgraph3...\n",
      "Before post processing number of motifs found was 5048 and after was 5048\n",
      "Post processing took: 2.4994661808013916 seconds.\n",
      "\n",
      "Querying for subgraph2...\n",
      "Finding 191_690 motifs took: 3.6195456981658936 seconds.\n",
      "Reshaping isomorphisms took: 0.07360506057739258 seconds.\n",
      "Generating mappings took: 0.2176060676574707 seconds.\n",
      "Post processing subgraph2...\n",
      "Before post processing number of motifs found was 191690 and after was 191690\n",
      "Post processing took: 3.1428821086883545 seconds.\n",
      "\n",
      "Querying for subgraph7...\n",
      "Finding 91_718 motifs took: 1.5637075901031494 seconds.\n",
      "Reshaping isomorphisms took: 0.059044837951660156 seconds.\n",
      "Generating mappings took: 0.1499617099761963 seconds.\n",
      "Post processing subgraph7...\n",
      "Before post processing number of motifs found was 91718 and after was 44657\n",
      "Post processing took: 2.6409900188446045 seconds.\n",
      "\n",
      "Querying for subgraph5...\n"
     ]
    }
   ],
   "source": [
    "all_mappings = {}\n",
    "cap = 0\n",
    "send_to_file = True\n",
    "for tup in subgraphs_as_list_of_tuples:\n",
    "    subgraph_id = int(tup[4])\n",
    "    subgraph_name = f\"subgraph{subgraph_id}\"\n",
    "    subgraph_src = tup[0]\n",
    "    subgraph_dst = tup[1]\n",
    "    subgraph_connection_type = tup[2]\n",
    "    subgraph_color = tup[3]\n",
    "\n",
    "    print(f\"Querying for {subgraph_name}...\")\n",
    "    curr_mapping = motif_to_viss(subgraph_src, subgraph_dst, subgraph_connection_type, cap)\n",
    "    all_mappings[subgraph_id] = curr_mapping\n",
    "\n",
    "    print(f\"Post processing {subgraph_name}...\")\n",
    "    map_to_write = get_post_processed_mappings(subgraph_src, subgraph_dst, subgraph_color, all_mappings[subgraph_id])\n",
    "\n",
    "    if send_to_file:\n",
    "        filename = subgraph_name + f\"_motifs_capped_at_{cap}.json\" if cap != 0 else subgraph_name + f\"_motifs.json\"\n",
    "        with open(filename, \"w\") as f:\n",
    "            json.dump(map_to_write, f)\n",
    "    \n",
    "    print()"
   ]
  },
  {
   "cell_type": "code",
   "execution_count": null,
   "id": "16431dba",
   "metadata": {},
   "outputs": [],
   "source": [
    "# Convert graph to NetworkX and run their subgraph isomorphism.\n",
    "G = nx.from_pandas_edgelist(df, source=\"src\", target=\"dst\", edge_attr=True, create_using=nx.DiGraph())"
   ]
  },
  {
   "cell_type": "code",
   "execution_count": null,
   "id": "2f1dea0e",
   "metadata": {},
   "outputs": [],
   "source": [
    "def edge_match(e1, e2):\n",
    "    return e1[\"connection_type\"] == e2[\"connection_type\"]\n",
    "\n",
    "for tup in subgraphs_as_list_of_tuples:\n",
    "    h = nx.DiGraph()\n",
    "    src, dst, connection_type, color, identifier = tup\n",
    "    for i in range(len(src)):\n",
    "        u = src[i]\n",
    "        v = dst[i]\n",
    "        h.add_edge(u, v, connection_type=connection_type[i], color=color[i])\n",
    "\n",
    "    print(f\"Querying for {identifier}...\")\n",
    "    start = time.time()\n",
    "    isomatcher = nx.isomorphism.DiGraphMatcher(G,h,edge_match=edge_match)\n",
    "    motifs = list(isomatcher.subgraph_monomorphisms_iter())\n",
    "    end = time.time()\n",
    "    print(f\"Finding {len(motifs):_} motifs took: {end-start} seconds.\")"
   ]
  }
 ],
 "metadata": {
  "kernelspec": {
   "display_name": "arkouda-dev",
   "language": "python",
   "name": "python3"
  },
  "language_info": {
   "codemirror_mode": {
    "name": "ipython",
    "version": 3
   },
   "file_extension": ".py",
   "mimetype": "text/x-python",
   "name": "python",
   "nbconvert_exporter": "python",
   "pygments_lexer": "ipython3",
   "version": "3.10.12"
  }
 },
 "nbformat": 4,
 "nbformat_minor": 5
}
