{
 "cells": [
  {
   "cell_type": "code",
   "execution_count": 1,
   "id": "f651e065",
   "metadata": {},
   "outputs": [
    {
     "name": "stdout",
     "output_type": "stream",
     "text": [
      "    _         _                   _       \n",
      "   / \\   _ __| | _____  _   _  __| | __ _ \n",
      "  / _ \\ | '__| |/ / _ \\| | | |/ _` |/ _` |\n",
      " / ___ \\| |  |   < (_) | |_| | (_| | (_| |\n",
      "/_/   \\_\\_|  |_|\\_\\___/ \\__,_|\\__,_|\\__,_|\n",
      "                                          \n",
      "\n",
      "Client Version: v2024.06.21+0.gcf6eeacde.dirty\n"
     ]
    }
   ],
   "source": [
    "import arkouda as ak\n",
    "import arachne as ar\n",
    "import pandas as pd\n",
    "import numpy as np\n",
    "import networkx as nx\n",
    "import time\n",
    "import json"
   ]
  },
  {
   "cell_type": "code",
   "execution_count": 2,
   "id": "04768463",
   "metadata": {},
   "outputs": [],
   "source": [
    "# These are just wedges, we do not need subgraph isomorphism for these.\n",
    "src0 = [    1,     1]\n",
    "dst0 = [10002, 10003]\n",
    "connection_type0 = ['n', 'n']\n",
    "connection_type0 = [0, 0]\n",
    "color0 = ['b', 'b']\n",
    "\n",
    "src1 = [    1,     1, 10003, 10003]\n",
    "dst1 = [10002, 10003, 30004, 30005]\n",
    "connection_type1 = ['n', 'n', 'n', 'n']\n",
    "connection_type1 = [0, 0, 0, 0]\n",
    "color1 = ['b', 'b', 'b', 'b']\n",
    "\n",
    "src2 = [    1,     1, 40005]\n",
    "dst2 = [10002, 10003,     1]\n",
    "connection_type2 = ['n', 'n', 's']\n",
    "connection_type2 = [0, 0, 1]\n",
    "color2 = ['b', 'b', 'b_r']\n",
    "\n",
    "src3 = [    1,     1, 40005, 40005, 50008]\n",
    "dst3 = [10002, 10003, 50008,     1, 10003]\n",
    "connection_type3 = ['n', 'n', 'n', 's', 's']\n",
    "connection_type3 = [0, 0, 0, 1, 1]\n",
    "color3 = ['b', 'b', 'r', 'b_r', 'b_r']\n",
    "\n",
    "src4 = [1, 1, 10003, 10003, 60007]\n",
    "dst4 = [10002, 10003, 30004, 30005, 1]\n",
    "connection_type4 = ['n', 'n', 'n', 'n', 's']\n",
    "connection_type4 = [0, 0, 0, 0, 1]\n",
    "color4 = ['b', 'b', 'b', 'b', 'b_r']\n",
    "\n",
    "src5 = [1, 1, 10003, 10003, 60007, 60007, 70010]\n",
    "dst5 = [10002, 10003, 30004, 30005, 70010, 1, 30005]\n",
    "connection_type5 = ['n', 'n', 'n', 'n', 'n', 's', 's']\n",
    "connection_type5 = [0, 0, 0, 0, 0, 1, 1]\n",
    "color5 = ['b', 'b', 'b', 'b', 'r', 'b_r',  'b_r']\n",
    "\n",
    "src6 = [1, 1, 40005, 40005, 80009, 80009, 10003, 90010]\n",
    "dst6 = [10002, 10003, 50006, 50007, 90010, 90011, 50006, 50007]\n",
    "connection_type6 = ['n', 'n', 'n', 'n', 'n', 'n', 's', 's']\n",
    "connection_type6 = [0, 0, 0, 0, 0, 0, 1, 1]\n",
    "color6 = ['b', 'b', 'r', 'r', 'y', 'y', 'b_r', 'b_y']\n",
    "\n",
    "src7 = [1, 10002, 40005, 60007, 80009]\n",
    "dst7 = [10002, 20003, 1, 10002, 20003]\n",
    "connection_type7 = ['n', 'n', 's', 's', 's']\n",
    "connection_type7 = [0, 0, 1, 1, 1]\n",
    "color7 = ['b', 'b', 'b_r', 'b_y', 'r_y']\n",
    "\n",
    "subgraphs_as_list_of_tuples = [ \n",
    "                                (src0, dst0, connection_type0, color0, \"0\"),\n",
    "                                (src3, dst3, connection_type3, color3, \"3\"),\n",
    "                                (src2, dst2, connection_type2, color2, \"2\"),\n",
    "                                (src7, dst7, connection_type7, color7, \"7\"),\n",
    "                                (src5, dst5, connection_type5, color5, \"5\"),\n",
    "                                (src4, dst4, connection_type4, color4, \"4\"),\n",
    "                                (src1, dst1, connection_type1, color1, \"1\"),\n",
    "                                (src6, dst6, connection_type6, color6, \"6\")\n",
    "                            ]"
   ]
  },
  {
   "cell_type": "code",
   "execution_count": 3,
   "id": "a7ca5c52",
   "metadata": {},
   "outputs": [
    {
     "name": "stderr",
     "output_type": "stream",
     "text": [
      "/tmp/ipykernel_2377603/1960765740.py:1: DtypeWarning: Columns (26) have mixed types. Specify dtype option on import or set low_memory=False.\n",
      "  df = pd.read_csv(\"/scratch/users/oaa9/arkouda-njit/arachne/data/OL_dataset.csv\")\n"
     ]
    }
   ],
   "source": [
    "df = pd.read_csv(\"/scratch/users/oaa9/arkouda-njit/arachne/data/OL_dataset.csv\")"
   ]
  },
  {
   "cell_type": "code",
   "execution_count": 4,
   "id": "2753acf6",
   "metadata": {},
   "outputs": [
    {
     "name": "stdout",
     "output_type": "stream",
     "text": [
      "['n' 's']\n",
      "[0 1]\n"
     ]
    }
   ],
   "source": [
    "# Change to integers.\n",
    "print(np.unique(df[\"connection_type\"]))\n",
    "df[\"connection_type\"] = np.where(df[\"connection_type\"] == \"n\", 0, 1)\n",
    "print(np.unique(df[\"connection_type\"]))"
   ]
  },
  {
   "cell_type": "code",
   "execution_count": 5,
   "id": "671cb378",
   "metadata": {},
   "outputs": [
    {
     "name": "stderr",
     "output_type": "stream",
     "text": [
      "connected to arkouda server tcp://*:5555\n"
     ]
    }
   ],
   "source": [
    "# NOTE: Make sure to change the server name to whatever is applicable in your environment. If running locally, then use only ak.connect().\n",
    "ak.connect(\"n115\", 5555)"
   ]
  },
  {
   "cell_type": "code",
   "execution_count": 6,
   "id": "c67c3e9f",
   "metadata": {},
   "outputs": [],
   "source": [
    "ak.client.maxTransferBytes *= 2"
   ]
  },
  {
   "cell_type": "code",
   "execution_count": 7,
   "id": "afe29c9f",
   "metadata": {},
   "outputs": [
    {
     "name": "stdout",
     "output_type": "stream",
     "text": [
      "Built graph with 667711 vertices and 962796 edges\n"
     ]
    }
   ],
   "source": [
    "g = ar.PropGraph()\n",
    "transformed_dataset = ak.DataFrame(df.to_dict(orient='list'))\n",
    "g.load_edge_attributes(transformed_dataset, source_column=\"src\", destination_column=\"dst\", \n",
    "                            relationship_columns=[\"s_bef\", \"s_bef_x\", \"s_bef_y\", \"s_bef_z\", \"s_af\", \"s_af_x\", \n",
    "                                                    \"s_af_y\", \"s_af_z\", 's_x', \"s_y\", \"s_z\", \"s_distance\", \"d_bef\",\n",
    "                                                    \"d_bef_x\", \"d_bef_y\", \"d_bef_z\", \"d_af\", \"d_af_x\", \"d_af_y\", \"d_af_z\",\n",
    "                                                    \"d_x\", \"d_y\", \"d_z\", \"d_distance\", \"n_id\", \"connection_type\"])\n",
    "\n",
    "print(f\"Built graph with {len(g)} vertices and {g.size()} edges\")"
   ]
  },
  {
   "cell_type": "code",
   "execution_count": 8,
   "id": "4a6f4bdd",
   "metadata": {},
   "outputs": [],
   "source": [
    "def get_mapping(g, subgraph, iso_cap):\n",
    "    # Process subgraph information for mapping after subgraph isomorphism is invoked.\n",
    "    src_sub, dst_sub = subgraph.edges()\n",
    "    src_sub = src_sub.to_ndarray()\n",
    "    dst_sub = dst_sub.to_ndarray()\n",
    "    subgraph_nodes = sorted(list(np.unique(np.concatenate((src_sub, dst_sub)))))\n",
    "\n",
    "    start = time.time()\n",
    "    if iso_cap > 0 :\n",
    "        isos = ar.subgraph_isomorphism(g, subgraph, algorithm_type=\"si\", return_isos_as=\"complete\", semantic_check=\"or\", size_limit=iso_cap)\n",
    "    else:\n",
    "        isos = ar.subgraph_isomorphism(g, subgraph, algorithm_type=\"si\", return_isos_as=\"complete\", semantic_check=\"or\")\n",
    "    end = time.time()\n",
    "    \n",
    "    # Extract the returned array information from subgraph_isomorphism.\n",
    "    isos_by_vertices = isos[0]\n",
    "    isos_by_vertices_map = isos[1]\n",
    "    isos_by_edges_src = isos[2]\n",
    "    isos_by_edges_dst = isos[3]\n",
    "\n",
    "    if len(isos_by_vertices) % len(subgraph) != 0:\n",
    "        raise ValueError(\"The length of isomorphisms is not a multiple of the number of subgraph nodes.\")\n",
    "\n",
    "    # Get the number of motifs found.\n",
    "    number_isos_found = len(isos_by_vertices) // len(subgraph_nodes)\n",
    "    print(f\"Finding {number_isos_found:_} motifs took: {end-start} seconds.\")\n",
    "\n",
    "    # Prepare the returned isomorphisms as a 2D array.\n",
    "    start = time.time()\n",
    "    isos_ndarray = isos_by_vertices.to_ndarray()\n",
    "    hostgraph_nodes = isos_ndarray.reshape(-1, len(subgraph_nodes))\n",
    "    end = time.time()\n",
    "    print(f\"Reshaping isomorphisms took: {end-start} seconds.\")\n",
    "\n",
    "    # Create all mappings at once using a list comprehension.\n",
    "    start = time.time()\n",
    "    all_mappings = [\n",
    "        {int(k): int(v) for k, v in zip(subgraph_nodes, hostgraph_nodes[i])}\n",
    "        for i in range(number_isos_found)\n",
    "    ]\n",
    "    end = time.time()\n",
    "    print(f\"Generating mappings took: {end-start} seconds.\")\n",
    "\n",
    "    return (all_mappings,(isos_by_edges_src,isos_by_edges_dst))"
   ]
  },
  {
   "cell_type": "code",
   "execution_count": 9,
   "id": "df78f686",
   "metadata": {},
   "outputs": [],
   "source": [
    "def motif_to_viss(src, dst, connection_type, iso_cap):    \n",
    "    subgraph_dict = {\n",
    "        \"src\": src,\n",
    "        \"dst\": dst,\n",
    "        \"connection_type\": connection_type\n",
    "        }\n",
    "    \n",
    "    subgraph = ar.PropGraph()\n",
    "    df = ak.DataFrame(subgraph_dict)\n",
    "    subgraph.load_edge_attributes(df, source_column=\"src\", destination_column=\"dst\", \n",
    "                                relationship_columns=[\"connection_type\"])\n",
    "    \n",
    "    node_mapping = get_mapping(g, subgraph, iso_cap)\n",
    "    return node_mapping"
   ]
  },
  {
   "cell_type": "code",
   "execution_count": 10,
   "id": "3ae6d03c",
   "metadata": {},
   "outputs": [],
   "source": [
    "def get_post_processed_mappings(subgraph_src, subgraph_dst, color, mapping):\n",
    "    start = time.time()\n",
    "    dict_to_check_against = {}\n",
    "    for c in color:\n",
    "        if c not in dict_to_check_against:\n",
    "            dict_to_check_against[c] = 1\n",
    "        else:\n",
    "            dict_to_check_against[c] += 1\n",
    "\n",
    "    isos_by_vertices = mapping[0]\n",
    "    isos_by_edges_src = mapping[1][0]\n",
    "    isos_by_edges_dst = mapping[1][1]\n",
    "    \n",
    "    num_edges_subgraph = len(subgraph_src)\n",
    "    number_isos_found = len(isos_by_edges_src) // len(subgraph_src)\n",
    "\n",
    "    indices = ak.find([isos_by_edges_src,isos_by_edges_dst],[g.edge_attributes[\"src\"], g.edge_attributes[\"dst\"]])\n",
    "    vals = g.edge_attributes[\"n_id\"][indices]\n",
    "\n",
    "    # TODO: Can the below be done with Arkouda?\n",
    "    isos_by_edges_src_ndarray = np.split(isos_by_edges_src.to_ndarray(), number_isos_found)\n",
    "    isos_by_edges_dst_ndarray = np.split(isos_by_edges_dst.to_ndarray(), number_isos_found)\n",
    "    vals_ndarray = np.split(vals.to_ndarray(), number_isos_found)\n",
    "\n",
    "    matches = 0\n",
    "    curr_mapping_id = 0\n",
    "    final_mappings = []\n",
    "    for src,dst,vals in zip(isos_by_edges_src_ndarray,isos_by_edges_dst_ndarray,vals_ndarray):\n",
    "        inner_matches = {}\n",
    "        for val in vals:\n",
    "            if val not in inner_matches:\n",
    "                inner_matches[val] = 1\n",
    "            else:\n",
    "                inner_matches[val] += 1\n",
    "        if sorted(inner_matches.values()) == sorted(dict_to_check_against.values()):\n",
    "            final_mappings.append(isos_by_vertices[curr_mapping_id])\n",
    "            matches += 1\n",
    "        curr_mapping_id += 1\n",
    "\n",
    "    end = time.time()\n",
    "    print(f\"Before post processing number of motifs found was {number_isos_found} and after was {matches}\")\n",
    "    print(f\"Post processing took: {end-start} seconds.\")\n",
    "\n",
    "    return final_mappings"
   ]
  },
  {
   "cell_type": "code",
   "execution_count": 11,
   "id": "938407f8",
   "metadata": {},
   "outputs": [
    {
     "name": "stdout",
     "output_type": "stream",
     "text": [
      "Querying for subgraph0...\n",
      "Finding 696_460 motifs took: 2.4765231609344482 seconds.\n",
      "Reshaping isomorphisms took: 0.18685626983642578 seconds.\n",
      "Generating mappings took: 0.6457834243774414 seconds.\n",
      "Post processing subgraph0...\n",
      "Before post processing number of motifs found was 696460 and after was 696460\n",
      "Post processing took: 5.734685182571411 seconds.\n",
      "\n",
      "Querying for subgraph3...\n",
      "Finding 5_048 motifs took: 2.877610445022583 seconds.\n",
      "Reshaping isomorphisms took: 0.012549400329589844 seconds.\n",
      "Generating mappings took: 0.0061342716217041016 seconds.\n",
      "Post processing subgraph3...\n",
      "Before post processing number of motifs found was 5048 and after was 5048\n",
      "Post processing took: 2.4994661808013916 seconds.\n",
      "\n",
      "Querying for subgraph2...\n",
      "Finding 191_690 motifs took: 3.6195456981658936 seconds.\n",
      "Reshaping isomorphisms took: 0.07360506057739258 seconds.\n",
      "Generating mappings took: 0.2176060676574707 seconds.\n",
      "Post processing subgraph2...\n",
      "Before post processing number of motifs found was 191690 and after was 191690\n",
      "Post processing took: 3.1428821086883545 seconds.\n",
      "\n",
      "Querying for subgraph7...\n",
      "Finding 91_718 motifs took: 1.5637075901031494 seconds.\n",
      "Reshaping isomorphisms took: 0.059044837951660156 seconds.\n",
      "Generating mappings took: 0.1499617099761963 seconds.\n",
      "Post processing subgraph7...\n",
      "Before post processing number of motifs found was 91718 and after was 44657\n",
      "Post processing took: 2.6409900188446045 seconds.\n",
      "\n",
      "Querying for subgraph5...\n",
      "Finding 2_308 motifs took: 339.46020793914795 seconds.\n",
      "Reshaping isomorphisms took: 0.02213740348815918 seconds.\n",
      "Generating mappings took: 0.006267547607421875 seconds.\n",
      "Post processing subgraph5...\n",
      "Before post processing number of motifs found was 2308 and after was 2308\n",
      "Post processing took: 2.483154773712158 seconds.\n",
      "\n",
      "Querying for subgraph4...\n",
      "Finding 163_562 motifs took: 339.74714040756226 seconds.\n",
      "Reshaping isomorphisms took: 0.0892641544342041 seconds.\n",
      "Generating mappings took: 0.23710989952087402 seconds.\n",
      "Post processing subgraph4...\n",
      "Before post processing number of motifs found was 163562 and after was 163562\n",
      "Post processing took: 3.1784827709198 seconds.\n",
      "\n",
      "Querying for subgraph1...\n",
      "Finding 696_460 motifs took: 7743.926843881607 seconds.\n",
      "Reshaping isomorphisms took: 0.26030540466308594 seconds.\n",
      "Generating mappings took: 0.8855459690093994 seconds.\n",
      "Post processing subgraph1...\n",
      "Before post processing number of motifs found was 696460 and after was 696460\n",
      "Post processing took: 6.929918050765991 seconds.\n",
      "\n",
      "Querying for subgraph6...\n",
      "Finding 310_382 motifs took: 24830.87238240242 seconds.\n",
      "Reshaping isomorphisms took: 0.21153593063354492 seconds.\n",
      "Generating mappings took: 0.6353244781494141 seconds.\n",
      "Post processing subgraph6...\n",
      "Before post processing number of motifs found was 310382 and after was 254696\n",
      "Post processing took: 5.02346658706665 seconds.\n",
      "\n"
     ]
    }
   ],
   "source": [
    "all_mappings = {}\n",
    "cap = 0\n",
    "send_to_file = True\n",
    "for tup in subgraphs_as_list_of_tuples:\n",
    "    subgraph_id = int(tup[4])\n",
    "    subgraph_name = f\"subgraph{subgraph_id}\"\n",
    "    subgraph_src = tup[0]\n",
    "    subgraph_dst = tup[1]\n",
    "    subgraph_connection_type = tup[2]\n",
    "    subgraph_color = tup[3]\n",
    "\n",
    "    print(f\"Querying for {subgraph_name}...\")\n",
    "    curr_mapping = motif_to_viss(subgraph_src, subgraph_dst, subgraph_connection_type, cap)\n",
    "    all_mappings[subgraph_id] = curr_mapping\n",
    "\n",
    "    print(f\"Post processing {subgraph_name}...\")\n",
    "    map_to_write = get_post_processed_mappings(subgraph_src, subgraph_dst, subgraph_color, all_mappings[subgraph_id])\n",
    "\n",
    "    if send_to_file:\n",
    "        filename = subgraph_name + f\"_motifs_capped_at_{cap}.json\" if cap != 0 else subgraph_name + f\"_motifs.json\"\n",
    "        with open(filename, \"w\") as f:\n",
    "            json.dump(map_to_write, f)\n",
    "    \n",
    "    print()"
   ]
  },
  {
   "cell_type": "code",
   "execution_count": 12,
   "id": "16431dba",
   "metadata": {},
   "outputs": [],
   "source": [
    "# Convert graph to NetworkX and run their subgraph isomorphism.\n",
    "G = nx.from_pandas_edgelist(df, source=\"src\", target=\"dst\", edge_attr=True, create_using=nx.DiGraph())"
   ]
  },
  {
   "cell_type": "code",
   "execution_count": null,
   "id": "2f1dea0e",
   "metadata": {},
   "outputs": [
    {
     "name": "stdout",
     "output_type": "stream",
     "text": [
      "Querying for 0...\n",
      "Found 100 so far\n",
      "Found 200 so far\n",
      "Found 300 so far\n",
      "Found 400 so far\n",
      "Found 500 so far\n",
      "Finding 501 motifs took: 331.4772734642029 seconds.\n",
      "Querying for 2...\n"
     ]
    },
    {
     "ename": "KeyboardInterrupt",
     "evalue": "",
     "output_type": "error",
     "traceback": [
      "\u001b[0;31m---------------------------------------------------------------------------\u001b[0m",
      "\u001b[0;31mKeyError\u001b[0m                                  Traceback (most recent call last)",
      "File \u001b[0;32m~/.conda/envs/arkouda-dev/lib/python3.10/_collections_abc.py:830\u001b[0m, in \u001b[0;36mMapping.__contains__\u001b[0;34m(self, key)\u001b[0m\n\u001b[1;32m    829\u001b[0m \u001b[38;5;28;01mtry\u001b[39;00m:\n\u001b[0;32m--> 830\u001b[0m     \u001b[38;5;28;43mself\u001b[39;49m\u001b[43m[\u001b[49m\u001b[43mkey\u001b[49m\u001b[43m]\u001b[49m\n\u001b[1;32m    831\u001b[0m \u001b[38;5;28;01mexcept\u001b[39;00m \u001b[38;5;167;01mKeyError\u001b[39;00m:\n",
      "File \u001b[0;32m~/.conda/envs/arkouda-dev/lib/python3.10/site-packages/networkx/classes/coreviews.py:53\u001b[0m, in \u001b[0;36mAtlasView.__getitem__\u001b[0;34m(self, key)\u001b[0m\n\u001b[1;32m     52\u001b[0m \u001b[38;5;28;01mdef\u001b[39;00m \u001b[38;5;21m__getitem__\u001b[39m(\u001b[38;5;28mself\u001b[39m, key):\n\u001b[0;32m---> 53\u001b[0m     \u001b[38;5;28;01mreturn\u001b[39;00m \u001b[38;5;28;43mself\u001b[39;49m\u001b[38;5;241;43m.\u001b[39;49m\u001b[43m_atlas\u001b[49m\u001b[43m[\u001b[49m\u001b[43mkey\u001b[49m\u001b[43m]\u001b[49m\n",
      "\u001b[0;31mKeyError\u001b[0m: 370396639527685",
      "\nDuring handling of the above exception, another exception occurred:\n",
      "\u001b[0;31mKeyboardInterrupt\u001b[0m                         Traceback (most recent call last)",
      "Cell \u001b[0;32mIn[42], line 28\u001b[0m\n\u001b[1;32m     26\u001b[0m isomatcher \u001b[38;5;241m=\u001b[39m nx\u001b[38;5;241m.\u001b[39misomorphism\u001b[38;5;241m.\u001b[39mDiGraphMatcher(G,h,edge_match\u001b[38;5;241m=\u001b[39medge_match)\n\u001b[1;32m     27\u001b[0m motifs \u001b[38;5;241m=\u001b[39m []\n\u001b[0;32m---> 28\u001b[0m \u001b[38;5;28;01mfor\u001b[39;00m motif \u001b[38;5;129;01min\u001b[39;00m isomatcher\u001b[38;5;241m.\u001b[39msubgraph_monomorphisms_iter():\n\u001b[1;32m     29\u001b[0m     motifs\u001b[38;5;241m.\u001b[39mappend(motif)\n\u001b[1;32m     30\u001b[0m     \u001b[38;5;28;01mif\u001b[39;00m \u001b[38;5;28mlen\u001b[39m(motifs) \u001b[38;5;241m%\u001b[39m \u001b[38;5;241m100\u001b[39m \u001b[38;5;241m==\u001b[39m \u001b[38;5;241m0\u001b[39m:\n",
      "File \u001b[0;32m~/.conda/envs/arkouda-dev/lib/python3.10/site-packages/networkx/algorithms/isomorphism/isomorphvf2.py:391\u001b[0m, in \u001b[0;36mGraphMatcher.subgraph_monomorphisms_iter\u001b[0;34m(self)\u001b[0m\n\u001b[1;32m    389\u001b[0m \u001b[38;5;28mself\u001b[39m\u001b[38;5;241m.\u001b[39mtest \u001b[38;5;241m=\u001b[39m \u001b[38;5;124m\"\u001b[39m\u001b[38;5;124mmono\u001b[39m\u001b[38;5;124m\"\u001b[39m\n\u001b[1;32m    390\u001b[0m \u001b[38;5;28mself\u001b[39m\u001b[38;5;241m.\u001b[39minitialize()\n\u001b[0;32m--> 391\u001b[0m \u001b[38;5;28;01myield from\u001b[39;00m \u001b[38;5;28mself\u001b[39m\u001b[38;5;241m.\u001b[39mmatch()\n",
      "File \u001b[0;32m~/.conda/envs/arkouda-dev/lib/python3.10/site-packages/networkx/algorithms/isomorphism/isomorphvf2.py:316\u001b[0m, in \u001b[0;36mGraphMatcher.match\u001b[0;34m(self)\u001b[0m\n\u001b[1;32m    313\u001b[0m \u001b[38;5;28;01mif\u001b[39;00m \u001b[38;5;28mself\u001b[39m\u001b[38;5;241m.\u001b[39msemantic_feasibility(G1_node, G2_node):\n\u001b[1;32m    314\u001b[0m     \u001b[38;5;66;03m# Recursive call, adding the feasible state.\u001b[39;00m\n\u001b[1;32m    315\u001b[0m     newstate \u001b[38;5;241m=\u001b[39m \u001b[38;5;28mself\u001b[39m\u001b[38;5;241m.\u001b[39mstate\u001b[38;5;241m.\u001b[39m\u001b[38;5;18m__class__\u001b[39m(\u001b[38;5;28mself\u001b[39m, G1_node, G2_node)\n\u001b[0;32m--> 316\u001b[0m     \u001b[38;5;28;01myield from\u001b[39;00m \u001b[38;5;28mself\u001b[39m\u001b[38;5;241m.\u001b[39mmatch()\n\u001b[1;32m    318\u001b[0m     \u001b[38;5;66;03m# restore data structures\u001b[39;00m\n\u001b[1;32m    319\u001b[0m     newstate\u001b[38;5;241m.\u001b[39mrestore()\n",
      "File \u001b[0;32m~/.conda/envs/arkouda-dev/lib/python3.10/site-packages/networkx/algorithms/isomorphism/isomorphvf2.py:316\u001b[0m, in \u001b[0;36mGraphMatcher.match\u001b[0;34m(self)\u001b[0m\n\u001b[1;32m    313\u001b[0m \u001b[38;5;28;01mif\u001b[39;00m \u001b[38;5;28mself\u001b[39m\u001b[38;5;241m.\u001b[39msemantic_feasibility(G1_node, G2_node):\n\u001b[1;32m    314\u001b[0m     \u001b[38;5;66;03m# Recursive call, adding the feasible state.\u001b[39;00m\n\u001b[1;32m    315\u001b[0m     newstate \u001b[38;5;241m=\u001b[39m \u001b[38;5;28mself\u001b[39m\u001b[38;5;241m.\u001b[39mstate\u001b[38;5;241m.\u001b[39m\u001b[38;5;18m__class__\u001b[39m(\u001b[38;5;28mself\u001b[39m, G1_node, G2_node)\n\u001b[0;32m--> 316\u001b[0m     \u001b[38;5;28;01myield from\u001b[39;00m \u001b[38;5;28mself\u001b[39m\u001b[38;5;241m.\u001b[39mmatch()\n\u001b[1;32m    318\u001b[0m     \u001b[38;5;66;03m# restore data structures\u001b[39;00m\n\u001b[1;32m    319\u001b[0m     newstate\u001b[38;5;241m.\u001b[39mrestore()\n",
      "File \u001b[0;32m~/.conda/envs/arkouda-dev/lib/python3.10/site-packages/networkx/algorithms/isomorphism/isomorphvf2.py:316\u001b[0m, in \u001b[0;36mGraphMatcher.match\u001b[0;34m(self)\u001b[0m\n\u001b[1;32m    313\u001b[0m \u001b[38;5;28;01mif\u001b[39;00m \u001b[38;5;28mself\u001b[39m\u001b[38;5;241m.\u001b[39msemantic_feasibility(G1_node, G2_node):\n\u001b[1;32m    314\u001b[0m     \u001b[38;5;66;03m# Recursive call, adding the feasible state.\u001b[39;00m\n\u001b[1;32m    315\u001b[0m     newstate \u001b[38;5;241m=\u001b[39m \u001b[38;5;28mself\u001b[39m\u001b[38;5;241m.\u001b[39mstate\u001b[38;5;241m.\u001b[39m\u001b[38;5;18m__class__\u001b[39m(\u001b[38;5;28mself\u001b[39m, G1_node, G2_node)\n\u001b[0;32m--> 316\u001b[0m     \u001b[38;5;28;01myield from\u001b[39;00m \u001b[38;5;28mself\u001b[39m\u001b[38;5;241m.\u001b[39mmatch()\n\u001b[1;32m    318\u001b[0m     \u001b[38;5;66;03m# restore data structures\u001b[39;00m\n\u001b[1;32m    319\u001b[0m     newstate\u001b[38;5;241m.\u001b[39mrestore()\n",
      "File \u001b[0;32m~/.conda/envs/arkouda-dev/lib/python3.10/site-packages/networkx/algorithms/isomorphism/isomorphvf2.py:312\u001b[0m, in \u001b[0;36mGraphMatcher.match\u001b[0;34m(self)\u001b[0m\n\u001b[1;32m    310\u001b[0m \u001b[38;5;28;01melse\u001b[39;00m:\n\u001b[1;32m    311\u001b[0m     \u001b[38;5;28;01mfor\u001b[39;00m G1_node, G2_node \u001b[38;5;129;01min\u001b[39;00m \u001b[38;5;28mself\u001b[39m\u001b[38;5;241m.\u001b[39mcandidate_pairs_iter():\n\u001b[0;32m--> 312\u001b[0m         \u001b[38;5;28;01mif\u001b[39;00m \u001b[38;5;28;43mself\u001b[39;49m\u001b[38;5;241;43m.\u001b[39;49m\u001b[43msyntactic_feasibility\u001b[49m\u001b[43m(\u001b[49m\u001b[43mG1_node\u001b[49m\u001b[43m,\u001b[49m\u001b[43m \u001b[49m\u001b[43mG2_node\u001b[49m\u001b[43m)\u001b[49m:\n\u001b[1;32m    313\u001b[0m             \u001b[38;5;28;01mif\u001b[39;00m \u001b[38;5;28mself\u001b[39m\u001b[38;5;241m.\u001b[39msemantic_feasibility(G1_node, G2_node):\n\u001b[1;32m    314\u001b[0m                 \u001b[38;5;66;03m# Recursive call, adding the feasible state.\u001b[39;00m\n\u001b[1;32m    315\u001b[0m                 newstate \u001b[38;5;241m=\u001b[39m \u001b[38;5;28mself\u001b[39m\u001b[38;5;241m.\u001b[39mstate\u001b[38;5;241m.\u001b[39m\u001b[38;5;18m__class__\u001b[39m(\u001b[38;5;28mself\u001b[39m, G1_node, G2_node)\n",
      "File \u001b[0;32m~/.conda/envs/arkouda-dev/lib/python3.10/site-packages/networkx/algorithms/isomorphism/isomorphvf2.py:714\u001b[0m, in \u001b[0;36mDiGraphMatcher.syntactic_feasibility\u001b[0;34m(self, G1_node, G2_node)\u001b[0m\n\u001b[1;32m    712\u001b[0m \u001b[38;5;28;01mfor\u001b[39;00m successor \u001b[38;5;129;01min\u001b[39;00m \u001b[38;5;28mself\u001b[39m\u001b[38;5;241m.\u001b[39mG2[G2_node]:\n\u001b[1;32m    713\u001b[0m     \u001b[38;5;28;01mif\u001b[39;00m successor \u001b[38;5;129;01min\u001b[39;00m \u001b[38;5;28mself\u001b[39m\u001b[38;5;241m.\u001b[39mcore_2:\n\u001b[0;32m--> 714\u001b[0m         \u001b[38;5;28;01mif\u001b[39;00m \u001b[38;5;28;43mself\u001b[39;49m\u001b[38;5;241;43m.\u001b[39;49m\u001b[43mcore_2\u001b[49m\u001b[43m[\u001b[49m\u001b[43msuccessor\u001b[49m\u001b[43m]\u001b[49m\u001b[43m \u001b[49m\u001b[38;5;129;43;01mnot\u001b[39;49;00m\u001b[43m \u001b[49m\u001b[38;5;129;43;01min\u001b[39;49;00m\u001b[43m \u001b[49m\u001b[38;5;28;43mself\u001b[39;49m\u001b[38;5;241;43m.\u001b[39;49m\u001b[43mG1\u001b[49m\u001b[43m[\u001b[49m\u001b[43mG1_node\u001b[49m\u001b[43m]\u001b[49m:\n\u001b[1;32m    715\u001b[0m             \u001b[38;5;28;01mreturn\u001b[39;00m \u001b[38;5;28;01mFalse\u001b[39;00m\n\u001b[1;32m    716\u001b[0m         \u001b[38;5;28;01melif\u001b[39;00m \u001b[38;5;28mself\u001b[39m\u001b[38;5;241m.\u001b[39mtest \u001b[38;5;241m==\u001b[39m \u001b[38;5;124m\"\u001b[39m\u001b[38;5;124mmono\u001b[39m\u001b[38;5;124m\"\u001b[39m:\n",
      "File \u001b[0;32m~/.conda/envs/arkouda-dev/lib/python3.10/_collections_abc.py:830\u001b[0m, in \u001b[0;36mMapping.__contains__\u001b[0;34m(self, key)\u001b[0m\n\u001b[1;32m    828\u001b[0m \u001b[38;5;28;01mdef\u001b[39;00m \u001b[38;5;21m__contains__\u001b[39m(\u001b[38;5;28mself\u001b[39m, key):\n\u001b[1;32m    829\u001b[0m     \u001b[38;5;28;01mtry\u001b[39;00m:\n\u001b[0;32m--> 830\u001b[0m         \u001b[38;5;28;43mself\u001b[39;49m\u001b[43m[\u001b[49m\u001b[43mkey\u001b[49m\u001b[43m]\u001b[49m\n\u001b[1;32m    831\u001b[0m     \u001b[38;5;28;01mexcept\u001b[39;00m \u001b[38;5;167;01mKeyError\u001b[39;00m:\n\u001b[1;32m    832\u001b[0m         \u001b[38;5;28;01mreturn\u001b[39;00m \u001b[38;5;28;01mFalse\u001b[39;00m\n",
      "\u001b[0;31mKeyboardInterrupt\u001b[0m: "
     ]
    }
   ],
   "source": [
    "subgraphs_as_list_of_tuples = [ \n",
    "                                (src0, dst0, connection_type0, color0, \"0\"),\n",
    "                                (src2, dst2, connection_type2, color2, \"2\"),\n",
    "                                (src3, dst3, connection_type3, color3, \"3\"),\n",
    "                                (src7, dst7, connection_type7, color7, \"7\"),\n",
    "                                (src5, dst5, connection_type5, color5, \"5\"),\n",
    "                                (src4, dst4, connection_type4, color4, \"4\"),\n",
    "                                (src1, dst1, connection_type1, color1, \"1\"),\n",
    "                                (src6, dst6, connection_type6, color6, \"6\")\n",
    "                            ]\n",
    "\n",
    "def edge_match(e1, e2):\n",
    "    return e1[\"connection_type\"] == e2[\"connection_type\"]\n",
    "\n",
    "for tup in subgraphs_as_list_of_tuples:\n",
    "    h = nx.DiGraph()\n",
    "    src, dst, connection_type, color, identifier = tup\n",
    "    for i in range(len(src)):\n",
    "        u = src[i]\n",
    "        v = dst[i]\n",
    "        h.add_edge(u, v, connection_type=connection_type[i], color=color[i])\n",
    "\n",
    "    print(f\"Querying for {identifier}...\")\n",
    "    \n",
    "    start = time.time()\n",
    "    isomatcher = nx.isomorphism.DiGraphMatcher(G,h,edge_match=edge_match)\n",
    "    motifs = []\n",
    "    for motif in isomatcher.subgraph_monomorphisms_iter():\n",
    "        motifs.append(motif)\n",
    "        if len(motifs) % 100 == 0:\n",
    "            print(f\"Found {len(motifs)} so far\")\n",
    "\n",
    "        if len(motifs) > 500:\n",
    "            break\n",
    "    end = time.time()\n",
    "\n",
    "    print(f\"Finding {len(motifs):_} motifs took: {end-start} seconds.\")\n",
    "    print()"
   ]
  }
 ],
 "metadata": {
  "kernelspec": {
   "display_name": "arkouda-dev",
   "language": "python",
   "name": "python3"
  },
  "language_info": {
   "codemirror_mode": {
    "name": "ipython",
    "version": 3
   },
   "file_extension": ".py",
   "mimetype": "text/x-python",
   "name": "python",
   "nbconvert_exporter": "python",
   "pygments_lexer": "ipython3",
   "version": "3.10.12"
  }
 },
 "nbformat": 4,
 "nbformat_minor": 5
}
