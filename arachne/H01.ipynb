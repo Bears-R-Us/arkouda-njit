{
 "cells": [
  {
   "cell_type": "code",
   "execution_count": 1,
   "metadata": {},
   "outputs": [
    {
     "name": "stdout",
     "output_type": "stream",
     "text": [
      "    _         _                   _       \n",
      "   / \\   _ __| | _____  _   _  __| | __ _ \n",
      "  / _ \\ | '__| |/ / _ \\| | | |/ _` |/ _` |\n",
      " / ___ \\| |  |   < (_) | |_| | (_| | (_| |\n",
      "/_/   \\_\\_|  |_|\\_\\___/ \\__,_|\\__,_|\\__,_|\n",
      "                                          \n",
      "\n",
      "Client Version: v2024.06.21+0.gcf6eeacde.dirty\n"
     ]
    }
   ],
   "source": [
    "import arkouda as ak\n",
    "import arachne as ar"
   ]
  },
  {
   "cell_type": "code",
   "execution_count": 2,
   "metadata": {},
   "outputs": [
    {
     "name": "stderr",
     "output_type": "stream",
     "text": [
      "connected to arkouda server tcp://*:5555\n"
     ]
    }
   ],
   "source": [
    "ak.connect(\"n82\", 5555)"
   ]
  },
  {
   "cell_type": "code",
   "execution_count": 3,
   "metadata": {},
   "outputs": [],
   "source": [
    "connectome_edges = ak.read(\"/scratch/users/oaa9/experimentation/data/connectome/h01/edges*\")\n",
    "connectome_edges = ak.DataFrame(connectome_edges)"
   ]
  },
  {
   "cell_type": "code",
   "execution_count": 4,
   "metadata": {},
   "outputs": [
    {
     "data": {
      "text/plain": [
       "(array([False True]), array([9405824 140465845]))"
      ]
     },
     "execution_count": 4,
     "metadata": {},
     "output_type": "execute_result"
    }
   ],
   "source": [
    "vals = connectome_edges[\"confidence\"] > 0.75\n",
    "ak.value_counts(vals)"
   ]
  },
  {
   "cell_type": "code",
   "execution_count": 5,
   "metadata": {},
   "outputs": [],
   "source": [
    "connectome_edges[\"bool_conf\"] = vals"
   ]
  },
  {
   "cell_type": "code",
   "execution_count": 6,
   "metadata": {},
   "outputs": [],
   "source": [
    "connectome_nodes = ak.read(\"/scratch/users/oaa9/experimentation/data/connectome/h01/nodes*\")\n",
    "connectome_nodes = ak.DataFrame(connectome_nodes)"
   ]
  },
  {
   "cell_type": "code",
   "execution_count": 7,
   "metadata": {},
   "outputs": [],
   "source": [
    "nodes_gb = connectome_nodes.groupby(\"neuron_id\")\n",
    "connectome_nodes = connectome_nodes[nodes_gb.permutation[nodes_gb.segments]]"
   ]
  },
  {
   "cell_type": "code",
   "execution_count": 8,
   "metadata": {},
   "outputs": [],
   "source": [
    "graph = ar.PropGraph()\n",
    "graph.load_edge_attributes(connectome_edges, source_column=\"src_neuron_id\", destination_column=\"dst_neuron_id\", relationship_columns=\"type_label\")\n",
    "graph.load_node_attributes(connectome_nodes, node_column=\"neuron_id\")"
   ]
  },
  {
   "cell_type": "code",
   "execution_count": 9,
   "metadata": {},
   "outputs": [
    {
     "name": "stdout",
     "output_type": "stream",
     "text": [
      "Graph has 142_660_662 vertices and 147_071_359 edges.\n"
     ]
    }
   ],
   "source": [
    "print(f\"Graph has {len(graph):_} vertices and {graph.size():_} edges.\")"
   ]
  },
  {
   "cell_type": "code",
   "execution_count": 10,
   "metadata": {},
   "outputs": [],
   "source": [
    "src = ak.array([0, 1, 2, 2])\n",
    "dst = ak.array([1, 2, 0, 3])\n",
    "nodes = ak.array([0, 1, 2, 3])"
   ]
  },
  {
   "cell_type": "code",
   "execution_count": 11,
   "metadata": {},
   "outputs": [],
   "source": [
    "bool_conf = ak.array([True, True, True, True])"
   ]
  },
  {
   "cell_type": "code",
   "execution_count": 12,
   "metadata": {},
   "outputs": [],
   "source": [
    "subgraph_edge_df = ak.DataFrame({\"src\":src, \"dst\":dst, \"bool_conf\":bool_conf})"
   ]
  },
  {
   "cell_type": "code",
   "execution_count": 13,
   "metadata": {},
   "outputs": [],
   "source": [
    "subgraph = ar.PropGraph()\n",
    "subgraph.load_edge_attributes(subgraph_edge_df, source_column=\"src\", destination_column=\"dst\")"
   ]
  },
  {
   "cell_type": "code",
   "execution_count": 14,
   "metadata": {},
   "outputs": [],
   "source": [
    "def vf2_si(g, h):\n",
    "    isos_as_vertices = ar.subgraph_isomorphism(g, h, \n",
    "                                            semantic_check = \"and\", algorithm_type = \"si\",\n",
    "                                            reorder_type = \"structural\", return_isos_as = \"vertices\")\n",
    "    print(f\"We found {len(isos_as_vertices[0])/len(h)} monos inside of the graph\")"
   ]
  },
  {
   "cell_type": "code",
   "execution_count": 15,
   "metadata": {},
   "outputs": [],
   "source": [
    "def vf2_si_probability_reordering(g,h):\n",
    "    isos_as_vertices = ar.subgraph_isomorphism(g, h, \n",
    "                                            semantic_check = \"and\", algorithm_type = \"si\",\n",
    "                                            reorder_type = \"probability\", return_isos_as = \"vertices\")\n",
    "    print(f\"We found {len(isos_as_vertices[0])/len(h)} monos inside of the graph\")"
   ]
  },
  {
   "cell_type": "code",
   "execution_count": 16,
   "metadata": {},
   "outputs": [
    {
     "name": "stdout",
     "output_type": "stream",
     "text": [
      "We found 118225.0 monos inside of the graph\n"
     ]
    }
   ],
   "source": [
    "vf2_si(graph, subgraph)"
   ]
  },
  {
   "cell_type": "code",
   "execution_count": 17,
   "metadata": {},
   "outputs": [
    {
     "name": "stdout",
     "output_type": "stream",
     "text": [
      "We found 118225.0 monos inside of the graph\n"
     ]
    }
   ],
   "source": [
    "vf2_si_probability_reordering(graph, subgraph)"
   ]
  }
 ],
 "metadata": {
  "kernelspec": {
   "display_name": "arkouda-dev",
   "language": "python",
   "name": "python3"
  },
  "language_info": {
   "codemirror_mode": {
    "name": "ipython",
    "version": 3
   },
   "file_extension": ".py",
   "mimetype": "text/x-python",
   "name": "python",
   "nbconvert_exporter": "python",
   "pygments_lexer": "ipython3",
   "version": "3.10.12"
  }
 },
 "nbformat": 4,
 "nbformat_minor": 2
}
