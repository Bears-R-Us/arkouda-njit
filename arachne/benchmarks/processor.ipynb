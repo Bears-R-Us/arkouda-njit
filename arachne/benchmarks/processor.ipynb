{
 "cells": [
  {
   "cell_type": "code",
   "execution_count": null,
   "metadata": {},
   "outputs": [],
   "source": [
    "import arkouda as ak\n",
    "import arachne as ar\n",
    "import pandas as pd\n",
    "import time as time\n",
    "import networkx as nx\n",
    "import random\n"
   ]
  },
  {
   "cell_type": "code",
   "execution_count": null,
   "metadata": {},
   "outputs": [],
   "source": [
    "from dotmotif import Motif, GrandIsoExecutor "
   ]
  },
  {
   "cell_type": "code",
   "execution_count": null,
   "metadata": {},
   "outputs": [],
   "source": [
    "ak.connect(\"n115\", 5555)"
   ]
  },
  {
   "cell_type": "code",
   "execution_count": null,
   "metadata": {},
   "outputs": [],
   "source": [
    "microns = pd.read_csv(\"/scratch/users/oaa9/experimentation/data/connectome/MICrONS/soma_subgraph_synapses_spines_v185.csv\")\n",
    "microns\n"
   ]
  },
  {
   "cell_type": "code",
   "execution_count": null,
   "metadata": {},
   "outputs": [],
   "source": [
    "microns.columns"
   ]
  },
  {
   "cell_type": "code",
   "execution_count": null,
   "metadata": {},
   "outputs": [],
   "source": [
    "hemibrain_traced_roi_connections = pd.read_csv(\"/scratch/users/oaa9/experimentation/data/connectome/hemibrain/exported-traced-adjacencies-v1.2/traced-roi-connections.csv\")\n",
    "hemibrain_traced_roi_connections"
   ]
  },
  {
   "cell_type": "code",
   "execution_count": null,
   "metadata": {},
   "outputs": [],
   "source": [
    "c_elegans = pd.read_csv(\"/scratch/users/oaa9/experimentation/data/connectome/c.elegans/celegans_actual.csv\")\n",
    "print(c_elegans)\n",
    "c_elegans.columns = c_elegans.columns.str.replace(\" \", \"\")\n",
    "c_elegans.columns = c_elegans.columns.str.strip()\n",
    "c_elegans[\"post1\"] = c_elegans[\"post1\"].astype(str)\n",
    "c_elegans[\"post2\"] = c_elegans[\"post2\"].astype(str)\n",
    "c_elegans[\"post3\"] = c_elegans[\"post3\"].astype(str)\n",
    "c_elegans[\"post4\"] = c_elegans[\"post4\"].astype(str)\n",
    "#c_elegans"
   ]
  },
  {
   "cell_type": "code",
   "execution_count": null,
   "metadata": {},
   "outputs": [],
   "source": [
    "temp_cols = list(c_elegans.columns)\n",
    "temp_cols.remove(\"post1\")\n",
    "temp_cols.remove(\"post2\")\n",
    "temp_cols.remove(\"post3\")\n",
    "temp_cols.remove(\"post4\")\n",
    "temp = {k:[] for k in temp_cols}\n",
    "for index,row in c_elegans.iterrows():\n",
    "    if row[\"post1\"] != \"nan\":\n",
    "        for k in temp_cols:\n",
    "            if k == \"post\":\n",
    "                temp[k].append(row[\"post1\"])\n",
    "            else:\n",
    "                temp[k].append(row[k])\n",
    "    if row[\"post2\"] != \"nan\":\n",
    "        for k in temp_cols:\n",
    "            if k == \"post\":\n",
    "                temp[k].append(row[\"post2\"])\n",
    "            else:\n",
    "                temp[k].append(row[k])\n",
    "    if row[\"post3\"] != \"nan\":\n",
    "        for k in temp_cols:\n",
    "            if k == \"post\":\n",
    "                temp[k].append(row[\"post3\"])\n",
    "            else:\n",
    "                temp[k].append(row[k])\n",
    "    if row[\"post4\"] != \"nan\":\n",
    "        for k in temp_cols:\n",
    "            if k == \"post\":\n",
    "                temp[k].append(row[\"post4\"])\n",
    "            else:\n",
    "                temp[k].append(row[k])"
   ]
  },
  {
   "cell_type": "code",
   "execution_count": null,
   "metadata": {},
   "outputs": [],
   "source": [
    "c_elegans_from_dict = pd.DataFrame.from_dict(temp)\n",
    "c_elegans_from_dict"
   ]
  },
  {
   "cell_type": "code",
   "execution_count": null,
   "metadata": {},
   "outputs": [],
   "source": [
    "neuron_dfs_in_pandas = [c_elegans_from_dict, microns, hemibrain_traced_roi_connections]\n"
   ]
  },
  {
   "cell_type": "code",
   "execution_count": null,
   "metadata": {},
   "outputs": [],
   "source": [
    "neuron_dfs_in_arkouda = [ak.DataFrame(pd_df) for pd_df in neuron_dfs_in_pandas]"
   ]
  },
  {
   "cell_type": "code",
   "execution_count": null,
   "metadata": {},
   "outputs": [],
   "source": [
    "ak_celegans = neuron_dfs_in_arkouda[0]\n",
    "ak_microns = neuron_dfs_in_arkouda[1]\n",
    "ak_hemibrain_traced_roi_connections = neuron_dfs_in_arkouda[2]"
   ]
  },
  {
   "cell_type": "code",
   "execution_count": null,
   "metadata": {},
   "outputs": [],
   "source": [
    "ak_celegans_gb = ak_celegans.groupby([\"pre\", \"post\"])\n",
    "print(ak_celegans_gb)\n"
   ]
  },
  {
   "cell_type": "code",
   "execution_count": null,
   "metadata": {},
   "outputs": [],
   "source": [
    "ak_celegans_sorted = ak_celegans[ak_celegans_gb.permutation[ak_celegans_gb.segments]]\n",
    "chemical_synapses = ak_celegans_sorted[\"type\"] == \"chemical\"\n",
    "ak_celegans_sorted = ak_celegans_sorted[chemical_synapses]"
   ]
  },
  {
   "cell_type": "code",
   "execution_count": null,
   "metadata": {},
   "outputs": [],
   "source": [
    "ak_celegans_nodes = ak.concatenate([ak_celegans_sorted[\"pre\"], ak_celegans_sorted[\"post\"]])\n",
    "gb_celegans_nodes = ak.GroupBy(ak_celegans_nodes)\n",
    "new_vertex_range = ak.arange(gb_celegans_nodes.unique_keys.size)\n",
    "all_vertices = gb_celegans_nodes.broadcast(new_vertex_range)\n",
    "ak_celegans_sorted[\"pre\"] = all_vertices[0:ak_celegans_sorted.shape[0]]\n",
    "ak_celegans_sorted[\"post\"] = all_vertices[ak_celegans_sorted.shape[0]:]\n",
    "ak_celegans_sorted"
   ]
  },
  {
   "cell_type": "code",
   "execution_count": null,
   "metadata": {},
   "outputs": [],
   "source": [
    "ak_microns_gb = ak_microns.groupby([\"pre_root_id\", \"post_root_id\"])\n",
    "ak_microns_sorted = ak_microns[ak_microns_gb.permutation[ak_microns_gb.segments]]\n",
    "ak_microns_sorted"
   ]
  },
  {
   "cell_type": "code",
   "execution_count": null,
   "metadata": {},
   "outputs": [],
   "source": [
    "ak_hemibrain_traced_roi_connections_gb = ak_hemibrain_traced_roi_connections.groupby([\"bodyId_pre\", \"bodyId_post\"])\n",
    "ak_hemibrain_traced_roi_connections_sorted = ak_hemibrain_traced_roi_connections[ak_hemibrain_traced_roi_connections_gb.permutation[ak_hemibrain_traced_roi_connections_gb.segments]]\n",
    "ak_hemibrain_traced_roi_connections_sorted"
   ]
  },
  {
   "cell_type": "code",
   "execution_count": null,
   "metadata": {},
   "outputs": [],
   "source": [
    "ak_celegans_sorted.columns\n"
   ]
  },
  {
   "cell_type": "code",
   "execution_count": null,
   "metadata": {},
   "outputs": [],
   "source": [
    "\n",
    "ak_celegans_sorted['src'] = ak_celegans_sorted['pre']\n",
    "del ak_celegans_sorted['pre']  # Remove the original column\n",
    "\n",
    "ak_celegans_sorted['dst'] = ak_celegans_sorted['post']\n",
    "del ak_celegans_sorted['post']  # Remove the original column\n",
    "\n",
    "ak_celegans_sorted.columns\n"
   ]
  },
  {
   "cell_type": "code",
   "execution_count": null,
   "metadata": {},
   "outputs": [],
   "source": [
    "ak_microns_sorted.columns\n"
   ]
  },
  {
   "cell_type": "code",
   "execution_count": null,
   "metadata": {},
   "outputs": [],
   "source": [
    "ak_microns_sorted['src'] = ak_microns_sorted['pre_root_id']\n",
    "del ak_microns_sorted['pre_root_id']  # Remove the original column\n",
    "\n",
    "ak_microns_sorted['dst'] = ak_microns_sorted['post_root_id']\n",
    "del ak_microns_sorted['post_root_id']  # Remove the original column\n",
    "\n",
    "ak_microns_sorted.columns"
   ]
  },
  {
   "cell_type": "code",
   "execution_count": null,
   "metadata": {},
   "outputs": [],
   "source": [
    "ak_hemibrain_traced_roi_connections_sorted['src'] = ak_hemibrain_traced_roi_connections_sorted['bodyId_pre']\n",
    "del ak_hemibrain_traced_roi_connections_sorted['bodyId_pre']  # Remove the original column\n",
    "\n",
    "ak_hemibrain_traced_roi_connections_sorted['dst'] = ak_hemibrain_traced_roi_connections_sorted['bodyId_post']\n",
    "del ak_hemibrain_traced_roi_connections_sorted['bodyId_post']  # Remove the original column\n",
    "\n",
    "ak_hemibrain_traced_roi_connections_sorted.columns"
   ]
  },
  {
   "cell_type": "code",
   "execution_count": null,
   "metadata": {},
   "outputs": [],
   "source": [
    "ak_celegans_sorted"
   ]
  },
  {
   "cell_type": "code",
   "execution_count": null,
   "metadata": {},
   "outputs": [],
   "source": [
    "ar_celegans = ar.PropGraph()\n",
    "\n",
    "ar_celegans.load_edge_attributes(ak_celegans_sorted, source_column=\"src\", destination_column=\"dst\", relationship_columns=[\"type\"])\n",
    "\n",
    "all_nodes = ak.concatenate([ak_celegans_sorted['src'], ak_celegans_sorted['dst']])\n",
    "unique_nodes = ak.unique(all_nodes)\n",
    "#unique_nodes.size\n",
    "lbls = ak.array([\"1\"]*unique_nodes.size)\n",
    "celegan_node_df = ak.DataFrame({\"nodes\": unique_nodes, \"lbls\":lbls})\n",
    "\n",
    "ar_celegans.load_node_attributes(celegan_node_df,node_column=\"nodes\", label_columns=[\"lbls\"])\n"
   ]
  },
  {
   "cell_type": "code",
   "execution_count": null,
   "metadata": {},
   "outputs": [],
   "source": [
    "subgraph = ar.PropGraph()\n",
    "src_subgraph = ak.array([0, 1])\n",
    "dst_subgraph = ak.array([1, 2])\n",
    "lbls_subgraph = ak.array([\"1\"]*3)\n",
    "rels_subgraph = ak.array([  \"chemical\", \"chemical\"])\n",
    "edge_df_h = ak.DataFrame({\"src\":src_subgraph, \"dst\":dst_subgraph, \"rels\":rels_subgraph})\n",
    "node_df_h = ak.DataFrame({\"nodes\": ak.arange(0,3), \"lbls\":lbls_subgraph})\n",
    "subgraph.load_edge_attributes(edge_df_h, source_column=\"src\", destination_column=\"dst\",\n",
    "                                relationship_columns=[\"rels\"])\n",
    "subgraph.load_node_attributes(node_df_h, node_column=\"nodes\", label_columns=[\"lbls\"])\n"
   ]
  },
  {
   "cell_type": "code",
   "execution_count": null,
   "metadata": {},
   "outputs": [],
   "source": [
    "prop_graph= ar_celegans\n",
    "# Grab vertex and edge data from the Arachne dataframes.\n",
    "graph_node_information = prop_graph.get_node_attributes()\n",
    "graph_edge_information = prop_graph.get_edge_attributes()\n",
    "subgraph_node_information = subgraph.get_node_attributes()\n",
    "subgraph_edge_information = subgraph.get_edge_attributes()\n",
    "\n",
    "print(graph_node_information)\n",
    "print(graph_edge_information)\n",
    "\n",
    "print(subgraph_node_information)\n",
    "print(subgraph_edge_information)\n",
    "\n",
    "\n",
    "\n",
    "# Convert Arkouda dataframes to Pandas dataframes to NetworkX graph attributes.\n",
    "G = nx.from_pandas_edgelist(graph_edge_information.to_pandas(), source='src',\n",
    "                            target='dst', edge_attr=True, create_using=nx.DiGraph)\n",
    "H = nx.from_pandas_edgelist(subgraph_edge_information.to_pandas(), source='src',\n",
    "                                target='dst', edge_attr=True, create_using=nx.DiGraph)\n",
    "\n",
    "# Convert graph node attributes to Pandas dfs, remove nodes, and convert rows to dicts.\n",
    "graph_node_attributes = graph_node_information.to_pandas()\n",
    "graph_nodes_from_df = list(graph_node_attributes.pop(\"nodes\"))\n",
    "graph_node_attributes = graph_node_attributes.to_dict('index')\n",
    "graph_node_attributes_final = {}\n",
    "\n",
    "# Convert subgraph node attributes to Pandas dfs remove nodes, and convert rows to dicts.\n",
    "subgraph_node_attributes = subgraph_node_information.to_pandas()\n",
    "subgraph_nodes_from_df = list(subgraph_node_attributes.pop(\"nodes\"))\n",
    "subgraph_node_attributes = subgraph_node_attributes.to_dict('index')\n",
    "subgraph_node_attributes_final = {}\n",
    "\n",
    "\n",
    "    # Convert Pandas index to original node index.\n",
    "for key in graph_node_attributes:\n",
    "    graph_node_attributes_final[graph_nodes_from_df[key]] = graph_node_attributes[key]\n",
    "\n",
    "for key in subgraph_node_attributes:\n",
    "        subgraph_node_attributes_final[subgraph_nodes_from_df[key]] = subgraph_node_attributes[key]\n",
    "\n",
    "\n",
    "print(\"graph_node_attributes_final:\")\n",
    "print(graph_node_attributes_final)\n",
    "print(\"subgraph_node_attributes_final:\")\n",
    "print(subgraph_node_attributes_final)\n",
    "    # Set the node attributes for G and H from dicts.\n",
    "nx.set_node_attributes(G, graph_node_attributes_final)\n",
    "nx.set_node_attributes(H, subgraph_node_attributes_final)\n"
   ]
  },
  {
   "cell_type": "code",
   "execution_count": null,
   "metadata": {},
   "outputs": [],
   "source": [
    "\n",
    "print(\" Arachne....\")\n",
    "start = time.time()\n",
    "isos = ar.subgraph_isomorphism(ar_celegans, subgraph)\n",
    "end = time.time()\n",
    "print(f\"Finding {len(isos)/3} monomorphisms took {end-start} secs\")\n",
    "print(\"************************************************************\")\n",
    "print(\" NetworkX... \")\n",
    "\n",
    "    # Find subgraph isomorphisms of H in G.\n",
    "start_time = time.time()\n",
    "GM = nx.algorithms.isomorphism.DiGraphMatcher(G, H)\n",
    "subgraph_isomorphisms = list(GM.subgraph_monomorphisms_iter())\n",
    "elapsed_time = time.time() - start_time\n",
    "print(f\"NetworkX execution time: {elapsed_time} seconds\")\n",
    "print(f\"NetworkX found: {len(subgraph_isomorphisms)} isos\")\n",
    "print(\"************************************************************\")\n",
    "print(\" DotMotif....\")\n",
    "E = GrandIsoExecutor(graph=G)\n",
    "\n",
    "# Create the search engine.\n",
    "motif = Motif(\"\"\"\n",
    "A -> B \n",
    "B -> C\n",
    "\"\"\")\n",
    "start = time.time()\n",
    "\n",
    "results = E.find(motif)\n",
    "elapsed_time = time.time() - start_time\n",
    "print(f\"DotMotif execution time: {elapsed_time} seconds\")\n",
    "print(f\"Dotmotif found: {len(subgraph_isomorphisms)} isos\")\n",
    "print(len(results))\n"
   ]
  },
  {
   "cell_type": "code",
   "execution_count": null,
   "metadata": {},
   "outputs": [],
   "source": [
    "print(\"************************************************************\")\n",
    "print(\" NetworkX... \")\n",
    "\n",
    "    # Find subgraph isomorphisms of H in G.\n",
    "start_time = time.time()\n",
    "GM = nx.algorithms.isomorphism.DiGraphMatcher(G, H)\n",
    "subgraph_isomorphisms = list(GM.subgraph_monomorphisms_iter())\n",
    "elapsed_time = time.time() - start_time\n",
    "print(f\"NetworkX execution time: {elapsed_time} seconds\")\n",
    "print(f\"NetworkX found: {len(subgraph_isomorphisms)} isos\")\n",
    "print(\"************************************************************\")"
   ]
  },
  {
   "cell_type": "code",
   "execution_count": null,
   "metadata": {},
   "outputs": [],
   "source": [
    "# Create a new graph from scratch:\n",
    "#host = nx.fast_gnp_random_graph(100, 0.1, directed=True)"
   ]
  },
  {
   "cell_type": "code",
   "execution_count": null,
   "metadata": {},
   "outputs": [],
   "source": []
  },
  {
   "cell_type": "code",
   "execution_count": null,
   "metadata": {},
   "outputs": [],
   "source": []
  },
  {
   "cell_type": "code",
   "execution_count": null,
   "metadata": {},
   "outputs": [],
   "source": [
    "ar_microns = ar.PropGraph()\n",
    "ar_hemibrain = ar.PropGraph()\n",
    "\n",
    "ar_microns.load_edge_attributes(ak_microns_sorted, source_column=\"src\", destination_column=\"dst\", relationship_columns=[\"id\"])\n",
    "ar_hemibrain.load_edge_attributes(ak_hemibrain_traced_roi_connections_sorted, source_column=\"src\", destination_column=\"dst\", relationship_columns=[\"roi\"])"
   ]
  },
  {
   "cell_type": "code",
   "execution_count": null,
   "metadata": {},
   "outputs": [],
   "source": [
    "print(f\"C.elegans has {len(ar_celegans)} nodes and {ar_celegans.size()} edges\")\n",
    "print(f\"MICrONS has {len(ar_microns)} nodes and {ar_microns.size()} edges\")\n",
    "print(f\"Hemibrain has {len(ar_hemibrain)} nodes and {ar_hemibrain.size()} edges\")"
   ]
  },
  {
   "cell_type": "code",
   "execution_count": null,
   "metadata": {},
   "outputs": [],
   "source": [
    "#ak_celegans_sorted.to_hdf(\"/scratch/users/oaa9/experimentation/data/connectome/c.elegans/celegans_preprocessed\")"
   ]
  },
  {
   "cell_type": "code",
   "execution_count": null,
   "metadata": {},
   "outputs": [],
   "source": [
    "#ak_microns_sorted.to_hdf(\"/scratch/users/oaa9/experimentation/data/connectome/MICrONS/microns_preprocessed\")"
   ]
  },
  {
   "cell_type": "code",
   "execution_count": null,
   "metadata": {},
   "outputs": [],
   "source": [
    "#ak_celegans_sorted.to_hdf(\"/scratch/users/oaa9/experimentation/data/connectome/hemibrain/hemibrain_preprocessed\")"
   ]
  },
  {
   "cell_type": "code",
   "execution_count": null,
   "metadata": {},
   "outputs": [],
   "source": [
    "import time"
   ]
  },
  {
   "cell_type": "code",
   "execution_count": null,
   "metadata": {},
   "outputs": [],
   "source": [
    "subgraph = ar.PropGraph()\n",
    "src_subgraph = ak.array([2, 1, 0])\n",
    "dst_subgraph = ak.array([1, 0, 2])\n",
    "lbls_subgraph = ak.array([\"1\"]*3)\n",
    "rels_subgraph = ak.array([\"1\", \"1\", \"1\"])\n",
    "edge_df_h = ak.DataFrame({\"src\":src_subgraph, \"dst\":dst_subgraph, \"rels\":rels_subgraph})\n",
    "node_df_h = ak.DataFrame({\"nodes\": ak.arange(0,3), \"lbls\":lbls_subgraph})\n",
    "subgraph.load_edge_attributes(edge_df_h, source_column=\"src\", destination_column=\"dst\",\n",
    "                                relationship_columns=[\"rels\"])\n",
    "subgraph.load_node_attributes(node_df_h, node_column=\"nodes\", label_columns=[\"lbls\"])\n",
    "print(\"Calling Arachne....\")\n",
    "start = time.time()\n",
    "isos = ar.subgraph_isomorphism(ar_celegans, subgraph)\n",
    "end = time.time()\n",
    "print(f\"Finding {len(isos)/3} monomorphisms took {end-start} secs\")"
   ]
  }
 ],
 "metadata": {
  "kernelspec": {
   "display_name": "arkouda-dev",
   "language": "python",
   "name": "python3"
  },
  "language_info": {
   "codemirror_mode": {
    "name": "ipython",
    "version": 3
   },
   "file_extension": ".py",
   "mimetype": "text/x-python",
   "name": "python",
   "nbconvert_exporter": "python",
   "pygments_lexer": "ipython3",
   "version": "3.10.13"
  }
 },
 "nbformat": 4,
 "nbformat_minor": 2
}
