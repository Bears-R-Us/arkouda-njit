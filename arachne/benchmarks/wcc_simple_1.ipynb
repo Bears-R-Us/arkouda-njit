{
 "cells": [
  {
   "cell_type": "code",
   "execution_count": 1,
   "metadata": {},
   "outputs": [
    {
     "name": "stdout",
     "output_type": "stream",
     "text": [
      "    _         _                   _       \n",
      "   / \\   _ __| | _____  _   _  __| | __ _ \n",
      "  / _ \\ | '__| |/ / _ \\| | | |/ _` |/ _` |\n",
      " / ___ \\| |  |   < (_) | |_| | (_| | (_| |\n",
      "/_/   \\_\\_|  |_|\\_\\___/ \\__,_|\\__,_|\\__,_|\n",
      "                                          \n",
      "\n",
      "Client Version: v2024.06.21\n"
     ]
    },
    {
     "name": "stderr",
     "output_type": "stream",
     "text": [
      "connected to arkouda server tcp://*:5555\n"
     ]
    }
   ],
   "source": [
    "import arkouda as ak\n",
    "import arachne as ar\n",
    "import scipy as sp\n",
    "import networkx as nx\n",
    "import matplotlib.pyplot as plt\n",
    "import os\n",
    "import pandas as pd\n",
    "\n",
    "# Connect to Arkouda server\n",
    "ak.connect(\"n115\", 5555)\n",
    "\n"
   ]
  },
  {
   "cell_type": "code",
   "execution_count": 2,
   "metadata": {},
   "outputs": [
    {
     "name": "stdout",
     "output_type": "stream",
     "text": [
      "reading the network file...\n",
      "Graph has 20 nodes and 23 edges.\n",
      "Running Arachne...\n"
     ]
    }
   ],
   "source": [
    "\n",
    "cluster_dict = {}\n",
    "\n",
    "print(\"reading the network file...\")\n",
    "# Read the TSV file using pandas\n",
    "network_df = pd.read_csv(\"/scratch/users/md724/arkouda-njit/arachne/data/wcc/test_network_simple_1.tsv\", sep=r'\\s+', header=None, names=[\"src\", \"dst\"])\n",
    "#network_df['type'] = 'T1'\n",
    "# Create an undirected graph from the data\n",
    "G = nx.from_pandas_edgelist(network_df, source='src', target='dst', create_using=nx.Graph())\n",
    "\n",
    "# Print the number of nodes and edges in the graph\n",
    "num_nodes = G.number_of_nodes()\n",
    "num_edges = G.number_of_edges()\n",
    "print(f\"Graph has {num_nodes} nodes and {num_edges} edges.\")\n",
    "\n",
    "\n",
    "# Create an Arachne Graph.\n",
    "ar_network_graph = ar.Graph()\n",
    "ar_network_graph.add_edges_from(ak.array(network_df[\"src\"]), ak.array(network_df[\"dst\"]))\n",
    "\n",
    "filePath = \"/scratch/users/md724/arkouda-njit/arachne/data/wcc/test_clustering_simple_1.tsv\"\n",
    "print(\"Running Arachne...\") \n",
    "\n"
   ]
  },
  {
   "cell_type": "code",
   "execution_count": 3,
   "metadata": {},
   "outputs": [
    {
     "name": "stdout",
     "output_type": "stream",
     "text": [
      "Cluster files written to:  /scratch/users/md724/DataSets/UIUC/wccOutPut\n",
      "and it returned these WCC Clusters:\n",
      "Cluster ID: 200, Depth: 0, Members: 4\n",
      "Cluster ID: 100, Depth: 0, Members: 3\n"
     ]
    }
   ],
   "source": [
    "clusters = ar.well_connected_components(ar_network_graph, filePath, \"/scratch/users/md724/DataSets/UIUC/wccOutPut\")\n",
    "# Function to extract information\n",
    "def extract_cluster_info(cluster_array):\n",
    "    cluster_info = []\n",
    "    for i in range(0, len(cluster_array), 3):\n",
    "        cluster_id = cluster_array[i]\n",
    "        depth = cluster_array[i+1]\n",
    "        members = cluster_array[i+2]\n",
    "        cluster_info.append({\n",
    "            'cluster_id': cluster_id,\n",
    "            'depth': depth,\n",
    "            'members': members\n",
    "        })\n",
    "    return cluster_info\n",
    "\n",
    "# Extract information\n",
    "info = extract_cluster_info(clusters)\n",
    "print(\"and it returned these WCC Clusters:\")\n",
    "# Print the extracted information\n",
    "for cluster in info:\n",
    "    print(f\"Cluster ID: {cluster['cluster_id']}, Depth: {cluster['depth']}, Members: {cluster['members']}\")\n",
    "#print(\"clusters = \", clusters)\n",
    "#print(\"clusters.size = \", clusters.size)\n",
    "ak.shutdown()"
   ]
  }
 ],
 "metadata": {
  "kernelspec": {
   "display_name": "arkouda-dev",
   "language": "python",
   "name": "python3"
  },
  "language_info": {
   "codemirror_mode": {
    "name": "ipython",
    "version": 3
   },
   "file_extension": ".py",
   "mimetype": "text/x-python",
   "name": "python",
   "nbconvert_exporter": "python",
   "pygments_lexer": "ipython3",
   "version": "3.10.13"
  }
 },
 "nbformat": 4,
 "nbformat_minor": 2
}
