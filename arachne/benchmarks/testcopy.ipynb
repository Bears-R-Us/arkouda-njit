{
 "cells": [
  {
   "cell_type": "code",
   "execution_count": 26,
   "metadata": {},
   "outputs": [],
   "source": [
    "import arkouda as ak\n",
    "import arachne as ar\n",
    "import pandas as pd\n",
    "import time as time\n",
    "import networkx as nx\n",
    "import random\n"
   ]
  },
  {
   "cell_type": "code",
   "execution_count": null,
   "metadata": {},
   "outputs": [],
   "source": [
    "ak.connect(\"n120\", 5555)"
   ]
  },
  {
   "cell_type": "code",
   "execution_count": null,
   "metadata": {},
   "outputs": [],
   "source": [
    "\n",
    "\n",
    "# Read the TSV file using pandas\n",
    "network_df = pd.read_csv(\"/scratch/users/md724/DataSets/wcc/test_network.tsv\", sep=\"\\t\", header=None, names=[\"src\", \"dst\"])\n",
    "network_df['type'] = 'T1'\n",
    "\n",
    "# Print the pandas DataFrame (optional, just to verify)\n",
    "print(network_df)\n",
    "print(network_df.head())\n",
    "\n"
   ]
  },
  {
   "cell_type": "code",
   "execution_count": null,
   "metadata": {},
   "outputs": [],
   "source": [
    "# Concatenate 'src' and 'dst' columns and find unique elements for nodes\n",
    "unique_nodes = pd.concat([network_df['src'], network_df['dst']]).unique()\n",
    "\n",
    "# Number of unique nodes\n",
    "num_unique_nodes = len(unique_nodes)\n",
    "num_unique_nodes"
   ]
  },
  {
   "cell_type": "code",
   "execution_count": null,
   "metadata": {},
   "outputs": [],
   "source": [
    "# Number of edges is the length of the DataFrame\n",
    "num_edges = len(network_df)\n",
    "\n",
    "# Calculate graph density\n",
    "d = num_edges / (num_unique_nodes * (num_unique_nodes - 1))\n",
    "print(f\"Graph Density: {d}\")\n",
    "\n",
    "print(f\"Number of unique nodes: {num_unique_nodes}\")\n",
    "print(f\"Number of edges: {num_edges}\")\n"
   ]
  },
  {
   "cell_type": "code",
   "execution_count": null,
   "metadata": {},
   "outputs": [],
   "source": [
    "\n",
    "# Convert the pandas DataFrame to an Arkouda DataFrame\n",
    "ak_network_df = ak.DataFrame(network_df)\n",
    "ak_network_df"
   ]
  },
  {
   "cell_type": "code",
   "execution_count": 45,
   "metadata": {},
   "outputs": [],
   "source": [
    "# Create an Arachne PropGraph and load the edge attributes\n",
    "ar_network_graph = ar.PropGraph()\n",
    "ar_network_graph.load_edge_attributes(ak_network_df, source_column=\"src\", destination_column=\"dst\", relationship_columns=[\"type\"])\n"
   ]
  },
  {
   "cell_type": "code",
   "execution_count": null,
   "metadata": {},
   "outputs": [],
   "source": [
    "# Get all nodes and create node attributes\n",
    "all_nodes = ak.concatenate([ak_network_df['src'], ak_network_df['dst']])\n",
    "unique_nodes = ak.unique(all_nodes)\n",
    "lbls = ak.array([\"1\"] * unique_nodes.size)\n",
    "network_node_df = ak.DataFrame({\"nodes\": unique_nodes, \"lbls\": lbls})\n",
    "network_node_df\n"
   ]
  },
  {
   "cell_type": "code",
   "execution_count": null,
   "metadata": {},
   "outputs": [],
   "source": [
    "\n",
    "ar_network_graph.load_node_attributes(network_node_df, node_column=\"nodes\", label_columns=[\"lbls\"])\n",
    "ar_network_graph"
   ]
  },
  {
   "cell_type": "code",
   "execution_count": null,
   "metadata": {},
   "outputs": [],
   "source": [
    "isos = ar.well_connected_components(ar_network_graph)\n"
   ]
  }
 ],
 "metadata": {
  "kernelspec": {
   "display_name": "arkouda-dev",
   "language": "python",
   "name": "python3"
  },
  "language_info": {
   "codemirror_mode": {
    "name": "ipython",
    "version": 3
   },
   "file_extension": ".py",
   "mimetype": "text/x-python",
   "name": "python",
   "nbconvert_exporter": "python",
   "pygments_lexer": "ipython3",
   "version": "3.10.13"
  }
 },
 "nbformat": 4,
 "nbformat_minor": 2
}
