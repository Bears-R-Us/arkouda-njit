{
 "cells": [
  {
   "cell_type": "code",
   "execution_count": 47,
   "metadata": {},
   "outputs": [
    {
     "name": "stderr",
     "output_type": "stream",
     "text": [
      "connected to arkouda server tcp://*:5555\n"
     ]
    }
   ],
   "source": [
    "import arkouda as ak\n",
    "import arachne as ar\n",
    "import scipy as sp\n",
    "import networkx as nx\n",
    "import matplotlib.pyplot as plt\n",
    "import os\n",
    "import pandas as pd\n",
    "\n",
    "# Connect to Arkouda server\n",
    "ak.connect(\"n115\", 5555)\n",
    "\n"
   ]
  },
  {
   "cell_type": "code",
   "execution_count": 48,
   "metadata": {},
   "outputs": [
    {
     "name": "stdout",
     "output_type": "stream",
     "text": [
      "reading the network file...\n",
      "Graph has 906 nodes and 10429 edges.\n",
      "Running Arachne...\n"
     ]
    }
   ],
   "source": [
    "\n",
    "cluster_dict = {}\n",
    "\n",
    "print(\"reading the network file...\")\n",
    "# Read the TSV file using pandas\n",
    "network_df = pd.read_csv(\"/scratch/users/md724/arkouda-njit/arachne/data/wcc/test_network.tsv\", sep=r'\\s+', header=None, names=[\"src\", \"dst\"])\n",
    "#network_df['type'] = 'T1'\n",
    "# Create an undirected graph from the data\n",
    "G = nx.from_pandas_edgelist(network_df, source='src', target='dst', create_using=nx.Graph())\n",
    "\n",
    "# Print the number of nodes and edges in the graph\n",
    "num_nodes = G.number_of_nodes()\n",
    "num_edges = G.number_of_edges()\n",
    "print(f\"Graph has {num_nodes} nodes and {num_edges} edges.\")\n",
    "\n",
    "\n",
    "# Create an Arachne Graph.\n",
    "ar_network_graph = ar.Graph()\n",
    "ar_network_graph.add_edges_from(ak.array(network_df[\"src\"]), ak.array(network_df[\"dst\"]))\n",
    "\n",
    "filePath = \"/scratch/users/md724/arkouda-njit/arachne/data/wcc/test_clustering.tsv\"\n",
    "print(\"Running Arachne...\") \n",
    "\n"
   ]
  },
  {
   "cell_type": "code",
   "execution_count": 49,
   "metadata": {},
   "outputs": [
    {
     "ename": "KeyboardInterrupt",
     "evalue": "",
     "output_type": "error",
     "traceback": [
      "\u001b[0;31m---------------------------------------------------------------------------\u001b[0m",
      "\u001b[0;31mKeyboardInterrupt\u001b[0m                         Traceback (most recent call last)",
      "Cell \u001b[0;32mIn[49], line 1\u001b[0m\n\u001b[0;32m----> 1\u001b[0m clusters \u001b[38;5;241m=\u001b[39m \u001b[43mar\u001b[49m\u001b[38;5;241;43m.\u001b[39;49m\u001b[43mwell_connected_components\u001b[49m\u001b[43m(\u001b[49m\u001b[43mar_network_graph\u001b[49m\u001b[43m,\u001b[49m\u001b[43m \u001b[49m\u001b[43mfilePath\u001b[49m\u001b[43m,\u001b[49m\u001b[43m \u001b[49m\u001b[38;5;124;43m\"\u001b[39;49m\u001b[38;5;124;43m/scratch/users/md724/DataSets/UIUC/wccOutPut\u001b[39;49m\u001b[38;5;124;43m\"\u001b[39;49m\u001b[43m)\u001b[49m\n\u001b[1;32m      2\u001b[0m \u001b[38;5;66;03m# Function to extract information\u001b[39;00m\n\u001b[1;32m      3\u001b[0m \u001b[38;5;28;01mdef\u001b[39;00m \u001b[38;5;21mextract_cluster_info\u001b[39m(cluster_array):\n",
      "File \u001b[0;32m~/.conda/envs/arkouda-dev/lib/python3.10/site-packages/typeguard/__init__.py:891\u001b[0m, in \u001b[0;36mtypechecked.<locals>.wrapper\u001b[0;34m(*args, **kwargs)\u001b[0m\n\u001b[1;32m    889\u001b[0m memo \u001b[38;5;241m=\u001b[39m _CallMemo(python_func, _localns, args\u001b[38;5;241m=\u001b[39margs, kwargs\u001b[38;5;241m=\u001b[39mkwargs)\n\u001b[1;32m    890\u001b[0m check_argument_types(memo)\n\u001b[0;32m--> 891\u001b[0m retval \u001b[38;5;241m=\u001b[39m \u001b[43mfunc\u001b[49m\u001b[43m(\u001b[49m\u001b[38;5;241;43m*\u001b[39;49m\u001b[43margs\u001b[49m\u001b[43m,\u001b[49m\u001b[43m \u001b[49m\u001b[38;5;241;43m*\u001b[39;49m\u001b[38;5;241;43m*\u001b[39;49m\u001b[43mkwargs\u001b[49m\u001b[43m)\u001b[49m\n\u001b[1;32m    892\u001b[0m check_return_type(retval, memo)\n\u001b[1;32m    894\u001b[0m \u001b[38;5;66;03m# If a generator is returned, wrap it if its yield/send/return types can be checked\u001b[39;00m\n",
      "File \u001b[0;32m~/.conda/envs/arkouda-dev/lib/python3.10/site-packages/arachne/methods.py:515\u001b[0m, in \u001b[0;36mwell_connected_components\u001b[0;34m(graph, file_path, output_path)\u001b[0m\n\u001b[1;32m    511\u001b[0m cmd \u001b[38;5;241m=\u001b[39m \u001b[38;5;124m\"\u001b[39m\u001b[38;5;124mwellConnectedComponents\u001b[39m\u001b[38;5;124m\"\u001b[39m\n\u001b[1;32m    512\u001b[0m args \u001b[38;5;241m=\u001b[39m { \u001b[38;5;124m\"\u001b[39m\u001b[38;5;124mGraphName\u001b[39m\u001b[38;5;124m\"\u001b[39m:graph\u001b[38;5;241m.\u001b[39mname,\n\u001b[1;32m    513\u001b[0m          \u001b[38;5;124m\"\u001b[39m\u001b[38;5;124mFilePath\u001b[39m\u001b[38;5;124m\"\u001b[39m: file_path,\n\u001b[1;32m    514\u001b[0m          \u001b[38;5;124m\"\u001b[39m\u001b[38;5;124mOutputPath\u001b[39m\u001b[38;5;124m\"\u001b[39m: output_path}\n\u001b[0;32m--> 515\u001b[0m rep_msg \u001b[38;5;241m=\u001b[39m \u001b[43mgeneric_msg\u001b[49m\u001b[43m(\u001b[49m\u001b[43mcmd\u001b[49m\u001b[38;5;241;43m=\u001b[39;49m\u001b[43mcmd\u001b[49m\u001b[43m,\u001b[49m\u001b[43m \u001b[49m\u001b[43margs\u001b[49m\u001b[38;5;241;43m=\u001b[39;49m\u001b[43margs\u001b[49m\u001b[43m)\u001b[49m\n\u001b[1;32m    516\u001b[0m \u001b[38;5;28mprint\u001b[39m(\u001b[38;5;124m\"\u001b[39m\u001b[38;5;124mCluster files written to: \u001b[39m\u001b[38;5;124m\"\u001b[39m, output_path)\n\u001b[1;32m    518\u001b[0m \u001b[38;5;28;01mreturn\u001b[39;00m create_pdarray(rep_msg)\n",
      "File \u001b[0;32m/scratch/users/md724/arkouda/arkouda/client.py:1013\u001b[0m, in \u001b[0;36mgeneric_msg\u001b[0;34m(cmd, args, payload, send_binary, recv_binary)\u001b[0m\n\u001b[1;32m   1009\u001b[0m \u001b[38;5;28;01mexcept\u001b[39;00m \u001b[38;5;167;01mKeyboardInterrupt\u001b[39;00m \u001b[38;5;28;01mas\u001b[39;00m e:\n\u001b[1;32m   1010\u001b[0m     \u001b[38;5;66;03m# if the user interrupts during command execution, the socket gets out\u001b[39;00m\n\u001b[1;32m   1011\u001b[0m     \u001b[38;5;66;03m# of sync reset the socket before raising the interrupt exception\u001b[39;00m\n\u001b[1;32m   1012\u001b[0m     cast(Channel, channel)\u001b[38;5;241m.\u001b[39mconnect(timeout\u001b[38;5;241m=\u001b[39m\u001b[38;5;241m0\u001b[39m)\n\u001b[0;32m-> 1013\u001b[0m     \u001b[38;5;28;01mraise\u001b[39;00m e\n",
      "File \u001b[0;32m/scratch/users/md724/arkouda/arkouda/client.py:1006\u001b[0m, in \u001b[0;36mgeneric_msg\u001b[0;34m(cmd, args, payload, send_binary, recv_binary)\u001b[0m\n\u001b[1;32m   1004\u001b[0m     \u001b[38;5;28;01melse\u001b[39;00m:\n\u001b[1;32m   1005\u001b[0m         \u001b[38;5;28;01massert\u001b[39;00m payload \u001b[38;5;129;01mis\u001b[39;00m \u001b[38;5;28;01mNone\u001b[39;00m\n\u001b[0;32m-> 1006\u001b[0m         \u001b[38;5;28;01mreturn\u001b[39;00m \u001b[43mcast\u001b[49m\u001b[43m(\u001b[49m\u001b[43mChannel\u001b[49m\u001b[43m,\u001b[49m\u001b[43m \u001b[49m\u001b[43mchannel\u001b[49m\u001b[43m)\u001b[49m\u001b[38;5;241;43m.\u001b[39;49m\u001b[43msend_string_message\u001b[49m\u001b[43m(\u001b[49m\n\u001b[1;32m   1007\u001b[0m \u001b[43m            \u001b[49m\u001b[43mcmd\u001b[49m\u001b[38;5;241;43m=\u001b[39;49m\u001b[43mcmd\u001b[49m\u001b[43m,\u001b[49m\u001b[43m \u001b[49m\u001b[43margs\u001b[49m\u001b[38;5;241;43m=\u001b[39;49m\u001b[43mmsg_args\u001b[49m\u001b[43m,\u001b[49m\u001b[43m \u001b[49m\u001b[43msize\u001b[49m\u001b[38;5;241;43m=\u001b[39;49m\u001b[43msize\u001b[49m\u001b[43m,\u001b[49m\u001b[43m \u001b[49m\u001b[43mrecv_binary\u001b[49m\u001b[38;5;241;43m=\u001b[39;49m\u001b[43mrecv_binary\u001b[49m\n\u001b[1;32m   1008\u001b[0m \u001b[43m        \u001b[49m\u001b[43m)\u001b[49m\n\u001b[1;32m   1009\u001b[0m \u001b[38;5;28;01mexcept\u001b[39;00m \u001b[38;5;167;01mKeyboardInterrupt\u001b[39;00m \u001b[38;5;28;01mas\u001b[39;00m e:\n\u001b[1;32m   1010\u001b[0m     \u001b[38;5;66;03m# if the user interrupts during command execution, the socket gets out\u001b[39;00m\n\u001b[1;32m   1011\u001b[0m     \u001b[38;5;66;03m# of sync reset the socket before raising the interrupt exception\u001b[39;00m\n\u001b[1;32m   1012\u001b[0m     cast(Channel, channel)\u001b[38;5;241m.\u001b[39mconnect(timeout\u001b[38;5;241m=\u001b[39m\u001b[38;5;241m0\u001b[39m)\n",
      "File \u001b[0;32m/scratch/users/md724/arkouda/arkouda/client.py:523\u001b[0m, in \u001b[0;36mZmqChannel.send_string_message\u001b[0;34m(self, cmd, recv_binary, args, size, request_id)\u001b[0m\n\u001b[1;32m    521\u001b[0m     \u001b[38;5;28;01mreturn\u001b[39;00m view\n\u001b[1;32m    522\u001b[0m \u001b[38;5;28;01melse\u001b[39;00m:\n\u001b[0;32m--> 523\u001b[0m     raw_message \u001b[38;5;241m=\u001b[39m \u001b[38;5;28;43mself\u001b[39;49m\u001b[38;5;241;43m.\u001b[39;49m\u001b[43msocket\u001b[49m\u001b[38;5;241;43m.\u001b[39;49m\u001b[43mrecv_string\u001b[49m\u001b[43m(\u001b[49m\u001b[43m)\u001b[49m\n\u001b[1;32m    524\u001b[0m     \u001b[38;5;28;01mtry\u001b[39;00m:\n\u001b[1;32m    525\u001b[0m         return_message \u001b[38;5;241m=\u001b[39m ReplyMessage\u001b[38;5;241m.\u001b[39mfromdict(json\u001b[38;5;241m.\u001b[39mloads(raw_message))\n",
      "File \u001b[0;32m~/.conda/envs/arkouda-dev/lib/python3.10/site-packages/zmq/sugar/socket.py:934\u001b[0m, in \u001b[0;36mSocket.recv_string\u001b[0;34m(self, flags, encoding)\u001b[0m\n\u001b[1;32m    914\u001b[0m \u001b[38;5;28;01mdef\u001b[39;00m \u001b[38;5;21mrecv_string\u001b[39m(\u001b[38;5;28mself\u001b[39m, flags: \u001b[38;5;28mint\u001b[39m \u001b[38;5;241m=\u001b[39m \u001b[38;5;241m0\u001b[39m, encoding: \u001b[38;5;28mstr\u001b[39m \u001b[38;5;241m=\u001b[39m \u001b[38;5;124m'\u001b[39m\u001b[38;5;124mutf-8\u001b[39m\u001b[38;5;124m'\u001b[39m) \u001b[38;5;241m-\u001b[39m\u001b[38;5;241m>\u001b[39m \u001b[38;5;28mstr\u001b[39m:\n\u001b[1;32m    915\u001b[0m \u001b[38;5;250m    \u001b[39m\u001b[38;5;124;03m\"\"\"Receive a unicode string, as sent by send_string.\u001b[39;00m\n\u001b[1;32m    916\u001b[0m \n\u001b[1;32m    917\u001b[0m \u001b[38;5;124;03m    Parameters\u001b[39;00m\n\u001b[0;32m   (...)\u001b[0m\n\u001b[1;32m    932\u001b[0m \u001b[38;5;124;03m        for any of the reasons :func:`~Socket.recv` might fail\u001b[39;00m\n\u001b[1;32m    933\u001b[0m \u001b[38;5;124;03m    \"\"\"\u001b[39;00m\n\u001b[0;32m--> 934\u001b[0m     msg \u001b[38;5;241m=\u001b[39m \u001b[38;5;28;43mself\u001b[39;49m\u001b[38;5;241;43m.\u001b[39;49m\u001b[43mrecv\u001b[49m\u001b[43m(\u001b[49m\u001b[43mflags\u001b[49m\u001b[38;5;241;43m=\u001b[39;49m\u001b[43mflags\u001b[49m\u001b[43m)\u001b[49m\n\u001b[1;32m    935\u001b[0m     \u001b[38;5;28;01mreturn\u001b[39;00m \u001b[38;5;28mself\u001b[39m\u001b[38;5;241m.\u001b[39m_deserialize(msg, \u001b[38;5;28;01mlambda\u001b[39;00m buf: buf\u001b[38;5;241m.\u001b[39mdecode(encoding))\n",
      "File \u001b[0;32mzmq/backend/cython/socket.pyx:805\u001b[0m, in \u001b[0;36mzmq.backend.cython.socket.Socket.recv\u001b[0;34m()\u001b[0m\n",
      "File \u001b[0;32mzmq/backend/cython/socket.pyx:841\u001b[0m, in \u001b[0;36mzmq.backend.cython.socket.Socket.recv\u001b[0;34m()\u001b[0m\n",
      "File \u001b[0;32mzmq/backend/cython/socket.pyx:194\u001b[0m, in \u001b[0;36mzmq.backend.cython.socket._recv_copy\u001b[0;34m()\u001b[0m\n",
      "File \u001b[0;32m~/.conda/envs/arkouda-dev/lib/python3.10/site-packages/zmq/backend/cython/checkrc.pxd:13\u001b[0m, in \u001b[0;36mzmq.backend.cython.checkrc._check_rc\u001b[0;34m()\u001b[0m\n",
      "\u001b[0;31mKeyboardInterrupt\u001b[0m: "
     ]
    }
   ],
   "source": [
    "clusters = ar.well_connected_components(ar_network_graph, filePath, \"/scratch/users/md724/DataSets/UIUC/wccOutPut\")\n",
    "# Function to extract information\n",
    "def extract_cluster_info(cluster_array):\n",
    "    cluster_info = []\n",
    "    for i in range(0, len(cluster_array), 3):\n",
    "        cluster_id = cluster_array[i]\n",
    "        depth = cluster_array[i+1]\n",
    "        members = cluster_array[i+2]\n",
    "        cluster_info.append({\n",
    "            'cluster_id': cluster_id,\n",
    "            'depth': depth,\n",
    "            'members': members\n",
    "        })\n",
    "    return cluster_info\n",
    "\n",
    "# Extract information\n",
    "info = extract_cluster_info(clusters)\n",
    "print(\"and it returned these WCC Clusters:\")\n",
    "# Print the extracted information\n",
    "for cluster in info:\n",
    "    print(f\"Cluster ID: {cluster['cluster_id']}, Depth: {cluster['depth']}, Members: {cluster['members']}\")\n",
    "#print(\"clusters = \", clusters)\n",
    "#print(\"clusters.size = \", clusters.size)\n",
    "ak.shutdown()"
   ]
  }
 ],
 "metadata": {
  "kernelspec": {
   "display_name": "arkouda-dev",
   "language": "python",
   "name": "python3"
  },
  "language_info": {
   "codemirror_mode": {
    "name": "ipython",
    "version": 3
   },
   "file_extension": ".py",
   "mimetype": "text/x-python",
   "name": "python",
   "nbconvert_exporter": "python",
   "pygments_lexer": "ipython3",
   "version": "3.10.13"
  }
 },
 "nbformat": 4,
 "nbformat_minor": 2
}
